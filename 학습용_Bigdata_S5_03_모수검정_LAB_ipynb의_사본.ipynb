{
  "nbformat": 4,
  "nbformat_minor": 0,
  "metadata": {
    "colab": {
      "provenance": [],
      "collapsed_sections": [
        "C2J_nvyP1DH6"
      ],
      "include_colab_link": true
    },
    "kernelspec": {
      "name": "python3",
      "display_name": "Python 3"
    },
    "language_info": {
      "name": "python"
    }
  },
  "cells": [
    {
      "cell_type": "markdown",
      "metadata": {
        "id": "view-in-github",
        "colab_type": "text"
      },
      "source": [
        "<a href=\"https://colab.research.google.com/github/pano1215/Bigdata_analyst_certification-/blob/main/%ED%95%99%EC%8A%B5%EC%9A%A9_Bigdata_S5_03_%EB%AA%A8%EC%88%98%EA%B2%80%EC%A0%95_LAB_ipynb%EC%9D%98_%EC%82%AC%EB%B3%B8.ipynb\" target=\"_parent\"><img src=\"https://colab.research.google.com/assets/colab-badge.svg\" alt=\"Open In Colab\"/></a>"
      ]
    },
    {
      "cell_type": "markdown",
      "source": [
        "모수 검정"
      ],
      "metadata": {
        "id": "kN_DRunuZKlt"
      }
    },
    {
      "cell_type": "markdown",
      "metadata": {
        "id": "cdO8QKD0u4Jb"
      },
      "source": [
        "### 0.데이터 다운로드"
      ]
    },
    {
      "cell_type": "code",
      "metadata": {
        "id": "nVpvRR95uyJu",
        "colab": {
          "base_uri": "https://localhost:8080/"
        },
        "outputId": "b79da1c4-2333-4d95-bca7-05c75418faab"
      },
      "source": [
        "!git clone https://github.com/Soyoung-Yoon/data_02"
      ],
      "execution_count": null,
      "outputs": [
        {
          "output_type": "stream",
          "name": "stdout",
          "text": [
            "fatal: destination path 'data_02' already exists and is not an empty directory.\n"
          ]
        }
      ]
    },
    {
      "cell_type": "code",
      "source": [
        "!git clone https://github.com/Soyoung-Yoon/bigdata"
      ],
      "metadata": {
        "id": "Upacl9mEstst",
        "colab": {
          "base_uri": "https://localhost:8080/"
        },
        "outputId": "3a809e52-b2c2-4172-9f7f-5b9c24cfbc5d"
      },
      "execution_count": null,
      "outputs": [
        {
          "output_type": "stream",
          "name": "stdout",
          "text": [
            "fatal: destination path 'bigdata' already exists and is not an empty directory.\n"
          ]
        }
      ]
    },
    {
      "cell_type": "code",
      "metadata": {
        "colab": {
          "base_uri": "https://localhost:8080/",
          "height": 35
        },
        "id": "jvmFbdE7SMYe",
        "outputId": "8c636171-e8ee-49d2-c554-18771059651b"
      },
      "source": [
        "import scipy\n",
        "scipy.__version__"
      ],
      "execution_count": null,
      "outputs": [
        {
          "output_type": "execute_result",
          "data": {
            "text/plain": [
              "'1.10.1'"
            ],
            "application/vnd.google.colaboratory.intrinsic+json": {
              "type": "string"
            }
          },
          "metadata": {},
          "execution_count": 101
        }
      ]
    },
    {
      "cell_type": "code",
      "metadata": {
        "id": "p7LvxMqtSO6l",
        "colab": {
          "base_uri": "https://localhost:8080/"
        },
        "outputId": "63b13a0c-f5ed-4eb8-fff4-4ccc8595b502"
      },
      "source": [
        "!pip install scipy==1.6.0\n",
        "# 다른 버전에 필요하다면 이런 식으로 버전을 명시해서 다운받을 수 있음"
      ],
      "execution_count": null,
      "outputs": [
        {
          "output_type": "stream",
          "name": "stdout",
          "text": [
            "Looking in indexes: https://pypi.org/simple, https://us-python.pkg.dev/colab-wheels/public/simple/\n",
            "Collecting scipy==1.6.0\n",
            "  Downloading scipy-1.6.0.tar.gz (27.3 MB)\n",
            "\u001b[2K     \u001b[90m━━━━━━━━━━━━━━━━━━━━━━━━━━━━━━━━━━━━━━━━\u001b[0m \u001b[32m27.3/27.3 MB\u001b[0m \u001b[31m44.1 MB/s\u001b[0m eta \u001b[36m0:00:00\u001b[0m\n",
            "\u001b[?25h  Installing build dependencies ... \u001b[?25l\u001b[?25hdone\n",
            "  Getting requirements to build wheel ... \u001b[?25l\u001b[?25hdone\n",
            "  Preparing metadata (pyproject.toml) ... \u001b[?25l\u001b[?25hdone\n",
            "Requirement already satisfied: numpy>=1.16.5 in /usr/local/lib/python3.10/dist-packages (from scipy==1.6.0) (1.22.4)\n",
            "Building wheels for collected packages: scipy\n",
            "  Building wheel for scipy (pyproject.toml) ... \u001b[?25l\u001b[?25hcanceled\n",
            "^C\n"
          ]
        }
      ]
    },
    {
      "cell_type": "markdown",
      "source": [
        "### 1.정규성 검정(Normality Test)\n",
        "- 귀무가설 - 데이터셋이 정규분포를 따른다\n",
        "- 대립가설 - 데이터셋이 정규분포를 따르지 않는다\n",
        "- 유의수준 0.05 인 경우 : p-value > 0.05, 정규성이 보장된다고 할 수 있다\n",
        "- 검정통계량 < 임계값, 정규성이 보장된다고 할 수 있다"
      ],
      "metadata": {
        "id": "6T2v1_TUMChI"
      }
    },
    {
      "cell_type": "code",
      "source": [
        "import pandas as pd\n",
        "import numpy as np\n",
        "df = pd.read_csv('./data_02/sleepage.csv')\n",
        "df.info()"
      ],
      "metadata": {
        "id": "GPyFlteNMGU2",
        "colab": {
          "base_uri": "https://localhost:8080/"
        },
        "outputId": "a3f94511-1807-4fe0-be84-380f5d12d0f4"
      },
      "execution_count": null,
      "outputs": [
        {
          "output_type": "stream",
          "name": "stdout",
          "text": [
            "<class 'pandas.core.frame.DataFrame'>\n",
            "RangeIndex: 20 entries, 0 to 19\n",
            "Data columns (total 3 columns):\n",
            " #   Column    Non-Null Count  Dtype\n",
            "---  ------    --------------  -----\n",
            " 0   stime20s  20 non-null     int64\n",
            " 1   stime40s  20 non-null     int64\n",
            " 2   ID        20 non-null     int64\n",
            "dtypes: int64(3)\n",
            "memory usage: 608.0 bytes\n"
          ]
        }
      ]
    },
    {
      "cell_type": "code",
      "source": [
        "# 그룹을 나누어 저장함\n",
        "gA = df['stime20s']\n",
        "gB = df['stime40s']"
      ],
      "metadata": {
        "id": "qJRAcpFONC5G"
      },
      "execution_count": null,
      "outputs": []
    },
    {
      "cell_type": "code",
      "source": [
        "# 정규성 검정 - 1 shapiro wilks test\n",
        "from scipy.stats import shapiro\n",
        "A_statistic, A_pvalue = shapiro(gA)\n",
        "B_statistic, B_pvalue = shapiro(gB)\n",
        "print(f'그룹A: 검정통계랑: {A_statistic:.4f}, p-value: {A_pvalue:.4f}') # 정규성 만족\n",
        "print(f'그룹B: 검정통계랑: {B_statistic:.4f}, p-value: {B_pvalue:.4f}') # 정규성 만족X"
      ],
      "metadata": {
        "id": "FsF__FeLMe-G",
        "colab": {
          "base_uri": "https://localhost:8080/"
        },
        "outputId": "df6debde-4383-496b-d22b-47c3aef8dfdb"
      },
      "execution_count": null,
      "outputs": [
        {
          "output_type": "stream",
          "name": "stdout",
          "text": [
            "그룹A: 검정통계랑: 0.9239, p-value: 0.1180\n",
            "그룹B: 검정통계랑: 0.8810, p-value: 0.0184\n"
          ]
        }
      ]
    },
    {
      "cell_type": "code",
      "source": [
        "# 정규성 검정 - 2 kstest(kolmogorov-smirnov test)\n",
        "from scipy.stats import kstest\n",
        "# 두 개의 데이터가 같은 분포인지 아닌지 검정\n",
        "# 귀무가설 : 두집단의 분포가 같다\n",
        "# 대립가설 : 두집단의 분포가 다르다\n",
        "A_statistic, A_pvalue = kstest(gA, 'norm')\n",
        "B_statistic, B_pvalue = kstest(gB, 'norm')\n",
        "print(f'그룹A: 검정통계랑: {A_statistic:.4f}, p-value: {A_pvalue:.4f}') # 정규성 만족X\n",
        "print(f'그룹B: 검정통계랑: {B_statistic:.4f}, p-value: {B_pvalue:.4f}') # 정규성 만족X\n",
        "\n",
        "'''\n",
        "결과\n",
        "그룹A: 검정통계랑: 0.9987, p-value: 0.0000\n",
        "그룹B: 검정통계랑: 1.0000, p-value: 0.0000\n",
        "==> kstest는 데이터가 많을 때 사용해야 유용함\n",
        "'''"
      ],
      "metadata": {
        "id": "9Ken1r_LSwIP",
        "colab": {
          "base_uri": "https://localhost:8080/",
          "height": 90
        },
        "outputId": "83c6761d-c566-4d36-d341-6d8874d9b20f"
      },
      "execution_count": null,
      "outputs": [
        {
          "output_type": "stream",
          "name": "stdout",
          "text": [
            "그룹A: 검정통계랑: 0.9987, p-value: 0.0000\n",
            "그룹B: 검정통계랑: 1.0000, p-value: 0.0000\n"
          ]
        },
        {
          "output_type": "execute_result",
          "data": {
            "text/plain": [
              "'\\n결과\\n그룹A: 검정통계랑: 0.9987, p-value: 0.0000\\n그룹B: 검정통계랑: 1.0000, p-value: 0.0000\\n==> kstest는 데이터가 많을 때 사용해야 유용함\\n'"
            ],
            "application/vnd.google.colaboratory.intrinsic+json": {
              "type": "string"
            }
          },
          "metadata": {},
          "execution_count": 105
        }
      ]
    },
    {
      "cell_type": "code",
      "source": [
        "# 정규성 검정 - 2 kstest(kolmogorov-smirnov test)\n",
        "from scipy.stats import kstest, norm\n",
        "# 두 개의 데이터가 같은 분포인지 아닌지 검정\n",
        "# 귀무가설 : 두집단의 분포가 같다\n",
        "# 대립가설 : 두집단의 분포가 다르다\n"
      ],
      "metadata": {
        "id": "rx_OezyEPmMd"
      },
      "execution_count": null,
      "outputs": []
    },
    {
      "cell_type": "code",
      "source": [
        "# 정규성 검정 - 3 normaltest  (20개 이상의 데이터 필요)  # 20개입니다!\n",
        "from scipy.stats import normaltest\n",
        "\n",
        "A_statistic, A_pvalue = normaltest(gA)\n",
        "B_statistic, B_pvalue = normaltest(gB)\n",
        "print(f'그룹A: 검정통계랑: {A_statistic:.4f}, p-value: {A_pvalue:.4f}') # 정규성 만족\n",
        "print(f'그룹B: 검정통계랑: {B_statistic:.4f}, p-value: {B_pvalue:.4f}') # 정규성 만족"
      ],
      "metadata": {
        "id": "a2F8wNyjMf91",
        "colab": {
          "base_uri": "https://localhost:8080/"
        },
        "outputId": "611109a0-ea0f-413e-a6bd-105248d68f95"
      },
      "execution_count": null,
      "outputs": [
        {
          "output_type": "stream",
          "name": "stdout",
          "text": [
            "그룹A: 검정통계랑: 1.1732, p-value: 0.5562\n",
            "그룹B: 검정통계랑: 2.0450, p-value: 0.3597\n"
          ]
        }
      ]
    },
    {
      "cell_type": "code",
      "source": [
        "# 정규성 검정 - 4 anderson darling test\n",
        "# 검정통계량 < 임계값, 정규성이 보장된다고 할 수 있다\n",
        "from scipy.stats import anderson\n",
        "rA = anderson(gA) # 결과 : statistic, critical_values, significance_level\n",
        "rB = anderson(gB)\n",
        "print('그룹A :', *rA)\n",
        "# 0.5601097602856164 [0.506 0.577 0.692 0.807 0.96 ]\n",
        "# 임계값             검정통계량\n",
        "print('그룹B :', *rB)"
      ],
      "metadata": {
        "id": "U0IFfC0oMf0l",
        "colab": {
          "base_uri": "https://localhost:8080/"
        },
        "outputId": "4d879ba4-127d-449e-b42d-b4bbdcecf0c2"
      },
      "execution_count": null,
      "outputs": [
        {
          "output_type": "stream",
          "name": "stdout",
          "text": [
            "그룹A : 0.5601097602856164 [0.506 0.577 0.692 0.807 0.96 ] [15.  10.   5.   2.5  1. ]\n",
            "그룹B : 0.8918678522034931 [0.506 0.577 0.692 0.807 0.96 ] [15.  10.   5.   2.5  1. ]\n"
          ]
        }
      ]
    },
    {
      "cell_type": "markdown",
      "source": [
        "### 2.등분산성 검정\n",
        "- burtlett : 데이터셋의 크기가 서로 다른 2개 이상의 집단 사용 가능\n",
        "- levene, fligner : 정규성을 충족하지 않는 비모수 데이터에 대해서도 사용가능 (중앙을 median으로 설정)"
      ],
      "metadata": {
        "id": "PYt8ggPLsgTD"
      }
    },
    {
      "cell_type": "markdown",
      "source": [
        "#### 2-1.iris 데이터\n",
        "- 등분산 검정 - 3가지 방법으로 실행 후, pvalue 확인"
      ],
      "metadata": {
        "id": "civoanb81g02"
      }
    },
    {
      "cell_type": "code",
      "source": [
        "# 파일 읽어와 내용 확인\n",
        "import seaborn as sns\n",
        "iris = sns.load_dataset('iris')\n",
        "print(iris.head(2))"
      ],
      "metadata": {
        "colab": {
          "base_uri": "https://localhost:8080/"
        },
        "id": "zdF8tZQK0JU2",
        "outputId": "ceca9d70-ce6d-4e81-e85a-52eb0f524072"
      },
      "execution_count": null,
      "outputs": [
        {
          "output_type": "stream",
          "name": "stdout",
          "text": [
            "   sepal_length  sepal_width  petal_length  petal_width species\n",
            "0           5.1          3.5           1.4          0.2  setosa\n",
            "1           4.9          3.0           1.4          0.2  setosa\n"
          ]
        }
      ]
    },
    {
      "cell_type": "code",
      "source": [
        "# [1] target='sepal_length', 품종별 그룹을 나누어 저장함\n",
        "import pandas as pd\n",
        "target = 'sepal_length'\n",
        "\n",
        "gA = iris.loc[iris['species'] == 'setosa', target].to_list()\n",
        "gB = iris.loc[iris['species'] == 'versicolor', target].to_list()\n",
        "gC = iris.loc[iris['species'] == 'virginica', target].to_list()\n",
        "print(gA, gB, gC)"
      ],
      "metadata": {
        "id": "6eEYpKVX--p1",
        "colab": {
          "base_uri": "https://localhost:8080/"
        },
        "outputId": "7b8b1e71-f3d8-4d49-9095-ff5f8fc56465"
      },
      "execution_count": null,
      "outputs": [
        {
          "output_type": "stream",
          "name": "stdout",
          "text": [
            "[5.1, 4.9, 4.7, 4.6, 5.0, 5.4, 4.6, 5.0, 4.4, 4.9, 5.4, 4.8, 4.8, 4.3, 5.8, 5.7, 5.4, 5.1, 5.7, 5.1, 5.4, 5.1, 4.6, 5.1, 4.8, 5.0, 5.0, 5.2, 5.2, 4.7, 4.8, 5.4, 5.2, 5.5, 4.9, 5.0, 5.5, 4.9, 4.4, 5.1, 5.0, 4.5, 4.4, 5.0, 5.1, 4.8, 5.1, 4.6, 5.3, 5.0] [7.0, 6.4, 6.9, 5.5, 6.5, 5.7, 6.3, 4.9, 6.6, 5.2, 5.0, 5.9, 6.0, 6.1, 5.6, 6.7, 5.6, 5.8, 6.2, 5.6, 5.9, 6.1, 6.3, 6.1, 6.4, 6.6, 6.8, 6.7, 6.0, 5.7, 5.5, 5.5, 5.8, 6.0, 5.4, 6.0, 6.7, 6.3, 5.6, 5.5, 5.5, 6.1, 5.8, 5.0, 5.6, 5.7, 5.7, 6.2, 5.1, 5.7] [6.3, 5.8, 7.1, 6.3, 6.5, 7.6, 4.9, 7.3, 6.7, 7.2, 6.5, 6.4, 6.8, 5.7, 5.8, 6.4, 6.5, 7.7, 7.7, 6.0, 6.9, 5.6, 7.7, 6.3, 6.7, 7.2, 6.2, 6.1, 6.4, 7.2, 7.4, 7.9, 6.4, 6.3, 6.1, 7.7, 6.3, 6.4, 6.0, 6.9, 6.7, 6.9, 5.8, 6.8, 6.7, 6.7, 6.3, 6.5, 6.2, 5.9]\n"
          ]
        }
      ]
    },
    {
      "cell_type": "code",
      "source": [
        "iris['species'].unique()"
      ],
      "metadata": {
        "colab": {
          "base_uri": "https://localhost:8080/"
        },
        "id": "LhkrRQ6hmdYd",
        "outputId": "7f729939-59b2-4aad-857c-13c42004a498"
      },
      "execution_count": null,
      "outputs": [
        {
          "output_type": "execute_result",
          "data": {
            "text/plain": [
              "array(['setosa', 'versicolor', 'virginica'], dtype=object)"
            ]
          },
          "metadata": {},
          "execution_count": 111
        }
      ]
    },
    {
      "cell_type": "code",
      "source": [
        "groups = [x.to_list() for name, x in  iris.groupby('species')[target]]\n",
        "gA, gB, gC = groups\n",
        "print(groups)"
      ],
      "metadata": {
        "colab": {
          "base_uri": "https://localhost:8080/"
        },
        "id": "8smk8sDFmjrt",
        "outputId": "8d4b4a6d-ac93-4b01-8a3a-e27c8ad2de80"
      },
      "execution_count": null,
      "outputs": [
        {
          "output_type": "stream",
          "name": "stdout",
          "text": [
            "[[5.1, 4.9, 4.7, 4.6, 5.0, 5.4, 4.6, 5.0, 4.4, 4.9, 5.4, 4.8, 4.8, 4.3, 5.8, 5.7, 5.4, 5.1, 5.7, 5.1, 5.4, 5.1, 4.6, 5.1, 4.8, 5.0, 5.0, 5.2, 5.2, 4.7, 4.8, 5.4, 5.2, 5.5, 4.9, 5.0, 5.5, 4.9, 4.4, 5.1, 5.0, 4.5, 4.4, 5.0, 5.1, 4.8, 5.1, 4.6, 5.3, 5.0], [7.0, 6.4, 6.9, 5.5, 6.5, 5.7, 6.3, 4.9, 6.6, 5.2, 5.0, 5.9, 6.0, 6.1, 5.6, 6.7, 5.6, 5.8, 6.2, 5.6, 5.9, 6.1, 6.3, 6.1, 6.4, 6.6, 6.8, 6.7, 6.0, 5.7, 5.5, 5.5, 5.8, 6.0, 5.4, 6.0, 6.7, 6.3, 5.6, 5.5, 5.5, 6.1, 5.8, 5.0, 5.6, 5.7, 5.7, 6.2, 5.1, 5.7], [6.3, 5.8, 7.1, 6.3, 6.5, 7.6, 4.9, 7.3, 6.7, 7.2, 6.5, 6.4, 6.8, 5.7, 5.8, 6.4, 6.5, 7.7, 7.7, 6.0, 6.9, 5.6, 7.7, 6.3, 6.7, 7.2, 6.2, 6.1, 6.4, 7.2, 7.4, 7.9, 6.4, 6.3, 6.1, 7.7, 6.3, 6.4, 6.0, 6.9, 6.7, 6.9, 5.8, 6.8, 6.7, 6.7, 6.3, 6.5, 6.2, 5.9]]\n"
          ]
        }
      ]
    },
    {
      "cell_type": "code",
      "source": [
        "# [2] burtlett 검정\n",
        "from scipy.stats import bartlett, shapiro\n",
        "\n",
        "# 정규성검정\n",
        "_, pvalueA = shapiro(gA)\n",
        "_, pvalueB = shapiro(gB)\n",
        "_, pvalueC = shapiro(gC)\n",
        "print(pvalueA, pvalueB, pvalueC) # 0.05보다 큼 -> 귀무가설 채택 -> 정규성 만족\n",
        "# _의 의미 : 생략. 이번 경우에서는 statistic 값이 필요 없어서 사용하지 않겠다를 암묵적으로 표현한 것\n",
        "\n",
        "# 등분산성 검정\n",
        "statistic, pvalue = bartlett(gA, gB, gC)\n",
        "print(statistic, pvalue) # 0.05보다 작음 -> 귀무가설 기각 -> 등분산성 만족X"
      ],
      "metadata": {
        "id": "JT8FV88evuK1",
        "colab": {
          "base_uri": "https://localhost:8080/"
        },
        "outputId": "4d9e0446-df7d-4560-d9af-6b71df8d4b52"
      },
      "execution_count": null,
      "outputs": [
        {
          "output_type": "stream",
          "name": "stdout",
          "text": [
            "0.4595010578632355 0.4647378921508789 0.25831347703933716\n",
            "16.005701874401502 0.0003345076070163035\n"
          ]
        }
      ]
    },
    {
      "cell_type": "code",
      "source": [
        "# [3] levene 의 center는 'mean'으로 지정\n",
        "from scipy.stats import levene\n",
        "statistic, pvalue = levene(*groups, center = 'mean')\n",
        "print(statistic, pvalue) # 0.05보다 작음 -> 귀무가설 기각 -> 등분산성 만족X"
      ],
      "metadata": {
        "id": "boXVp8f6v4L3",
        "colab": {
          "base_uri": "https://localhost:8080/"
        },
        "outputId": "f43bbcef-98d0-4be5-a2ad-db21a2791cfe"
      },
      "execution_count": null,
      "outputs": [
        {
          "output_type": "stream",
          "name": "stdout",
          "text": [
            "7.381091747801267 0.0008817887814641548\n"
          ]
        }
      ]
    },
    {
      "cell_type": "code",
      "source": [
        "# [4] fligner의 center는 'trimmed', proportiontocut=5% 지정\n",
        "from scipy.stats import fligner\n",
        "statistic, pvalue = fligner(*groups, center = 'trimmed', proportiontocut = 0.05)\n",
        "print(statistic, pvalue) # 0.05보다 작음 -> 귀무가설 기각 -> 등분산성 만족X"
      ],
      "metadata": {
        "id": "Ntu2FrU5wKmo",
        "colab": {
          "base_uri": "https://localhost:8080/"
        },
        "outputId": "03713e84-1df8-4462-98fa-b15ec0bb328f"
      },
      "execution_count": null,
      "outputs": [
        {
          "output_type": "stream",
          "name": "stdout",
          "text": [
            "13.193438547424174 0.0013648383616752843\n"
          ]
        }
      ]
    },
    {
      "cell_type": "markdown",
      "source": [
        "#### 2-2.tips 데이터\n",
        "- 요일별 total_bill 의 등분산성 검정\n",
        "- levene의 median, trimmed 사용"
      ],
      "metadata": {
        "id": "C2J_nvyP1DH6"
      }
    },
    {
      "cell_type": "code",
      "source": [
        "# 파일 읽어와 내용 확인\n",
        "import seaborn as sns\n",
        "tips = sns.load_dataset('tips')\n",
        "tips.head(3)"
      ],
      "metadata": {
        "colab": {
          "base_uri": "https://localhost:8080/"
        },
        "id": "nNEx4UsI0Zpa",
        "outputId": "8c0a96bb-4776-4cd2-db30-9cb9fae55cfb"
      },
      "execution_count": null,
      "outputs": [
        {
          "output_type": "execute_result",
          "data": {
            "text/plain": [
              "   total_bill   tip     sex smoker  day    time  size\n",
              "0       16.99  1.01  Female     No  Sun  Dinner     2\n",
              "1       10.34  1.66    Male     No  Sun  Dinner     3\n",
              "2       21.01  3.50    Male     No  Sun  Dinner     3"
            ],
            "text/html": [
              "\n",
              "  <div id=\"df-39066193-89bd-4bba-8faa-f25b31fe7ba7\">\n",
              "    <div class=\"colab-df-container\">\n",
              "      <div>\n",
              "<style scoped>\n",
              "    .dataframe tbody tr th:only-of-type {\n",
              "        vertical-align: middle;\n",
              "    }\n",
              "\n",
              "    .dataframe tbody tr th {\n",
              "        vertical-align: top;\n",
              "    }\n",
              "\n",
              "    .dataframe thead th {\n",
              "        text-align: right;\n",
              "    }\n",
              "</style>\n",
              "<table border=\"1\" class=\"dataframe\">\n",
              "  <thead>\n",
              "    <tr style=\"text-align: right;\">\n",
              "      <th></th>\n",
              "      <th>total_bill</th>\n",
              "      <th>tip</th>\n",
              "      <th>sex</th>\n",
              "      <th>smoker</th>\n",
              "      <th>day</th>\n",
              "      <th>time</th>\n",
              "      <th>size</th>\n",
              "    </tr>\n",
              "  </thead>\n",
              "  <tbody>\n",
              "    <tr>\n",
              "      <th>0</th>\n",
              "      <td>16.99</td>\n",
              "      <td>1.01</td>\n",
              "      <td>Female</td>\n",
              "      <td>No</td>\n",
              "      <td>Sun</td>\n",
              "      <td>Dinner</td>\n",
              "      <td>2</td>\n",
              "    </tr>\n",
              "    <tr>\n",
              "      <th>1</th>\n",
              "      <td>10.34</td>\n",
              "      <td>1.66</td>\n",
              "      <td>Male</td>\n",
              "      <td>No</td>\n",
              "      <td>Sun</td>\n",
              "      <td>Dinner</td>\n",
              "      <td>3</td>\n",
              "    </tr>\n",
              "    <tr>\n",
              "      <th>2</th>\n",
              "      <td>21.01</td>\n",
              "      <td>3.50</td>\n",
              "      <td>Male</td>\n",
              "      <td>No</td>\n",
              "      <td>Sun</td>\n",
              "      <td>Dinner</td>\n",
              "      <td>3</td>\n",
              "    </tr>\n",
              "  </tbody>\n",
              "</table>\n",
              "</div>\n",
              "      <button class=\"colab-df-convert\" onclick=\"convertToInteractive('df-39066193-89bd-4bba-8faa-f25b31fe7ba7')\"\n",
              "              title=\"Convert this dataframe to an interactive table.\"\n",
              "              style=\"display:none;\">\n",
              "        \n",
              "  <svg xmlns=\"http://www.w3.org/2000/svg\" height=\"24px\"viewBox=\"0 0 24 24\"\n",
              "       width=\"24px\">\n",
              "    <path d=\"M0 0h24v24H0V0z\" fill=\"none\"/>\n",
              "    <path d=\"M18.56 5.44l.94 2.06.94-2.06 2.06-.94-2.06-.94-.94-2.06-.94 2.06-2.06.94zm-11 1L8.5 8.5l.94-2.06 2.06-.94-2.06-.94L8.5 2.5l-.94 2.06-2.06.94zm10 10l.94 2.06.94-2.06 2.06-.94-2.06-.94-.94-2.06-.94 2.06-2.06.94z\"/><path d=\"M17.41 7.96l-1.37-1.37c-.4-.4-.92-.59-1.43-.59-.52 0-1.04.2-1.43.59L10.3 9.45l-7.72 7.72c-.78.78-.78 2.05 0 2.83L4 21.41c.39.39.9.59 1.41.59.51 0 1.02-.2 1.41-.59l7.78-7.78 2.81-2.81c.8-.78.8-2.07 0-2.86zM5.41 20L4 18.59l7.72-7.72 1.47 1.35L5.41 20z\"/>\n",
              "  </svg>\n",
              "      </button>\n",
              "      \n",
              "  <style>\n",
              "    .colab-df-container {\n",
              "      display:flex;\n",
              "      flex-wrap:wrap;\n",
              "      gap: 12px;\n",
              "    }\n",
              "\n",
              "    .colab-df-convert {\n",
              "      background-color: #E8F0FE;\n",
              "      border: none;\n",
              "      border-radius: 50%;\n",
              "      cursor: pointer;\n",
              "      display: none;\n",
              "      fill: #1967D2;\n",
              "      height: 32px;\n",
              "      padding: 0 0 0 0;\n",
              "      width: 32px;\n",
              "    }\n",
              "\n",
              "    .colab-df-convert:hover {\n",
              "      background-color: #E2EBFA;\n",
              "      box-shadow: 0px 1px 2px rgba(60, 64, 67, 0.3), 0px 1px 3px 1px rgba(60, 64, 67, 0.15);\n",
              "      fill: #174EA6;\n",
              "    }\n",
              "\n",
              "    [theme=dark] .colab-df-convert {\n",
              "      background-color: #3B4455;\n",
              "      fill: #D2E3FC;\n",
              "    }\n",
              "\n",
              "    [theme=dark] .colab-df-convert:hover {\n",
              "      background-color: #434B5C;\n",
              "      box-shadow: 0px 1px 3px 1px rgba(0, 0, 0, 0.15);\n",
              "      filter: drop-shadow(0px 1px 2px rgba(0, 0, 0, 0.3));\n",
              "      fill: #FFFFFF;\n",
              "    }\n",
              "  </style>\n",
              "\n",
              "      <script>\n",
              "        const buttonEl =\n",
              "          document.querySelector('#df-39066193-89bd-4bba-8faa-f25b31fe7ba7 button.colab-df-convert');\n",
              "        buttonEl.style.display =\n",
              "          google.colab.kernel.accessAllowed ? 'block' : 'none';\n",
              "\n",
              "        async function convertToInteractive(key) {\n",
              "          const element = document.querySelector('#df-39066193-89bd-4bba-8faa-f25b31fe7ba7');\n",
              "          const dataTable =\n",
              "            await google.colab.kernel.invokeFunction('convertToInteractive',\n",
              "                                                     [key], {});\n",
              "          if (!dataTable) return;\n",
              "\n",
              "          const docLinkHtml = 'Like what you see? Visit the ' +\n",
              "            '<a target=\"_blank\" href=https://colab.research.google.com/notebooks/data_table.ipynb>data table notebook</a>'\n",
              "            + ' to learn more about interactive tables.';\n",
              "          element.innerHTML = '';\n",
              "          dataTable['output_type'] = 'display_data';\n",
              "          await google.colab.output.renderOutput(dataTable, element);\n",
              "          const docLink = document.createElement('div');\n",
              "          docLink.innerHTML = docLinkHtml;\n",
              "          element.appendChild(docLink);\n",
              "        }\n",
              "      </script>\n",
              "    </div>\n",
              "  </div>\n",
              "  "
            ]
          },
          "metadata": {},
          "execution_count": 116
        }
      ]
    },
    {
      "cell_type": "code",
      "source": [
        "tips['day'].unique()"
      ],
      "metadata": {
        "colab": {
          "base_uri": "https://localhost:8080/"
        },
        "id": "9xkO_nOXGWrr",
        "outputId": "d257efd5-7c92-45f2-d9a1-d49b8ad6b3e2"
      },
      "execution_count": null,
      "outputs": [
        {
          "output_type": "execute_result",
          "data": {
            "text/plain": [
              "['Sun', 'Sat', 'Thur', 'Fri']\n",
              "Categories (4, object): ['Thur', 'Fri', 'Sat', 'Sun']"
            ]
          },
          "metadata": {},
          "execution_count": 117
        }
      ]
    },
    {
      "cell_type": "code",
      "source": [
        "# [1] target = 'total_bill', 요일별 그룹을 나누어 저장함\n",
        "import pandas as pd\n",
        "target = 'total_bill'\n",
        "groups = [x.to_list() for _, x in tips.groupby('day')[target]]\n",
        "gA, gB, gC, gD = groups\n",
        "print(groups)"
      ],
      "metadata": {
        "id": "SApLIDyh_t2l",
        "colab": {
          "base_uri": "https://localhost:8080/"
        },
        "outputId": "3de344d9-9267-4089-f19d-50785c867761"
      },
      "execution_count": null,
      "outputs": [
        {
          "output_type": "stream",
          "name": "stdout",
          "text": [
            "[[27.2, 22.76, 17.29, 19.44, 16.66, 10.07, 32.68, 15.98, 34.83, 13.03, 18.28, 24.71, 21.16, 10.65, 12.43, 24.08, 11.69, 13.42, 14.26, 15.95, 12.48, 29.8, 8.52, 14.52, 11.38, 22.82, 19.08, 20.27, 11.17, 12.26, 18.26, 8.51, 10.33, 14.15, 16.0, 13.16, 17.47, 34.3, 41.19, 27.05, 16.43, 8.35, 18.64, 11.87, 9.78, 7.51, 19.81, 28.44, 15.48, 16.58, 7.56, 10.34, 43.11, 13.0, 13.51, 18.71, 12.74, 13.0, 16.4, 20.53, 16.47, 18.78], [28.97, 22.49, 5.75, 16.32, 22.75, 40.17, 27.28, 12.03, 21.01, 12.46, 11.35, 15.38, 12.16, 13.42, 8.58, 15.98, 13.42, 16.27, 10.09], [20.65, 17.92, 20.29, 15.77, 39.42, 19.82, 17.81, 13.37, 12.69, 21.7, 19.65, 9.55, 18.35, 15.06, 20.69, 17.78, 24.06, 16.31, 16.93, 18.69, 31.27, 16.04, 38.01, 26.41, 11.24, 48.27, 20.29, 13.81, 11.02, 18.29, 17.59, 20.08, 16.45, 3.07, 20.23, 15.01, 12.02, 17.07, 26.86, 25.28, 14.73, 10.51, 17.92, 44.3, 22.42, 20.92, 15.36, 20.49, 25.21, 18.24, 14.31, 14.0, 7.25, 10.59, 10.63, 50.81, 15.81, 26.59, 38.73, 24.27, 12.76, 30.06, 25.89, 48.33, 13.27, 28.17, 12.9, 28.15, 11.59, 7.74, 30.14, 20.45, 13.28, 22.12, 24.01, 15.69, 11.61, 10.77, 15.53, 10.07, 12.6, 32.83, 35.83, 29.03, 27.18, 22.67, 17.82], [16.99, 10.34, 21.01, 23.68, 24.59, 25.29, 8.77, 26.88, 15.04, 14.78, 10.27, 35.26, 15.42, 18.43, 14.83, 21.58, 10.33, 16.29, 16.97, 17.46, 13.94, 9.68, 30.4, 18.29, 22.23, 32.4, 28.55, 18.04, 12.54, 10.29, 34.81, 9.94, 25.56, 19.49, 38.07, 23.95, 25.71, 17.31, 29.93, 14.07, 13.13, 17.26, 24.55, 19.77, 29.85, 48.17, 25.0, 13.39, 16.49, 21.5, 12.66, 16.21, 13.81, 17.51, 24.52, 20.76, 31.71, 7.25, 31.85, 16.82, 32.9, 17.89, 14.48, 9.6, 34.63, 34.65, 23.33, 45.35, 23.17, 40.55, 20.69, 20.9, 30.46, 18.15, 23.1, 15.69]]\n"
          ]
        }
      ]
    },
    {
      "cell_type": "code",
      "source": [
        "# [2] levene 의 center는 'median'으로 지정\n",
        "from scipy.stats import levene, shapiro\n",
        "\n",
        "# 정규성 검정\n",
        "_, pvalueA = shapiro(gA)\n",
        "_, pvalueB = shapiro(gB)\n",
        "_, pvalueC = shapiro(gC)\n",
        "_, pvalueD = shapiro(gD)\n",
        "print(pvalueA, pvalueB, pvalueC, pvalueD) # 정규성 만족하지 않음 -> 정규분포 아\n",
        "print([f'{shapiro(x)[1]:.4f}' for x in groups])\n",
        "#     반환되는 두 개의 값 중 두 번째값을 사용한다는 의미\n",
        "\n",
        "# 등분산성 검정\n",
        "statistic, pvalue = levene(*groups, center = 'median')\n",
        "print(statistic, pvalue) # 등분산성 만족"
      ],
      "metadata": {
        "id": "dgx-O2Gy0YCC",
        "colab": {
          "base_uri": "https://localhost:8080/"
        },
        "outputId": "d0c2d1e8-ade2-4e9c-f0bd-f25c020b3c65"
      },
      "execution_count": null,
      "outputs": [
        {
          "output_type": "stream",
          "name": "stdout",
          "text": [
            "2.8571173970703967e-05 0.04085628688335419 7.991795428097248e-06 0.0035658981651067734\n",
            "['0.0000', '0.0409', '0.0000', '0.0036']\n",
            "0.6653578279881612 0.5740792267812198\n"
          ]
        }
      ]
    },
    {
      "cell_type": "code",
      "source": [
        "# [3] fligner의 center는 'trimmed', proportiontocut=5% 지정\n",
        "from scipy.stats import fligner\n",
        "\n",
        "# 등분산성 검정\n",
        "statistic, pvalue = fligner(*groups, center = 'trimmed', proportiontocut = 0.05)\n",
        "print(statistic, pvalue) # 등분산성 만족"
      ],
      "metadata": {
        "id": "fKHrF0vV1zwp",
        "colab": {
          "base_uri": "https://localhost:8080/"
        },
        "outputId": "32e814ae-a86d-4532-b57f-e23c25648d86"
      },
      "execution_count": null,
      "outputs": [
        {
          "output_type": "stream",
          "name": "stdout",
          "text": [
            "4.53248366196013 0.20941105566015797\n"
          ]
        }
      ]
    },
    {
      "cell_type": "markdown",
      "source": [
        "### 3.T 검정(평균 검정)"
      ],
      "metadata": {
        "id": "x33pqkcZDhrB"
      }
    },
    {
      "cell_type": "markdown",
      "metadata": {
        "id": "16dAULRQHGYV"
      },
      "source": [
        "t-test 이해\n",
        "- 스튜던트 t-테스트(Student's t-test)라고도 하며, 검정 통계량이 귀무가설 하에서 t-분포를 따르는 통계적 가설 검정\n",
        "- 표본을 사용한 모평균 검정 및 두 데이터 세트(집단)의 모평균이 서로 유의하게 다른지 여부를 판별 할 수 있음\n",
        "- 검정통계량이 정규 분포를 따르며 모집단의 분산, 표준편차를 알지 못할 때 표본으로 부터 추정된 분산/표준편차를 사용해 검정함\n",
        "- t-test를 실시하기 위해서는 정규성 및 등분산성의 조건이 만족되어야 함\n"
      ]
    },
    {
      "cell_type": "markdown",
      "metadata": {
        "id": "bddKnaQVHGYb"
      },
      "source": [
        "#### 3-1.One sample t-test\n",
        "- stats.ttest_1samp 사용\n",
        "- 20대 평균 수면시간에 대한 one samle t-test\n",
        "- 유의수준은 5% 사용\n",
        "- 숫자는 반올림하여 소수점 아래 4번째 자리까지 표시"
      ]
    },
    {
      "cell_type": "code",
      "metadata": {
        "colab": {
          "base_uri": "https://localhost:8080/",
          "height": 162
        },
        "id": "OtvO3SA8HGYb",
        "outputId": "a2bdefc6-1c6a-487c-da5d-1510e206fe71"
      },
      "source": [
        "# [1] 수면 시간 정보가 포함된 파일 불러오기\n",
        "import pandas as pd\n",
        "\n",
        "df = pd.read_csv(\"./data_02/sleepage.csv\")\n",
        "print(df.shape)\n",
        "df.T"
      ],
      "execution_count": null,
      "outputs": [
        {
          "output_type": "stream",
          "name": "stdout",
          "text": [
            "(20, 3)\n"
          ]
        },
        {
          "output_type": "execute_result",
          "data": {
            "text/plain": [
              "          0   1   2   3   4   5   6   7   8   9   10  11  12  13  14  15  16  \\\n",
              "stime20s   4   4   5   5   6   6   7   3   8   7   8   8   7   7   7   6   8   \n",
              "stime40s   5   5   6   7   6   7   7   5   5   6   8   7   6   6   8   7   7   \n",
              "ID         1   2   3   4   5   6   7   8   9  10  11  12  13  14  15  16  17   \n",
              "\n",
              "          17  18  19  \n",
              "stime20s   5   6   6  \n",
              "stime40s   6   5   8  \n",
              "ID        18  19  20  "
            ],
            "text/html": [
              "\n",
              "  <div id=\"df-7bfe574c-67f0-4858-8d69-1a4334589c15\">\n",
              "    <div class=\"colab-df-container\">\n",
              "      <div>\n",
              "<style scoped>\n",
              "    .dataframe tbody tr th:only-of-type {\n",
              "        vertical-align: middle;\n",
              "    }\n",
              "\n",
              "    .dataframe tbody tr th {\n",
              "        vertical-align: top;\n",
              "    }\n",
              "\n",
              "    .dataframe thead th {\n",
              "        text-align: right;\n",
              "    }\n",
              "</style>\n",
              "<table border=\"1\" class=\"dataframe\">\n",
              "  <thead>\n",
              "    <tr style=\"text-align: right;\">\n",
              "      <th></th>\n",
              "      <th>0</th>\n",
              "      <th>1</th>\n",
              "      <th>2</th>\n",
              "      <th>3</th>\n",
              "      <th>4</th>\n",
              "      <th>5</th>\n",
              "      <th>6</th>\n",
              "      <th>7</th>\n",
              "      <th>8</th>\n",
              "      <th>9</th>\n",
              "      <th>10</th>\n",
              "      <th>11</th>\n",
              "      <th>12</th>\n",
              "      <th>13</th>\n",
              "      <th>14</th>\n",
              "      <th>15</th>\n",
              "      <th>16</th>\n",
              "      <th>17</th>\n",
              "      <th>18</th>\n",
              "      <th>19</th>\n",
              "    </tr>\n",
              "  </thead>\n",
              "  <tbody>\n",
              "    <tr>\n",
              "      <th>stime20s</th>\n",
              "      <td>4</td>\n",
              "      <td>4</td>\n",
              "      <td>5</td>\n",
              "      <td>5</td>\n",
              "      <td>6</td>\n",
              "      <td>6</td>\n",
              "      <td>7</td>\n",
              "      <td>3</td>\n",
              "      <td>8</td>\n",
              "      <td>7</td>\n",
              "      <td>8</td>\n",
              "      <td>8</td>\n",
              "      <td>7</td>\n",
              "      <td>7</td>\n",
              "      <td>7</td>\n",
              "      <td>6</td>\n",
              "      <td>8</td>\n",
              "      <td>5</td>\n",
              "      <td>6</td>\n",
              "      <td>6</td>\n",
              "    </tr>\n",
              "    <tr>\n",
              "      <th>stime40s</th>\n",
              "      <td>5</td>\n",
              "      <td>5</td>\n",
              "      <td>6</td>\n",
              "      <td>7</td>\n",
              "      <td>6</td>\n",
              "      <td>7</td>\n",
              "      <td>7</td>\n",
              "      <td>5</td>\n",
              "      <td>5</td>\n",
              "      <td>6</td>\n",
              "      <td>8</td>\n",
              "      <td>7</td>\n",
              "      <td>6</td>\n",
              "      <td>6</td>\n",
              "      <td>8</td>\n",
              "      <td>7</td>\n",
              "      <td>7</td>\n",
              "      <td>6</td>\n",
              "      <td>5</td>\n",
              "      <td>8</td>\n",
              "    </tr>\n",
              "    <tr>\n",
              "      <th>ID</th>\n",
              "      <td>1</td>\n",
              "      <td>2</td>\n",
              "      <td>3</td>\n",
              "      <td>4</td>\n",
              "      <td>5</td>\n",
              "      <td>6</td>\n",
              "      <td>7</td>\n",
              "      <td>8</td>\n",
              "      <td>9</td>\n",
              "      <td>10</td>\n",
              "      <td>11</td>\n",
              "      <td>12</td>\n",
              "      <td>13</td>\n",
              "      <td>14</td>\n",
              "      <td>15</td>\n",
              "      <td>16</td>\n",
              "      <td>17</td>\n",
              "      <td>18</td>\n",
              "      <td>19</td>\n",
              "      <td>20</td>\n",
              "    </tr>\n",
              "  </tbody>\n",
              "</table>\n",
              "</div>\n",
              "      <button class=\"colab-df-convert\" onclick=\"convertToInteractive('df-7bfe574c-67f0-4858-8d69-1a4334589c15')\"\n",
              "              title=\"Convert this dataframe to an interactive table.\"\n",
              "              style=\"display:none;\">\n",
              "        \n",
              "  <svg xmlns=\"http://www.w3.org/2000/svg\" height=\"24px\"viewBox=\"0 0 24 24\"\n",
              "       width=\"24px\">\n",
              "    <path d=\"M0 0h24v24H0V0z\" fill=\"none\"/>\n",
              "    <path d=\"M18.56 5.44l.94 2.06.94-2.06 2.06-.94-2.06-.94-.94-2.06-.94 2.06-2.06.94zm-11 1L8.5 8.5l.94-2.06 2.06-.94-2.06-.94L8.5 2.5l-.94 2.06-2.06.94zm10 10l.94 2.06.94-2.06 2.06-.94-2.06-.94-.94-2.06-.94 2.06-2.06.94z\"/><path d=\"M17.41 7.96l-1.37-1.37c-.4-.4-.92-.59-1.43-.59-.52 0-1.04.2-1.43.59L10.3 9.45l-7.72 7.72c-.78.78-.78 2.05 0 2.83L4 21.41c.39.39.9.59 1.41.59.51 0 1.02-.2 1.41-.59l7.78-7.78 2.81-2.81c.8-.78.8-2.07 0-2.86zM5.41 20L4 18.59l7.72-7.72 1.47 1.35L5.41 20z\"/>\n",
              "  </svg>\n",
              "      </button>\n",
              "      \n",
              "  <style>\n",
              "    .colab-df-container {\n",
              "      display:flex;\n",
              "      flex-wrap:wrap;\n",
              "      gap: 12px;\n",
              "    }\n",
              "\n",
              "    .colab-df-convert {\n",
              "      background-color: #E8F0FE;\n",
              "      border: none;\n",
              "      border-radius: 50%;\n",
              "      cursor: pointer;\n",
              "      display: none;\n",
              "      fill: #1967D2;\n",
              "      height: 32px;\n",
              "      padding: 0 0 0 0;\n",
              "      width: 32px;\n",
              "    }\n",
              "\n",
              "    .colab-df-convert:hover {\n",
              "      background-color: #E2EBFA;\n",
              "      box-shadow: 0px 1px 2px rgba(60, 64, 67, 0.3), 0px 1px 3px 1px rgba(60, 64, 67, 0.15);\n",
              "      fill: #174EA6;\n",
              "    }\n",
              "\n",
              "    [theme=dark] .colab-df-convert {\n",
              "      background-color: #3B4455;\n",
              "      fill: #D2E3FC;\n",
              "    }\n",
              "\n",
              "    [theme=dark] .colab-df-convert:hover {\n",
              "      background-color: #434B5C;\n",
              "      box-shadow: 0px 1px 3px 1px rgba(0, 0, 0, 0.15);\n",
              "      filter: drop-shadow(0px 1px 2px rgba(0, 0, 0, 0.3));\n",
              "      fill: #FFFFFF;\n",
              "    }\n",
              "  </style>\n",
              "\n",
              "      <script>\n",
              "        const buttonEl =\n",
              "          document.querySelector('#df-7bfe574c-67f0-4858-8d69-1a4334589c15 button.colab-df-convert');\n",
              "        buttonEl.style.display =\n",
              "          google.colab.kernel.accessAllowed ? 'block' : 'none';\n",
              "\n",
              "        async function convertToInteractive(key) {\n",
              "          const element = document.querySelector('#df-7bfe574c-67f0-4858-8d69-1a4334589c15');\n",
              "          const dataTable =\n",
              "            await google.colab.kernel.invokeFunction('convertToInteractive',\n",
              "                                                     [key], {});\n",
              "          if (!dataTable) return;\n",
              "\n",
              "          const docLinkHtml = 'Like what you see? Visit the ' +\n",
              "            '<a target=\"_blank\" href=https://colab.research.google.com/notebooks/data_table.ipynb>data table notebook</a>'\n",
              "            + ' to learn more about interactive tables.';\n",
              "          element.innerHTML = '';\n",
              "          dataTable['output_type'] = 'display_data';\n",
              "          await google.colab.output.renderOutput(dataTable, element);\n",
              "          const docLink = document.createElement('div');\n",
              "          docLink.innerHTML = docLinkHtml;\n",
              "          element.appendChild(docLink);\n",
              "        }\n",
              "      </script>\n",
              "    </div>\n",
              "  </div>\n",
              "  "
            ]
          },
          "metadata": {},
          "execution_count": 121
        }
      ]
    },
    {
      "cell_type": "code",
      "metadata": {
        "id": "bt9ohJNkHGYe",
        "colab": {
          "base_uri": "https://localhost:8080/"
        },
        "outputId": "49b0579e-9417-4ecc-b7b0-e97d453c5f1a"
      },
      "source": [
        "# [1] 20대의 수면시간에 대해 정규성 검정\n",
        "# one sample이므로 등분산 검정 필요 없음\n",
        "from scipy.stats import shapiro\n",
        "\n",
        "statistic, pvalue = shapiro(df['stime20s'])\n",
        "print(round(statistic, 4), round(pvalue, 4))\n",
        "print('기각' if pvalue < 0.05 else '채택') # 귀무가설 채택 : 정규성을 만족한다"
      ],
      "execution_count": null,
      "outputs": [
        {
          "output_type": "stream",
          "name": "stdout",
          "text": [
            "0.9239 0.118\n",
            "채택\n"
          ]
        }
      ]
    },
    {
      "cell_type": "code",
      "metadata": {
        "id": "ZSKdyaWZHGYd",
        "colab": {
          "base_uri": "https://localhost:8080/"
        },
        "outputId": "e31c88bf-3fa6-4ae1-a15f-17676bb9703a"
      },
      "source": [
        "# [2] 20대의 수면시간에 대해 평균 구하기\n",
        "sleep = df['stime20s'].mean()\n",
        "print(round(sleep, 4), f'{sleep:.04f}')"
      ],
      "execution_count": null,
      "outputs": [
        {
          "output_type": "stream",
          "name": "stdout",
          "text": [
            "6.15 6.1500\n"
          ]
        }
      ]
    },
    {
      "cell_type": "markdown",
      "metadata": {
        "id": "O8QR0KUADvA-"
      },
      "source": [
        "가설 1.alternative='two-sided'\n",
        "- 귀무가설 - 20대 수면시간의 평균은 6시간이다.\n",
        "- 대립가설 - 20대 수면시간의 평균은 6시간이 아니다."
      ]
    },
    {
      "cell_type": "code",
      "metadata": {
        "id": "mG684uqUHGYe",
        "colab": {
          "base_uri": "https://localhost:8080/"
        },
        "outputId": "3866d36f-f898-4ad9-de21-950f12716a3b"
      },
      "source": [
        "# [3] One Sample t-test 수행\n",
        "from scipy.stats import ttest_1samp\n",
        "popmean = 5\n",
        "statistic, pvalue = ttest_1samp(df['stime20s'], popmean, alternative = 'two-sided')\n",
        "print(round(statistic, 4), round(pvalue, 4)) # 0.4592 0.6513"
      ],
      "execution_count": null,
      "outputs": [
        {
          "output_type": "stream",
          "name": "stdout",
          "text": [
            "3.5204 0.0023\n"
          ]
        }
      ]
    },
    {
      "cell_type": "code",
      "metadata": {
        "id": "CI-Ar1FMHGYf",
        "colab": {
          "base_uri": "https://localhost:8080/"
        },
        "outputId": "126c6159-c573-43cf-f2a5-11908a36395d"
      },
      "source": [
        "# [4] 가설 결과\n",
        "# p-value 가 0.05보다 크다\n",
        "# 귀무가설 채택\n",
        "# 귀무가설 - 20대 수면시간의 평균은 6시간이다.\n",
        "print('기각' if pvalue < 0.05 else '채택')"
      ],
      "execution_count": null,
      "outputs": [
        {
          "output_type": "stream",
          "name": "stdout",
          "text": [
            "기각\n"
          ]
        }
      ]
    },
    {
      "cell_type": "markdown",
      "metadata": {
        "id": "ZlfH0fKcDnJj"
      },
      "source": [
        "가설-2. alternative='less'\n",
        "- 귀무가설 - 20대 수면시간의 평균은 6시간 보다 크거나 같다.\n",
        "- 대립가설 - 20대 수면시간의 평균은 6시간 보다 작다"
      ]
    },
    {
      "cell_type": "code",
      "metadata": {
        "id": "c0D0Ri7XHGYg",
        "colab": {
          "base_uri": "https://localhost:8080/"
        },
        "outputId": "474fd088-72e7-4728-8d2c-84e2d5c510ff"
      },
      "source": [
        "# [5] One Sample t-test 수행\n",
        "from scipy.stats import ttest_1samp\n",
        "\n",
        "statistic, pvalue = ttest_1samp(df['stime20s'], 6, alternative = 'less')\n",
        "print(round(statistic, 4), round(pvalue, 4)) # 0.4592 0.6743"
      ],
      "execution_count": null,
      "outputs": [
        {
          "output_type": "stream",
          "name": "stdout",
          "text": [
            "0.4592 0.6743\n"
          ]
        }
      ]
    },
    {
      "cell_type": "code",
      "source": [
        "# [6] 가설 결과\n",
        "# p-value 가 0.05보다 크다\n",
        "# 귀무가설 채택\n",
        "# 귀무가설 - 20대 수면시간의 평균은 6시간 보다 크거나 같다.\n",
        "print('기각' if pvalue < 0.05 else '채택')"
      ],
      "metadata": {
        "id": "OSpQ3fII6Z2y",
        "colab": {
          "base_uri": "https://localhost:8080/"
        },
        "outputId": "4f37a6f5-e993-4a84-c1dd-450218b6390a"
      },
      "execution_count": null,
      "outputs": [
        {
          "output_type": "stream",
          "name": "stdout",
          "text": [
            "채택\n"
          ]
        }
      ]
    },
    {
      "cell_type": "markdown",
      "source": [
        "가설-3. alternative='greater'\n",
        "- 귀무가설 - 20대 수면시간의 평균은 6시간 보다 작거나 같다.\n",
        "- 대립가설 - 20대 수면시간의 평균은 6시간 보다 크다"
      ],
      "metadata": {
        "id": "LJXAfvvS6zHP"
      }
    },
    {
      "cell_type": "code",
      "source": [
        "# [7] One Sample t-test 수행\n",
        "from scipy.stats import ttest_1samp\n",
        "\n",
        "statistic, pvalue = ttest_1samp(df['stime20s'], 6, alternative = 'greater')\n",
        "print(round(statistic, 4), round(pvalue, 4)) # 0.4592 0.3257"
      ],
      "metadata": {
        "id": "KXnOqbIs66yj",
        "colab": {
          "base_uri": "https://localhost:8080/"
        },
        "outputId": "21adf375-ef7e-4d4b-c866-1ec41383883e"
      },
      "execution_count": null,
      "outputs": [
        {
          "output_type": "stream",
          "name": "stdout",
          "text": [
            "0.4592 0.3257\n"
          ]
        }
      ]
    },
    {
      "cell_type": "code",
      "metadata": {
        "id": "OnPgfmO_HGYg",
        "colab": {
          "base_uri": "https://localhost:8080/"
        },
        "outputId": "c92b701a-6c82-425f-8ef8-1001db9ac43c"
      },
      "source": [
        "# [8] 가설 결과\n",
        "# p-value 가 0.05보다 크다\n",
        "# 귀무가설 채택\n",
        "# 귀무가설 - 20대 수면시간의 평균은 6시간 보다 작거나 같다.\n",
        "print('기각' if pvalue < 0.05 else '채택')"
      ],
      "execution_count": null,
      "outputs": [
        {
          "output_type": "stream",
          "name": "stdout",
          "text": [
            "채택\n"
          ]
        }
      ]
    },
    {
      "cell_type": "code",
      "source": [
        "# [9] 95% 신뢰구간 구하기\n",
        "from scipy.stats import t, sem\n",
        "target = df['stime20s']\n",
        "lower, upper = t(df = len(target) - 1).interval(0.95, loc = target.mean(), scale = sem(target))\n",
        "print(f'{lower:.4f} ~ {upper:.4f}')"
      ],
      "metadata": {
        "id": "dUs1gm6474mJ",
        "colab": {
          "base_uri": "https://localhost:8080/"
        },
        "outputId": "95312f42-a886-49ed-9112-488b81554538"
      },
      "execution_count": null,
      "outputs": [
        {
          "output_type": "stream",
          "name": "stdout",
          "text": [
            "5.4663 ~ 6.8337\n"
          ]
        }
      ]
    },
    {
      "cell_type": "markdown",
      "metadata": {
        "id": "kg6nm09IHGYi"
      },
      "source": [
        "#### 3-2.Two-sample t-test\n",
        "- 두집단 A, B의 평균 차이가 유의미한지 확인하는 용도\n",
        "- 20대와 40대의 수면 시간은 같다\n",
        "- stats.test_ind : (two INDependent sample이라 해서 ttest_ind )\n",
        "- https://docs.scipy.org/doc/scipy/reference/generated/scipy.stats.ttest_ind.html\n",
        "- t값과 two-tail p-value를 반환함\n",
        "- ttest_ind(a, b, equal_var=False) : Welch's t-test 수행 (등분산이 아닌 경우)"
      ]
    },
    {
      "cell_type": "code",
      "metadata": {
        "colab": {
          "base_uri": "https://localhost:8080/",
          "height": 162
        },
        "id": "n2Pa1MnBHGYi",
        "outputId": "12f96028-171e-400c-d9e8-f16e1ee8a406"
      },
      "source": [
        "# [1] 수면 시간 정보가 포함된 파일 불러오기\n",
        "import pandas as pd\n",
        "df2 = pd.read_csv('./data_02/sleepage.csv')\n",
        "print(df2.shape)\n",
        "df2.T\n",
        "\n",
        "# ttest_ind(a, b, equal_var=False) : 등분산 검정"
      ],
      "execution_count": null,
      "outputs": [
        {
          "output_type": "stream",
          "name": "stdout",
          "text": [
            "(20, 3)\n"
          ]
        },
        {
          "output_type": "execute_result",
          "data": {
            "text/plain": [
              "          0   1   2   3   4   5   6   7   8   9   10  11  12  13  14  15  16  \\\n",
              "stime20s   4   4   5   5   6   6   7   3   8   7   8   8   7   7   7   6   8   \n",
              "stime40s   5   5   6   7   6   7   7   5   5   6   8   7   6   6   8   7   7   \n",
              "ID         1   2   3   4   5   6   7   8   9  10  11  12  13  14  15  16  17   \n",
              "\n",
              "          17  18  19  \n",
              "stime20s   5   6   6  \n",
              "stime40s   6   5   8  \n",
              "ID        18  19  20  "
            ],
            "text/html": [
              "\n",
              "  <div id=\"df-b1d3456f-1ece-4f30-b34d-cf14b6d1fbc3\">\n",
              "    <div class=\"colab-df-container\">\n",
              "      <div>\n",
              "<style scoped>\n",
              "    .dataframe tbody tr th:only-of-type {\n",
              "        vertical-align: middle;\n",
              "    }\n",
              "\n",
              "    .dataframe tbody tr th {\n",
              "        vertical-align: top;\n",
              "    }\n",
              "\n",
              "    .dataframe thead th {\n",
              "        text-align: right;\n",
              "    }\n",
              "</style>\n",
              "<table border=\"1\" class=\"dataframe\">\n",
              "  <thead>\n",
              "    <tr style=\"text-align: right;\">\n",
              "      <th></th>\n",
              "      <th>0</th>\n",
              "      <th>1</th>\n",
              "      <th>2</th>\n",
              "      <th>3</th>\n",
              "      <th>4</th>\n",
              "      <th>5</th>\n",
              "      <th>6</th>\n",
              "      <th>7</th>\n",
              "      <th>8</th>\n",
              "      <th>9</th>\n",
              "      <th>10</th>\n",
              "      <th>11</th>\n",
              "      <th>12</th>\n",
              "      <th>13</th>\n",
              "      <th>14</th>\n",
              "      <th>15</th>\n",
              "      <th>16</th>\n",
              "      <th>17</th>\n",
              "      <th>18</th>\n",
              "      <th>19</th>\n",
              "    </tr>\n",
              "  </thead>\n",
              "  <tbody>\n",
              "    <tr>\n",
              "      <th>stime20s</th>\n",
              "      <td>4</td>\n",
              "      <td>4</td>\n",
              "      <td>5</td>\n",
              "      <td>5</td>\n",
              "      <td>6</td>\n",
              "      <td>6</td>\n",
              "      <td>7</td>\n",
              "      <td>3</td>\n",
              "      <td>8</td>\n",
              "      <td>7</td>\n",
              "      <td>8</td>\n",
              "      <td>8</td>\n",
              "      <td>7</td>\n",
              "      <td>7</td>\n",
              "      <td>7</td>\n",
              "      <td>6</td>\n",
              "      <td>8</td>\n",
              "      <td>5</td>\n",
              "      <td>6</td>\n",
              "      <td>6</td>\n",
              "    </tr>\n",
              "    <tr>\n",
              "      <th>stime40s</th>\n",
              "      <td>5</td>\n",
              "      <td>5</td>\n",
              "      <td>6</td>\n",
              "      <td>7</td>\n",
              "      <td>6</td>\n",
              "      <td>7</td>\n",
              "      <td>7</td>\n",
              "      <td>5</td>\n",
              "      <td>5</td>\n",
              "      <td>6</td>\n",
              "      <td>8</td>\n",
              "      <td>7</td>\n",
              "      <td>6</td>\n",
              "      <td>6</td>\n",
              "      <td>8</td>\n",
              "      <td>7</td>\n",
              "      <td>7</td>\n",
              "      <td>6</td>\n",
              "      <td>5</td>\n",
              "      <td>8</td>\n",
              "    </tr>\n",
              "    <tr>\n",
              "      <th>ID</th>\n",
              "      <td>1</td>\n",
              "      <td>2</td>\n",
              "      <td>3</td>\n",
              "      <td>4</td>\n",
              "      <td>5</td>\n",
              "      <td>6</td>\n",
              "      <td>7</td>\n",
              "      <td>8</td>\n",
              "      <td>9</td>\n",
              "      <td>10</td>\n",
              "      <td>11</td>\n",
              "      <td>12</td>\n",
              "      <td>13</td>\n",
              "      <td>14</td>\n",
              "      <td>15</td>\n",
              "      <td>16</td>\n",
              "      <td>17</td>\n",
              "      <td>18</td>\n",
              "      <td>19</td>\n",
              "      <td>20</td>\n",
              "    </tr>\n",
              "  </tbody>\n",
              "</table>\n",
              "</div>\n",
              "      <button class=\"colab-df-convert\" onclick=\"convertToInteractive('df-b1d3456f-1ece-4f30-b34d-cf14b6d1fbc3')\"\n",
              "              title=\"Convert this dataframe to an interactive table.\"\n",
              "              style=\"display:none;\">\n",
              "        \n",
              "  <svg xmlns=\"http://www.w3.org/2000/svg\" height=\"24px\"viewBox=\"0 0 24 24\"\n",
              "       width=\"24px\">\n",
              "    <path d=\"M0 0h24v24H0V0z\" fill=\"none\"/>\n",
              "    <path d=\"M18.56 5.44l.94 2.06.94-2.06 2.06-.94-2.06-.94-.94-2.06-.94 2.06-2.06.94zm-11 1L8.5 8.5l.94-2.06 2.06-.94-2.06-.94L8.5 2.5l-.94 2.06-2.06.94zm10 10l.94 2.06.94-2.06 2.06-.94-2.06-.94-.94-2.06-.94 2.06-2.06.94z\"/><path d=\"M17.41 7.96l-1.37-1.37c-.4-.4-.92-.59-1.43-.59-.52 0-1.04.2-1.43.59L10.3 9.45l-7.72 7.72c-.78.78-.78 2.05 0 2.83L4 21.41c.39.39.9.59 1.41.59.51 0 1.02-.2 1.41-.59l7.78-7.78 2.81-2.81c.8-.78.8-2.07 0-2.86zM5.41 20L4 18.59l7.72-7.72 1.47 1.35L5.41 20z\"/>\n",
              "  </svg>\n",
              "      </button>\n",
              "      \n",
              "  <style>\n",
              "    .colab-df-container {\n",
              "      display:flex;\n",
              "      flex-wrap:wrap;\n",
              "      gap: 12px;\n",
              "    }\n",
              "\n",
              "    .colab-df-convert {\n",
              "      background-color: #E8F0FE;\n",
              "      border: none;\n",
              "      border-radius: 50%;\n",
              "      cursor: pointer;\n",
              "      display: none;\n",
              "      fill: #1967D2;\n",
              "      height: 32px;\n",
              "      padding: 0 0 0 0;\n",
              "      width: 32px;\n",
              "    }\n",
              "\n",
              "    .colab-df-convert:hover {\n",
              "      background-color: #E2EBFA;\n",
              "      box-shadow: 0px 1px 2px rgba(60, 64, 67, 0.3), 0px 1px 3px 1px rgba(60, 64, 67, 0.15);\n",
              "      fill: #174EA6;\n",
              "    }\n",
              "\n",
              "    [theme=dark] .colab-df-convert {\n",
              "      background-color: #3B4455;\n",
              "      fill: #D2E3FC;\n",
              "    }\n",
              "\n",
              "    [theme=dark] .colab-df-convert:hover {\n",
              "      background-color: #434B5C;\n",
              "      box-shadow: 0px 1px 3px 1px rgba(0, 0, 0, 0.15);\n",
              "      filter: drop-shadow(0px 1px 2px rgba(0, 0, 0, 0.3));\n",
              "      fill: #FFFFFF;\n",
              "    }\n",
              "  </style>\n",
              "\n",
              "      <script>\n",
              "        const buttonEl =\n",
              "          document.querySelector('#df-b1d3456f-1ece-4f30-b34d-cf14b6d1fbc3 button.colab-df-convert');\n",
              "        buttonEl.style.display =\n",
              "          google.colab.kernel.accessAllowed ? 'block' : 'none';\n",
              "\n",
              "        async function convertToInteractive(key) {\n",
              "          const element = document.querySelector('#df-b1d3456f-1ece-4f30-b34d-cf14b6d1fbc3');\n",
              "          const dataTable =\n",
              "            await google.colab.kernel.invokeFunction('convertToInteractive',\n",
              "                                                     [key], {});\n",
              "          if (!dataTable) return;\n",
              "\n",
              "          const docLinkHtml = 'Like what you see? Visit the ' +\n",
              "            '<a target=\"_blank\" href=https://colab.research.google.com/notebooks/data_table.ipynb>data table notebook</a>'\n",
              "            + ' to learn more about interactive tables.';\n",
              "          element.innerHTML = '';\n",
              "          dataTable['output_type'] = 'display_data';\n",
              "          await google.colab.output.renderOutput(dataTable, element);\n",
              "          const docLink = document.createElement('div');\n",
              "          docLink.innerHTML = docLinkHtml;\n",
              "          element.appendChild(docLink);\n",
              "        }\n",
              "      </script>\n",
              "    </div>\n",
              "  </div>\n",
              "  "
            ]
          },
          "metadata": {},
          "execution_count": 131
        }
      ]
    },
    {
      "cell_type": "code",
      "metadata": {
        "id": "APlw91hbHGYi"
      },
      "source": [
        "# [2] 그룹 분할하기\n",
        "groupA = df2.loc[:, 'stime20s']\n",
        "groupB = df2.loc[:, 'stime40s']\n"
      ],
      "execution_count": null,
      "outputs": []
    },
    {
      "cell_type": "code",
      "metadata": {
        "id": "jG-0pIteHGYj",
        "colab": {
          "base_uri": "https://localhost:8080/"
        },
        "outputId": "42c7b7e6-0731-43c2-dd63-dfe9d05b57a9"
      },
      "source": [
        "# [3] 그룹별 평균 구하기\n",
        "print(round(groupA.mean(), 4), round(groupB.mean(), 4))"
      ],
      "execution_count": null,
      "outputs": [
        {
          "output_type": "stream",
          "name": "stdout",
          "text": [
            "6.15 6.35\n"
          ]
        }
      ]
    },
    {
      "cell_type": "code",
      "metadata": {
        "id": "3G163IkrV6EJ",
        "colab": {
          "base_uri": "https://localhost:8080/"
        },
        "outputId": "30134415-468d-4527-8991-06982515f8f5"
      },
      "source": [
        "# [4] 등분산 검정 - 3가지 방법으로 실행 후, pvalue 확인\n",
        "from scipy.stats import levene, fligner, bartlett\n",
        "from scipy.stats import shapiro\n",
        "\n",
        "# 정규성 검정\n",
        "statistic, pvalueA = shapiro(groupA) # 0.0.1180 정규성 만족\n",
        "statistic, pvalueB = shapiro(groupB)  # 0.0184 정규성 만족\n",
        "print(f'{pvalueA:.04f}, {pvalueB:.04f}')\n",
        "\n",
        "# 등분산성 검정\n",
        "statisticA, pvlaueA = levene(groupA, groupB) # 0.1180 등분산 만족\n",
        "statisticB, pvlaueB = fligner(groupA, groupB) # 0.0184 등분산 만족\n",
        "statisticC, pvlaueC = bartlett(groupA, groupB) # 0.1475 등분산 만족\n",
        "print(f'{pvalueA:.04f}, {pvalueB:.04f}, {pvlaueC:.04f}')"
      ],
      "execution_count": null,
      "outputs": [
        {
          "output_type": "stream",
          "name": "stdout",
          "text": [
            "0.1180, 0.0184\n",
            "0.1180, 0.0184, 0.1475\n"
          ]
        }
      ]
    },
    {
      "cell_type": "code",
      "metadata": {
        "id": "ItcZqrBfHGYk"
      },
      "source": [
        "# 등분산 가정을 만족하지 않으면(equal_var=False) Welch's T-test를 수행한다."
      ],
      "execution_count": null,
      "outputs": []
    },
    {
      "cell_type": "markdown",
      "source": [
        "가설1. alternative='two-sided'\n",
        "- 귀무가설 : groupA의 평균 - groupB의 평균이 0과 같다\n",
        "- 대립가설 : groupA의 평균 - groupB의 평균이 0과 같지 않다\n",
        "- 귀무가설 : groupA, groupB의 평균은 동일하다\n",
        "- 대립가설 : groupA, groupB의 평균은 동일하지 않다"
      ],
      "metadata": {
        "id": "TtEQZPSR9v7_"
      }
    },
    {
      "cell_type": "code",
      "metadata": {
        "id": "veAHtnMWHGYk",
        "colab": {
          "base_uri": "https://localhost:8080/"
        },
        "outputId": "771c1610-d7ed-42f7-88cd-3f66def88a28"
      },
      "source": [
        "# [5] two-sample t-test 수행\n",
        "from scipy.stats import ttest_ind\n",
        "statistic, pvalue = ttest_ind(groupA, groupB, alternative = 'two-sided')\n",
        "print(f'{statistic:.04f}, {pvalue:.04f}') # -0.4988, 0.6208"
      ],
      "execution_count": null,
      "outputs": [
        {
          "output_type": "stream",
          "name": "stdout",
          "text": [
            "-0.4988, 0.6208\n"
          ]
        }
      ]
    },
    {
      "cell_type": "code",
      "metadata": {
        "id": "553_7jRqHGYm",
        "colab": {
          "base_uri": "https://localhost:8080/"
        },
        "outputId": "c2ab70e0-7684-428b-9850-1a89c8a18d9c"
      },
      "source": [
        "# [6] 가설 결과\n",
        "# pvalue가 0.05보다 큰 값 : 0.6208\n",
        "# 귀무가설을 채택해야 함\n",
        "# 즉, 20대와 40대의 평균 수명 시간에 차이가 없다 => 동일\n",
        "print('기각' if pvalue < 0.05 else '채택')"
      ],
      "execution_count": null,
      "outputs": [
        {
          "output_type": "stream",
          "name": "stdout",
          "text": [
            "채택\n"
          ]
        }
      ]
    },
    {
      "cell_type": "markdown",
      "source": [
        "가설2. alternative='less'\n",
        "- 귀무가설 : groupA의 평균 - groupB의 평균이 0보다 크거나 같다\n",
        "- 대립가설 : groupA의 평균 - groupB의 평균이 0보다 작다\n",
        "- 귀무가설 : groupA의 평균이 groupB의 평균보다 크거나 같다\n",
        "- 대립가설 : groupA의 평균이 groupB의 평균보다 작다"
      ],
      "metadata": {
        "id": "vjip5-ZJDom9"
      }
    },
    {
      "cell_type": "code",
      "source": [
        "# [7] two-sample t-test 수행\n",
        "from scipy.stats import ttest_ind\n",
        "\n",
        "statistic, pvalue = ttest_ind(groupA, groupB, alternative = 'less')\n",
        "print(f'{statistic:.04f}, {pvalue:.04f}') # -0.4988, 0.3104"
      ],
      "metadata": {
        "id": "CV15CIzlDnfb",
        "colab": {
          "base_uri": "https://localhost:8080/"
        },
        "outputId": "d0fb503a-a3ab-4b4c-b728-bf7db1f00b67"
      },
      "execution_count": null,
      "outputs": [
        {
          "output_type": "stream",
          "name": "stdout",
          "text": [
            "-0.4988, 0.3104\n"
          ]
        }
      ]
    },
    {
      "cell_type": "code",
      "source": [
        "# [8] 가설 결과\n",
        "# pvalue가 0.05보다 큰 값 : 0.3104\n",
        "# 귀무가설을 채택해야 함\n",
        "# 즉, groupA의 평균이 groupB의 평균보다 크거나 같다\n",
        "#     groupA의 평균 - groupB의 평균이 0보다 크거나 같다\n",
        "print('기각' if pvalue < 0.05 else '채택')"
      ],
      "metadata": {
        "id": "SR2uSH_yFykq",
        "colab": {
          "base_uri": "https://localhost:8080/"
        },
        "outputId": "8b049277-7e19-4750-877e-6b6fdf961870"
      },
      "execution_count": null,
      "outputs": [
        {
          "output_type": "stream",
          "name": "stdout",
          "text": [
            "채택\n"
          ]
        }
      ]
    },
    {
      "cell_type": "markdown",
      "source": [
        "가설3. alternative='greater'\n",
        "- 귀무가설 : groupA의 평균 - groupB의 평균이 0보다 작거나 같다\n",
        "- 대립가설 : groupA의 평균 - groupB의 평균이 0보다 크다\n",
        "- 귀무가설 : groupA의 평균이 groupB의 평균보다 작거나 같다\n",
        "- 대립가설 : groupA의 평균이 groupB의 평균보다 크다"
      ],
      "metadata": {
        "id": "H5sDZaJVG9ui"
      }
    },
    {
      "cell_type": "code",
      "source": [
        "# [9] two-sample t-test 수행\n",
        "from scipy.stats import ttest_ind\n",
        "\n",
        "statistic, pvalue = ttest_ind(groupA, groupB, alternative = 'greater')\n",
        "print(f'{statistic:.04f}, {pvalue:.04f}') # -0.4988, 0.6896"
      ],
      "metadata": {
        "id": "UoqlmdbPHIoU",
        "colab": {
          "base_uri": "https://localhost:8080/"
        },
        "outputId": "5bccf869-6569-4a7c-f25a-eac0670a51b2"
      },
      "execution_count": null,
      "outputs": [
        {
          "output_type": "stream",
          "name": "stdout",
          "text": [
            "-0.4988, 0.6896\n"
          ]
        }
      ]
    },
    {
      "cell_type": "code",
      "source": [
        "# [10] 가설 결과\n",
        "# pvalue가 0.05보다 큰 값 :0.6896\n",
        "# 귀무가설을 채택해야 함\n",
        "# 즉, groupA의 평균이 groupB의 평균보다 작거나 같다\n",
        "#     groupA의 평균 - groupB의 평균이 0보다 작거나 같다\n",
        "print('기각' if pvalue < 0.05 else '채택')"
      ],
      "metadata": {
        "id": "7KyshE1yHNZu",
        "colab": {
          "base_uri": "https://localhost:8080/"
        },
        "outputId": "3df55be6-ddce-44be-b750-37bfefc68ce3"
      },
      "execution_count": null,
      "outputs": [
        {
          "output_type": "stream",
          "name": "stdout",
          "text": [
            "채택\n"
          ]
        }
      ]
    },
    {
      "cell_type": "markdown",
      "metadata": {
        "id": "NZPSVBEcHGYm"
      },
      "source": [
        "#### 3-3.Paired t-test\n",
        "- 동일한 특성을 같는 두집단 A, B의 평균 차이가 유의미한지 확인하는 용도\n",
        "- 처치 전/후 비교(효과 검정), 한 집단에 대해 두 가지 방법에 대한 차이 검정 등에 사용\n",
        "- 등분산성 검정은 하지 않아도 됨\n",
        "- 두 약 투여에 따른 추가 수면 시간 평균의 차이가 있는가?\n",
        "- stats.ttest_rel: (two RELated samples)"
      ]
    },
    {
      "cell_type": "code",
      "metadata": {
        "colab": {
          "base_uri": "https://localhost:8080/",
          "height": 226
        },
        "id": "Vobl6wqgHGYm",
        "outputId": "d0a24611-e279-4501-e898-f31240856768"
      },
      "source": [
        "# [1] 데이터 가져오기\n",
        "import pandas as pd\n",
        "import numpy as np\n",
        "df2 = pd.read_csv('./data_02/sleep.csv')\n",
        "print(df2.shape)\n",
        "df2.T"
      ],
      "execution_count": null,
      "outputs": [
        {
          "output_type": "stream",
          "name": "stdout",
          "text": [
            "(20, 3)\n"
          ]
        },
        {
          "output_type": "execute_result",
          "data": {
            "text/plain": [
              "        0    1    2    3    4    5    6    7    8     9    10   11   12   13  \\\n",
              "extra  0.7 -1.6 -0.2 -1.2 -0.1  3.4  3.7  0.8  0.0   2.0  1.9  0.8  1.1  0.1   \n",
              "group  1.0  1.0  1.0  1.0  1.0  1.0  1.0  1.0  1.0   1.0  2.0  2.0  2.0  2.0   \n",
              "ID     1.0  2.0  3.0  4.0  5.0  6.0  7.0  8.0  9.0  10.0  1.0  2.0  3.0  4.0   \n",
              "\n",
              "        14   15   16   17   18    19  \n",
              "extra -0.1  4.4  5.5  1.6  4.6   3.4  \n",
              "group  2.0  2.0  2.0  2.0  2.0   2.0  \n",
              "ID     5.0  6.0  7.0  8.0  9.0  10.0  "
            ],
            "text/html": [
              "\n",
              "  <div id=\"df-7be565fe-53e7-471a-b3fd-dabc1f121a86\">\n",
              "    <div class=\"colab-df-container\">\n",
              "      <div>\n",
              "<style scoped>\n",
              "    .dataframe tbody tr th:only-of-type {\n",
              "        vertical-align: middle;\n",
              "    }\n",
              "\n",
              "    .dataframe tbody tr th {\n",
              "        vertical-align: top;\n",
              "    }\n",
              "\n",
              "    .dataframe thead th {\n",
              "        text-align: right;\n",
              "    }\n",
              "</style>\n",
              "<table border=\"1\" class=\"dataframe\">\n",
              "  <thead>\n",
              "    <tr style=\"text-align: right;\">\n",
              "      <th></th>\n",
              "      <th>0</th>\n",
              "      <th>1</th>\n",
              "      <th>2</th>\n",
              "      <th>3</th>\n",
              "      <th>4</th>\n",
              "      <th>5</th>\n",
              "      <th>6</th>\n",
              "      <th>7</th>\n",
              "      <th>8</th>\n",
              "      <th>9</th>\n",
              "      <th>10</th>\n",
              "      <th>11</th>\n",
              "      <th>12</th>\n",
              "      <th>13</th>\n",
              "      <th>14</th>\n",
              "      <th>15</th>\n",
              "      <th>16</th>\n",
              "      <th>17</th>\n",
              "      <th>18</th>\n",
              "      <th>19</th>\n",
              "    </tr>\n",
              "  </thead>\n",
              "  <tbody>\n",
              "    <tr>\n",
              "      <th>extra</th>\n",
              "      <td>0.7</td>\n",
              "      <td>-1.6</td>\n",
              "      <td>-0.2</td>\n",
              "      <td>-1.2</td>\n",
              "      <td>-0.1</td>\n",
              "      <td>3.4</td>\n",
              "      <td>3.7</td>\n",
              "      <td>0.8</td>\n",
              "      <td>0.0</td>\n",
              "      <td>2.0</td>\n",
              "      <td>1.9</td>\n",
              "      <td>0.8</td>\n",
              "      <td>1.1</td>\n",
              "      <td>0.1</td>\n",
              "      <td>-0.1</td>\n",
              "      <td>4.4</td>\n",
              "      <td>5.5</td>\n",
              "      <td>1.6</td>\n",
              "      <td>4.6</td>\n",
              "      <td>3.4</td>\n",
              "    </tr>\n",
              "    <tr>\n",
              "      <th>group</th>\n",
              "      <td>1.0</td>\n",
              "      <td>1.0</td>\n",
              "      <td>1.0</td>\n",
              "      <td>1.0</td>\n",
              "      <td>1.0</td>\n",
              "      <td>1.0</td>\n",
              "      <td>1.0</td>\n",
              "      <td>1.0</td>\n",
              "      <td>1.0</td>\n",
              "      <td>1.0</td>\n",
              "      <td>2.0</td>\n",
              "      <td>2.0</td>\n",
              "      <td>2.0</td>\n",
              "      <td>2.0</td>\n",
              "      <td>2.0</td>\n",
              "      <td>2.0</td>\n",
              "      <td>2.0</td>\n",
              "      <td>2.0</td>\n",
              "      <td>2.0</td>\n",
              "      <td>2.0</td>\n",
              "    </tr>\n",
              "    <tr>\n",
              "      <th>ID</th>\n",
              "      <td>1.0</td>\n",
              "      <td>2.0</td>\n",
              "      <td>3.0</td>\n",
              "      <td>4.0</td>\n",
              "      <td>5.0</td>\n",
              "      <td>6.0</td>\n",
              "      <td>7.0</td>\n",
              "      <td>8.0</td>\n",
              "      <td>9.0</td>\n",
              "      <td>10.0</td>\n",
              "      <td>1.0</td>\n",
              "      <td>2.0</td>\n",
              "      <td>3.0</td>\n",
              "      <td>4.0</td>\n",
              "      <td>5.0</td>\n",
              "      <td>6.0</td>\n",
              "      <td>7.0</td>\n",
              "      <td>8.0</td>\n",
              "      <td>9.0</td>\n",
              "      <td>10.0</td>\n",
              "    </tr>\n",
              "  </tbody>\n",
              "</table>\n",
              "</div>\n",
              "      <button class=\"colab-df-convert\" onclick=\"convertToInteractive('df-7be565fe-53e7-471a-b3fd-dabc1f121a86')\"\n",
              "              title=\"Convert this dataframe to an interactive table.\"\n",
              "              style=\"display:none;\">\n",
              "        \n",
              "  <svg xmlns=\"http://www.w3.org/2000/svg\" height=\"24px\"viewBox=\"0 0 24 24\"\n",
              "       width=\"24px\">\n",
              "    <path d=\"M0 0h24v24H0V0z\" fill=\"none\"/>\n",
              "    <path d=\"M18.56 5.44l.94 2.06.94-2.06 2.06-.94-2.06-.94-.94-2.06-.94 2.06-2.06.94zm-11 1L8.5 8.5l.94-2.06 2.06-.94-2.06-.94L8.5 2.5l-.94 2.06-2.06.94zm10 10l.94 2.06.94-2.06 2.06-.94-2.06-.94-.94-2.06-.94 2.06-2.06.94z\"/><path d=\"M17.41 7.96l-1.37-1.37c-.4-.4-.92-.59-1.43-.59-.52 0-1.04.2-1.43.59L10.3 9.45l-7.72 7.72c-.78.78-.78 2.05 0 2.83L4 21.41c.39.39.9.59 1.41.59.51 0 1.02-.2 1.41-.59l7.78-7.78 2.81-2.81c.8-.78.8-2.07 0-2.86zM5.41 20L4 18.59l7.72-7.72 1.47 1.35L5.41 20z\"/>\n",
              "  </svg>\n",
              "      </button>\n",
              "      \n",
              "  <style>\n",
              "    .colab-df-container {\n",
              "      display:flex;\n",
              "      flex-wrap:wrap;\n",
              "      gap: 12px;\n",
              "    }\n",
              "\n",
              "    .colab-df-convert {\n",
              "      background-color: #E8F0FE;\n",
              "      border: none;\n",
              "      border-radius: 50%;\n",
              "      cursor: pointer;\n",
              "      display: none;\n",
              "      fill: #1967D2;\n",
              "      height: 32px;\n",
              "      padding: 0 0 0 0;\n",
              "      width: 32px;\n",
              "    }\n",
              "\n",
              "    .colab-df-convert:hover {\n",
              "      background-color: #E2EBFA;\n",
              "      box-shadow: 0px 1px 2px rgba(60, 64, 67, 0.3), 0px 1px 3px 1px rgba(60, 64, 67, 0.15);\n",
              "      fill: #174EA6;\n",
              "    }\n",
              "\n",
              "    [theme=dark] .colab-df-convert {\n",
              "      background-color: #3B4455;\n",
              "      fill: #D2E3FC;\n",
              "    }\n",
              "\n",
              "    [theme=dark] .colab-df-convert:hover {\n",
              "      background-color: #434B5C;\n",
              "      box-shadow: 0px 1px 3px 1px rgba(0, 0, 0, 0.15);\n",
              "      filter: drop-shadow(0px 1px 2px rgba(0, 0, 0, 0.3));\n",
              "      fill: #FFFFFF;\n",
              "    }\n",
              "  </style>\n",
              "\n",
              "      <script>\n",
              "        const buttonEl =\n",
              "          document.querySelector('#df-7be565fe-53e7-471a-b3fd-dabc1f121a86 button.colab-df-convert');\n",
              "        buttonEl.style.display =\n",
              "          google.colab.kernel.accessAllowed ? 'block' : 'none';\n",
              "\n",
              "        async function convertToInteractive(key) {\n",
              "          const element = document.querySelector('#df-7be565fe-53e7-471a-b3fd-dabc1f121a86');\n",
              "          const dataTable =\n",
              "            await google.colab.kernel.invokeFunction('convertToInteractive',\n",
              "                                                     [key], {});\n",
              "          if (!dataTable) return;\n",
              "\n",
              "          const docLinkHtml = 'Like what you see? Visit the ' +\n",
              "            '<a target=\"_blank\" href=https://colab.research.google.com/notebooks/data_table.ipynb>data table notebook</a>'\n",
              "            + ' to learn more about interactive tables.';\n",
              "          element.innerHTML = '';\n",
              "          dataTable['output_type'] = 'display_data';\n",
              "          await google.colab.output.renderOutput(dataTable, element);\n",
              "          const docLink = document.createElement('div');\n",
              "          docLink.innerHTML = docLinkHtml;\n",
              "          element.appendChild(docLink);\n",
              "        }\n",
              "      </script>\n",
              "    </div>\n",
              "  </div>\n",
              "  "
            ]
          },
          "metadata": {},
          "execution_count": 142
        }
      ]
    },
    {
      "cell_type": "code",
      "metadata": {
        "id": "RpCVKuGXHGYn"
      },
      "source": [
        "# [2] 그룹 나누기\n",
        "gA = df2.loc[df2.group == 1, 'extra']\n",
        "gB = df2.loc[df2.group == 2, 'extra']"
      ],
      "execution_count": null,
      "outputs": []
    },
    {
      "cell_type": "code",
      "metadata": {
        "id": "whD5_mDRHGYn",
        "colab": {
          "base_uri": "https://localhost:8080/"
        },
        "outputId": "3245c666-5236-4e4f-f11b-fb0f01b1e431"
      },
      "source": [
        "# [3] 정규성 검정(shapiro)\n",
        "from scipy.stats import shapiro\n",
        "\n",
        "statisticA, pvalueA = shapiro(gA)\n",
        "statisticB, pvalueB = shapiro(gB)\n",
        "print(f'{statisticA:.4f} {pvalueA:.4f}') # 0.9258 0.4079\n",
        "print(f'{statisticB:.4f} {pvalueB:.4f}') # 0.9193 0.3511 귀무 채"
      ],
      "execution_count": null,
      "outputs": [
        {
          "output_type": "stream",
          "name": "stdout",
          "text": [
            "0.9258 0.4079\n",
            "0.9193 0.3511\n"
          ]
        }
      ]
    },
    {
      "cell_type": "code",
      "metadata": {
        "id": "hMY2cJL5JnzE",
        "colab": {
          "base_uri": "https://localhost:8080/"
        },
        "outputId": "197d4174-3a9b-433d-b916-bdf52c7606f2"
      },
      "source": [
        "# [4] 정규성 검정(normaltest) - N>=20\n",
        "from scipy.stats import  normaltest\n",
        "\n",
        "normaltest(gA)"
      ],
      "execution_count": null,
      "outputs": [
        {
          "output_type": "stream",
          "name": "stderr",
          "text": [
            "/usr/local/lib/python3.10/dist-packages/scipy/stats/_stats_py.py:1736: UserWarning: kurtosistest only valid for n>=20 ... continuing anyway, n=10\n",
            "  warnings.warn(\"kurtosistest only valid for n>=20 ... continuing \"\n"
          ]
        },
        {
          "output_type": "execute_result",
          "data": {
            "text/plain": [
              "NormaltestResult(statistic=0.8834543265697302, pvalue=0.6429250250799996)"
            ]
          },
          "metadata": {},
          "execution_count": 145
        }
      ]
    },
    {
      "cell_type": "code",
      "metadata": {
        "id": "G836x0RMgoBA",
        "colab": {
          "base_uri": "https://localhost:8080/"
        },
        "outputId": "dab25e56-a3c7-4375-ccac-94120321c96f"
      },
      "source": [
        "# [5] gA와 gB의 평균 구하기\n",
        "\n",
        "meanA, meanB = gA.mean(), gB.mean()\n",
        "print(f'{meanA:.4f}, {meanB:.4f}') # 0.7500, 2.3300"
      ],
      "execution_count": null,
      "outputs": [
        {
          "output_type": "stream",
          "name": "stdout",
          "text": [
            "0.7500, 2.3300\n"
          ]
        }
      ]
    },
    {
      "cell_type": "markdown",
      "source": [
        "가설1. alternative='two-sided'\n",
        "- 귀무가설 : gA의 평균 - gB의 평균이 0과 같다\n",
        "- 대립가설 : gA의 평균 - gB의 평균이 0과 같지 않다\n",
        "- 귀무가설 : gA와 gB의 평균은 같다\n",
        "- 대립가설 : gA와 gB의 평균은 같지 않다"
      ],
      "metadata": {
        "id": "wUHg3DfKJHwE"
      }
    },
    {
      "cell_type": "code",
      "metadata": {
        "id": "WW5j4wDIHGYn",
        "colab": {
          "base_uri": "https://localhost:8080/"
        },
        "outputId": "f036967f-0351-41bd-91bf-b48bb38a10a3"
      },
      "source": [
        "# [6] Paired t-test\n",
        "from scipy.stats import ttest_rel\n",
        "\n",
        "statistic, pvalue = ttest_rel(gA, gB, alternative = 'two-sided')\n",
        "print(f'{statistic:.4f} {pvalue:.4f}') # -4.0621 0.0028"
      ],
      "execution_count": null,
      "outputs": [
        {
          "output_type": "stream",
          "name": "stdout",
          "text": [
            "-4.0621 0.0028\n"
          ]
        }
      ]
    },
    {
      "cell_type": "code",
      "metadata": {
        "id": "dfHPanKqHGYo",
        "colab": {
          "base_uri": "https://localhost:8080/"
        },
        "outputId": "1e2ccb1a-dc07-4e2c-d017-5f3c3032c51b"
      },
      "source": [
        "# [7] 결과해석\n",
        "\n",
        "# pvalue가 0.05보다 작은 값 :0.0028\n",
        "# 귀무가설을 기각해야 함\n",
        "# 즉, gA의 평균 - gB의 평균이 0과 같지 않다\n",
        "#     gA와 gB의 평균은 같지 않다\n",
        "print('기각' if pvalue < 0.05 else '채택')"
      ],
      "execution_count": null,
      "outputs": [
        {
          "output_type": "stream",
          "name": "stdout",
          "text": [
            "기각\n"
          ]
        }
      ]
    },
    {
      "cell_type": "markdown",
      "source": [
        "가설2. alternative='less'\n",
        "- 귀무가설 : gA의 평균 - gB의 평균이 0보다 크거나 같다\n",
        "- 대립가설 : gA의 평균 - gB의 평균이 0보다 작다\n",
        "- 귀무가설 : gA의 평균이 gB의 평균보다 크거나 같다\n",
        "- 대립가설 : gA의 평균이 gB의 평균보다 작다"
      ],
      "metadata": {
        "id": "XuSOMrq_86wG"
      }
    },
    {
      "cell_type": "markdown",
      "source": [
        "The t-statistic is calculated as np.mean(a - b)/se, where se is the standard error. Therefore, the t-statistic will be positive when the sample mean of a - b is greater than zero and negative when the sample mean of a - b is less than zero"
      ],
      "metadata": {
        "id": "VCS84_w6Y-eP"
      }
    },
    {
      "cell_type": "code",
      "source": [
        "# [8] Paired t-test\n",
        "from scipy.stats import ttest_rel\n",
        "\n",
        "statistic, pvalue = ttest_rel(gA, gB, alternative = 'less')\n",
        "print(f'{statistic:.4f} {pvalue:.4f}') # -4.0621 0.0014"
      ],
      "metadata": {
        "id": "ZojwRy-GOSAw",
        "colab": {
          "base_uri": "https://localhost:8080/"
        },
        "outputId": "88f16191-085b-4e88-9f8b-0d48bf24a072"
      },
      "execution_count": null,
      "outputs": [
        {
          "output_type": "stream",
          "name": "stdout",
          "text": [
            "-4.0621 0.0014\n"
          ]
        }
      ]
    },
    {
      "cell_type": "code",
      "source": [
        "# [9] 결과해석\n",
        "\n",
        "# pvalue가 0.05보다 작은 값 :0.0014\n",
        "# 귀무가설을 기각해야 함\n",
        "# 즉, gA의 평균 - gB의 평균이 0보다 크거나 같다\n",
        "#     gA의 평균이 gB의 평균보다 작다\n",
        "print('기각' if pvalue < 0.05 else '채택')"
      ],
      "metadata": {
        "id": "bEL_KBiBZCvM",
        "colab": {
          "base_uri": "https://localhost:8080/"
        },
        "outputId": "5976ba89-aabb-4d79-89e0-881d6539a9f4"
      },
      "execution_count": null,
      "outputs": [
        {
          "output_type": "stream",
          "name": "stdout",
          "text": [
            "기각\n"
          ]
        }
      ]
    },
    {
      "cell_type": "markdown",
      "source": [
        "가설3. alternative='greater'\n",
        "- 귀무가설 : gA의 평균 - gB의 평균이 0보다 작거나 같다\n",
        "- 대립가설 : gA의 평균 - gB의 평균이 0보다 크다\n",
        "- 귀무가설 : gA의 평균이 gB의 평균보다 작거나 같다\n",
        "- 대립가설 : gA의 평균이 gB의 평균보다 크다"
      ],
      "metadata": {
        "id": "-Fwwj6O6ZWVP"
      }
    },
    {
      "cell_type": "code",
      "source": [
        "# [10] Paired t-test\n",
        "from scipy.stats import ttest_rel\n",
        "\n",
        "statistic, pvalue = ttest_rel(gA, gB, alternative = 'greater')\n",
        "print(f'{statistic:.4f} {pvalue:.4f}') # -4.0621 0.9986"
      ],
      "metadata": {
        "id": "X54tZ-YXZgei",
        "colab": {
          "base_uri": "https://localhost:8080/"
        },
        "outputId": "61ffef0d-ad09-4645-bae2-792e87b86c44"
      },
      "execution_count": null,
      "outputs": [
        {
          "output_type": "stream",
          "name": "stdout",
          "text": [
            "-4.0621 0.9986\n"
          ]
        }
      ]
    },
    {
      "cell_type": "code",
      "source": [
        "# [11] 결과해석\n",
        "\n",
        "# pvalue가 0.05보다 작은 값 :0.9986\n",
        "# 귀무가설을 채택해야 함\n",
        "# 즉, gA의 평균 - gB의 평균이 0보다 크다\n",
        "#     gA의 평균이 gB의 평균보다 크다\n",
        "print('기각' if pvalue < 0.05 else '채택')"
      ],
      "metadata": {
        "id": "REUw5nvhZlI-",
        "colab": {
          "base_uri": "https://localhost:8080/"
        },
        "outputId": "03c470dc-8779-4782-a165-a1dbcd4c11f8"
      },
      "execution_count": null,
      "outputs": [
        {
          "output_type": "stream",
          "name": "stdout",
          "text": [
            "채택\n"
          ]
        }
      ]
    },
    {
      "cell_type": "markdown",
      "source": [
        "#### 3-4.분류 모델에서 활용"
      ],
      "metadata": {
        "id": "Z7RNfAZ9aUIk"
      }
    },
    {
      "cell_type": "code",
      "source": [
        "import pandas as pd\n",
        "data = pd.read_csv('https://raw.githubusercontent.com/Soyoung-Yoon/bigdata/main/1st_Train.csv')\n",
        "data.head(2)"
      ],
      "metadata": {
        "id": "bDz_WRXS87QI",
        "colab": {
          "base_uri": "https://localhost:8080/",
          "height": 176
        },
        "outputId": "61061473-70df-4e2c-dedc-76548b7095b0"
      },
      "execution_count": null,
      "outputs": [
        {
          "output_type": "execute_result",
          "data": {
            "text/plain": [
              "   ID Warehouse_block Mode_of_Shipment  Customer_care_calls  Customer_rating  \\\n",
              "0   1               D           Flight                    4                2   \n",
              "1   2               F           Flight                    4                5   \n",
              "\n",
              "   Cost_of_the_Product  Prior_purchases Product_importance Gender  \\\n",
              "0                  177                3                low      F   \n",
              "1                  216                2                low      M   \n",
              "\n",
              "   Discount_offered  Weight_in_gms  Reached.on.Time_Y.N  \n",
              "0                44           1233                    1  \n",
              "1                59           3088                    1  "
            ],
            "text/html": [
              "\n",
              "  <div id=\"df-e7f8799c-2750-466e-978d-f2a964b08283\">\n",
              "    <div class=\"colab-df-container\">\n",
              "      <div>\n",
              "<style scoped>\n",
              "    .dataframe tbody tr th:only-of-type {\n",
              "        vertical-align: middle;\n",
              "    }\n",
              "\n",
              "    .dataframe tbody tr th {\n",
              "        vertical-align: top;\n",
              "    }\n",
              "\n",
              "    .dataframe thead th {\n",
              "        text-align: right;\n",
              "    }\n",
              "</style>\n",
              "<table border=\"1\" class=\"dataframe\">\n",
              "  <thead>\n",
              "    <tr style=\"text-align: right;\">\n",
              "      <th></th>\n",
              "      <th>ID</th>\n",
              "      <th>Warehouse_block</th>\n",
              "      <th>Mode_of_Shipment</th>\n",
              "      <th>Customer_care_calls</th>\n",
              "      <th>Customer_rating</th>\n",
              "      <th>Cost_of_the_Product</th>\n",
              "      <th>Prior_purchases</th>\n",
              "      <th>Product_importance</th>\n",
              "      <th>Gender</th>\n",
              "      <th>Discount_offered</th>\n",
              "      <th>Weight_in_gms</th>\n",
              "      <th>Reached.on.Time_Y.N</th>\n",
              "    </tr>\n",
              "  </thead>\n",
              "  <tbody>\n",
              "    <tr>\n",
              "      <th>0</th>\n",
              "      <td>1</td>\n",
              "      <td>D</td>\n",
              "      <td>Flight</td>\n",
              "      <td>4</td>\n",
              "      <td>2</td>\n",
              "      <td>177</td>\n",
              "      <td>3</td>\n",
              "      <td>low</td>\n",
              "      <td>F</td>\n",
              "      <td>44</td>\n",
              "      <td>1233</td>\n",
              "      <td>1</td>\n",
              "    </tr>\n",
              "    <tr>\n",
              "      <th>1</th>\n",
              "      <td>2</td>\n",
              "      <td>F</td>\n",
              "      <td>Flight</td>\n",
              "      <td>4</td>\n",
              "      <td>5</td>\n",
              "      <td>216</td>\n",
              "      <td>2</td>\n",
              "      <td>low</td>\n",
              "      <td>M</td>\n",
              "      <td>59</td>\n",
              "      <td>3088</td>\n",
              "      <td>1</td>\n",
              "    </tr>\n",
              "  </tbody>\n",
              "</table>\n",
              "</div>\n",
              "      <button class=\"colab-df-convert\" onclick=\"convertToInteractive('df-e7f8799c-2750-466e-978d-f2a964b08283')\"\n",
              "              title=\"Convert this dataframe to an interactive table.\"\n",
              "              style=\"display:none;\">\n",
              "        \n",
              "  <svg xmlns=\"http://www.w3.org/2000/svg\" height=\"24px\"viewBox=\"0 0 24 24\"\n",
              "       width=\"24px\">\n",
              "    <path d=\"M0 0h24v24H0V0z\" fill=\"none\"/>\n",
              "    <path d=\"M18.56 5.44l.94 2.06.94-2.06 2.06-.94-2.06-.94-.94-2.06-.94 2.06-2.06.94zm-11 1L8.5 8.5l.94-2.06 2.06-.94-2.06-.94L8.5 2.5l-.94 2.06-2.06.94zm10 10l.94 2.06.94-2.06 2.06-.94-2.06-.94-.94-2.06-.94 2.06-2.06.94z\"/><path d=\"M17.41 7.96l-1.37-1.37c-.4-.4-.92-.59-1.43-.59-.52 0-1.04.2-1.43.59L10.3 9.45l-7.72 7.72c-.78.78-.78 2.05 0 2.83L4 21.41c.39.39.9.59 1.41.59.51 0 1.02-.2 1.41-.59l7.78-7.78 2.81-2.81c.8-.78.8-2.07 0-2.86zM5.41 20L4 18.59l7.72-7.72 1.47 1.35L5.41 20z\"/>\n",
              "  </svg>\n",
              "      </button>\n",
              "      \n",
              "  <style>\n",
              "    .colab-df-container {\n",
              "      display:flex;\n",
              "      flex-wrap:wrap;\n",
              "      gap: 12px;\n",
              "    }\n",
              "\n",
              "    .colab-df-convert {\n",
              "      background-color: #E8F0FE;\n",
              "      border: none;\n",
              "      border-radius: 50%;\n",
              "      cursor: pointer;\n",
              "      display: none;\n",
              "      fill: #1967D2;\n",
              "      height: 32px;\n",
              "      padding: 0 0 0 0;\n",
              "      width: 32px;\n",
              "    }\n",
              "\n",
              "    .colab-df-convert:hover {\n",
              "      background-color: #E2EBFA;\n",
              "      box-shadow: 0px 1px 2px rgba(60, 64, 67, 0.3), 0px 1px 3px 1px rgba(60, 64, 67, 0.15);\n",
              "      fill: #174EA6;\n",
              "    }\n",
              "\n",
              "    [theme=dark] .colab-df-convert {\n",
              "      background-color: #3B4455;\n",
              "      fill: #D2E3FC;\n",
              "    }\n",
              "\n",
              "    [theme=dark] .colab-df-convert:hover {\n",
              "      background-color: #434B5C;\n",
              "      box-shadow: 0px 1px 3px 1px rgba(0, 0, 0, 0.15);\n",
              "      filter: drop-shadow(0px 1px 2px rgba(0, 0, 0, 0.3));\n",
              "      fill: #FFFFFF;\n",
              "    }\n",
              "  </style>\n",
              "\n",
              "      <script>\n",
              "        const buttonEl =\n",
              "          document.querySelector('#df-e7f8799c-2750-466e-978d-f2a964b08283 button.colab-df-convert');\n",
              "        buttonEl.style.display =\n",
              "          google.colab.kernel.accessAllowed ? 'block' : 'none';\n",
              "\n",
              "        async function convertToInteractive(key) {\n",
              "          const element = document.querySelector('#df-e7f8799c-2750-466e-978d-f2a964b08283');\n",
              "          const dataTable =\n",
              "            await google.colab.kernel.invokeFunction('convertToInteractive',\n",
              "                                                     [key], {});\n",
              "          if (!dataTable) return;\n",
              "\n",
              "          const docLinkHtml = 'Like what you see? Visit the ' +\n",
              "            '<a target=\"_blank\" href=https://colab.research.google.com/notebooks/data_table.ipynb>data table notebook</a>'\n",
              "            + ' to learn more about interactive tables.';\n",
              "          element.innerHTML = '';\n",
              "          dataTable['output_type'] = 'display_data';\n",
              "          await google.colab.output.renderOutput(dataTable, element);\n",
              "          const docLink = document.createElement('div');\n",
              "          docLink.innerHTML = docLinkHtml;\n",
              "          element.appendChild(docLink);\n",
              "        }\n",
              "      </script>\n",
              "    </div>\n",
              "  </div>\n",
              "  "
            ]
          },
          "metadata": {},
          "execution_count": 153
        }
      ]
    },
    {
      "cell_type": "markdown",
      "source": [
        "1개 연속형 변수, 1개 범주형 변수 (2개 범주)\n",
        "- 범주별로 연속형 변수의 평균 차이가 있는지 검정한다"
      ],
      "metadata": {
        "id": "dd1RjXQBklQt"
      }
    },
    {
      "cell_type": "markdown",
      "source": [
        "**정규성을 만족하지 않는 경우 Wilcoxon rank sum test, Mann-Whitney U test를 사용하는 것이 좋습니다.  여기에서는 t-test를 사용했습니다.**\n",
        "**정규성을 만족하지 않는 경우 등분산성 검정의 경우 levene을 사용하는 것이 좋습니다.**"
      ],
      "metadata": {
        "id": "2FO4SFlw5Tya"
      }
    },
    {
      "cell_type": "code",
      "source": [
        "# t-test\n",
        "# 연속형 변수 : 'Cost_of_the_Product', 'Weight_in_gms', 'Discount_offered'\n",
        "# 범주형 변수 : 'Reached.on.Time_Y.N'\n",
        "\n",
        "#                       정규성           등분산\n",
        "from scipy.stats import shapiro, kstest, bartlett\n",
        "from scipy.stats import ttest_ind\n",
        "\n",
        "# [1] 그룹 나누기\n",
        "feature = 'Cost_of_the_Product'\n",
        "condition_0 = data['Reached.on.Time_Y.N'] == 0\n",
        "condition_1 = data['Reached.on.Time_Y.N'] == 1\n",
        "group0 = data.loc[condition_0, feature]\n",
        "group1 = data.loc[condition_1, feature]\n",
        "print(feature, group0.shape, group1.shape)\n",
        "\n",
        "# [2] 정규성, 등분산성 검정\n",
        "statistic, pvalue = shapiro(group0)\n",
        "print(f'shapiro - statistic : {statistic:.4f} pvalue : {pvalue:.4f}') # statistic : 0.9719 pvalue : 0.0000 -> p가 0.05 이하라서 정규성을 갖지 않음\n",
        "statistic, pvalue = shapiro(group1)\n",
        "print(f'shapiro - statistic : {statistic:.4f} pvalue : {pvalue:.4f}') # statistic : 0.9723 pvalue : 0.0000 -> p가 0.05 이하라서 정규성을 갖지 않음\n",
        "\n",
        "statistic, pvalue = kstest(group0, 'norm')\n",
        "print(f'kstest - statistic : {statistic:.4f} pvalue : {pvalue:.4f}') # statistic : 1.0000 pvalue : 0.0000 -> p가 0.05 이하라서 정규성을 갖지 않음\n",
        "statistic, pvalue = kstest(group1,  'norm')\n",
        "print(f'kstest - statistic : {statistic:.4f} pvalue : {pvalue:.4f}') # statistic : 1.0000 pvalue : 0.0000 -> p가 0.05 이하라서 정규성을 갖지 않음\n",
        "\n",
        "# 등분산성 검정\n",
        "statistic, pvalue = bartlett(group0, group1)\n",
        "print(f'bartlett - statistic : {statistic:.4f} pvalue : {pvalue:.4f}') # statistic : 0.2039 pvalue : 0.6516 -> 0.05 이상이라서 등분산성을 만족한다\n",
        "\n",
        "# [3] ttest_ind\n",
        "statistic, pvalue = ttest_ind(group0, group1)\n",
        "print(f'ttest_ind - statistic : {statistic:.4f} pvalue : {pvalue:.4f}') # statistic : 7.7378  pvalue : 0.0000\n",
        "\n",
        "# [4] 결론\n",
        "# pvalue가 0.05보다 작기 때문에 귀무가설 기각\n",
        "# 두 그룹의 평균이 다르\n",
        "# statistic : 7.7378 -> group0의 평균이 더 크다\n",
        "mean_g0, mean_g1 = group0.mean(), group1.mean()\n",
        "print(f'{mean_g0:.4f}, {mean_g1:.4f}')\n",
        "#        214.4986,      207.2892"
      ],
      "metadata": {
        "id": "dOX9QW4KkzoV",
        "colab": {
          "base_uri": "https://localhost:8080/"
        },
        "outputId": "c5301813-e277-4d4b-c698-8bf410b24bb1"
      },
      "execution_count": null,
      "outputs": [
        {
          "output_type": "stream",
          "name": "stdout",
          "text": [
            "Cost_of_the_Product (4436,) (6563,)\n",
            "shapiro - statistic : 0.9719 pvalue : 0.0000\n",
            "shapiro - statistic : 0.9723 pvalue : 0.0000\n",
            "kstest - statistic : 1.0000 pvalue : 0.0000\n",
            "kstest - statistic : 1.0000 pvalue : 0.0000\n",
            "bartlett - statistic : 0.2039 pvalue : 0.6516\n",
            "ttest_ind - statistic : 7.7378 pvalue : 0.0000\n",
            "214.4986, 207.2892\n"
          ]
        },
        {
          "output_type": "stream",
          "name": "stderr",
          "text": [
            "/usr/local/lib/python3.10/dist-packages/scipy/stats/_morestats.py:1816: UserWarning: p-value may not be accurate for N > 5000.\n",
            "  warnings.warn(\"p-value may not be accurate for N > 5000.\")\n"
          ]
        }
      ]
    },
    {
      "cell_type": "code",
      "source": [
        "def my_ttest_ind(data, feature, target):\n",
        "  #                    연속형   범주형\n",
        "    group0 = data.loc[data[target] == 0, feature]\n",
        "    group1 = data.loc[data[target] == 1, feature]\n",
        "    mean_g0, mean_g1 = group0.mean(), group1.mean()\n",
        "    print(f'{mean_g0:.4f}, {mean_g1:.4f}')\n",
        "    _, pvalue = ttest_ind(group0, group1)\n",
        "    print(f'ttest_ind - p-value:{pvalue:.4f}')\n",
        "    print('유의미' if pvalue < 0.05 else '의미가 없다')\n",
        "    print()\n",
        "\n",
        "# 'Cost_of_the_Product', 'Weight_in_gms', 'Discount_offered'\n",
        "for feature in ['Cost_of_the_Product', 'Weight_in_gms', 'Discount_offered']:\n",
        "    print(feature)\n",
        "    my_ttest_ind(data, feature, 'Reached.on.Time_Y.N')"
      ],
      "metadata": {
        "id": "GM6GHFFykA2_",
        "colab": {
          "base_uri": "https://localhost:8080/"
        },
        "outputId": "0702921f-126c-4810-c4da-8a8950bcde07"
      },
      "execution_count": null,
      "outputs": [
        {
          "output_type": "stream",
          "name": "stdout",
          "text": [
            "Cost_of_the_Product\n",
            "214.4986, 207.2892\n",
            "ttest_ind - p-value:0.0000\n",
            "유의미\n",
            "\n",
            "Weight_in_gms\n",
            "4168.6684, 3272.6401\n",
            "ttest_ind - p-value:0.0000\n",
            "유의미\n",
            "\n",
            "Discount_offered\n",
            "5.5460, 18.6637\n",
            "ttest_ind - p-value:0.0000\n",
            "유의미\n",
            "\n"
          ]
        }
      ]
    },
    {
      "cell_type": "markdown",
      "source": [
        "#### 3-5.모평균에 관한 t-test\n",
        "A 회사에서 판매하는 모니터는 평균 5개 보다 적은 불량화소를 포함한다고 주장한다. 이 주장을 판단하기 위해서 데이터를 수집했으며, 주어진 데이터(data_02/defective.csv)에는 모니터 25개에서 조사한 불량화소 개수가 저장되어 있다.\n",
        "- 불량화소의 개수는 정규분포를 따른다고 할 때, 이 주장의 타당성 여부를 유의수준 5%에서 검정하여라\n",
        "- 𝑯_𝟎  : 𝝁≥𝟓, 𝑯_𝟏  : 𝝁<𝟓, defective_pixel :  불량화소 개수\n",
        "- (a) 불량화소의 표본 평균을 구하시오 (반올림하여 소수 둘째자리까지 계산)\n",
        "- (b) 위의 가설을 검정하기 위한 검정통계량을 입력하시오.(반올림하여 소수 넷째자리까지 계산)\n",
        "- (c) 위의 통계량에 대한 p-값을 구하여 입력하시오. (반올림하여 소수 넷째자리까지 계산)\n",
        "- (d) 유의수준 0.05 하에서 가설검정의 결과를 (채택/기각) 중 하나를 선택하여 입력하시오.\n",
        "\n"
      ],
      "metadata": {
        "id": "XMzOwntaoQBB"
      }
    },
    {
      "cell_type": "code",
      "source": [
        "# 귀무가설 : A 회사에서 판매하는 모니터의 불량화소 평균이 5개 보다 크거나 같다.\n",
        "# 대립가설 : A 회사에서 판매하는 모니터의 불량화소 평균이 5개 보다 적다. <- 문제에서 주장하는 바\n",
        "\n",
        "import pandas as pd\n",
        "from scipy.stats import ttest_1samp\n",
        "\n",
        "data = pd.read_csv('/content/data_02/defective.csv')\n",
        "# print(data.shape)\n",
        "# print(data.head())\n",
        "print(round(data['defective_pixel'].mean(), 2))\n",
        "\n",
        "statistics, pvalue = ttest_1samp(data['defective_pixel'], 5,                alternative = 'two-sided')\n",
        "#                                                        평균과 근접한 값\n",
        "print(round(statistics, 4))\n",
        "print(round(pvalue, 4))\n",
        "print('기각' if pvalue < 0.05 else '채택')"
      ],
      "metadata": {
        "id": "Jf3jqjhnosLW",
        "colab": {
          "base_uri": "https://localhost:8080/"
        },
        "outputId": "a83aa3b4-54da-4666-e9ec-4877eb6f0084"
      },
      "execution_count": null,
      "outputs": [
        {
          "output_type": "stream",
          "name": "stdout",
          "text": [
            "4.84\n",
            "-1.4446\n",
            "0.1615\n",
            "채택\n"
          ]
        }
      ]
    },
    {
      "cell_type": "markdown",
      "source": [
        "#### 3-6.작업3유형 예시문제\n",
        "주어진 데이터(data_02/blood_pressure.csv)에는 고혈압 환자 120명의 치료 전후의 혈압이 저장되어 있다. 해당 치료가 효과가 있는지 (즉, 치료 후의 혈압이 감소했는지) 쌍체표본 t-검정(paired t-test)를 통해 답하고자 한다. 가설은 아래와 같다\n",
        "- 𝑯_𝟎  : 𝝁_𝒅≥𝟎, 𝑯_𝟏  : 𝝁_𝒅<𝟎  (𝝁_𝒅 : 치료 후 혈압 – 치료 전 혈압)의 평균\n",
        "- bp_before : 치료 전 혈압, bp_after : 치료 후 혈압\n",
        "- (a) ud의 표본 평균을 구하시오 (반올림하여 소수 둘째자리까지 계산)\n",
        "- (b) 위의 가설을 검정하기 위한 검정통계량을 입력하시오.(반올림하여 소수 넷째자리까지 계산)\n",
        "- (c) 위의 통계량에 대한 p-값을 구하여 입력하시오. (반올림하여 소수 넷째자리까지 계산)\n",
        "- (d) 유의수준 0.05 하에서 가설검정의 결과를 (채택/기각) 중 하나를 선택하여 입력하시오.\n"
      ],
      "metadata": {
        "id": "L9R1giT3oudo"
      }
    },
    {
      "cell_type": "code",
      "source": [
        "import pandas as pd\n",
        "from scipy.stats import ttest_rel\n",
        "\n",
        "# 데이터 확인\n",
        "data = pd.read_csv('/content/data_02/blood_pressure.csv')\n",
        "print(data.shape)\n",
        "print(data.head(3))\n",
        "\n",
        "# 귀무가설: 치료 후 혈압과 치료 전 혈압의 차가 0보다 크거나 같다.\n",
        "# 대립가설: 치료 후 혈압과 치료 전 혈압의 차가 0보다 작다\n",
        "# 귀무가설: 치료 후 혈압이 치료 전 혈압보다 크거나 같다.\n",
        "# 대립가설: 치료 후 혈압이 치료 전 혈압보다 작다\n",
        "\n",
        "data['ud'] = data['bp_after'] - data['bp_before']\n",
        "print(round(data['ud'].mean(), 2)) # -5.09\n",
        "statistic, pvalue = ttest_rel(data['bp_after'], data['bp_before'], alternative = 'less')\n",
        "\n",
        "print(round(statistic, 4))\n",
        "print(round(pvalue, 4))\n",
        "print('기각' if pvalue < 0.05 else '채택')"
      ],
      "metadata": {
        "id": "05SNZ_Lko82v",
        "colab": {
          "base_uri": "https://localhost:8080/"
        },
        "outputId": "3690712c-6eca-4d5d-d31f-b3aa1e8be2be"
      },
      "execution_count": null,
      "outputs": [
        {
          "output_type": "stream",
          "name": "stdout",
          "text": [
            "(120, 5)\n",
            "   patient   sex agegrp  bp_before  bp_after\n",
            "0        1  Male  30-45        143       153\n",
            "1        2  Male  30-45        163       170\n",
            "2        3  Male  30-45        153       168\n",
            "-5.09\n",
            "-3.3372\n",
            "0.0006\n",
            "기각\n"
          ]
        }
      ]
    },
    {
      "cell_type": "markdown",
      "source": [
        "### 4.ANOVA(분산 분석)\n",
        "- t-test는 1개 또는 2개의 집단에 대해 평균 검정\n",
        "- 독립변수 – 범주형, 종속변수 – 연속형으로 하는, 3개 이상의 집단 평균을 비교하는 모수 추론 방법\n",
        "- \"집단간분산\" /\"집단내분산\"    기반의 F 분포를 이용해 가설을 검정하며 정규성, 등분산성, 독립성을 가정함\n",
        "- \"집단 간 분산\"과 \"집단 내 분산\"을 이용해 분석하는 방법이어서 \"분산분석\"이라고 함\n",
        "- 귀무가설 기각 시 구체적인 차이를 파악하기 위해, 사후 검정(Post Hoc test)이 필요함\n",
        "- 등분산/동일 크기 표본 - Tukey검정, 등분산/다른 크기 표본 – Scheff 검정, Fisher’s LSD 검정 등이 있음\n"
      ],
      "metadata": {
        "id": "mQgLG3DE9DqM"
      }
    },
    {
      "cell_type": "code",
      "metadata": {
        "id": "hmmbxRCLuseB"
      },
      "source": [
        "#출처 : https://partrita.github.io/posts/ANOVA-python/\n",
        "#https://github.com/thomas-haslwanter/statsintro_python/blob/master/ipynb/8_anovaOneway.ipynb\n",
        "#https://ggbaker.ca/data-science/content/stats-tests.html\n",
        "#https://lunch-box.tistory.com/76?category=873052"
      ],
      "execution_count": null,
      "outputs": []
    },
    {
      "cell_type": "markdown",
      "metadata": {
        "id": "ktJVnUfnuseD"
      },
      "source": [
        "#### 4-1.분산의 중요성\n",
        "- 평균값은 동일하지만 분산 값이 다름으로 인해 전체적인 데이터의 모습이 완전히 달라 보임\n",
        "- 분산이 클수록 집단의 평균값의 차이가 무의미해진다\n",
        "- **집단간 평균값의 분산이 클수록, 집단내 분산이 작아질 수록 평균의 차이가 분명해진다.**\n"
      ]
    },
    {
      "cell_type": "code",
      "metadata": {
        "id": "tqaEbxDnuseC"
      },
      "source": [
        "from scipy.stats import norm\n",
        "import pandas as pd\n",
        "import matplotlib.pyplot as plt\n",
        "import numpy as np\n",
        "\n",
        "def draw_graph(std):\n",
        "    centers = [5, 5.3, 4.5]\n",
        "    colors = 'brg'\n",
        "    size = 100\n",
        "    plt.figure(figsize=(4,3))\n",
        "    for i in range(3):\n",
        "        x = norm(centers[i], std).rvs(size)\n",
        "        y = np.arange(size) + i*size\n",
        "        plt.plot(x, y, '.', color=colors[i])\n",
        "    plt.show()"
      ],
      "execution_count": null,
      "outputs": []
    },
    {
      "cell_type": "code",
      "source": [
        "draw_graph(std=0.1)\n",
        "#         표준편차\n",
        "# 분산이 작다 -> 평균에 관찰값들이 모여있음\n",
        "# 분산이 크다 -> 평균에 관찰값들이 퍼져있음"
      ],
      "metadata": {
        "colab": {
          "base_uri": "https://localhost:8080/",
          "height": 291
        },
        "id": "aOlshwop6xM7",
        "outputId": "e12722da-5326-48da-8395-596d309a2f4a"
      },
      "execution_count": null,
      "outputs": [
        {
          "output_type": "display_data",
          "data": {
            "text/plain": [
              "<Figure size 400x300 with 1 Axes>"
            ],
            "image/png": "[encoded data removed]"
          },
          "metadata": {}
        }
      ]
    },
    {
      "cell_type": "code",
      "metadata": {
        "colab": {
          "base_uri": "https://localhost:8080/",
          "height": 291
        },
        "id": "ufztcNxHuseD",
        "outputId": "adf8876f-115d-40d1-92e2-6d0828817b66"
      },
      "source": [
        "draw_graph(std=1)"
      ],
      "execution_count": null,
      "outputs": [
        {
          "output_type": "display_data",
          "data": {
            "text/plain": [
              "<Figure size 400x300 with 1 Axes>"
            ],
            "image/png": "[encoded data removed]"
          },
          "metadata": {}
        }
      ]
    },
    {
      "cell_type": "markdown",
      "metadata": {
        "id": "OkhMN0ZjuseF"
      },
      "source": [
        "#### 4-2.일원분산분석(One-way ANOVA)\n",
        "- 독립변수 : 범주형 1개, 종속변수 : 연속형\n",
        "- 독립변수의 변화가 종속변수에 미치는 영향을 보기 위해 사용\n",
        "- 가정 : 독립성, 정규성, 등분산성\n",
        "- scipy.stats이나 statsmodel 라이브러리를 이용"
      ]
    },
    {
      "cell_type": "code",
      "metadata": {
        "id": "Gzwipc4fuseF"
      },
      "source": [
        "# 예시 데이터 설명\n",
        "# iris의 target이 0 : 'setosa', 1 : 'versicolor', 2: 'virginica' 품종\n",
        "# 독립변수 :'sepal length (cm)', 'sepal width (cm)', 'petal length (cm)', 'petal width (cm)'\n",
        "# 품종별 sepal, petal의 length, width가 차이를 보일까?에 anova 사용"
      ],
      "execution_count": null,
      "outputs": []
    },
    {
      "cell_type": "code",
      "source": [
        "# [1] 데이터 가져오기\n",
        "import pandas as pd\n",
        "\n",
        "iris = pd.read_csv('bigdata/iris_data.csv')\n",
        "print(iris.head())\n",
        "iris.columns = ['sepal_length', 'sepal_width',\n",
        "                'petal_length', 'petal_width', 'target']\n",
        "iris.columns"
      ],
      "metadata": {
        "colab": {
          "base_uri": "https://localhost:8080/"
        },
        "id": "2YU8-q5bsMu7",
        "outputId": "3fec021e-17ea-4912-a504-d9eb5e7f1627"
      },
      "execution_count": null,
      "outputs": [
        {
          "output_type": "stream",
          "name": "stdout",
          "text": [
            "   sepal length (cm)  sepal width (cm)  petal length (cm)  petal width (cm)  \\\n",
            "0                5.1               3.5                1.4               0.2   \n",
            "1                4.9               3.0                1.4               0.2   \n",
            "2                4.7               3.2                1.3               0.2   \n",
            "3                4.6               3.1                1.5               0.2   \n",
            "4                5.0               3.6                1.4               0.2   \n",
            "\n",
            "   target  \n",
            "0       0  \n",
            "1       0  \n",
            "2       0  \n",
            "3       0  \n",
            "4       0  \n"
          ]
        },
        {
          "output_type": "execute_result",
          "data": {
            "text/plain": [
              "Index(['sepal_length', 'sepal_width', 'petal_length', 'petal_width', 'target'], dtype='object')"
            ]
          },
          "metadata": {},
          "execution_count": 163
        }
      ]
    },
    {
      "cell_type": "code",
      "source": [
        "# [2-1] 품종별 각 변수의 평균 확인\n",
        "iris.groupby('target').mean()"
      ],
      "metadata": {
        "id": "5bYE6EjS8DQt",
        "colab": {
          "base_uri": "https://localhost:8080/",
          "height": 175
        },
        "outputId": "e56fb595-3937-4bb1-9c18-f883864c5df4"
      },
      "execution_count": null,
      "outputs": [
        {
          "output_type": "execute_result",
          "data": {
            "text/plain": [
              "        sepal_length  sepal_width  petal_length  petal_width\n",
              "target                                                      \n",
              "0              5.006        3.428         1.462        0.246\n",
              "1              5.936        2.770         4.260        1.326\n",
              "2              6.588        2.974         5.552        2.026"
            ],
            "text/html": [
              "\n",
              "  <div id=\"df-17b9ae24-6cf5-44dc-af20-5b350e30c0e0\">\n",
              "    <div class=\"colab-df-container\">\n",
              "      <div>\n",
              "<style scoped>\n",
              "    .dataframe tbody tr th:only-of-type {\n",
              "        vertical-align: middle;\n",
              "    }\n",
              "\n",
              "    .dataframe tbody tr th {\n",
              "        vertical-align: top;\n",
              "    }\n",
              "\n",
              "    .dataframe thead th {\n",
              "        text-align: right;\n",
              "    }\n",
              "</style>\n",
              "<table border=\"1\" class=\"dataframe\">\n",
              "  <thead>\n",
              "    <tr style=\"text-align: right;\">\n",
              "      <th></th>\n",
              "      <th>sepal_length</th>\n",
              "      <th>sepal_width</th>\n",
              "      <th>petal_length</th>\n",
              "      <th>petal_width</th>\n",
              "    </tr>\n",
              "    <tr>\n",
              "      <th>target</th>\n",
              "      <th></th>\n",
              "      <th></th>\n",
              "      <th></th>\n",
              "      <th></th>\n",
              "    </tr>\n",
              "  </thead>\n",
              "  <tbody>\n",
              "    <tr>\n",
              "      <th>0</th>\n",
              "      <td>5.006</td>\n",
              "      <td>3.428</td>\n",
              "      <td>1.462</td>\n",
              "      <td>0.246</td>\n",
              "    </tr>\n",
              "    <tr>\n",
              "      <th>1</th>\n",
              "      <td>5.936</td>\n",
              "      <td>2.770</td>\n",
              "      <td>4.260</td>\n",
              "      <td>1.326</td>\n",
              "    </tr>\n",
              "    <tr>\n",
              "      <th>2</th>\n",
              "      <td>6.588</td>\n",
              "      <td>2.974</td>\n",
              "      <td>5.552</td>\n",
              "      <td>2.026</td>\n",
              "    </tr>\n",
              "  </tbody>\n",
              "</table>\n",
              "</div>\n",
              "      <button class=\"colab-df-convert\" onclick=\"convertToInteractive('df-17b9ae24-6cf5-44dc-af20-5b350e30c0e0')\"\n",
              "              title=\"Convert this dataframe to an interactive table.\"\n",
              "              style=\"display:none;\">\n",
              "        \n",
              "  <svg xmlns=\"http://www.w3.org/2000/svg\" height=\"24px\"viewBox=\"0 0 24 24\"\n",
              "       width=\"24px\">\n",
              "    <path d=\"M0 0h24v24H0V0z\" fill=\"none\"/>\n",
              "    <path d=\"M18.56 5.44l.94 2.06.94-2.06 2.06-.94-2.06-.94-.94-2.06-.94 2.06-2.06.94zm-11 1L8.5 8.5l.94-2.06 2.06-.94-2.06-.94L8.5 2.5l-.94 2.06-2.06.94zm10 10l.94 2.06.94-2.06 2.06-.94-2.06-.94-.94-2.06-.94 2.06-2.06.94z\"/><path d=\"M17.41 7.96l-1.37-1.37c-.4-.4-.92-.59-1.43-.59-.52 0-1.04.2-1.43.59L10.3 9.45l-7.72 7.72c-.78.78-.78 2.05 0 2.83L4 21.41c.39.39.9.59 1.41.59.51 0 1.02-.2 1.41-.59l7.78-7.78 2.81-2.81c.8-.78.8-2.07 0-2.86zM5.41 20L4 18.59l7.72-7.72 1.47 1.35L5.41 20z\"/>\n",
              "  </svg>\n",
              "      </button>\n",
              "      \n",
              "  <style>\n",
              "    .colab-df-container {\n",
              "      display:flex;\n",
              "      flex-wrap:wrap;\n",
              "      gap: 12px;\n",
              "    }\n",
              "\n",
              "    .colab-df-convert {\n",
              "      background-color: #E8F0FE;\n",
              "      border: none;\n",
              "      border-radius: 50%;\n",
              "      cursor: pointer;\n",
              "      display: none;\n",
              "      fill: #1967D2;\n",
              "      height: 32px;\n",
              "      padding: 0 0 0 0;\n",
              "      width: 32px;\n",
              "    }\n",
              "\n",
              "    .colab-df-convert:hover {\n",
              "      background-color: #E2EBFA;\n",
              "      box-shadow: 0px 1px 2px rgba(60, 64, 67, 0.3), 0px 1px 3px 1px rgba(60, 64, 67, 0.15);\n",
              "      fill: #174EA6;\n",
              "    }\n",
              "\n",
              "    [theme=dark] .colab-df-convert {\n",
              "      background-color: #3B4455;\n",
              "      fill: #D2E3FC;\n",
              "    }\n",
              "\n",
              "    [theme=dark] .colab-df-convert:hover {\n",
              "      background-color: #434B5C;\n",
              "      box-shadow: 0px 1px 3px 1px rgba(0, 0, 0, 0.15);\n",
              "      filter: drop-shadow(0px 1px 2px rgba(0, 0, 0, 0.3));\n",
              "      fill: #FFFFFF;\n",
              "    }\n",
              "  </style>\n",
              "\n",
              "      <script>\n",
              "        const buttonEl =\n",
              "          document.querySelector('#df-17b9ae24-6cf5-44dc-af20-5b350e30c0e0 button.colab-df-convert');\n",
              "        buttonEl.style.display =\n",
              "          google.colab.kernel.accessAllowed ? 'block' : 'none';\n",
              "\n",
              "        async function convertToInteractive(key) {\n",
              "          const element = document.querySelector('#df-17b9ae24-6cf5-44dc-af20-5b350e30c0e0');\n",
              "          const dataTable =\n",
              "            await google.colab.kernel.invokeFunction('convertToInteractive',\n",
              "                                                     [key], {});\n",
              "          if (!dataTable) return;\n",
              "\n",
              "          const docLinkHtml = 'Like what you see? Visit the ' +\n",
              "            '<a target=\"_blank\" href=https://colab.research.google.com/notebooks/data_table.ipynb>data table notebook</a>'\n",
              "            + ' to learn more about interactive tables.';\n",
              "          element.innerHTML = '';\n",
              "          dataTable['output_type'] = 'display_data';\n",
              "          await google.colab.output.renderOutput(dataTable, element);\n",
              "          const docLink = document.createElement('div');\n",
              "          docLink.innerHTML = docLinkHtml;\n",
              "          element.appendChild(docLink);\n",
              "        }\n",
              "      </script>\n",
              "    </div>\n",
              "  </div>\n",
              "  "
            ]
          },
          "metadata": {},
          "execution_count": 164
        }
      ]
    },
    {
      "cell_type": "code",
      "metadata": {
        "id": "wD8EYCm20Ktu",
        "colab": {
          "base_uri": "https://localhost:8080/"
        },
        "outputId": "a58d1399-9e7c-40fa-88f9-24d3897efab7"
      },
      "source": [
        "# [2-2] 특정 변수에 대한 품종별 평균 확인\n",
        "feature = 'sepal_width'\n",
        "iris.groupby('target')['sepal_width'].mean()"
      ],
      "execution_count": null,
      "outputs": [
        {
          "output_type": "execute_result",
          "data": {
            "text/plain": [
              "target\n",
              "0    3.428\n",
              "1    2.770\n",
              "2    2.974\n",
              "Name: sepal_width, dtype: float64"
            ]
          },
          "metadata": {},
          "execution_count": 165
        }
      ]
    },
    {
      "cell_type": "code",
      "metadata": {
        "id": "9PYHyDbNuseG"
      },
      "source": [
        "# group 0, 1, 2의 평균의 차이가 있습니다\n",
        "# 평균값의 차이가 실제로 의미가 있는 차이인지 알고 싶다면,\n",
        "# 분산 분석을 통해 통계적 유의성을 알아 볼 수 있습니다."
      ],
      "execution_count": null,
      "outputs": []
    },
    {
      "cell_type": "code",
      "source": [
        "for x in iris.groupby('target')[feature] :\n",
        "  print(x[0], x[1].values)"
      ],
      "metadata": {
        "colab": {
          "base_uri": "https://localhost:8080/"
        },
        "id": "8O7OcizPi5We",
        "outputId": "32f9ceb8-c308-4941-f283-4c1634094d6e"
      },
      "execution_count": null,
      "outputs": [
        {
          "output_type": "stream",
          "name": "stdout",
          "text": [
            "0 [3.5 3.  3.2 3.1 3.6 3.9 3.4 3.4 2.9 3.1 3.7 3.4 3.  3.  4.  4.4 3.9 3.5\n",
            " 3.8 3.8 3.4 3.7 3.6 3.3 3.4 3.  3.4 3.5 3.4 3.2 3.1 3.4 4.1 4.2 3.1 3.2\n",
            " 3.5 3.6 3.  3.4 3.5 2.3 3.2 3.5 3.8 3.  3.8 3.2 3.7 3.3]\n",
            "1 [3.2 3.2 3.1 2.3 2.8 2.8 3.3 2.4 2.9 2.7 2.  3.  2.2 2.9 2.9 3.1 3.  2.7\n",
            " 2.2 2.5 3.2 2.8 2.5 2.8 2.9 3.  2.8 3.  2.9 2.6 2.4 2.4 2.7 2.7 3.  3.4\n",
            " 3.1 2.3 3.  2.5 2.6 3.  2.6 2.3 2.7 3.  2.9 2.9 2.5 2.8]\n",
            "2 [3.3 2.7 3.  2.9 3.  3.  2.5 2.9 2.5 3.6 3.2 2.7 3.  2.5 2.8 3.2 3.  3.8\n",
            " 2.6 2.2 3.2 2.8 2.8 2.7 3.3 3.2 2.8 3.  2.8 3.  2.8 3.8 2.8 2.8 2.6 3.\n",
            " 3.4 3.1 3.  3.1 3.1 3.1 2.7 3.2 3.3 3.  2.5 3.  3.4 3. ]\n"
          ]
        }
      ]
    },
    {
      "cell_type": "code",
      "metadata": {
        "colab": {
          "base_uri": "https://localhost:8080/",
          "height": 295
        },
        "id": "74fdfpIvza_-",
        "outputId": "f93b96c8-bee1-4a9e-a4ac-13c32d99c3e3"
      },
      "source": [
        "# [3] 그룹 추출 및 그래프로 확인\n",
        "# 안 보고 만들 수 있어야함\n",
        "import matplotlib.pyplot as plt\n",
        "\n",
        "data = [x[1].values for x in iris.groupby('target')[feature]]\n",
        "\n",
        "plt.figure(figsize=(4,3))\n",
        "plt.boxplot(data, labels=['setosa', 'versicolor', 'virginica'])\n",
        "plt.show()"
      ],
      "execution_count": null,
      "outputs": [
        {
          "output_type": "display_data",
          "data": {
            "text/plain": [
              "<Figure size 400x300 with 1 Axes>"
            ],
            "image/png": "[encoded data removed]"
          },
          "metadata": {}
        }
      ]
    },
    {
      "cell_type": "code",
      "metadata": {
        "id": "hLLOUSB2SBnF",
        "colab": {
          "base_uri": "https://localhost:8080/"
        },
        "outputId": "45f9a3a6-5567-46bc-dc12-a581b099055a"
      },
      "source": [
        "# [4] 정규성 확인\n",
        "# p-value가 0.05 보다 큰 값일 때 정규성을 갖음\n",
        "from scipy.stats import shapiro\n",
        "\n",
        "data = [x[1].values for x in iris.groupby('target')[feature]]\n",
        "_, pvalue0 = shapiro(data[0])\n",
        "_, pvalue1 = shapiro(data[1])\n",
        "_, pvalue2 = shapiro(data[2])\n",
        "print(f'{pvalue0:.4f} {pvalue1:.4f} {pvalue2:.4f}')\n",
        "# 0.2715 0.3380 0.1809"
      ],
      "execution_count": null,
      "outputs": [
        {
          "output_type": "stream",
          "name": "stdout",
          "text": [
            "0.2715 0.3380 0.1809\n"
          ]
        }
      ]
    },
    {
      "cell_type": "code",
      "metadata": {
        "id": "sz3ZGC7huseH",
        "colab": {
          "base_uri": "https://localhost:8080/"
        },
        "outputId": "37427452-6e54-4bef-b2f0-8e1d789cbd69"
      },
      "source": [
        "# [5] 등분산성 확인\n",
        "# p-value가 0.05 보다 큰 값일 때 등분산성을 갖음\n",
        "from scipy.stats import bartlett\n",
        "\n",
        "# 방법 1\n",
        "#_, pvalue = bartlett(data[0], data[1], data[2])\n",
        "\n",
        "# 방법 2\n",
        "_, pvalue = bartlett(*data)\n",
        "print(f'{pvalue:.4f}') # 0.3515"
      ],
      "execution_count": null,
      "outputs": [
        {
          "output_type": "stream",
          "name": "stdout",
          "text": [
            "0.3515\n"
          ]
        }
      ]
    },
    {
      "cell_type": "markdown",
      "metadata": {
        "id": "B9dxFmZ5useH"
      },
      "source": [
        "Scipy.stats 으로 일원분산분석\n",
        "- https://docs.scipy.org/doc/scipy/reference/generated/scipy.stats.f_oneway.html"
      ]
    },
    {
      "cell_type": "code",
      "metadata": {
        "id": "jedFIUU3useH",
        "colab": {
          "base_uri": "https://localhost:8080/"
        },
        "outputId": "040aa453-5030-4e68-b434-9bbeea6558eb"
      },
      "source": [
        "# [6] 일원분산분석 - 1\n",
        "from scipy.stats import f_oneway\n",
        "\n",
        "F, pvalue = f_oneway(*data)\n",
        "print(f'iris 데이터의 일원분산분석 결과 : F = {F:.1f}, p = {pvalue:.5f}')\n",
        "if pvalue < 0.05 :\n",
        "  print('P - value 값이 충분히 작음으로 인해 그룹의 평균값이 통계적으로 유의미한 차이가 있음')"
      ],
      "execution_count": null,
      "outputs": [
        {
          "output_type": "stream",
          "name": "stdout",
          "text": [
            "iris 데이터의 일원분산분석 결과 : F = 49.2, p = 0.00000\n",
            "P - value 값이 충분히 작음으로 인해 그룹의 평균값이 통계적으로 유의미한 차이가 있음\n"
          ]
        }
      ]
    },
    {
      "cell_type": "markdown",
      "metadata": {
        "id": "Kppp46BClxl7"
      },
      "source": [
        "pandas 와 statsmodels 를 사용한 일원분산분석\n",
        "- https://www.statsmodels.org/dev/generated/statsmodels.formula.api.ols.html\n",
        "- https://www.statsmodels.org/stable/generated/statsmodels.stats.anova.anova_lm.html"
      ]
    },
    {
      "cell_type": "markdown",
      "source": [
        "ols (ordinary least squares) 모델\n",
        "- 구하려는 해와 실제의 오차의 제곱의 합이 최소가 되는 해를 구하는 방법\n",
        "\n",
        "'value ~ C(treatment)' : '종속변수 ~ C(독립변수)'\n",
        "- value : 종속변수\n",
        "- treatment : 범주형(C)인 독립변수\n",
        "- df : degree of freedom\n",
        "- C(treatment)의 df : 그룹의 수 - 1\n",
        "- Residual의 df : 전체 데이터 수 - 그룹의 수"
      ],
      "metadata": {
        "id": "IJbGrpkfZKzY"
      }
    },
    {
      "cell_type": "code",
      "metadata": {
        "id": "eUT6XN6c4jCd",
        "colab": {
          "base_uri": "https://localhost:8080/"
        },
        "outputId": "b4abd11a-f894-4f54-fd2c-621cfbecaffb"
      },
      "source": [
        "# [7] 일원분산분석 - 2\n",
        "import statsmodels.api as sm\n",
        "from statsmodels.formula.api import ols\n",
        "\n",
        "data = iris[['target', 'sepal_width']]\n",
        "lm = ols('sepal_width ~ C(target)', data).fit()\n",
        "#        종속변수       범주형은 C로 묶\n",
        "result = sm.stats.anova_lm(lm)\n",
        "print(result)"
      ],
      "execution_count": null,
      "outputs": [
        {
          "output_type": "stream",
          "name": "stdout",
          "text": [
            "              df     sum_sq   mean_sq         F        PR(>F)\n",
            "C(target)    2.0  11.344933  5.672467  49.16004  4.492017e-17\n",
            "Residual   147.0  16.962000  0.115388       NaN           NaN\n"
          ]
        }
      ]
    },
    {
      "cell_type": "code",
      "metadata": {
        "id": "dGafJOHkn14e"
      },
      "source": [
        "# C(target)의 PR(=p-value) 값이 0.05 보다 작으므로 그룹의\n",
        "# 평균값이 통계적으로 유의미하게 차이가 있음"
      ],
      "execution_count": null,
      "outputs": []
    },
    {
      "cell_type": "code",
      "metadata": {
        "id": "W-6C14168foO"
      },
      "source": [
        "# 구체적으로 어떤 집단이 차이가 있는지 확인하려면 사후분석(post hoc tests)를 해야함\n",
        "# 유의미한 차이가 없는 경우는 사후분석할 필요가 없음"
      ],
      "execution_count": null,
      "outputs": []
    },
    {
      "cell_type": "markdown",
      "metadata": {
        "id": "mYH2Zb3fXphL"
      },
      "source": [
        "사후검정(Post Hoc Analysis)\n",
        "- ANOVA 분석의 문제 : 다르다는 것은 알지만, 어떤 집단간의 차이가 있는지는 알 수 없음\n",
        "- 사후검정을 통해 어떤 것에 차이가 있는지 찾을 수 있음\n",
        "- post hoc은 라틴어로 \"after this\"의 뜻\n",
        "- 사후검정의 종류\n",
        "    - Tukey's HSD (Honest Significant Difference) test : 정규분포, 등분산, 동일 표본 크기에서 가장 많이 사용\n",
        "    - Duncan’s new multiple range test (MRT) : 정규분포, 등분산, 동일 표본 크기에서 사용, 엄격하지 않은 기준으로 통계적 유의성을 도출하기 쉬움\n",
        "    - Scheffé’s Method : 가장 보수적이고 엄격한 사후검정방식 (동일하지 않은 표본 크기)\n",
        "- 민감도(sensitivity)로 구분 : Scheffe < Tukey < Duncan\n",
        "- Duncan의 방법은 작은 차이에도 차이가 난다라고 하지만, Scheffe의 방법은 확실한 차이가 나야만 비로소 차이가 있다라고 판단함\n"
      ]
    },
    {
      "cell_type": "markdown",
      "metadata": {
        "id": "tEZJ7bPRb80Y"
      },
      "source": [
        "Tukey test\n",
        "- statsmodels의 Tukey test를 하기 위해서는 DataFrame의 형태를 변경해야 함\n",
        "- 하나의 컬럼은 분류할수 있는 이름(label)을 다른 컬럼은 실험값(values)를 가지고 있는 형태이어야 함"
      ]
    },
    {
      "cell_type": "markdown",
      "source": [
        "[참고] scheffe : https://eunholand.tistory.com/96"
      ],
      "metadata": {
        "id": "ji4HUy4ceqZL"
      }
    },
    {
      "cell_type": "code",
      "metadata": {
        "id": "e965NtRWXXG5",
        "colab": {
          "base_uri": "https://localhost:8080/",
          "height": 181
        },
        "outputId": "ef5a6abb-24dc-453a-cfb5-79a3c2e361a9"
      },
      "source": [
        "# [7] 사후 검정\n",
        "from statsmodels.stats.multicomp import pairwise_tukeyhsd\n",
        "\n",
        "posthoc = pairwise_tukeyhsd(iris.sepal_width, iris.target, alpha = 0.05)\n",
        "print(posthoc)\n",
        "\n",
        "# 대립가설 : 차이가 있다\n",
        "# 귀무가설 : 차이가 없다\n",
        "\n",
        "'''\n",
        "p-adj\n",
        "0.0\n",
        "0.0\n",
        "0.0088\n",
        "'''"
      ],
      "execution_count": null,
      "outputs": [
        {
          "output_type": "stream",
          "name": "stdout",
          "text": [
            "Multiple Comparison of Means - Tukey HSD, FWER=0.05 \n",
            "====================================================\n",
            "group1 group2 meandiff p-adj   lower   upper  reject\n",
            "----------------------------------------------------\n",
            "     0      1   -0.658    0.0 -0.8189 -0.4971   True\n",
            "     0      2   -0.454    0.0 -0.6149 -0.2931   True\n",
            "     1      2    0.204 0.0088  0.0431  0.3649   True\n",
            "----------------------------------------------------\n"
          ]
        },
        {
          "output_type": "execute_result",
          "data": {
            "text/plain": [
              "'\\np-adj\\n0.0 \\n0.0 \\n0.0088  \\n'"
            ],
            "application/vnd.google.colaboratory.intrinsic+json": {
              "type": "string"
            }
          },
          "metadata": {},
          "execution_count": 185
        }
      ]
    },
    {
      "cell_type": "code",
      "metadata": {
        "id": "8-IuMBmaYvXU"
      },
      "source": [
        "# 결과를 보면 모든 그룹에서 통계적인 유의미성(P-value < 0.05)을 가질 수 있는것을 확인 할 수 있음"
      ],
      "execution_count": null,
      "outputs": []
    },
    {
      "cell_type": "code",
      "source": [
        "# [8] 그림으로 확인하기\n",
        "fig = posthoc.plot_simultaneous()\n",
        "#fig = posthoc.plot_simultaneous()"
      ],
      "metadata": {
        "id": "TVARqg9ECc-Z",
        "colab": {
          "base_uri": "https://localhost:8080/",
          "height": 492
        },
        "outputId": "01f9aea8-d50d-4201-ad4c-a05d385cf050"
      },
      "execution_count": null,
      "outputs": [
        {
          "output_type": "display_data",
          "data": {
            "text/plain": [
              "<Figure size 1000x600 with 1 Axes>"
            ],
            "image/png": "[encoded data removed]"
          },
          "metadata": {}
        }
      ]
    },
    {
      "cell_type": "code",
      "metadata": {
        "id": "3_FdrKC-Y51E"
      },
      "source": [
        "# 통계적 의미 갖지 않는 경우\n",
        "# 그림에서 볼 수 있듯이, 그룹 1.0과 2.0은 서로 겹치지 않는것을 볼 수 있음\n",
        "# 반면,1과 3, 2와 3은 겹치기 때문에 유의미한 차이가 없다고 할 수 있음"
      ],
      "execution_count": null,
      "outputs": []
    },
    {
      "cell_type": "code",
      "metadata": {
        "id": "zCeIUdOiZAK8"
      },
      "source": [
        "##  23년 5월 31일 오전 - 여기까지"
      ],
      "execution_count": null,
      "outputs": []
    },
    {
      "cell_type": "markdown",
      "metadata": {
        "id": "70BQM8ljuseJ"
      },
      "source": [
        "#### 4-3.이원분산분석(Two-way ANOVA)\n",
        "- 독립변인의 수가 두 개일 때 집단 간 차이가 유의한지를 검증하는 데 사용\n",
        "- 상호작용효과(Interaction effect) 즉, 한 변수의 변화가 결과에 미치는 영향이 다른 변수의 수준에 따라 달라지는지를 확인하기 위해 사용됨\n",
        "- scipy.stats이나 statsmodels 라이브러리를 이용"
      ]
    },
    {
      "cell_type": "markdown",
      "metadata": {
        "id": "X_Ecebd0useJ"
      },
      "source": [
        "예제 데이터(altman_12_6) 설명\n",
        "태아의 머리 둘레 측정 데이터입니다.\n",
        "4명의 관측자가 3명의 태아를 대상으로 측정을 했습니다.\n",
        "이를 통해서 초음파로 태아의 머리 둘레측정 데이터가 재현성이 있는지를 조사하였습니다."
      ]
    },
    {
      "cell_type": "code",
      "metadata": {
        "id": "x9ZPrvEwuseK",
        "colab": {
          "base_uri": "https://localhost:8080/",
          "height": 206
        },
        "outputId": "cd5449b6-ec79-4d65-d4c0-e166316eac80"
      },
      "source": [
        "# [1] 데이터 가져오기\n",
        "import pandas as pd\n",
        "data = pd.read_csv('data_02/altman.csv')\n",
        "data.tail()"
      ],
      "execution_count": null,
      "outputs": [
        {
          "output_type": "execute_result",
          "data": {
            "text/plain": [
              "    head_size  fetus  observer\n",
              "31       12.7    3.0       3.0\n",
              "32       12.5    3.0       3.0\n",
              "33       13.0    3.0       4.0\n",
              "34       12.9    3.0       4.0\n",
              "35       13.8    3.0       4.0"
            ],
            "text/html": [
              "\n",
              "  <div id=\"df-676387da-dc65-4627-8039-6be51f791423\">\n",
              "    <div class=\"colab-df-container\">\n",
              "      <div>\n",
              "<style scoped>\n",
              "    .dataframe tbody tr th:only-of-type {\n",
              "        vertical-align: middle;\n",
              "    }\n",
              "\n",
              "    .dataframe tbody tr th {\n",
              "        vertical-align: top;\n",
              "    }\n",
              "\n",
              "    .dataframe thead th {\n",
              "        text-align: right;\n",
              "    }\n",
              "</style>\n",
              "<table border=\"1\" class=\"dataframe\">\n",
              "  <thead>\n",
              "    <tr style=\"text-align: right;\">\n",
              "      <th></th>\n",
              "      <th>head_size</th>\n",
              "      <th>fetus</th>\n",
              "      <th>observer</th>\n",
              "    </tr>\n",
              "  </thead>\n",
              "  <tbody>\n",
              "    <tr>\n",
              "      <th>31</th>\n",
              "      <td>12.7</td>\n",
              "      <td>3.0</td>\n",
              "      <td>3.0</td>\n",
              "    </tr>\n",
              "    <tr>\n",
              "      <th>32</th>\n",
              "      <td>12.5</td>\n",
              "      <td>3.0</td>\n",
              "      <td>3.0</td>\n",
              "    </tr>\n",
              "    <tr>\n",
              "      <th>33</th>\n",
              "      <td>13.0</td>\n",
              "      <td>3.0</td>\n",
              "      <td>4.0</td>\n",
              "    </tr>\n",
              "    <tr>\n",
              "      <th>34</th>\n",
              "      <td>12.9</td>\n",
              "      <td>3.0</td>\n",
              "      <td>4.0</td>\n",
              "    </tr>\n",
              "    <tr>\n",
              "      <th>35</th>\n",
              "      <td>13.8</td>\n",
              "      <td>3.0</td>\n",
              "      <td>4.0</td>\n",
              "    </tr>\n",
              "  </tbody>\n",
              "</table>\n",
              "</div>\n",
              "      <button class=\"colab-df-convert\" onclick=\"convertToInteractive('df-676387da-dc65-4627-8039-6be51f791423')\"\n",
              "              title=\"Convert this dataframe to an interactive table.\"\n",
              "              style=\"display:none;\">\n",
              "        \n",
              "  <svg xmlns=\"http://www.w3.org/2000/svg\" height=\"24px\"viewBox=\"0 0 24 24\"\n",
              "       width=\"24px\">\n",
              "    <path d=\"M0 0h24v24H0V0z\" fill=\"none\"/>\n",
              "    <path d=\"M18.56 5.44l.94 2.06.94-2.06 2.06-.94-2.06-.94-.94-2.06-.94 2.06-2.06.94zm-11 1L8.5 8.5l.94-2.06 2.06-.94-2.06-.94L8.5 2.5l-.94 2.06-2.06.94zm10 10l.94 2.06.94-2.06 2.06-.94-2.06-.94-.94-2.06-.94 2.06-2.06.94z\"/><path d=\"M17.41 7.96l-1.37-1.37c-.4-.4-.92-.59-1.43-.59-.52 0-1.04.2-1.43.59L10.3 9.45l-7.72 7.72c-.78.78-.78 2.05 0 2.83L4 21.41c.39.39.9.59 1.41.59.51 0 1.02-.2 1.41-.59l7.78-7.78 2.81-2.81c.8-.78.8-2.07 0-2.86zM5.41 20L4 18.59l7.72-7.72 1.47 1.35L5.41 20z\"/>\n",
              "  </svg>\n",
              "      </button>\n",
              "      \n",
              "  <style>\n",
              "    .colab-df-container {\n",
              "      display:flex;\n",
              "      flex-wrap:wrap;\n",
              "      gap: 12px;\n",
              "    }\n",
              "\n",
              "    .colab-df-convert {\n",
              "      background-color: #E8F0FE;\n",
              "      border: none;\n",
              "      border-radius: 50%;\n",
              "      cursor: pointer;\n",
              "      display: none;\n",
              "      fill: #1967D2;\n",
              "      height: 32px;\n",
              "      padding: 0 0 0 0;\n",
              "      width: 32px;\n",
              "    }\n",
              "\n",
              "    .colab-df-convert:hover {\n",
              "      background-color: #E2EBFA;\n",
              "      box-shadow: 0px 1px 2px rgba(60, 64, 67, 0.3), 0px 1px 3px 1px rgba(60, 64, 67, 0.15);\n",
              "      fill: #174EA6;\n",
              "    }\n",
              "\n",
              "    [theme=dark] .colab-df-convert {\n",
              "      background-color: #3B4455;\n",
              "      fill: #D2E3FC;\n",
              "    }\n",
              "\n",
              "    [theme=dark] .colab-df-convert:hover {\n",
              "      background-color: #434B5C;\n",
              "      box-shadow: 0px 1px 3px 1px rgba(0, 0, 0, 0.15);\n",
              "      filter: drop-shadow(0px 1px 2px rgba(0, 0, 0, 0.3));\n",
              "      fill: #FFFFFF;\n",
              "    }\n",
              "  </style>\n",
              "\n",
              "      <script>\n",
              "        const buttonEl =\n",
              "          document.querySelector('#df-676387da-dc65-4627-8039-6be51f791423 button.colab-df-convert');\n",
              "        buttonEl.style.display =\n",
              "          google.colab.kernel.accessAllowed ? 'block' : 'none';\n",
              "\n",
              "        async function convertToInteractive(key) {\n",
              "          const element = document.querySelector('#df-676387da-dc65-4627-8039-6be51f791423');\n",
              "          const dataTable =\n",
              "            await google.colab.kernel.invokeFunction('convertToInteractive',\n",
              "                                                     [key], {});\n",
              "          if (!dataTable) return;\n",
              "\n",
              "          const docLinkHtml = 'Like what you see? Visit the ' +\n",
              "            '<a target=\"_blank\" href=https://colab.research.google.com/notebooks/data_table.ipynb>data table notebook</a>'\n",
              "            + ' to learn more about interactive tables.';\n",
              "          element.innerHTML = '';\n",
              "          dataTable['output_type'] = 'display_data';\n",
              "          await google.colab.output.renderOutput(dataTable, element);\n",
              "          const docLink = document.createElement('div');\n",
              "          docLink.innerHTML = docLinkHtml;\n",
              "          element.appendChild(docLink);\n",
              "        }\n",
              "      </script>\n",
              "    </div>\n",
              "  </div>\n",
              "  "
            ]
          },
          "metadata": {},
          "execution_count": 190
        }
      ]
    },
    {
      "cell_type": "code",
      "metadata": {
        "id": "V8zmnyd-Zd2r",
        "colab": {
          "base_uri": "https://localhost:8080/",
          "height": 478
        },
        "outputId": "87f09891-2c56-4cf9-e073-a90260314ac0"
      },
      "source": [
        "# [2] 태아별 머리 둘레 plot 만들기\n",
        "import matplotlib.pyplot as plt\n",
        "data.boxplot(column='head_size', by='fetus' , grid=True)\n",
        "plt.title('')\n",
        "plt.show()"
      ],
      "execution_count": null,
      "outputs": [
        {
          "output_type": "display_data",
          "data": {
            "text/plain": [
              "<Figure size 640x480 with 1 Axes>"
            ],
            "image/png": "[encoded data removed]"
          },
          "metadata": {}
        }
      ]
    },
    {
      "cell_type": "code",
      "metadata": {
        "id": "d5S4vrklZSHS",
        "colab": {
          "base_uri": "https://localhost:8080/"
        },
        "outputId": "3b229c21-b5a4-4aa1-ea4b-ff22fdb2bad2"
      },
      "source": [
        "# [3] 태아별 머리 둘레 평균을 구해봅니다\n",
        "data.groupby('fetus')['head_size'].mean()"
      ],
      "execution_count": null,
      "outputs": [
        {
          "output_type": "execute_result",
          "data": {
            "text/plain": [
              "fetus\n",
              "1.0    13.991667\n",
              "2.0    19.691667\n",
              "3.0    12.825000\n",
              "Name: head_size, dtype: float64"
            ]
          },
          "metadata": {},
          "execution_count": 192
        }
      ]
    },
    {
      "cell_type": "code",
      "metadata": {
        "id": "GkHaYxzKuseK"
      },
      "source": [
        "# 그림에서 태아(fetus) 3명의 머리 둘레는 차이가 있어 보입니다.\n",
        "# 관측자와 태아에 상호작용 효과 여부를 Two way ANOVA를 통해 알아 보겠습니다"
      ],
      "execution_count": null,
      "outputs": []
    },
    {
      "cell_type": "code",
      "metadata": {
        "id": "rl1xhAS3dg1-"
      },
      "source": [
        "# 귀무가설 : 관측자별 머리둘레 평균은 동일하다\n",
        "# 대립가설 : 관측자별 머리둘레 평균은 동일하지 않다 (차이가 있다)\n",
        "# 귀무가설 : 태아별 머리둘레 평균은 동일하다\n",
        "# 대립가설 : 태아별 머리둘레 평균은 동일하지 않다 (차이가 있다)\n",
        "# 귀무가설 : 머리둘레평균에 대해 측정자와 태아에 상호작용 효과가 없다\n",
        "# 대립가설 : 머리둘레평균에 대해 측정자와 태아에 상호작용 효과가 있다"
      ],
      "execution_count": null,
      "outputs": []
    },
    {
      "cell_type": "code",
      "metadata": {
        "id": "7q_-fTFSuseK"
      },
      "source": [
        "from statsmodels.formula.api import ols\n",
        "from statsmodels.stats.anova import anova_lm\n",
        "\n"
      ],
      "execution_count": null,
      "outputs": []
    },
    {
      "cell_type": "code",
      "metadata": {
        "id": "mOXIDzX5useL"
      },
      "source": [
        "# C(fetus):C(observer)의 P-value 가 0.05 이상 입니다,\n",
        "# 따라서 귀무가설을 기각할 수 없고.\n",
        "# 머리둘레평균에 대해 측정자와 태아에 상호작용 효과가 없다\n"
      ],
      "execution_count": null,
      "outputs": []
    }
  ]
}