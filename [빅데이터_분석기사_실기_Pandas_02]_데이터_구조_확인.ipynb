{
  "nbformat": 4,
  "nbformat_minor": 0,
  "metadata": {
    "colab": {
      "provenance": [],
      "authorship_tag": "ABX9TyNftbnRVuMzyJYW039Z4SvI",
      "include_colab_link": true
    },
    "kernelspec": {
      "name": "python3",
      "display_name": "Python 3"
    },
    "language_info": {
      "name": "python"
    }
  },
  "cells": [
    {
      "cell_type": "markdown",
      "metadata": {
        "id": "view-in-github",
        "colab_type": "text"
      },
      "source": [
        "<a href=\"https://colab.research.google.com/github/pano1215/Bigdata_analyst_certification-/blob/main/%5B%EB%B9%85%EB%8D%B0%EC%9D%B4%ED%84%B0_%EB%B6%84%EC%84%9D%EA%B8%B0%EC%82%AC_%EC%8B%A4%EA%B8%B0_Pandas_02%5D_%EB%8D%B0%EC%9D%B4%ED%84%B0_%EA%B5%AC%EC%A1%B0_%ED%99%95%EC%9D%B8.ipynb\" target=\"_parent\"><img src=\"https://colab.research.google.com/assets/colab-badge.svg\" alt=\"Open In Colab\"/></a>"
      ]
    },
    {
      "cell_type": "code",
      "source": [
        "cd /content/sample_data"
      ],
      "metadata": {
        "id": "j_mblvyw9Aep",
        "outputId": "35a6a223-1d98-4c89-986c-e2c89ad0b6e2",
        "colab": {
          "base_uri": "https://localhost:8080/"
        }
      },
      "execution_count": 4,
      "outputs": [
        {
          "output_type": "stream",
          "name": "stdout",
          "text": [
            "/content/sample_data\n"
          ]
        }
      ]
    },
    {
      "cell_type": "code",
      "source": [
        "ls /path/to/mountpoint"
      ],
      "metadata": {
        "id": "IMzFxXqE9W7L",
        "outputId": "7b70a8d3-c163-4897-b9d4-4a9680dbbcec",
        "colab": {
          "base_uri": "https://localhost:8080/"
        }
      },
      "execution_count": 3,
      "outputs": [
        {
          "output_type": "stream",
          "name": "stdout",
          "text": [
            "ls: cannot access '/path/to/mountpoint': No such file or directory\n"
          ]
        }
      ]
    },
    {
      "cell_type": "code",
      "execution_count": null,
      "metadata": {
        "colab": {
          "base_uri": "https://localhost:8080/"
        },
        "id": "QrtIVsGUm7Et",
        "outputId": "229cdeb8-4020-40ae-83ca-22afe80e5643"
      },
      "outputs": [
        {
          "output_type": "stream",
          "name": "stdout",
          "text": [
            "Cloning into 'data_01'...\n",
            "remote: Enumerating objects: 53, done.\u001b[K\n",
            "remote: Counting objects: 100% (53/53), done.\u001b[K\n",
            "remote: Compressing objects: 100% (34/34), done.\u001b[K\n",
            "remote: Total 53 (delta 19), reused 53 (delta 19), pack-reused 0\u001b[K\n",
            "Unpacking objects: 100% (53/53), 5.48 MiB | 13.29 MiB/s, done.\n"
          ]
        }
      ],
      "source": [
        "!git clone https://github.com/Soyoung-Yoon/data_01"
      ]
    },
    {
      "cell_type": "code",
      "source": [
        "!git clone https://github.com/Soyoung-Yoon/data_01"
      ],
      "metadata": {
        "colab": {
          "base_uri": "https://localhost:8080/"
        },
        "id": "xXZLr-ZFna4a",
        "outputId": "cd6d7848-4aa9-4866-bf72-a7b7a18ac344"
      },
      "execution_count": null,
      "outputs": [
        {
          "output_type": "stream",
          "name": "stdout",
          "text": [
            "fatal: destination path 'data_01' already exists and is not an empty directory.\n"
          ]
        }
      ]
    },
    {
      "cell_type": "code",
      "source": [
        "import pandas as pd"
      ],
      "metadata": {
        "id": "vOEEch2VnobZ"
      },
      "execution_count": null,
      "outputs": []
    },
    {
      "cell_type": "code",
      "source": [
        "# 엑셀 파일을 DF로 읽어 df라고 선언\n",
        "df = pd.read_excel('data_01/youtube_rank.xlsx', engine = 'openpyxl' )\n",
        "print(type(df))\n",
        "\n",
        "original = df.copy()"
      ],
      "metadata": {
        "colab": {
          "base_uri": "https://localhost:8080/"
        },
        "id": "P3XGn7Vfn2DS",
        "outputId": "745d1225-951e-4460-f352-1593ad6617ed"
      },
      "execution_count": null,
      "outputs": [
        {
          "output_type": "stream",
          "name": "stdout",
          "text": [
            "<class 'pandas.core.frame.DataFrame'>\n"
          ]
        }
      ]
    },
    {
      "cell_type": "code",
      "source": [
        "temp = pd.read_csv('data_01/youtube_rank.csv')\n",
        "print(type(temp))"
      ],
      "metadata": {
        "colab": {
          "base_uri": "https://localhost:8080/"
        },
        "id": "P0TfTGfToswS",
        "outputId": "8a65fb20-b7bb-4cf2-c8c8-6144bf8b2973"
      },
      "execution_count": null,
      "outputs": [
        {
          "output_type": "stream",
          "name": "stdout",
          "text": [
            "<class 'pandas.core.frame.DataFrame'>\n"
          ]
        }
      ]
    },
    {
      "cell_type": "code",
      "source": [
        "df.head(5)"
      ],
      "metadata": {
        "colab": {
          "base_uri": "https://localhost:8080/",
          "height": 206
        },
        "id": "WDBH7QeFpApI",
        "outputId": "dbf6b542-463c-4ec3-e28a-2ec8640f8e3b"
      },
      "execution_count": null,
      "outputs": [
        {
          "output_type": "execute_result",
          "data": {
            "text/plain": [
              "                         title    category subscriber       view   video\n",
              "0                    BLACKPINK  [음악/댄스/가수]      5140만  128억5130만    319개\n",
              "1               Big Hit Labels  [음악/댄스/가수]      4550만  120억8966만    433개\n",
              "2                    BANGTANTV  [음악/댄스/가수]      3870만   54억7598만  1,319개\n",
              "3  Boram Tube Vlog [보람튜브 브이로그]    [키즈/어린이]      2650만  110억5288만    223개\n",
              "4                       SMTOWN  [음악/댄스/가수]      2450만  180억7532만  3,583개"
            ],
            "text/html": [
              "\n",
              "  <div id=\"df-275ef2ed-3530-4d7f-bce9-35dc3ab665a3\">\n",
              "    <div class=\"colab-df-container\">\n",
              "      <div>\n",
              "<style scoped>\n",
              "    .dataframe tbody tr th:only-of-type {\n",
              "        vertical-align: middle;\n",
              "    }\n",
              "\n",
              "    .dataframe tbody tr th {\n",
              "        vertical-align: top;\n",
              "    }\n",
              "\n",
              "    .dataframe thead th {\n",
              "        text-align: right;\n",
              "    }\n",
              "</style>\n",
              "<table border=\"1\" class=\"dataframe\">\n",
              "  <thead>\n",
              "    <tr style=\"text-align: right;\">\n",
              "      <th></th>\n",
              "      <th>title</th>\n",
              "      <th>category</th>\n",
              "      <th>subscriber</th>\n",
              "      <th>view</th>\n",
              "      <th>video</th>\n",
              "    </tr>\n",
              "  </thead>\n",
              "  <tbody>\n",
              "    <tr>\n",
              "      <th>0</th>\n",
              "      <td>BLACKPINK</td>\n",
              "      <td>[음악/댄스/가수]</td>\n",
              "      <td>5140만</td>\n",
              "      <td>128억5130만</td>\n",
              "      <td>319개</td>\n",
              "    </tr>\n",
              "    <tr>\n",
              "      <th>1</th>\n",
              "      <td>Big Hit Labels</td>\n",
              "      <td>[음악/댄스/가수]</td>\n",
              "      <td>4550만</td>\n",
              "      <td>120억8966만</td>\n",
              "      <td>433개</td>\n",
              "    </tr>\n",
              "    <tr>\n",
              "      <th>2</th>\n",
              "      <td>BANGTANTV</td>\n",
              "      <td>[음악/댄스/가수]</td>\n",
              "      <td>3870만</td>\n",
              "      <td>54억7598만</td>\n",
              "      <td>1,319개</td>\n",
              "    </tr>\n",
              "    <tr>\n",
              "      <th>3</th>\n",
              "      <td>Boram Tube Vlog [보람튜브 브이로그]</td>\n",
              "      <td>[키즈/어린이]</td>\n",
              "      <td>2650만</td>\n",
              "      <td>110억5288만</td>\n",
              "      <td>223개</td>\n",
              "    </tr>\n",
              "    <tr>\n",
              "      <th>4</th>\n",
              "      <td>SMTOWN</td>\n",
              "      <td>[음악/댄스/가수]</td>\n",
              "      <td>2450만</td>\n",
              "      <td>180억7532만</td>\n",
              "      <td>3,583개</td>\n",
              "    </tr>\n",
              "  </tbody>\n",
              "</table>\n",
              "</div>\n",
              "      <button class=\"colab-df-convert\" onclick=\"convertToInteractive('df-275ef2ed-3530-4d7f-bce9-35dc3ab665a3')\"\n",
              "              title=\"Convert this dataframe to an interactive table.\"\n",
              "              style=\"display:none;\">\n",
              "        \n",
              "  <svg xmlns=\"http://www.w3.org/2000/svg\" height=\"24px\"viewBox=\"0 0 24 24\"\n",
              "       width=\"24px\">\n",
              "    <path d=\"M0 0h24v24H0V0z\" fill=\"none\"/>\n",
              "    <path d=\"M18.56 5.44l.94 2.06.94-2.06 2.06-.94-2.06-.94-.94-2.06-.94 2.06-2.06.94zm-11 1L8.5 8.5l.94-2.06 2.06-.94-2.06-.94L8.5 2.5l-.94 2.06-2.06.94zm10 10l.94 2.06.94-2.06 2.06-.94-2.06-.94-.94-2.06-.94 2.06-2.06.94z\"/><path d=\"M17.41 7.96l-1.37-1.37c-.4-.4-.92-.59-1.43-.59-.52 0-1.04.2-1.43.59L10.3 9.45l-7.72 7.72c-.78.78-.78 2.05 0 2.83L4 21.41c.39.39.9.59 1.41.59.51 0 1.02-.2 1.41-.59l7.78-7.78 2.81-2.81c.8-.78.8-2.07 0-2.86zM5.41 20L4 18.59l7.72-7.72 1.47 1.35L5.41 20z\"/>\n",
              "  </svg>\n",
              "      </button>\n",
              "      \n",
              "  <style>\n",
              "    .colab-df-container {\n",
              "      display:flex;\n",
              "      flex-wrap:wrap;\n",
              "      gap: 12px;\n",
              "    }\n",
              "\n",
              "    .colab-df-convert {\n",
              "      background-color: #E8F0FE;\n",
              "      border: none;\n",
              "      border-radius: 50%;\n",
              "      cursor: pointer;\n",
              "      display: none;\n",
              "      fill: #1967D2;\n",
              "      height: 32px;\n",
              "      padding: 0 0 0 0;\n",
              "      width: 32px;\n",
              "    }\n",
              "\n",
              "    .colab-df-convert:hover {\n",
              "      background-color: #E2EBFA;\n",
              "      box-shadow: 0px 1px 2px rgba(60, 64, 67, 0.3), 0px 1px 3px 1px rgba(60, 64, 67, 0.15);\n",
              "      fill: #174EA6;\n",
              "    }\n",
              "\n",
              "    [theme=dark] .colab-df-convert {\n",
              "      background-color: #3B4455;\n",
              "      fill: #D2E3FC;\n",
              "    }\n",
              "\n",
              "    [theme=dark] .colab-df-convert:hover {\n",
              "      background-color: #434B5C;\n",
              "      box-shadow: 0px 1px 3px 1px rgba(0, 0, 0, 0.15);\n",
              "      filter: drop-shadow(0px 1px 2px rgba(0, 0, 0, 0.3));\n",
              "      fill: #FFFFFF;\n",
              "    }\n",
              "  </style>\n",
              "\n",
              "      <script>\n",
              "        const buttonEl =\n",
              "          document.querySelector('#df-275ef2ed-3530-4d7f-bce9-35dc3ab665a3 button.colab-df-convert');\n",
              "        buttonEl.style.display =\n",
              "          google.colab.kernel.accessAllowed ? 'block' : 'none';\n",
              "\n",
              "        async function convertToInteractive(key) {\n",
              "          const element = document.querySelector('#df-275ef2ed-3530-4d7f-bce9-35dc3ab665a3');\n",
              "          const dataTable =\n",
              "            await google.colab.kernel.invokeFunction('convertToInteractive',\n",
              "                                                     [key], {});\n",
              "          if (!dataTable) return;\n",
              "\n",
              "          const docLinkHtml = 'Like what you see? Visit the ' +\n",
              "            '<a target=\"_blank\" href=https://colab.research.google.com/notebooks/data_table.ipynb>data table notebook</a>'\n",
              "            + ' to learn more about interactive tables.';\n",
              "          element.innerHTML = '';\n",
              "          dataTable['output_type'] = 'display_data';\n",
              "          await google.colab.output.renderOutput(dataTable, element);\n",
              "          const docLink = document.createElement('div');\n",
              "          docLink.innerHTML = docLinkHtml;\n",
              "          element.appendChild(docLink);\n",
              "        }\n",
              "      </script>\n",
              "    </div>\n",
              "  </div>\n",
              "  "
            ]
          },
          "metadata": {},
          "execution_count": 7
        }
      ]
    },
    {
      "cell_type": "code",
      "source": [
        "temp.head(5)"
      ],
      "metadata": {
        "colab": {
          "base_uri": "https://localhost:8080/",
          "height": 206
        },
        "id": "hMpUPM-YpH3Z",
        "outputId": "74266a5a-2997-4258-9b28-208b44555c9e"
      },
      "execution_count": null,
      "outputs": [
        {
          "output_type": "execute_result",
          "data": {
            "text/plain": [
              "                         title    category subscriber       view   video\n",
              "0                    BLACKPINK  [음악/댄스/가수]      5140만  128억5130만    319개\n",
              "1               Big Hit Labels  [음악/댄스/가수]      4550만  120억8966만    433개\n",
              "2                    BANGTANTV  [음악/댄스/가수]      3870만   54억7598만  1,319개\n",
              "3  Boram Tube Vlog [보람튜브 브이로그]    [키즈/어린이]      2650만  110억5288만    223개\n",
              "4                       SMTOWN  [음악/댄스/가수]      2450만  180억7532만  3,583개"
            ],
            "text/html": [
              "\n",
              "  <div id=\"df-c2654673-40de-4e15-8966-b2aabcdca115\">\n",
              "    <div class=\"colab-df-container\">\n",
              "      <div>\n",
              "<style scoped>\n",
              "    .dataframe tbody tr th:only-of-type {\n",
              "        vertical-align: middle;\n",
              "    }\n",
              "\n",
              "    .dataframe tbody tr th {\n",
              "        vertical-align: top;\n",
              "    }\n",
              "\n",
              "    .dataframe thead th {\n",
              "        text-align: right;\n",
              "    }\n",
              "</style>\n",
              "<table border=\"1\" class=\"dataframe\">\n",
              "  <thead>\n",
              "    <tr style=\"text-align: right;\">\n",
              "      <th></th>\n",
              "      <th>title</th>\n",
              "      <th>category</th>\n",
              "      <th>subscriber</th>\n",
              "      <th>view</th>\n",
              "      <th>video</th>\n",
              "    </tr>\n",
              "  </thead>\n",
              "  <tbody>\n",
              "    <tr>\n",
              "      <th>0</th>\n",
              "      <td>BLACKPINK</td>\n",
              "      <td>[음악/댄스/가수]</td>\n",
              "      <td>5140만</td>\n",
              "      <td>128억5130만</td>\n",
              "      <td>319개</td>\n",
              "    </tr>\n",
              "    <tr>\n",
              "      <th>1</th>\n",
              "      <td>Big Hit Labels</td>\n",
              "      <td>[음악/댄스/가수]</td>\n",
              "      <td>4550만</td>\n",
              "      <td>120억8966만</td>\n",
              "      <td>433개</td>\n",
              "    </tr>\n",
              "    <tr>\n",
              "      <th>2</th>\n",
              "      <td>BANGTANTV</td>\n",
              "      <td>[음악/댄스/가수]</td>\n",
              "      <td>3870만</td>\n",
              "      <td>54억7598만</td>\n",
              "      <td>1,319개</td>\n",
              "    </tr>\n",
              "    <tr>\n",
              "      <th>3</th>\n",
              "      <td>Boram Tube Vlog [보람튜브 브이로그]</td>\n",
              "      <td>[키즈/어린이]</td>\n",
              "      <td>2650만</td>\n",
              "      <td>110억5288만</td>\n",
              "      <td>223개</td>\n",
              "    </tr>\n",
              "    <tr>\n",
              "      <th>4</th>\n",
              "      <td>SMTOWN</td>\n",
              "      <td>[음악/댄스/가수]</td>\n",
              "      <td>2450만</td>\n",
              "      <td>180억7532만</td>\n",
              "      <td>3,583개</td>\n",
              "    </tr>\n",
              "  </tbody>\n",
              "</table>\n",
              "</div>\n",
              "      <button class=\"colab-df-convert\" onclick=\"convertToInteractive('df-c2654673-40de-4e15-8966-b2aabcdca115')\"\n",
              "              title=\"Convert this dataframe to an interactive table.\"\n",
              "              style=\"display:none;\">\n",
              "        \n",
              "  <svg xmlns=\"http://www.w3.org/2000/svg\" height=\"24px\"viewBox=\"0 0 24 24\"\n",
              "       width=\"24px\">\n",
              "    <path d=\"M0 0h24v24H0V0z\" fill=\"none\"/>\n",
              "    <path d=\"M18.56 5.44l.94 2.06.94-2.06 2.06-.94-2.06-.94-.94-2.06-.94 2.06-2.06.94zm-11 1L8.5 8.5l.94-2.06 2.06-.94-2.06-.94L8.5 2.5l-.94 2.06-2.06.94zm10 10l.94 2.06.94-2.06 2.06-.94-2.06-.94-.94-2.06-.94 2.06-2.06.94z\"/><path d=\"M17.41 7.96l-1.37-1.37c-.4-.4-.92-.59-1.43-.59-.52 0-1.04.2-1.43.59L10.3 9.45l-7.72 7.72c-.78.78-.78 2.05 0 2.83L4 21.41c.39.39.9.59 1.41.59.51 0 1.02-.2 1.41-.59l7.78-7.78 2.81-2.81c.8-.78.8-2.07 0-2.86zM5.41 20L4 18.59l7.72-7.72 1.47 1.35L5.41 20z\"/>\n",
              "  </svg>\n",
              "      </button>\n",
              "      \n",
              "  <style>\n",
              "    .colab-df-container {\n",
              "      display:flex;\n",
              "      flex-wrap:wrap;\n",
              "      gap: 12px;\n",
              "    }\n",
              "\n",
              "    .colab-df-convert {\n",
              "      background-color: #E8F0FE;\n",
              "      border: none;\n",
              "      border-radius: 50%;\n",
              "      cursor: pointer;\n",
              "      display: none;\n",
              "      fill: #1967D2;\n",
              "      height: 32px;\n",
              "      padding: 0 0 0 0;\n",
              "      width: 32px;\n",
              "    }\n",
              "\n",
              "    .colab-df-convert:hover {\n",
              "      background-color: #E2EBFA;\n",
              "      box-shadow: 0px 1px 2px rgba(60, 64, 67, 0.3), 0px 1px 3px 1px rgba(60, 64, 67, 0.15);\n",
              "      fill: #174EA6;\n",
              "    }\n",
              "\n",
              "    [theme=dark] .colab-df-convert {\n",
              "      background-color: #3B4455;\n",
              "      fill: #D2E3FC;\n",
              "    }\n",
              "\n",
              "    [theme=dark] .colab-df-convert:hover {\n",
              "      background-color: #434B5C;\n",
              "      box-shadow: 0px 1px 3px 1px rgba(0, 0, 0, 0.15);\n",
              "      filter: drop-shadow(0px 1px 2px rgba(0, 0, 0, 0.3));\n",
              "      fill: #FFFFFF;\n",
              "    }\n",
              "  </style>\n",
              "\n",
              "      <script>\n",
              "        const buttonEl =\n",
              "          document.querySelector('#df-c2654673-40de-4e15-8966-b2aabcdca115 button.colab-df-convert');\n",
              "        buttonEl.style.display =\n",
              "          google.colab.kernel.accessAllowed ? 'block' : 'none';\n",
              "\n",
              "        async function convertToInteractive(key) {\n",
              "          const element = document.querySelector('#df-c2654673-40de-4e15-8966-b2aabcdca115');\n",
              "          const dataTable =\n",
              "            await google.colab.kernel.invokeFunction('convertToInteractive',\n",
              "                                                     [key], {});\n",
              "          if (!dataTable) return;\n",
              "\n",
              "          const docLinkHtml = 'Like what you see? Visit the ' +\n",
              "            '<a target=\"_blank\" href=https://colab.research.google.com/notebooks/data_table.ipynb>data table notebook</a>'\n",
              "            + ' to learn more about interactive tables.';\n",
              "          element.innerHTML = '';\n",
              "          dataTable['output_type'] = 'display_data';\n",
              "          await google.colab.output.renderOutput(dataTable, element);\n",
              "          const docLink = document.createElement('div');\n",
              "          docLink.innerHTML = docLinkHtml;\n",
              "          element.appendChild(docLink);\n",
              "        }\n",
              "      </script>\n",
              "    </div>\n",
              "  </div>\n",
              "  "
            ]
          },
          "metadata": {},
          "execution_count": 8
        }
      ]
    },
    {
      "cell_type": "code",
      "source": [
        "df.tail(3)"
      ],
      "metadata": {
        "colab": {
          "base_uri": "https://localhost:8080/",
          "height": 143
        },
        "id": "BQM_b4fNpSxg",
        "outputId": "ce05e635-73f4-440e-da2e-7d6c72ef582e"
      },
      "execution_count": null,
      "outputs": [
        {
          "output_type": "execute_result",
          "data": {
            "text/plain": [
              "             title category subscriber     view    video\n",
              "997            OCN  [TV/방송]        40만  3억4583만  10,071개\n",
              "998  Bravo jamoasi    [미분류]        40만    6193만      25개\n",
              "999    덕출 : DCTVGO  [TV/방송]        40만    8249만     202개"
            ],
            "text/html": [
              "\n",
              "  <div id=\"df-7ac673fa-095f-4439-a453-4d8006953a82\">\n",
              "    <div class=\"colab-df-container\">\n",
              "      <div>\n",
              "<style scoped>\n",
              "    .dataframe tbody tr th:only-of-type {\n",
              "        vertical-align: middle;\n",
              "    }\n",
              "\n",
              "    .dataframe tbody tr th {\n",
              "        vertical-align: top;\n",
              "    }\n",
              "\n",
              "    .dataframe thead th {\n",
              "        text-align: right;\n",
              "    }\n",
              "</style>\n",
              "<table border=\"1\" class=\"dataframe\">\n",
              "  <thead>\n",
              "    <tr style=\"text-align: right;\">\n",
              "      <th></th>\n",
              "      <th>title</th>\n",
              "      <th>category</th>\n",
              "      <th>subscriber</th>\n",
              "      <th>view</th>\n",
              "      <th>video</th>\n",
              "    </tr>\n",
              "  </thead>\n",
              "  <tbody>\n",
              "    <tr>\n",
              "      <th>997</th>\n",
              "      <td>OCN</td>\n",
              "      <td>[TV/방송]</td>\n",
              "      <td>40만</td>\n",
              "      <td>3억4583만</td>\n",
              "      <td>10,071개</td>\n",
              "    </tr>\n",
              "    <tr>\n",
              "      <th>998</th>\n",
              "      <td>Bravo jamoasi</td>\n",
              "      <td>[미분류]</td>\n",
              "      <td>40만</td>\n",
              "      <td>6193만</td>\n",
              "      <td>25개</td>\n",
              "    </tr>\n",
              "    <tr>\n",
              "      <th>999</th>\n",
              "      <td>덕출 : DCTVGO</td>\n",
              "      <td>[TV/방송]</td>\n",
              "      <td>40만</td>\n",
              "      <td>8249만</td>\n",
              "      <td>202개</td>\n",
              "    </tr>\n",
              "  </tbody>\n",
              "</table>\n",
              "</div>\n",
              "      <button class=\"colab-df-convert\" onclick=\"convertToInteractive('df-7ac673fa-095f-4439-a453-4d8006953a82')\"\n",
              "              title=\"Convert this dataframe to an interactive table.\"\n",
              "              style=\"display:none;\">\n",
              "        \n",
              "  <svg xmlns=\"http://www.w3.org/2000/svg\" height=\"24px\"viewBox=\"0 0 24 24\"\n",
              "       width=\"24px\">\n",
              "    <path d=\"M0 0h24v24H0V0z\" fill=\"none\"/>\n",
              "    <path d=\"M18.56 5.44l.94 2.06.94-2.06 2.06-.94-2.06-.94-.94-2.06-.94 2.06-2.06.94zm-11 1L8.5 8.5l.94-2.06 2.06-.94-2.06-.94L8.5 2.5l-.94 2.06-2.06.94zm10 10l.94 2.06.94-2.06 2.06-.94-2.06-.94-.94-2.06-.94 2.06-2.06.94z\"/><path d=\"M17.41 7.96l-1.37-1.37c-.4-.4-.92-.59-1.43-.59-.52 0-1.04.2-1.43.59L10.3 9.45l-7.72 7.72c-.78.78-.78 2.05 0 2.83L4 21.41c.39.39.9.59 1.41.59.51 0 1.02-.2 1.41-.59l7.78-7.78 2.81-2.81c.8-.78.8-2.07 0-2.86zM5.41 20L4 18.59l7.72-7.72 1.47 1.35L5.41 20z\"/>\n",
              "  </svg>\n",
              "      </button>\n",
              "      \n",
              "  <style>\n",
              "    .colab-df-container {\n",
              "      display:flex;\n",
              "      flex-wrap:wrap;\n",
              "      gap: 12px;\n",
              "    }\n",
              "\n",
              "    .colab-df-convert {\n",
              "      background-color: #E8F0FE;\n",
              "      border: none;\n",
              "      border-radius: 50%;\n",
              "      cursor: pointer;\n",
              "      display: none;\n",
              "      fill: #1967D2;\n",
              "      height: 32px;\n",
              "      padding: 0 0 0 0;\n",
              "      width: 32px;\n",
              "    }\n",
              "\n",
              "    .colab-df-convert:hover {\n",
              "      background-color: #E2EBFA;\n",
              "      box-shadow: 0px 1px 2px rgba(60, 64, 67, 0.3), 0px 1px 3px 1px rgba(60, 64, 67, 0.15);\n",
              "      fill: #174EA6;\n",
              "    }\n",
              "\n",
              "    [theme=dark] .colab-df-convert {\n",
              "      background-color: #3B4455;\n",
              "      fill: #D2E3FC;\n",
              "    }\n",
              "\n",
              "    [theme=dark] .colab-df-convert:hover {\n",
              "      background-color: #434B5C;\n",
              "      box-shadow: 0px 1px 3px 1px rgba(0, 0, 0, 0.15);\n",
              "      filter: drop-shadow(0px 1px 2px rgba(0, 0, 0, 0.3));\n",
              "      fill: #FFFFFF;\n",
              "    }\n",
              "  </style>\n",
              "\n",
              "      <script>\n",
              "        const buttonEl =\n",
              "          document.querySelector('#df-7ac673fa-095f-4439-a453-4d8006953a82 button.colab-df-convert');\n",
              "        buttonEl.style.display =\n",
              "          google.colab.kernel.accessAllowed ? 'block' : 'none';\n",
              "\n",
              "        async function convertToInteractive(key) {\n",
              "          const element = document.querySelector('#df-7ac673fa-095f-4439-a453-4d8006953a82');\n",
              "          const dataTable =\n",
              "            await google.colab.kernel.invokeFunction('convertToInteractive',\n",
              "                                                     [key], {});\n",
              "          if (!dataTable) return;\n",
              "\n",
              "          const docLinkHtml = 'Like what you see? Visit the ' +\n",
              "            '<a target=\"_blank\" href=https://colab.research.google.com/notebooks/data_table.ipynb>data table notebook</a>'\n",
              "            + ' to learn more about interactive tables.';\n",
              "          element.innerHTML = '';\n",
              "          dataTable['output_type'] = 'display_data';\n",
              "          await google.colab.output.renderOutput(dataTable, element);\n",
              "          const docLink = document.createElement('div');\n",
              "          docLink.innerHTML = docLinkHtml;\n",
              "          element.appendChild(docLink);\n",
              "        }\n",
              "      </script>\n",
              "    </div>\n",
              "  </div>\n",
              "  "
            ]
          },
          "metadata": {},
          "execution_count": 9
        }
      ]
    },
    {
      "cell_type": "code",
      "source": [
        "df.info(memory_usage='deep')"
      ],
      "metadata": {
        "colab": {
          "base_uri": "https://localhost:8080/"
        },
        "id": "iXc4VAV9phM4",
        "outputId": "002f2aa8-8373-4b72-ef4a-005f2a6ebe1a"
      },
      "execution_count": null,
      "outputs": [
        {
          "output_type": "stream",
          "name": "stdout",
          "text": [
            "<class 'pandas.core.frame.DataFrame'>\n",
            "RangeIndex: 1000 entries, 0 to 999\n",
            "Data columns (total 5 columns):\n",
            " #   Column      Non-Null Count  Dtype \n",
            "---  ------      --------------  ----- \n",
            " 0   title       1000 non-null   object\n",
            " 1   category    1000 non-null   object\n",
            " 2   subscriber  1000 non-null   object\n",
            " 3   view        1000 non-null   object\n",
            " 4   video       1000 non-null   object\n",
            "dtypes: object(5)\n",
            "memory usage: 455.4 KB\n"
          ]
        }
      ]
    },
    {
      "cell_type": "code",
      "source": [
        "df.shape\n",
        "\n",
        "# 행 열"
      ],
      "metadata": {
        "colab": {
          "base_uri": "https://localhost:8080/"
        },
        "id": "w185YmcHp24p",
        "outputId": "a1689771-aca0-4a53-8b79-e038ffdd6b86"
      },
      "execution_count": null,
      "outputs": [
        {
          "output_type": "execute_result",
          "data": {
            "text/plain": [
              "(1000, 5)"
            ]
          },
          "metadata": {},
          "execution_count": 11
        }
      ]
    },
    {
      "cell_type": "code",
      "source": [
        "df.index"
      ],
      "metadata": {
        "colab": {
          "base_uri": "https://localhost:8080/"
        },
        "id": "tkrTigsXp7bY",
        "outputId": "ea8da241-870c-4b98-a123-3afd0a02f940"
      },
      "execution_count": null,
      "outputs": [
        {
          "output_type": "execute_result",
          "data": {
            "text/plain": [
              "RangeIndex(start=0, stop=1000, step=1)"
            ]
          },
          "metadata": {},
          "execution_count": 12
        }
      ]
    },
    {
      "cell_type": "code",
      "source": [
        "df.index.values\n",
        "df.index.values[:10]"
      ],
      "metadata": {
        "colab": {
          "base_uri": "https://localhost:8080/"
        },
        "id": "bQsIUcpHqObB",
        "outputId": "57872f77-3ae7-4017-ca32-6debae954d2c"
      },
      "execution_count": null,
      "outputs": [
        {
          "output_type": "execute_result",
          "data": {
            "text/plain": [
              "array([0, 1, 2, 3, 4, 5, 6, 7, 8, 9])"
            ]
          },
          "metadata": {},
          "execution_count": 13
        }
      ]
    },
    {
      "cell_type": "code",
      "source": [
        "df.columns"
      ],
      "metadata": {
        "colab": {
          "base_uri": "https://localhost:8080/"
        },
        "id": "rmXsu7JjqCZg",
        "outputId": "ff94de3c-b02a-4b6b-d28f-17ace7c9bf50"
      },
      "execution_count": null,
      "outputs": [
        {
          "output_type": "execute_result",
          "data": {
            "text/plain": [
              "Index(['title', 'category', 'subscriber', 'view', 'video'], dtype='object')"
            ]
          },
          "metadata": {},
          "execution_count": 14
        }
      ]
    },
    {
      "cell_type": "code",
      "source": [
        "df.columns.values"
      ],
      "metadata": {
        "colab": {
          "base_uri": "https://localhost:8080/"
        },
        "id": "BYLIo6skqf24",
        "outputId": "1109ecdd-1d94-415a-a5e4-b31cd0dc120a"
      },
      "execution_count": null,
      "outputs": [
        {
          "output_type": "execute_result",
          "data": {
            "text/plain": [
              "array(['title', 'category', 'subscriber', 'view', 'video'], dtype=object)"
            ]
          },
          "metadata": {},
          "execution_count": 15
        }
      ]
    },
    {
      "cell_type": "code",
      "source": [
        "df.values"
      ],
      "metadata": {
        "colab": {
          "base_uri": "https://localhost:8080/"
        },
        "id": "kgI8wm8VqiZ6",
        "outputId": "f29781da-b19f-4f5f-c8ac-5e683032531d"
      },
      "execution_count": null,
      "outputs": [
        {
          "output_type": "execute_result",
          "data": {
            "text/plain": [
              "array([['BLACKPINK', '[음악/댄스/가수]', '5140만', '128억5130만', '319개'],\n",
              "       ['Big Hit Labels', '[음악/댄스/가수]', '4550만', '120억8966만', '433개'],\n",
              "       ['BANGTANTV', '[음악/댄스/가수]', '3870만', '54억7598만', '1,319개'],\n",
              "       ...,\n",
              "       ['OCN', '[TV/방송]', '40만', '3억4583만', '10,071개'],\n",
              "       ['Bravo jamoasi', '[미분류]', '40만', '6193만', '25개'],\n",
              "       ['덕출 : DCTVGO', '[TV/방송]', '40만', '8249만', '202개']], dtype=object)"
            ]
          },
          "metadata": {},
          "execution_count": 16
        }
      ]
    },
    {
      "cell_type": "code",
      "source": [
        "s = df['video']\n",
        "s.head(5)\n"
      ],
      "metadata": {
        "colab": {
          "base_uri": "https://localhost:8080/"
        },
        "id": "exK23aVQqqTQ",
        "outputId": "cfcb334c-600e-4de4-ea48-65b925654f29"
      },
      "execution_count": null,
      "outputs": [
        {
          "output_type": "execute_result",
          "data": {
            "text/plain": [
              "0      319개\n",
              "1      433개\n",
              "2    1,319개\n",
              "3      223개\n",
              "4    3,583개\n",
              "Name: video, dtype: object"
            ]
          },
          "metadata": {},
          "execution_count": 17
        }
      ]
    },
    {
      "cell_type": "code",
      "source": [
        "temp = df[['video']]\n",
        "print(temp.head(5))"
      ],
      "metadata": {
        "colab": {
          "base_uri": "https://localhost:8080/"
        },
        "id": "z8gclI3Tq-0Y",
        "outputId": "25ee9446-2a9e-4614-af34-c5e4337e6e76"
      },
      "execution_count": null,
      "outputs": [
        {
          "output_type": "stream",
          "name": "stdout",
          "text": [
            "    video\n",
            "0    319개\n",
            "1    433개\n",
            "2  1,319개\n",
            "3    223개\n",
            "4  3,583개\n"
          ]
        }
      ]
    },
    {
      "cell_type": "code",
      "source": [
        "s.index"
      ],
      "metadata": {
        "colab": {
          "base_uri": "https://localhost:8080/"
        },
        "id": "rRmW3h_1rmOK",
        "outputId": "bc7c6659-7300-42fc-be77-94543855ad59"
      },
      "execution_count": null,
      "outputs": [
        {
          "output_type": "execute_result",
          "data": {
            "text/plain": [
              "RangeIndex(start=0, stop=1000, step=1)"
            ]
          },
          "metadata": {},
          "execution_count": 19
        }
      ]
    },
    {
      "cell_type": "code",
      "source": [
        "s.values"
      ],
      "metadata": {
        "colab": {
          "base_uri": "https://localhost:8080/"
        },
        "id": "4sHeyyburpCa",
        "outputId": "110f0d6f-2edc-4919-b432-001b5f7f56b1"
      },
      "execution_count": null,
      "outputs": [
        {
          "output_type": "execute_result",
          "data": {
            "text/plain": [
              "array(['319개', '433개', '1,319개', '223개', '3,583개', '2,205개', '13,291개',\n",
              "       '1,181개', '112개', '2,417개', '267개', '21,772개', '46,830개', '90개',\n",
              "       '384개', '773개', '141개', '149,530개', '886개', '1,493개', '6,730개',\n",
              "       '1,937개', '38,695개', '443개', '2,387개', '2,028개', '1,581개',\n",
              "       '79,567개', '15,773개', '905개', '416개', '268개', '891개', '230개',\n",
              "       '1,217개', '142개', '12,135개', '289개', '58,938개', '15,722개', '572개',\n",
              "       '160개', '389개', '719개', '19,354개', '554개', '24,389개', '1,128개',\n",
              "       '72개', '401개', '321개', '510개', '419개', '1,135개', '20,846개', '216개',\n",
              "       '1,111개', '210,810개', '1,657개', '236개', '339,029개', '485개', '390개',\n",
              "       '94개', '27,665개', '219개', '4,015개', '1,305개', '537개', '348개',\n",
              "       '867개', '3,336개', '835개', '24개', '306개', '411개', '91,783개',\n",
              "       '51,543개', '247개', '76개', '119개', '857개', '647개', '152개', '1,685개',\n",
              "       '440개', '203개', '18,206개', '19,020개', '411개', '198개', '945개',\n",
              "       '2,396개', '1,558개', '387개', '381개', '315개', '93개', '17,324개',\n",
              "       '224개', '359개', '105,922개', '273개', '6,191개', '13개', '113개',\n",
              "       '15,663개', '696개', '6,100개', '375개', '805개', '1,063개', '1,061개',\n",
              "       '193개', '528개', '298개', '350개', '120개', '222개', '52,141개', '510개',\n",
              "       '721개', '336개', '837개', '3,467개', '1,478개', '305개', '1,385개', '1개',\n",
              "       '454개', '115개', '526개', '25개', '3,198개', '545개', '127개', '45,267개',\n",
              "       '971개', '602개', '154개', '663개', '561개', '1,509개', '409개', '233개',\n",
              "       '322개', '134개', '748개', '49개', '187개', '1,411개', '399개', '1,559개',\n",
              "       '1,333개', '1,704개', '490개', '136개', '135개', '293개', '906개',\n",
              "       '10,021개', '150개', '580개', '255개', '82개', '2,421개', '626개', '753개',\n",
              "       '53,632개', '492,791개', '2,735개', '248개', '570개', '2,434개', '947개',\n",
              "       '332개', '52,730개', '634개', '4,269개', '874개', '189개', '412개', '92개',\n",
              "       '414개', '547개', '1,223개', '2,977개', '2,943개', '608개', '10개',\n",
              "       '8,574개', '588개', '1,972개', '25,607개', '0개', '53개', '6,764개',\n",
              "       '1,385개', '348개', '388개', '96개', '4,119개', '92개', '383개', '1,360개',\n",
              "       '291개', '928개', '1,457개', '1,014개', '132개', '128개', '41개', '28개',\n",
              "       '210개', '641개', '1,193개', '364개', '1,155개', '206개', '738개',\n",
              "       '2,301개', '2,231개', '6,929개', '543개', '633개', '257개', '208개',\n",
              "       '699개', '752개', '1,094개', '87개', '142개', '1,613개', '107개', '640개',\n",
              "       '1,185개', '635개', '844개', '92개', '668개', '384개', '94개', '1,108개',\n",
              "       '395개', '33개', '62개', '2,060개', '210개', '91,379개', '53개', '483개',\n",
              "       '4,576개', '1,502개', '468개', '402개', '16,085개', '494개', '248개',\n",
              "       '1,244개', '546개', '118개', '123개', '336개', '251개', '316개', '263개',\n",
              "       '2,642개', '434개', '139개', '666개', '343개', '387개', '186개',\n",
              "       '39,180개', '6,818개', '493개', '442개', '46개', '5,610개', '38,974개',\n",
              "       '5,346개', '294개', '2,366개', '713개', '27개', '620개', '107개', '581개',\n",
              "       '951개', '295개', '25,993개', '318개', '8,783개', '178개', '397개',\n",
              "       '1,037개', '962개', '895개', '161개', '171개', '417개', '191개', '576개',\n",
              "       '184개', '330개', '7,529개', '243개', '561개', '1,593개', '1,359개',\n",
              "       '50개', '917개', '30개', '655개', '14,899개', '204개', '437개', '1,086개',\n",
              "       '1,336개', '114개', '745개', '353개', '167개', '294개', '204개', '289개',\n",
              "       '381개', '1,132개', '857개', '363개', '3,263개', '2,003개', '3,111개',\n",
              "       '1,294개', '28개', '28개', '12개', '318개', '442개', '8,703개', '1,639개',\n",
              "       '1,127개', '175개', '336개', '572개', '312개', '1,929개', '451개',\n",
              "       '1,469개', '6,957개', '705개', '717개', '241개', '4,662개', '160개',\n",
              "       '2,583개', '677개', '13,844개', '1,812개', '123개', '2,362개', '1,749개',\n",
              "       '1,060개', '586개', '17,943개', '100개', '87,768개', '4,041개', '1,539개',\n",
              "       '1,060개', '719개', '343개', '1,744개', '75,985개', '400개', '154개',\n",
              "       '1,041개', '1,322개', '2,169개', '857개', '567개', '7,686개', '610개',\n",
              "       '1,523개', '141개', '654개', '1,844개', '206개', '805개', '145,515개',\n",
              "       '282개', '41개', '238개', '2,427개', '26개', '2,430개', '1,638개', '41개',\n",
              "       '309개', '90개', '29개', '4,558개', '52,662개', '452개', '1,089개', '73개',\n",
              "       '116개', '149개', '43,020개', '30,431개', '1,841개', '415개', '2,798개',\n",
              "       '137개', '3,425개', '150개', '593개', '888개', '184개', '2,244개', '854개',\n",
              "       '164개', '258개', '4,429개', '297개', '85개', '1,625개', '1,055개',\n",
              "       '475개', '1,260개', '3,273개', '87,228개', '3,300개', '646개', '319개',\n",
              "       '413개', '1,468개', '3,424개', '2,417개', '405개', '38개', '284개',\n",
              "       '461개', '127개', '329개', '315개', '646개', '445개', '401개', '539개',\n",
              "       '440개', '226개', '856개', '7,687개', '5개', '106개', '533개', '6,981개',\n",
              "       '333개', '812개', '49개', '536개', '11,297개', '964개', '37개', '263개',\n",
              "       '126개', '647개', '256개', '167개', '159개', '106개', '506개', '230개',\n",
              "       '1,892개', '1,175개', '198개', '1,091개', '951개', '1,133개', '1,634개',\n",
              "       '10개', '176개', '199개', '391개', '127개', '106개', '257개', '489개',\n",
              "       '486개', '7,699개', '119개', '36개', '535개', '269개', '274개', '3,115개',\n",
              "       '342개', '496개', '119개', '1,272개', '2,286개', '57,729개', '1,584개',\n",
              "       '143개', '5,548개', '1,051개', '283개', '365개', '216개', '293개', '159개',\n",
              "       '518개', '50개', '121개', '4,509개', '330개', '1,772개', '2,730개',\n",
              "       '4,046개', '163개', '3,005개', '870개', '15,130개', '2,670개', '227개',\n",
              "       '133개', '404개', '334개', '1,425개', '2,928개', '239개', '737개', '199개',\n",
              "       '4,721개', '1,563개', '2,271개', '221개', '257개', '9,564개', '817개',\n",
              "       '584개', '56개', '137개', '299개', '251개', '543개', '12개', '217개',\n",
              "       '4,978개', '3,620개', '1,213개', '257개', '191개', '152개', '1,087개',\n",
              "       '1,834개', '189개', '267개', '385개', '1,541개', '1,559개', '136개',\n",
              "       '478개', '172개', '5,086개', '709개', '1,058개', '184개', '395개', '759개',\n",
              "       '389개', '97개', '1,571개', '110개', '87개', '220개', '909개', '245개',\n",
              "       '276개', '151개', '1,200개', '6,170개', '778개', '242개', '168개', '72개',\n",
              "       '1,067개', '417개', '449개', '182개', '383개', '1,050개', '4,756개',\n",
              "       '330개', '179개', '357개', '1,990개', '314개', '85개', '817개', '259개',\n",
              "       '956개', '118개', '1,129개', '2,392개', '14,115개', '147개', '519개',\n",
              "       '8,506개', '725개', '732개', '93개', '743개', '454개', '151개', '2,375개',\n",
              "       '339개', '664개', '25개', '171개', '171개', '49개', '1,872개', '454개',\n",
              "       '6,953개', '38개', '161개', '128개', '801개', '5,320개', '489개',\n",
              "       '1,556개', '68개', '1,101개', '1,012개', '648개', '164개', '10,861개',\n",
              "       '1,106개', '416개', '268개', '55개', '290개', '221개', '166개', '998개',\n",
              "       '816개', '389개', '1,793개', '422개', '1,686개', '1,673개', '201개',\n",
              "       '192개', '453개', '1,165개', '4,687개', '631개', '43개', '2,680개',\n",
              "       '423개', '306개', '1,846개', '243개', '506개', '924개', '398개', '266개',\n",
              "       '238개', '406개', '2,033개', '598개', '432개', '3,515개', '369개', '361개',\n",
              "       '145개', '454개', '232개', '520개', '201개', '2,120개', '596개', '1,123개',\n",
              "       '210개', '604개', '151개', '562개', '640개', '126개', '700개', '1,327개',\n",
              "       '302개', '384개', '854개', '133개', '320개', '347개', '1,109개', '317개',\n",
              "       '72,397개', '214개', '829개', '1,517개', '245개', '9,286개', '452개',\n",
              "       '8,397개', '659개', '101개', '1,271개', '948개', '300개', '93개',\n",
              "       '2,945개', '12,470개', '152개', '623개', '1,022개', '277개', '152개',\n",
              "       '443개', '237개', '342개', '590개', '149개', '2,001개', '979개', '5,847개',\n",
              "       '105개', '358개', '1,323개', '2,133개', '1,690개', '175개', '129개',\n",
              "       '311,370개', '2,682개', '3,137개', '900개', '1,497개', '9개', '976개',\n",
              "       '12,056개', '1,087개', '201개', '16,738개', '31개', '211개', '2,648개',\n",
              "       '189개', '712개', '2,338개', '1,714개', '4,619개', '175개', '100개',\n",
              "       '2,404개', '343개', '1,421개', '1,034개', '1,129개', '253개', '1,192개',\n",
              "       '602개', '1,427개', '1,013개', '1,552개', '26,950개', '688개', '195개',\n",
              "       '103개', '1,451개', '181개', '122개', '7,381개', '6,639개', '107개',\n",
              "       '964개', '610개', '2,036개', '77개', '802개', '263개', '485개', '131개',\n",
              "       '389개', '192개', '288개', '669개', '908개', '138개', '250개', '476개',\n",
              "       '129개', '214개', '37개', '12개', '1,074개', '2,814개', '275개', '160개',\n",
              "       '490개', '4,960개', '414개', '466개', '115개', '131개', '133개', '175개',\n",
              "       '9,337개', '109개', '182개', '2,451개', '345개', '2,644개', '168개',\n",
              "       '891개', '56개', '16,562개', '2,829개', '7,026개', '307개', '2,099개',\n",
              "       '3,661개', '554개', '2,913개', '649개', '225개', '338개', '1,118개',\n",
              "       '2,082개', '138개', '200개', '126개', '488개', '1,402개', '8,411개',\n",
              "       '430개', '188개', '259개', '1,720개', '1,014개', '329개', '42개',\n",
              "       '2,102개', '575개', '209개', '1,069개', '3,252개', '229개', '213개',\n",
              "       '3,035개', '722개', '1,291개', '1,995개', '2,269개', '662개', '67개',\n",
              "       '377개', '941개', '201개', '83개', '102개', '446개', '427개', '439개',\n",
              "       '501개', '991개', '1,280개', '97개', '244개', '335개', '3,574개', '591개',\n",
              "       '226개', '349개', '340개', '93개', '3,147개', '720개', '117개', '2,282개',\n",
              "       '263개', '1,807개', '338개', '53개', '117개', '165개', '43개', '16,055개',\n",
              "       '495개', '1,840개', '4,496개', '89개', '1,167개', '1,531개', '1,276개',\n",
              "       '113개', '87개', '238개', '416개', '1,136개', '9,945개', '971개', '353개',\n",
              "       '691개', '1,084개', '11,913개', '487개', '300개', '78개', '320개',\n",
              "       '1,395개', '3,801개', '1,009개', '242개', '343개', '222개', '3,277개',\n",
              "       '240개', '665개', '125개', '1,229개', '2,052개', '173개', '296개',\n",
              "       '2,608개', '1,689개', '632개', '267개', '846개', '223개', '11,411개',\n",
              "       '121개', '506개', '173개', '187개', '160개', '7,691개', '4,245개', '166개',\n",
              "       '32개', '251개', '357개', '1,453개', '121개', '2,720개', '279개', '548개',\n",
              "       '3,429개', '348개', '192개', '6,106개', '1,156개', '538개', '1,798개',\n",
              "       '97개', '750개', '323개', '506개', '1,774개', '585개', '3개', '591개',\n",
              "       '1,323개', '291개', '317개', '120개', '1,491개', '338개', '680개', '76개',\n",
              "       '128개', '1,476개', '349개', '308개', '305개', '182개', '357개', '232개',\n",
              "       '3,363개', '93개', '1,346개', '281개', '198개', '484개', '114,494개',\n",
              "       '524개', '481개', '48,383개', '64,694개', '744개', '5,152개', '503개',\n",
              "       '226개', '10,071개', '25개', '202개'], dtype=object)"
            ]
          },
          "metadata": {},
          "execution_count": 20
        }
      ]
    },
    {
      "cell_type": "code",
      "source": [
        "df.columns"
      ],
      "metadata": {
        "colab": {
          "base_uri": "https://localhost:8080/"
        },
        "id": "qBuJzWOHr2Ap",
        "outputId": "8b5bb7c6-4f33-4567-c80e-c8cf7d101901"
      },
      "execution_count": null,
      "outputs": [
        {
          "output_type": "execute_result",
          "data": {
            "text/plain": [
              "Index(['title', 'category', 'subscriber', 'view', 'video'], dtype='object')"
            ]
          },
          "metadata": {},
          "execution_count": 21
        }
      ]
    },
    {
      "cell_type": "code",
      "source": [
        "df.columns = ['채널', '카테고리', '구독자', '조회', '영상']\n",
        "df.head(2)"
      ],
      "metadata": {
        "colab": {
          "base_uri": "https://localhost:8080/",
          "height": 112
        },
        "id": "mV34-UoGsOMZ",
        "outputId": "34f0ed9f-ba32-4b03-ecd8-dad4de18bf8a"
      },
      "execution_count": null,
      "outputs": [
        {
          "output_type": "execute_result",
          "data": {
            "text/plain": [
              "               채널        카테고리    구독자         조회    영상\n",
              "0       BLACKPINK  [음악/댄스/가수]  5140만  128억5130만  319개\n",
              "1  Big Hit Labels  [음악/댄스/가수]  4550만  120억8966만  433개"
            ],
            "text/html": [
              "\n",
              "  <div id=\"df-6a7f99b0-885a-4417-9de1-9aa27fcabe92\">\n",
              "    <div class=\"colab-df-container\">\n",
              "      <div>\n",
              "<style scoped>\n",
              "    .dataframe tbody tr th:only-of-type {\n",
              "        vertical-align: middle;\n",
              "    }\n",
              "\n",
              "    .dataframe tbody tr th {\n",
              "        vertical-align: top;\n",
              "    }\n",
              "\n",
              "    .dataframe thead th {\n",
              "        text-align: right;\n",
              "    }\n",
              "</style>\n",
              "<table border=\"1\" class=\"dataframe\">\n",
              "  <thead>\n",
              "    <tr style=\"text-align: right;\">\n",
              "      <th></th>\n",
              "      <th>채널</th>\n",
              "      <th>카테고리</th>\n",
              "      <th>구독자</th>\n",
              "      <th>조회</th>\n",
              "      <th>영상</th>\n",
              "    </tr>\n",
              "  </thead>\n",
              "  <tbody>\n",
              "    <tr>\n",
              "      <th>0</th>\n",
              "      <td>BLACKPINK</td>\n",
              "      <td>[음악/댄스/가수]</td>\n",
              "      <td>5140만</td>\n",
              "      <td>128억5130만</td>\n",
              "      <td>319개</td>\n",
              "    </tr>\n",
              "    <tr>\n",
              "      <th>1</th>\n",
              "      <td>Big Hit Labels</td>\n",
              "      <td>[음악/댄스/가수]</td>\n",
              "      <td>4550만</td>\n",
              "      <td>120억8966만</td>\n",
              "      <td>433개</td>\n",
              "    </tr>\n",
              "  </tbody>\n",
              "</table>\n",
              "</div>\n",
              "      <button class=\"colab-df-convert\" onclick=\"convertToInteractive('df-6a7f99b0-885a-4417-9de1-9aa27fcabe92')\"\n",
              "              title=\"Convert this dataframe to an interactive table.\"\n",
              "              style=\"display:none;\">\n",
              "        \n",
              "  <svg xmlns=\"http://www.w3.org/2000/svg\" height=\"24px\"viewBox=\"0 0 24 24\"\n",
              "       width=\"24px\">\n",
              "    <path d=\"M0 0h24v24H0V0z\" fill=\"none\"/>\n",
              "    <path d=\"M18.56 5.44l.94 2.06.94-2.06 2.06-.94-2.06-.94-.94-2.06-.94 2.06-2.06.94zm-11 1L8.5 8.5l.94-2.06 2.06-.94-2.06-.94L8.5 2.5l-.94 2.06-2.06.94zm10 10l.94 2.06.94-2.06 2.06-.94-2.06-.94-.94-2.06-.94 2.06-2.06.94z\"/><path d=\"M17.41 7.96l-1.37-1.37c-.4-.4-.92-.59-1.43-.59-.52 0-1.04.2-1.43.59L10.3 9.45l-7.72 7.72c-.78.78-.78 2.05 0 2.83L4 21.41c.39.39.9.59 1.41.59.51 0 1.02-.2 1.41-.59l7.78-7.78 2.81-2.81c.8-.78.8-2.07 0-2.86zM5.41 20L4 18.59l7.72-7.72 1.47 1.35L5.41 20z\"/>\n",
              "  </svg>\n",
              "      </button>\n",
              "      \n",
              "  <style>\n",
              "    .colab-df-container {\n",
              "      display:flex;\n",
              "      flex-wrap:wrap;\n",
              "      gap: 12px;\n",
              "    }\n",
              "\n",
              "    .colab-df-convert {\n",
              "      background-color: #E8F0FE;\n",
              "      border: none;\n",
              "      border-radius: 50%;\n",
              "      cursor: pointer;\n",
              "      display: none;\n",
              "      fill: #1967D2;\n",
              "      height: 32px;\n",
              "      padding: 0 0 0 0;\n",
              "      width: 32px;\n",
              "    }\n",
              "\n",
              "    .colab-df-convert:hover {\n",
              "      background-color: #E2EBFA;\n",
              "      box-shadow: 0px 1px 2px rgba(60, 64, 67, 0.3), 0px 1px 3px 1px rgba(60, 64, 67, 0.15);\n",
              "      fill: #174EA6;\n",
              "    }\n",
              "\n",
              "    [theme=dark] .colab-df-convert {\n",
              "      background-color: #3B4455;\n",
              "      fill: #D2E3FC;\n",
              "    }\n",
              "\n",
              "    [theme=dark] .colab-df-convert:hover {\n",
              "      background-color: #434B5C;\n",
              "      box-shadow: 0px 1px 3px 1px rgba(0, 0, 0, 0.15);\n",
              "      filter: drop-shadow(0px 1px 2px rgba(0, 0, 0, 0.3));\n",
              "      fill: #FFFFFF;\n",
              "    }\n",
              "  </style>\n",
              "\n",
              "      <script>\n",
              "        const buttonEl =\n",
              "          document.querySelector('#df-6a7f99b0-885a-4417-9de1-9aa27fcabe92 button.colab-df-convert');\n",
              "        buttonEl.style.display =\n",
              "          google.colab.kernel.accessAllowed ? 'block' : 'none';\n",
              "\n",
              "        async function convertToInteractive(key) {\n",
              "          const element = document.querySelector('#df-6a7f99b0-885a-4417-9de1-9aa27fcabe92');\n",
              "          const dataTable =\n",
              "            await google.colab.kernel.invokeFunction('convertToInteractive',\n",
              "                                                     [key], {});\n",
              "          if (!dataTable) return;\n",
              "\n",
              "          const docLinkHtml = 'Like what you see? Visit the ' +\n",
              "            '<a target=\"_blank\" href=https://colab.research.google.com/notebooks/data_table.ipynb>data table notebook</a>'\n",
              "            + ' to learn more about interactive tables.';\n",
              "          element.innerHTML = '';\n",
              "          dataTable['output_type'] = 'display_data';\n",
              "          await google.colab.output.renderOutput(dataTable, element);\n",
              "          const docLink = document.createElement('div');\n",
              "          docLink.innerHTML = docLinkHtml;\n",
              "          element.appendChild(docLink);\n",
              "        }\n",
              "      </script>\n",
              "    </div>\n",
              "  </div>\n",
              "  "
            ]
          },
          "metadata": {},
          "execution_count": 22
        }
      ]
    },
    {
      "cell_type": "code",
      "source": [
        "## [빅데이터 분석기사 실기 - Pandas 03] 데이터 및 dtype 변경 1/2\n",
        "#  [1-12] 원본(original)을 복사하여 df 이름을 부여합니다.\n",
        "df = original.copy()"
      ],
      "metadata": {
        "id": "WczvurSijZa7"
      },
      "execution_count": null,
      "outputs": []
    },
    {
      "cell_type": "code",
      "source": [
        "df.head(5)"
      ],
      "metadata": {
        "colab": {
          "base_uri": "https://localhost:8080/",
          "height": 206
        },
        "id": "7Uq3EAZ1jkdD",
        "outputId": "91e939e6-b98d-4a1f-bf4d-3bf97459ef8d"
      },
      "execution_count": null,
      "outputs": [
        {
          "output_type": "execute_result",
          "data": {
            "text/plain": [
              "                         title    category subscriber       view   video\n",
              "0                    BLACKPINK  [음악/댄스/가수]      5140만  128억5130만    319개\n",
              "1               Big Hit Labels  [음악/댄스/가수]      4550만  120억8966만    433개\n",
              "2                    BANGTANTV  [음악/댄스/가수]      3870만   54억7598만  1,319개\n",
              "3  Boram Tube Vlog [보람튜브 브이로그]    [키즈/어린이]      2650만  110억5288만    223개\n",
              "4                       SMTOWN  [음악/댄스/가수]      2450만  180억7532만  3,583개"
            ],
            "text/html": [
              "\n",
              "  <div id=\"df-b09b9fc8-7be9-4817-9c8f-872f6f3500db\">\n",
              "    <div class=\"colab-df-container\">\n",
              "      <div>\n",
              "<style scoped>\n",
              "    .dataframe tbody tr th:only-of-type {\n",
              "        vertical-align: middle;\n",
              "    }\n",
              "\n",
              "    .dataframe tbody tr th {\n",
              "        vertical-align: top;\n",
              "    }\n",
              "\n",
              "    .dataframe thead th {\n",
              "        text-align: right;\n",
              "    }\n",
              "</style>\n",
              "<table border=\"1\" class=\"dataframe\">\n",
              "  <thead>\n",
              "    <tr style=\"text-align: right;\">\n",
              "      <th></th>\n",
              "      <th>title</th>\n",
              "      <th>category</th>\n",
              "      <th>subscriber</th>\n",
              "      <th>view</th>\n",
              "      <th>video</th>\n",
              "    </tr>\n",
              "  </thead>\n",
              "  <tbody>\n",
              "    <tr>\n",
              "      <th>0</th>\n",
              "      <td>BLACKPINK</td>\n",
              "      <td>[음악/댄스/가수]</td>\n",
              "      <td>5140만</td>\n",
              "      <td>128억5130만</td>\n",
              "      <td>319개</td>\n",
              "    </tr>\n",
              "    <tr>\n",
              "      <th>1</th>\n",
              "      <td>Big Hit Labels</td>\n",
              "      <td>[음악/댄스/가수]</td>\n",
              "      <td>4550만</td>\n",
              "      <td>120억8966만</td>\n",
              "      <td>433개</td>\n",
              "    </tr>\n",
              "    <tr>\n",
              "      <th>2</th>\n",
              "      <td>BANGTANTV</td>\n",
              "      <td>[음악/댄스/가수]</td>\n",
              "      <td>3870만</td>\n",
              "      <td>54억7598만</td>\n",
              "      <td>1,319개</td>\n",
              "    </tr>\n",
              "    <tr>\n",
              "      <th>3</th>\n",
              "      <td>Boram Tube Vlog [보람튜브 브이로그]</td>\n",
              "      <td>[키즈/어린이]</td>\n",
              "      <td>2650만</td>\n",
              "      <td>110억5288만</td>\n",
              "      <td>223개</td>\n",
              "    </tr>\n",
              "    <tr>\n",
              "      <th>4</th>\n",
              "      <td>SMTOWN</td>\n",
              "      <td>[음악/댄스/가수]</td>\n",
              "      <td>2450만</td>\n",
              "      <td>180억7532만</td>\n",
              "      <td>3,583개</td>\n",
              "    </tr>\n",
              "  </tbody>\n",
              "</table>\n",
              "</div>\n",
              "      <button class=\"colab-df-convert\" onclick=\"convertToInteractive('df-b09b9fc8-7be9-4817-9c8f-872f6f3500db')\"\n",
              "              title=\"Convert this dataframe to an interactive table.\"\n",
              "              style=\"display:none;\">\n",
              "        \n",
              "  <svg xmlns=\"http://www.w3.org/2000/svg\" height=\"24px\"viewBox=\"0 0 24 24\"\n",
              "       width=\"24px\">\n",
              "    <path d=\"M0 0h24v24H0V0z\" fill=\"none\"/>\n",
              "    <path d=\"M18.56 5.44l.94 2.06.94-2.06 2.06-.94-2.06-.94-.94-2.06-.94 2.06-2.06.94zm-11 1L8.5 8.5l.94-2.06 2.06-.94-2.06-.94L8.5 2.5l-.94 2.06-2.06.94zm10 10l.94 2.06.94-2.06 2.06-.94-2.06-.94-.94-2.06-.94 2.06-2.06.94z\"/><path d=\"M17.41 7.96l-1.37-1.37c-.4-.4-.92-.59-1.43-.59-.52 0-1.04.2-1.43.59L10.3 9.45l-7.72 7.72c-.78.78-.78 2.05 0 2.83L4 21.41c.39.39.9.59 1.41.59.51 0 1.02-.2 1.41-.59l7.78-7.78 2.81-2.81c.8-.78.8-2.07 0-2.86zM5.41 20L4 18.59l7.72-7.72 1.47 1.35L5.41 20z\"/>\n",
              "  </svg>\n",
              "      </button>\n",
              "      \n",
              "  <style>\n",
              "    .colab-df-container {\n",
              "      display:flex;\n",
              "      flex-wrap:wrap;\n",
              "      gap: 12px;\n",
              "    }\n",
              "\n",
              "    .colab-df-convert {\n",
              "      background-color: #E8F0FE;\n",
              "      border: none;\n",
              "      border-radius: 50%;\n",
              "      cursor: pointer;\n",
              "      display: none;\n",
              "      fill: #1967D2;\n",
              "      height: 32px;\n",
              "      padding: 0 0 0 0;\n",
              "      width: 32px;\n",
              "    }\n",
              "\n",
              "    .colab-df-convert:hover {\n",
              "      background-color: #E2EBFA;\n",
              "      box-shadow: 0px 1px 2px rgba(60, 64, 67, 0.3), 0px 1px 3px 1px rgba(60, 64, 67, 0.15);\n",
              "      fill: #174EA6;\n",
              "    }\n",
              "\n",
              "    [theme=dark] .colab-df-convert {\n",
              "      background-color: #3B4455;\n",
              "      fill: #D2E3FC;\n",
              "    }\n",
              "\n",
              "    [theme=dark] .colab-df-convert:hover {\n",
              "      background-color: #434B5C;\n",
              "      box-shadow: 0px 1px 3px 1px rgba(0, 0, 0, 0.15);\n",
              "      filter: drop-shadow(0px 1px 2px rgba(0, 0, 0, 0.3));\n",
              "      fill: #FFFFFF;\n",
              "    }\n",
              "  </style>\n",
              "\n",
              "      <script>\n",
              "        const buttonEl =\n",
              "          document.querySelector('#df-b09b9fc8-7be9-4817-9c8f-872f6f3500db button.colab-df-convert');\n",
              "        buttonEl.style.display =\n",
              "          google.colab.kernel.accessAllowed ? 'block' : 'none';\n",
              "\n",
              "        async function convertToInteractive(key) {\n",
              "          const element = document.querySelector('#df-b09b9fc8-7be9-4817-9c8f-872f6f3500db');\n",
              "          const dataTable =\n",
              "            await google.colab.kernel.invokeFunction('convertToInteractive',\n",
              "                                                     [key], {});\n",
              "          if (!dataTable) return;\n",
              "\n",
              "          const docLinkHtml = 'Like what you see? Visit the ' +\n",
              "            '<a target=\"_blank\" href=https://colab.research.google.com/notebooks/data_table.ipynb>data table notebook</a>'\n",
              "            + ' to learn more about interactive tables.';\n",
              "          element.innerHTML = '';\n",
              "          dataTable['output_type'] = 'display_data';\n",
              "          await google.colab.output.renderOutput(dataTable, element);\n",
              "          const docLink = document.createElement('div');\n",
              "          docLink.innerHTML = docLinkHtml;\n",
              "          element.appendChild(docLink);\n",
              "        }\n",
              "      </script>\n",
              "    </div>\n",
              "  </div>\n",
              "  "
            ]
          },
          "metadata": {},
          "execution_count": 25
        }
      ]
    },
    {
      "cell_type": "code",
      "source": [
        "# [1-14] df의 각 column 별 dtype을 확인합니다.\n",
        "df.dtypes\n",
        "print(df.dtypes)"
      ],
      "metadata": {
        "colab": {
          "base_uri": "https://localhost:8080/"
        },
        "id": "oDJ3SQf7kHcM",
        "outputId": "c224a525-67de-417d-9d87-e000c5be703a"
      },
      "execution_count": null,
      "outputs": [
        {
          "output_type": "stream",
          "name": "stdout",
          "text": [
            "title         object\n",
            "category      object\n",
            "subscriber    object\n",
            "view          object\n",
            "video         object\n",
            "dtype: object\n"
          ]
        }
      ]
    },
    {
      "cell_type": "code",
      "source": [
        "print(df['subscriber'].dtype)"
      ],
      "metadata": {
        "colab": {
          "base_uri": "https://localhost:8080/"
        },
        "id": "KPcZNx5pkLFe",
        "outputId": "0ec4c692-6651-4295-9870-0fa90ad12f23"
      },
      "execution_count": null,
      "outputs": [
        {
          "output_type": "stream",
          "name": "stdout",
          "text": [
            "object\n"
          ]
        }
      ]
    },
    {
      "cell_type": "code",
      "source": [
        "# [1-16] df의 'subscriber'의 첫 3개 행을 출력해 내용을 확인합니다.\n",
        "\n",
        "df['subscriber'].head(3)"
      ],
      "metadata": {
        "colab": {
          "base_uri": "https://localhost:8080/"
        },
        "id": "59uJG_jBkXgl",
        "outputId": "4c4c9f53-8afd-4645-ff13-172223396a13"
      },
      "execution_count": null,
      "outputs": [
        {
          "output_type": "execute_result",
          "data": {
            "text/plain": [
              "0    5140만\n",
              "1    4550만\n",
              "2    3870만\n",
              "Name: subscriber, dtype: object"
            ]
          },
          "metadata": {},
          "execution_count": 30
        }
      ]
    },
    {
      "cell_type": "code",
      "source": [
        "# [1-17] df의 'subscriber'컬럼의 dtype을 'int64' 으로 변경하여 보자\n",
        "# 오류 발생함 - 한글, 특수문자 등이 섞여 있으면 정수로 변경할 수 없음\n",
        "df['subscriber'].astype('int64')"
      ],
      "metadata": {
        "colab": {
          "base_uri": "https://localhost:8080/",
          "height": 360
        },
        "id": "inQCD1EXk2dz",
        "outputId": "fa45a00e-317f-4ef1-99ee-09c85a16ff4f"
      },
      "execution_count": null,
      "outputs": [
        {
          "output_type": "error",
          "ename": "ValueError",
          "evalue": "ignored",
          "traceback": [
            "\u001b[0;31m---------------------------------------------------------------------------\u001b[0m",
            "\u001b[0;31mValueError\u001b[0m                                Traceback (most recent call last)",
            "\u001b[0;32m<ipython-input-31-502beb42af8f>\u001b[0m in \u001b[0;36m<cell line: 3>\u001b[0;34m()\u001b[0m\n\u001b[1;32m      1\u001b[0m \u001b[0;31m# [1-17] df의 'subscriber'컬럼의 dtype을 'int64' 으로 변경하여 보자\u001b[0m\u001b[0;34m\u001b[0m\u001b[0;34m\u001b[0m\u001b[0m\n\u001b[1;32m      2\u001b[0m \u001b[0;31m# 오류 발생함 - 한글, 특수문자 등이 섞여 있으면 정수로 변경할 수 없음\u001b[0m\u001b[0;34m\u001b[0m\u001b[0;34m\u001b[0m\u001b[0m\n\u001b[0;32m----> 3\u001b[0;31m \u001b[0mdf\u001b[0m\u001b[0;34m[\u001b[0m\u001b[0;34m'subscriber'\u001b[0m\u001b[0;34m]\u001b[0m\u001b[0;34m.\u001b[0m\u001b[0mastype\u001b[0m\u001b[0;34m(\u001b[0m\u001b[0;34m'int64'\u001b[0m\u001b[0;34m)\u001b[0m\u001b[0;34m\u001b[0m\u001b[0;34m\u001b[0m\u001b[0m\n\u001b[0m",
            "\u001b[0;32m/usr/local/lib/python3.10/dist-packages/pandas/core/generic.py\u001b[0m in \u001b[0;36mastype\u001b[0;34m(self, dtype, copy, errors)\u001b[0m\n\u001b[1;32m   6238\u001b[0m         \u001b[0;32melse\u001b[0m\u001b[0;34m:\u001b[0m\u001b[0;34m\u001b[0m\u001b[0;34m\u001b[0m\u001b[0m\n\u001b[1;32m   6239\u001b[0m             \u001b[0;31m# else, only a single dtype is given\u001b[0m\u001b[0;34m\u001b[0m\u001b[0;34m\u001b[0m\u001b[0m\n\u001b[0;32m-> 6240\u001b[0;31m             \u001b[0mnew_data\u001b[0m \u001b[0;34m=\u001b[0m \u001b[0mself\u001b[0m\u001b[0;34m.\u001b[0m\u001b[0m_mgr\u001b[0m\u001b[0;34m.\u001b[0m\u001b[0mastype\u001b[0m\u001b[0;34m(\u001b[0m\u001b[0mdtype\u001b[0m\u001b[0;34m=\u001b[0m\u001b[0mdtype\u001b[0m\u001b[0;34m,\u001b[0m \u001b[0mcopy\u001b[0m\u001b[0;34m=\u001b[0m\u001b[0mcopy\u001b[0m\u001b[0;34m,\u001b[0m \u001b[0merrors\u001b[0m\u001b[0;34m=\u001b[0m\u001b[0merrors\u001b[0m\u001b[0;34m)\u001b[0m\u001b[0;34m\u001b[0m\u001b[0;34m\u001b[0m\u001b[0m\n\u001b[0m\u001b[1;32m   6241\u001b[0m             \u001b[0;32mreturn\u001b[0m \u001b[0mself\u001b[0m\u001b[0;34m.\u001b[0m\u001b[0m_constructor\u001b[0m\u001b[0;34m(\u001b[0m\u001b[0mnew_data\u001b[0m\u001b[0;34m)\u001b[0m\u001b[0;34m.\u001b[0m\u001b[0m__finalize__\u001b[0m\u001b[0;34m(\u001b[0m\u001b[0mself\u001b[0m\u001b[0;34m,\u001b[0m \u001b[0mmethod\u001b[0m\u001b[0;34m=\u001b[0m\u001b[0;34m\"astype\"\u001b[0m\u001b[0;34m)\u001b[0m\u001b[0;34m\u001b[0m\u001b[0;34m\u001b[0m\u001b[0m\n\u001b[1;32m   6242\u001b[0m \u001b[0;34m\u001b[0m\u001b[0m\n",
            "\u001b[0;32m/usr/local/lib/python3.10/dist-packages/pandas/core/internals/managers.py\u001b[0m in \u001b[0;36mastype\u001b[0;34m(self, dtype, copy, errors)\u001b[0m\n\u001b[1;32m    446\u001b[0m \u001b[0;34m\u001b[0m\u001b[0m\n\u001b[1;32m    447\u001b[0m     \u001b[0;32mdef\u001b[0m \u001b[0mastype\u001b[0m\u001b[0;34m(\u001b[0m\u001b[0mself\u001b[0m\u001b[0;34m:\u001b[0m \u001b[0mT\u001b[0m\u001b[0;34m,\u001b[0m \u001b[0mdtype\u001b[0m\u001b[0;34m,\u001b[0m \u001b[0mcopy\u001b[0m\u001b[0;34m:\u001b[0m \u001b[0mbool\u001b[0m \u001b[0;34m=\u001b[0m \u001b[0;32mFalse\u001b[0m\u001b[0;34m,\u001b[0m \u001b[0merrors\u001b[0m\u001b[0;34m:\u001b[0m \u001b[0mstr\u001b[0m \u001b[0;34m=\u001b[0m \u001b[0;34m\"raise\"\u001b[0m\u001b[0;34m)\u001b[0m \u001b[0;34m->\u001b[0m \u001b[0mT\u001b[0m\u001b[0;34m:\u001b[0m\u001b[0;34m\u001b[0m\u001b[0;34m\u001b[0m\u001b[0m\n\u001b[0;32m--> 448\u001b[0;31m         \u001b[0;32mreturn\u001b[0m \u001b[0mself\u001b[0m\u001b[0;34m.\u001b[0m\u001b[0mapply\u001b[0m\u001b[0;34m(\u001b[0m\u001b[0;34m\"astype\"\u001b[0m\u001b[0;34m,\u001b[0m \u001b[0mdtype\u001b[0m\u001b[0;34m=\u001b[0m\u001b[0mdtype\u001b[0m\u001b[0;34m,\u001b[0m \u001b[0mcopy\u001b[0m\u001b[0;34m=\u001b[0m\u001b[0mcopy\u001b[0m\u001b[0;34m,\u001b[0m \u001b[0merrors\u001b[0m\u001b[0;34m=\u001b[0m\u001b[0merrors\u001b[0m\u001b[0;34m)\u001b[0m\u001b[0;34m\u001b[0m\u001b[0;34m\u001b[0m\u001b[0m\n\u001b[0m\u001b[1;32m    449\u001b[0m \u001b[0;34m\u001b[0m\u001b[0m\n\u001b[1;32m    450\u001b[0m     def convert(\n",
            "\u001b[0;32m/usr/local/lib/python3.10/dist-packages/pandas/core/internals/managers.py\u001b[0m in \u001b[0;36mapply\u001b[0;34m(self, f, align_keys, ignore_failures, **kwargs)\u001b[0m\n\u001b[1;32m    350\u001b[0m                     \u001b[0mapplied\u001b[0m \u001b[0;34m=\u001b[0m \u001b[0mb\u001b[0m\u001b[0;34m.\u001b[0m\u001b[0mapply\u001b[0m\u001b[0;34m(\u001b[0m\u001b[0mf\u001b[0m\u001b[0;34m,\u001b[0m \u001b[0;34m**\u001b[0m\u001b[0mkwargs\u001b[0m\u001b[0;34m)\u001b[0m\u001b[0;34m\u001b[0m\u001b[0;34m\u001b[0m\u001b[0m\n\u001b[1;32m    351\u001b[0m                 \u001b[0;32melse\u001b[0m\u001b[0;34m:\u001b[0m\u001b[0;34m\u001b[0m\u001b[0;34m\u001b[0m\u001b[0m\n\u001b[0;32m--> 352\u001b[0;31m                     \u001b[0mapplied\u001b[0m \u001b[0;34m=\u001b[0m \u001b[0mgetattr\u001b[0m\u001b[0;34m(\u001b[0m\u001b[0mb\u001b[0m\u001b[0;34m,\u001b[0m \u001b[0mf\u001b[0m\u001b[0;34m)\u001b[0m\u001b[0;34m(\u001b[0m\u001b[0;34m**\u001b[0m\u001b[0mkwargs\u001b[0m\u001b[0;34m)\u001b[0m\u001b[0;34m\u001b[0m\u001b[0;34m\u001b[0m\u001b[0m\n\u001b[0m\u001b[1;32m    353\u001b[0m             \u001b[0;32mexcept\u001b[0m \u001b[0;34m(\u001b[0m\u001b[0mTypeError\u001b[0m\u001b[0;34m,\u001b[0m \u001b[0mNotImplementedError\u001b[0m\u001b[0;34m)\u001b[0m\u001b[0;34m:\u001b[0m\u001b[0;34m\u001b[0m\u001b[0;34m\u001b[0m\u001b[0m\n\u001b[1;32m    354\u001b[0m                 \u001b[0;32mif\u001b[0m \u001b[0;32mnot\u001b[0m \u001b[0mignore_failures\u001b[0m\u001b[0;34m:\u001b[0m\u001b[0;34m\u001b[0m\u001b[0;34m\u001b[0m\u001b[0m\n",
            "\u001b[0;32m/usr/local/lib/python3.10/dist-packages/pandas/core/internals/blocks.py\u001b[0m in \u001b[0;36mastype\u001b[0;34m(self, dtype, copy, errors)\u001b[0m\n\u001b[1;32m    524\u001b[0m         \u001b[0mvalues\u001b[0m \u001b[0;34m=\u001b[0m \u001b[0mself\u001b[0m\u001b[0;34m.\u001b[0m\u001b[0mvalues\u001b[0m\u001b[0;34m\u001b[0m\u001b[0;34m\u001b[0m\u001b[0m\n\u001b[1;32m    525\u001b[0m \u001b[0;34m\u001b[0m\u001b[0m\n\u001b[0;32m--> 526\u001b[0;31m         \u001b[0mnew_values\u001b[0m \u001b[0;34m=\u001b[0m \u001b[0mastype_array_safe\u001b[0m\u001b[0;34m(\u001b[0m\u001b[0mvalues\u001b[0m\u001b[0;34m,\u001b[0m \u001b[0mdtype\u001b[0m\u001b[0;34m,\u001b[0m \u001b[0mcopy\u001b[0m\u001b[0;34m=\u001b[0m\u001b[0mcopy\u001b[0m\u001b[0;34m,\u001b[0m \u001b[0merrors\u001b[0m\u001b[0;34m=\u001b[0m\u001b[0merrors\u001b[0m\u001b[0;34m)\u001b[0m\u001b[0;34m\u001b[0m\u001b[0;34m\u001b[0m\u001b[0m\n\u001b[0m\u001b[1;32m    527\u001b[0m \u001b[0;34m\u001b[0m\u001b[0m\n\u001b[1;32m    528\u001b[0m         \u001b[0mnew_values\u001b[0m \u001b[0;34m=\u001b[0m \u001b[0mmaybe_coerce_values\u001b[0m\u001b[0;34m(\u001b[0m\u001b[0mnew_values\u001b[0m\u001b[0;34m)\u001b[0m\u001b[0;34m\u001b[0m\u001b[0;34m\u001b[0m\u001b[0m\n",
            "\u001b[0;32m/usr/local/lib/python3.10/dist-packages/pandas/core/dtypes/astype.py\u001b[0m in \u001b[0;36mastype_array_safe\u001b[0;34m(values, dtype, copy, errors)\u001b[0m\n\u001b[1;32m    297\u001b[0m \u001b[0;34m\u001b[0m\u001b[0m\n\u001b[1;32m    298\u001b[0m     \u001b[0;32mtry\u001b[0m\u001b[0;34m:\u001b[0m\u001b[0;34m\u001b[0m\u001b[0;34m\u001b[0m\u001b[0m\n\u001b[0;32m--> 299\u001b[0;31m         \u001b[0mnew_values\u001b[0m \u001b[0;34m=\u001b[0m \u001b[0mastype_array\u001b[0m\u001b[0;34m(\u001b[0m\u001b[0mvalues\u001b[0m\u001b[0;34m,\u001b[0m \u001b[0mdtype\u001b[0m\u001b[0;34m,\u001b[0m \u001b[0mcopy\u001b[0m\u001b[0;34m=\u001b[0m\u001b[0mcopy\u001b[0m\u001b[0;34m)\u001b[0m\u001b[0;34m\u001b[0m\u001b[0;34m\u001b[0m\u001b[0m\n\u001b[0m\u001b[1;32m    300\u001b[0m     \u001b[0;32mexcept\u001b[0m \u001b[0;34m(\u001b[0m\u001b[0mValueError\u001b[0m\u001b[0;34m,\u001b[0m \u001b[0mTypeError\u001b[0m\u001b[0;34m)\u001b[0m\u001b[0;34m:\u001b[0m\u001b[0;34m\u001b[0m\u001b[0;34m\u001b[0m\u001b[0m\n\u001b[1;32m    301\u001b[0m         \u001b[0;31m# e.g. astype_nansafe can fail on object-dtype of strings\u001b[0m\u001b[0;34m\u001b[0m\u001b[0;34m\u001b[0m\u001b[0m\n",
            "\u001b[0;32m/usr/local/lib/python3.10/dist-packages/pandas/core/dtypes/astype.py\u001b[0m in \u001b[0;36mastype_array\u001b[0;34m(values, dtype, copy)\u001b[0m\n\u001b[1;32m    228\u001b[0m \u001b[0;34m\u001b[0m\u001b[0m\n\u001b[1;32m    229\u001b[0m     \u001b[0;32melse\u001b[0m\u001b[0;34m:\u001b[0m\u001b[0;34m\u001b[0m\u001b[0;34m\u001b[0m\u001b[0m\n\u001b[0;32m--> 230\u001b[0;31m         \u001b[0mvalues\u001b[0m \u001b[0;34m=\u001b[0m \u001b[0mastype_nansafe\u001b[0m\u001b[0;34m(\u001b[0m\u001b[0mvalues\u001b[0m\u001b[0;34m,\u001b[0m \u001b[0mdtype\u001b[0m\u001b[0;34m,\u001b[0m \u001b[0mcopy\u001b[0m\u001b[0;34m=\u001b[0m\u001b[0mcopy\u001b[0m\u001b[0;34m)\u001b[0m\u001b[0;34m\u001b[0m\u001b[0;34m\u001b[0m\u001b[0m\n\u001b[0m\u001b[1;32m    231\u001b[0m \u001b[0;34m\u001b[0m\u001b[0m\n\u001b[1;32m    232\u001b[0m     \u001b[0;31m# in pandas we don't store numpy str dtypes, so convert to object\u001b[0m\u001b[0;34m\u001b[0m\u001b[0;34m\u001b[0m\u001b[0m\n",
            "\u001b[0;32m/usr/local/lib/python3.10/dist-packages/pandas/core/dtypes/astype.py\u001b[0m in \u001b[0;36mastype_nansafe\u001b[0;34m(arr, dtype, copy, skipna)\u001b[0m\n\u001b[1;32m    168\u001b[0m     \u001b[0;32mif\u001b[0m \u001b[0mcopy\u001b[0m \u001b[0;32mor\u001b[0m \u001b[0mis_object_dtype\u001b[0m\u001b[0;34m(\u001b[0m\u001b[0marr\u001b[0m\u001b[0;34m.\u001b[0m\u001b[0mdtype\u001b[0m\u001b[0;34m)\u001b[0m \u001b[0;32mor\u001b[0m \u001b[0mis_object_dtype\u001b[0m\u001b[0;34m(\u001b[0m\u001b[0mdtype\u001b[0m\u001b[0;34m)\u001b[0m\u001b[0;34m:\u001b[0m\u001b[0;34m\u001b[0m\u001b[0;34m\u001b[0m\u001b[0m\n\u001b[1;32m    169\u001b[0m         \u001b[0;31m# Explicit copy, or required since NumPy can't view from / to object.\u001b[0m\u001b[0;34m\u001b[0m\u001b[0;34m\u001b[0m\u001b[0m\n\u001b[0;32m--> 170\u001b[0;31m         \u001b[0;32mreturn\u001b[0m \u001b[0marr\u001b[0m\u001b[0;34m.\u001b[0m\u001b[0mastype\u001b[0m\u001b[0;34m(\u001b[0m\u001b[0mdtype\u001b[0m\u001b[0;34m,\u001b[0m \u001b[0mcopy\u001b[0m\u001b[0;34m=\u001b[0m\u001b[0;32mTrue\u001b[0m\u001b[0;34m)\u001b[0m\u001b[0;34m\u001b[0m\u001b[0;34m\u001b[0m\u001b[0m\n\u001b[0m\u001b[1;32m    171\u001b[0m \u001b[0;34m\u001b[0m\u001b[0m\n\u001b[1;32m    172\u001b[0m     \u001b[0;32mreturn\u001b[0m \u001b[0marr\u001b[0m\u001b[0;34m.\u001b[0m\u001b[0mastype\u001b[0m\u001b[0;34m(\u001b[0m\u001b[0mdtype\u001b[0m\u001b[0;34m,\u001b[0m \u001b[0mcopy\u001b[0m\u001b[0;34m=\u001b[0m\u001b[0mcopy\u001b[0m\u001b[0;34m)\u001b[0m\u001b[0;34m\u001b[0m\u001b[0;34m\u001b[0m\u001b[0m\n",
            "\u001b[0;31mValueError\u001b[0m: invalid literal for int() with base 10: '5140만'"
          ]
        }
      ]
    },
    {
      "cell_type": "code",
      "source": [
        "# [1-18] df의 'subscriber' 컬럼에 대해 '만'을 '0000'으로 변경하는 코드를 작성합니다.\n",
        "# replace는 기본적으로 값 전체를 대상으로 동작합니다.\n",
        "# 일부 내용을 대상으로 하기 위해서는 regex=True 를 사용합니다.\n",
        "# regex(=regular expression) - 문자열의 일부, 문자열 패턴을 사용하는 방법\n",
        "df['subscriber'].replace('만', '0000', regex = True).head(5)"
      ],
      "metadata": {
        "colab": {
          "base_uri": "https://localhost:8080/"
        },
        "id": "d2tBe2oflcvG",
        "outputId": "3e3b63cf-3c99-438c-fd3a-da20f838fb7d"
      },
      "execution_count": null,
      "outputs": [
        {
          "output_type": "execute_result",
          "data": {
            "text/plain": [
              "0    51400000\n",
              "1    45500000\n",
              "2    38700000\n",
              "3    26500000\n",
              "4    24500000\n",
              "Name: subscriber, dtype: object"
            ]
          },
          "metadata": {},
          "execution_count": 34
        }
      ]
    },
    {
      "cell_type": "code",
      "source": [
        "df['subscriber'].head(3)"
      ],
      "metadata": {
        "colab": {
          "base_uri": "https://localhost:8080/"
        },
        "id": "SfKfNSM6mIL-",
        "outputId": "9dbce45d-efd0-46e6-8af8-31613294e3f5"
      },
      "execution_count": null,
      "outputs": [
        {
          "output_type": "execute_result",
          "data": {
            "text/plain": [
              "0    5140만\n",
              "1    4550만\n",
              "2    3870만\n",
              "Name: subscriber, dtype: object"
            ]
          },
          "metadata": {},
          "execution_count": 36
        }
      ]
    },
    {
      "cell_type": "code",
      "source": [
        "df['subscriber'].replace('만', '0000', regex = True).astype('int64')"
      ],
      "metadata": {
        "colab": {
          "base_uri": "https://localhost:8080/"
        },
        "id": "RMdk9EVHm6Kc",
        "outputId": "3496ab63-17f0-4dae-c10c-c36f510bcd36"
      },
      "execution_count": null,
      "outputs": [
        {
          "output_type": "execute_result",
          "data": {
            "text/plain": [
              "0      51400000\n",
              "1      45500000\n",
              "2      38700000\n",
              "3      26500000\n",
              "4      24500000\n",
              "         ...   \n",
              "995      400000\n",
              "996      400000\n",
              "997      400000\n",
              "998      400000\n",
              "999      400000\n",
              "Name: subscriber, Length: 1000, dtype: int64"
            ]
          },
          "metadata": {},
          "execution_count": 37
        }
      ]
    },
    {
      "cell_type": "code",
      "source": [
        "# [빅데이터 분석기사 실기 - Pandas 04] 데이터 및 dtype 변경 2/2"
      ],
      "metadata": {
        "id": "MzEN7zpAnODE"
      },
      "execution_count": null,
      "outputs": []
    },
    {
      "cell_type": "code",
      "source": [
        "# [1-20] df의 'view' 컬럼에 대해서 첫 5개 행을 조회 합니다.\n",
        "df['view'].head()"
      ],
      "metadata": {
        "colab": {
          "base_uri": "https://localhost:8080/"
        },
        "id": "LaEv2gk4nPyc",
        "outputId": "2ae5252d-54a8-4829-f7c4-ed3527d0e966"
      },
      "execution_count": null,
      "outputs": [
        {
          "output_type": "execute_result",
          "data": {
            "text/plain": [
              "0    128억5130만\n",
              "1    120억8966만\n",
              "2     54억7598만\n",
              "3    110억5288만\n",
              "4    180억7532만\n",
              "Name: view, dtype: object"
            ]
          },
          "metadata": {},
          "execution_count": 38
        }
      ]
    },
    {
      "cell_type": "code",
      "source": [
        "# [1-21] df의 'view' 컬럼에 대해 '억'에 대해서는 삭제, '만'에 대해서는 '0000'로 변경하는 작업을 수행한 뒤, 처음 5개 데이터를 출력합니다.\n",
        "# 변경할 내용이 여러  개 일 경우 두 개의 list 또는 dict 를 사용합니다.\n",
        "# 128억5130만 => 12851300000\n",
        "df['view'].replace(['억', '만'], ['', '0000'], regex = True).head()"
      ],
      "metadata": {
        "colab": {
          "base_uri": "https://localhost:8080/"
        },
        "id": "OwBTTuZmnmRc",
        "outputId": "4abb6c56-1418-4f7d-d6d1-e496feff35d4"
      },
      "execution_count": null,
      "outputs": [
        {
          "output_type": "execute_result",
          "data": {
            "text/plain": [
              "0    12851300000\n",
              "1    12089660000\n",
              "2     5475980000\n",
              "3    11052880000\n",
              "4    18075320000\n",
              "Name: view, dtype: object"
            ]
          },
          "metadata": {},
          "execution_count": 39
        }
      ]
    },
    {
      "cell_type": "code",
      "source": [
        "df['view'].replace({'억':'', '만':'0000'}, regex = True).head()"
      ],
      "metadata": {
        "colab": {
          "base_uri": "https://localhost:8080/"
        },
        "id": "Yqy7808BoPeT",
        "outputId": "d772a3eb-5ce5-42ae-bd7b-3279515af729"
      },
      "execution_count": null,
      "outputs": [
        {
          "output_type": "execute_result",
          "data": {
            "text/plain": [
              "0    12851300000\n",
              "1    12089660000\n",
              "2     5475980000\n",
              "3    11052880000\n",
              "4    18075320000\n",
              "Name: view, dtype: object"
            ]
          },
          "metadata": {},
          "execution_count": 41
        }
      ]
    },
    {
      "cell_type": "code",
      "source": [
        "# [1-22] df의 'view' 컬럼에 대해 '억'에 대해서는 삭제, '만'에 대해서는 '0000'로 변경하는 작업을 수행한 뒤,\n",
        "# astype('int64')를 사용하여 데이터 타입을 정수로 변경하고 처음 5개 데이터를 출력합니다.\n",
        "df['view'].replace(['억', '만'], ['', '0000'], regex = True).astype('int64').head()"
      ],
      "metadata": {
        "colab": {
          "base_uri": "https://localhost:8080/"
        },
        "id": "3921t0-pohw7",
        "outputId": "a2e73eaa-211f-4c9f-b9f8-eed93199832d"
      },
      "execution_count": null,
      "outputs": [
        {
          "output_type": "execute_result",
          "data": {
            "text/plain": [
              "0    12851300000\n",
              "1    12089660000\n",
              "2     5475980000\n",
              "3    11052880000\n",
              "4    18075320000\n",
              "Name: view, dtype: int64"
            ]
          },
          "metadata": {},
          "execution_count": 42
        }
      ]
    },
    {
      "cell_type": "code",
      "source": [
        "# [1-23] df의 'video' 컬럼의 첫 5개 데이터를 확인합니다.\n",
        "df['video'].head()"
      ],
      "metadata": {
        "colab": {
          "base_uri": "https://localhost:8080/"
        },
        "id": "rDZ3z05HoqNG",
        "outputId": "b0486b25-a3bd-4056-ac3c-66fcbf8cafe0"
      },
      "execution_count": null,
      "outputs": [
        {
          "output_type": "execute_result",
          "data": {
            "text/plain": [
              "0      319개\n",
              "1      433개\n",
              "2    1,319개\n",
              "3      223개\n",
              "4    3,583개\n",
              "Name: video, dtype: object"
            ]
          },
          "metadata": {},
          "execution_count": 43
        }
      ]
    },
    {
      "cell_type": "code",
      "source": [
        "# [1-24] df의 'video' 컬럼에서 '개'와 ','을 제거하는 작업을 수행한 뒤, 처음 5개 데이터를 출력합니다.\n",
        "# 콤마(,)는 의미가 있는 문자이므로 \\(역슬래쉬)를 함께 사용합니다.\n",
        "# 메타문자 : , . + ? * ^ $ [  ]  ... 등 , 메타문자의 기능을 없애기 위해 '\\,'  '\\.'\n",
        "df['video'].replace(['\\,', '개'], ['', ''], regex = True).head()"
      ],
      "metadata": {
        "colab": {
          "base_uri": "https://localhost:8080/"
        },
        "id": "6noAKNu2oxur",
        "outputId": "d813d9d7-565b-4956-b431-89e2cdea36e7"
      },
      "execution_count": null,
      "outputs": [
        {
          "output_type": "execute_result",
          "data": {
            "text/plain": [
              "0     319\n",
              "1     433\n",
              "2    1319\n",
              "3     223\n",
              "4    3583\n",
              "Name: video, dtype: object"
            ]
          },
          "metadata": {},
          "execution_count": 45
        }
      ]
    },
    {
      "cell_type": "code",
      "source": [
        "# [1-25] df의 'video' 컬럼에서 '개', ','을 제거하고, astype('int32')를 사용하여 는 작업을 수행한 뒤, 처음 5개 데이터를 출력합니다.\n",
        "df['video'].replace(['\\,', '개'], ['', ''], regex = True).astype('int32').head()"
      ],
      "metadata": {
        "colab": {
          "base_uri": "https://localhost:8080/"
        },
        "id": "c3cRUXMWqIhE",
        "outputId": "2591cf39-e070-4f8d-b032-947980215e5b"
      },
      "execution_count": null,
      "outputs": [
        {
          "output_type": "execute_result",
          "data": {
            "text/plain": [
              "0     319\n",
              "1     433\n",
              "2    1319\n",
              "3     223\n",
              "4    3583\n",
              "Name: video, dtype: int32"
            ]
          },
          "metadata": {},
          "execution_count": 46
        }
      ]
    },
    {
      "cell_type": "code",
      "source": [
        "# [1-26] df의 열 중 'category' 컬럼에 대해 값 별 개수를 확인합니다.\n",
        "print(df['category'].value_counts())"
      ],
      "metadata": {
        "colab": {
          "base_uri": "https://localhost:8080/"
        },
        "id": "0ZLHM_TuqWUv",
        "outputId": "2de843d0-aea4-4904-cbb8-7c2208a047fc"
      },
      "execution_count": null,
      "outputs": [
        {
          "output_type": "stream",
          "name": "stdout",
          "text": [
            "[음악/댄스/가수]     175\n",
            "[TV/방송]        161\n",
            "[게임]           101\n",
            "[키즈/어린이]        95\n",
            "[음식/요리/레시피]     88\n",
            "[BJ/인물/연예인]     68\n",
            "[패션/미용]         57\n",
            "[뉴스/정치/사회]      56\n",
            "[미분류]           40\n",
            "[취미/라이프]        40\n",
            "[영화/만화/애니]      33\n",
            "[교육/강의]         23\n",
            "[애완/반려동물]       20\n",
            "[스포츠/운동]        12\n",
            "[IT/기술/컴퓨터]      8\n",
            "[해외]             6\n",
            "[주식/경제/부동산]      5\n",
            "[국내/해외/여행]       5\n",
            "[회사/오피셜]         4\n",
            "[자동차]            2\n",
            "[취미]             1\n",
            "Name: category, dtype: int64\n"
          ]
        }
      ]
    },
    {
      "cell_type": "code",
      "source": [
        "# [1-27] df의 'category'에 대해 첫글자와 마지막 글자인 '[', ']'을 제거합니다.\n",
        "# replace를 사용하여 제거할 수 있지만, Accessor 중 str을 사용하여 보도록 합니다.\n",
        "#df['category'].replace({'\\[':'', '\\]':''}, regex=True).head()    # 첫글자, 마지막 글자가 아니라도 제거함\n",
        "temp = df['category'].replace({'\\[':'', '\\]':''}, regex=True)\n",
        "temp.value_counts()"
      ],
      "metadata": {
        "id": "YnqmBF12qx10",
        "colab": {
          "base_uri": "https://localhost:8080/"
        },
        "outputId": "9682e43e-4753-49e7-fd98-eca977947d95"
      },
      "execution_count": null,
      "outputs": [
        {
          "output_type": "execute_result",
          "data": {
            "text/plain": [
              "음악/댄스/가수     175\n",
              "TV/방송        161\n",
              "게임           101\n",
              "키즈/어린이        95\n",
              "음식/요리/레시피     88\n",
              "BJ/인물/연예인     68\n",
              "패션/미용         57\n",
              "뉴스/정치/사회      56\n",
              "미분류           40\n",
              "취미/라이프        40\n",
              "영화/만화/애니      33\n",
              "교육/강의         23\n",
              "애완/반려동물       20\n",
              "스포츠/운동        12\n",
              "IT/기술/컴퓨터      8\n",
              "해외             6\n",
              "주식/경제/부동산      5\n",
              "국내/해외/여행       5\n",
              "회사/오피셜         4\n",
              "자동차            2\n",
              "취미             1\n",
              "Name: category, dtype: int64"
            ]
          },
          "metadata": {},
          "execution_count": 54
        }
      ]
    },
    {
      "cell_type": "code",
      "source": [
        "# [1-28] df의 'category'에 대해 '[', ']'을 제거하고, astype('category') 를 사용하여 category 타입으로 변경합니다.\n",
        "df['category'].replace(['\\[', '\\]'], '', regex = True).astype('category')"
      ],
      "metadata": {
        "colab": {
          "base_uri": "https://localhost:8080/"
        },
        "id": "OPk8caw_ywX6",
        "outputId": "6d200ce3-6d41-47aa-f511-c301b105181f"
      },
      "execution_count": null,
      "outputs": [
        {
          "output_type": "execute_result",
          "data": {
            "text/plain": [
              "0      음악/댄스/가수\n",
              "1      음악/댄스/가수\n",
              "2      음악/댄스/가수\n",
              "3        키즈/어린이\n",
              "4      음악/댄스/가수\n",
              "         ...   \n",
              "995         미분류\n",
              "996      취미/라이프\n",
              "997       TV/방송\n",
              "998         미분류\n",
              "999       TV/방송\n",
              "Name: category, Length: 1000, dtype: category\n",
              "Categories (21, object): ['BJ/인물/연예인', 'IT/기술/컴퓨터', 'TV/방송', '게임', ..., '키즈/어린이', '패션/미용', '해외', '회사/오피셜']"
            ]
          },
          "metadata": {},
          "execution_count": 55
        }
      ]
    },
    {
      "cell_type": "code",
      "source": [
        "df['category'].str[1:-1].astype('category')"
      ],
      "metadata": {
        "colab": {
          "base_uri": "https://localhost:8080/"
        },
        "id": "MxrXIkEuzdfZ",
        "outputId": "f9d9ddf3-c6e5-4cf9-e842-52163963ee73"
      },
      "execution_count": null,
      "outputs": [
        {
          "output_type": "execute_result",
          "data": {
            "text/plain": [
              "0      음악/댄스/가수\n",
              "1      음악/댄스/가수\n",
              "2      음악/댄스/가수\n",
              "3        키즈/어린이\n",
              "4      음악/댄스/가수\n",
              "         ...   \n",
              "995         미분류\n",
              "996      취미/라이프\n",
              "997       TV/방송\n",
              "998         미분류\n",
              "999       TV/방송\n",
              "Name: category, Length: 1000, dtype: category\n",
              "Categories (21, object): ['BJ/인물/연예인', 'IT/기술/컴퓨터', 'TV/방송', '게임', ..., '키즈/어린이', '패션/미용', '해외', '회사/오피셜']"
            ]
          },
          "metadata": {},
          "execution_count": 56
        }
      ]
    },
    {
      "cell_type": "code",
      "source": [
        "# [1-29] 위의 replace 및 accessor-str을 사용한 작업을 요약해 보겠습니다.\n",
        "df['subscriber'] = df['subscriber'].replace('만', '0000', regex=True).astype('int64')\n",
        "df['view'] = df['view'].replace({'억':'', '만':'0000'}, regex=True).astype('int64')\n",
        "df['video'] = df['video'].replace(['개', '\\,'], '', regex=True).astype('int32')\n",
        "df['category'] = df['category'].str[1:-1].astype('category')\n",
        "df.info()"
      ],
      "metadata": {
        "colab": {
          "base_uri": "https://localhost:8080/"
        },
        "id": "xpfFDDXGz-OI",
        "outputId": "b2087148-db0d-4d84-f437-893dc79449fe"
      },
      "execution_count": null,
      "outputs": [
        {
          "output_type": "stream",
          "name": "stdout",
          "text": [
            "<class 'pandas.core.frame.DataFrame'>\n",
            "RangeIndex: 1000 entries, 0 to 999\n",
            "Data columns (total 5 columns):\n",
            " #   Column      Non-Null Count  Dtype   \n",
            "---  ------      --------------  -----   \n",
            " 0   title       1000 non-null   object  \n",
            " 1   category    1000 non-null   category\n",
            " 2   subscriber  1000 non-null   int64   \n",
            " 3   view        1000 non-null   int64   \n",
            " 4   video       1000 non-null   int32   \n",
            "dtypes: category(1), int32(1), int64(2), object(1)\n",
            "memory usage: 29.2+ KB\n"
          ]
        }
      ]
    },
    {
      "cell_type": "code",
      "source": [
        "# [1-30] 'youtube_v1.xlsx' 엑셀 파일로 저장하기\n",
        "df.to_excel('youtube_v1.xlsx', index = False)"
      ],
      "metadata": {
        "id": "4tgs-bl60b3A"
      },
      "execution_count": null,
      "outputs": []
    },
    {
      "cell_type": "code",
      "source": [
        "temp = pd.read_excel('youtube_v1.xlsx', engine = 'openpyxl')"
      ],
      "metadata": {
        "id": "sIyVBSZb0yMQ"
      },
      "execution_count": null,
      "outputs": []
    },
    {
      "cell_type": "code",
      "source": [
        "temp.info()"
      ],
      "metadata": {
        "colab": {
          "base_uri": "https://localhost:8080/"
        },
        "id": "EdYcmdTb02n5",
        "outputId": "45e16f8d-dbde-439b-95bf-32b49dc38593"
      },
      "execution_count": null,
      "outputs": [
        {
          "output_type": "stream",
          "name": "stdout",
          "text": [
            "<class 'pandas.core.frame.DataFrame'>\n",
            "RangeIndex: 1000 entries, 0 to 999\n",
            "Data columns (total 5 columns):\n",
            " #   Column      Non-Null Count  Dtype \n",
            "---  ------      --------------  ----- \n",
            " 0   title       1000 non-null   object\n",
            " 1   category    1000 non-null   object\n",
            " 2   subscriber  1000 non-null   int64 \n",
            " 3   view        1000 non-null   int64 \n",
            " 4   video       1000 non-null   int64 \n",
            "dtypes: int64(3), object(2)\n",
            "memory usage: 39.2+ KB\n"
          ]
        }
      ]
    },
    {
      "cell_type": "markdown",
      "source": [
        "# [빅데이터 분석기사 실기 - Pandas 05] datetime category의 dtype 변경"
      ],
      "metadata": {
        "id": "AeadUsuT1ND4"
      }
    },
    {
      "cell_type": "code",
      "source": [
        "temp = pd.DataFrame({'날짜_일반': ['2021/01/01', '2021/01/02', '2021/01/03', '2021/01/04', '2021/01/05'],\n",
        "                     '날짜_시간': ['2021-01-01 1:12:10', '2021-01-02 1:13:45', '2021-01-03 2:50:10', '2021-01-04 3:12:30', '2021-01-05 5:40:20'],\n",
        "                     '날짜_특수': ['21-01-01', '21-01-02', '21-01-03', '21-01-04', '21-01-05'],\n",
        "                     '범주': ['금', '토', '일', '월', '화']})\n",
        "temp"
      ],
      "metadata": {
        "colab": {
          "base_uri": "https://localhost:8080/",
          "height": 206
        },
        "id": "Wv2JQ2j01QLv",
        "outputId": "10c4add1-54d6-4ae2-e03b-8321e421d761"
      },
      "execution_count": null,
      "outputs": [
        {
          "output_type": "execute_result",
          "data": {
            "text/plain": [
              "        날짜_일반               날짜_시간     날짜_특수 범주\n",
              "0  2021/01/01  2021-01-01 1:12:10  21-01-01  금\n",
              "1  2021/01/02  2021-01-02 1:13:45  21-01-02  토\n",
              "2  2021/01/03  2021-01-03 2:50:10  21-01-03  일\n",
              "3  2021/01/04  2021-01-04 3:12:30  21-01-04  월\n",
              "4  2021/01/05  2021-01-05 5:40:20  21-01-05  화"
            ],
            "text/html": [
              "\n",
              "  <div id=\"df-3d8deef7-61db-4b5e-afec-b493883cc05b\">\n",
              "    <div class=\"colab-df-container\">\n",
              "      <div>\n",
              "<style scoped>\n",
              "    .dataframe tbody tr th:only-of-type {\n",
              "        vertical-align: middle;\n",
              "    }\n",
              "\n",
              "    .dataframe tbody tr th {\n",
              "        vertical-align: top;\n",
              "    }\n",
              "\n",
              "    .dataframe thead th {\n",
              "        text-align: right;\n",
              "    }\n",
              "</style>\n",
              "<table border=\"1\" class=\"dataframe\">\n",
              "  <thead>\n",
              "    <tr style=\"text-align: right;\">\n",
              "      <th></th>\n",
              "      <th>날짜_일반</th>\n",
              "      <th>날짜_시간</th>\n",
              "      <th>날짜_특수</th>\n",
              "      <th>범주</th>\n",
              "    </tr>\n",
              "  </thead>\n",
              "  <tbody>\n",
              "    <tr>\n",
              "      <th>0</th>\n",
              "      <td>2021/01/01</td>\n",
              "      <td>2021-01-01 1:12:10</td>\n",
              "      <td>21-01-01</td>\n",
              "      <td>금</td>\n",
              "    </tr>\n",
              "    <tr>\n",
              "      <th>1</th>\n",
              "      <td>2021/01/02</td>\n",
              "      <td>2021-01-02 1:13:45</td>\n",
              "      <td>21-01-02</td>\n",
              "      <td>토</td>\n",
              "    </tr>\n",
              "    <tr>\n",
              "      <th>2</th>\n",
              "      <td>2021/01/03</td>\n",
              "      <td>2021-01-03 2:50:10</td>\n",
              "      <td>21-01-03</td>\n",
              "      <td>일</td>\n",
              "    </tr>\n",
              "    <tr>\n",
              "      <th>3</th>\n",
              "      <td>2021/01/04</td>\n",
              "      <td>2021-01-04 3:12:30</td>\n",
              "      <td>21-01-04</td>\n",
              "      <td>월</td>\n",
              "    </tr>\n",
              "    <tr>\n",
              "      <th>4</th>\n",
              "      <td>2021/01/05</td>\n",
              "      <td>2021-01-05 5:40:20</td>\n",
              "      <td>21-01-05</td>\n",
              "      <td>화</td>\n",
              "    </tr>\n",
              "  </tbody>\n",
              "</table>\n",
              "</div>\n",
              "      <button class=\"colab-df-convert\" onclick=\"convertToInteractive('df-3d8deef7-61db-4b5e-afec-b493883cc05b')\"\n",
              "              title=\"Convert this dataframe to an interactive table.\"\n",
              "              style=\"display:none;\">\n",
              "        \n",
              "  <svg xmlns=\"http://www.w3.org/2000/svg\" height=\"24px\"viewBox=\"0 0 24 24\"\n",
              "       width=\"24px\">\n",
              "    <path d=\"M0 0h24v24H0V0z\" fill=\"none\"/>\n",
              "    <path d=\"M18.56 5.44l.94 2.06.94-2.06 2.06-.94-2.06-.94-.94-2.06-.94 2.06-2.06.94zm-11 1L8.5 8.5l.94-2.06 2.06-.94-2.06-.94L8.5 2.5l-.94 2.06-2.06.94zm10 10l.94 2.06.94-2.06 2.06-.94-2.06-.94-.94-2.06-.94 2.06-2.06.94z\"/><path d=\"M17.41 7.96l-1.37-1.37c-.4-.4-.92-.59-1.43-.59-.52 0-1.04.2-1.43.59L10.3 9.45l-7.72 7.72c-.78.78-.78 2.05 0 2.83L4 21.41c.39.39.9.59 1.41.59.51 0 1.02-.2 1.41-.59l7.78-7.78 2.81-2.81c.8-.78.8-2.07 0-2.86zM5.41 20L4 18.59l7.72-7.72 1.47 1.35L5.41 20z\"/>\n",
              "  </svg>\n",
              "      </button>\n",
              "      \n",
              "  <style>\n",
              "    .colab-df-container {\n",
              "      display:flex;\n",
              "      flex-wrap:wrap;\n",
              "      gap: 12px;\n",
              "    }\n",
              "\n",
              "    .colab-df-convert {\n",
              "      background-color: #E8F0FE;\n",
              "      border: none;\n",
              "      border-radius: 50%;\n",
              "      cursor: pointer;\n",
              "      display: none;\n",
              "      fill: #1967D2;\n",
              "      height: 32px;\n",
              "      padding: 0 0 0 0;\n",
              "      width: 32px;\n",
              "    }\n",
              "\n",
              "    .colab-df-convert:hover {\n",
              "      background-color: #E2EBFA;\n",
              "      box-shadow: 0px 1px 2px rgba(60, 64, 67, 0.3), 0px 1px 3px 1px rgba(60, 64, 67, 0.15);\n",
              "      fill: #174EA6;\n",
              "    }\n",
              "\n",
              "    [theme=dark] .colab-df-convert {\n",
              "      background-color: #3B4455;\n",
              "      fill: #D2E3FC;\n",
              "    }\n",
              "\n",
              "    [theme=dark] .colab-df-convert:hover {\n",
              "      background-color: #434B5C;\n",
              "      box-shadow: 0px 1px 3px 1px rgba(0, 0, 0, 0.15);\n",
              "      filter: drop-shadow(0px 1px 2px rgba(0, 0, 0, 0.3));\n",
              "      fill: #FFFFFF;\n",
              "    }\n",
              "  </style>\n",
              "\n",
              "      <script>\n",
              "        const buttonEl =\n",
              "          document.querySelector('#df-3d8deef7-61db-4b5e-afec-b493883cc05b button.colab-df-convert');\n",
              "        buttonEl.style.display =\n",
              "          google.colab.kernel.accessAllowed ? 'block' : 'none';\n",
              "\n",
              "        async function convertToInteractive(key) {\n",
              "          const element = document.querySelector('#df-3d8deef7-61db-4b5e-afec-b493883cc05b');\n",
              "          const dataTable =\n",
              "            await google.colab.kernel.invokeFunction('convertToInteractive',\n",
              "                                                     [key], {});\n",
              "          if (!dataTable) return;\n",
              "\n",
              "          const docLinkHtml = 'Like what you see? Visit the ' +\n",
              "            '<a target=\"_blank\" href=https://colab.research.google.com/notebooks/data_table.ipynb>data table notebook</a>'\n",
              "            + ' to learn more about interactive tables.';\n",
              "          element.innerHTML = '';\n",
              "          dataTable['output_type'] = 'display_data';\n",
              "          await google.colab.output.renderOutput(dataTable, element);\n",
              "          const docLink = document.createElement('div');\n",
              "          docLink.innerHTML = docLinkHtml;\n",
              "          element.appendChild(docLink);\n",
              "        }\n",
              "      </script>\n",
              "    </div>\n",
              "  </div>\n",
              "  "
            ]
          },
          "metadata": {},
          "execution_count": 66
        }
      ]
    },
    {
      "cell_type": "code",
      "source": [
        "temp.info()"
      ],
      "metadata": {
        "colab": {
          "base_uri": "https://localhost:8080/"
        },
        "id": "x3HZrRZZ2qlf",
        "outputId": "38f00f8f-9e44-41ce-cb0a-f4532d14f7ac"
      },
      "execution_count": null,
      "outputs": [
        {
          "output_type": "stream",
          "name": "stdout",
          "text": [
            "<class 'pandas.core.frame.DataFrame'>\n",
            "RangeIndex: 5 entries, 0 to 4\n",
            "Data columns (total 4 columns):\n",
            " #   Column  Non-Null Count  Dtype \n",
            "---  ------  --------------  ----- \n",
            " 0   날짜_일반   5 non-null      object\n",
            " 1   날짜_시간   5 non-null      object\n",
            " 2   날짜_특수   5 non-null      object\n",
            " 3   범주      5 non-null      object\n",
            "dtypes: object(4)\n",
            "memory usage: 288.0+ bytes\n"
          ]
        }
      ]
    },
    {
      "cell_type": "code",
      "source": [
        "import numpy as np\n",
        "# Series.astype(np.datetime64) 을 사용하여 '날짜_일반'의 dtype을 변경해 보자\n",
        "s1 = temp['날짜_일반'].astype(np.datetime64)\n",
        "s1"
      ],
      "metadata": {
        "colab": {
          "base_uri": "https://localhost:8080/"
        },
        "id": "hoYGN5p02kfJ",
        "outputId": "e2136f9d-f470-412c-f24b-9f3b25b9c184"
      },
      "execution_count": null,
      "outputs": [
        {
          "output_type": "execute_result",
          "data": {
            "text/plain": [
              "0   2021-01-01\n",
              "1   2021-01-02\n",
              "2   2021-01-03\n",
              "3   2021-01-04\n",
              "4   2021-01-05\n",
              "Name: 날짜_일반, dtype: datetime64[ns]"
            ]
          },
          "metadata": {},
          "execution_count": 70
        }
      ]
    },
    {
      "cell_type": "code",
      "source": [
        "# Series.astype(np.datetime64) 을 사용하여 '날짜_시간'의 dtype을 변경해 보자\n",
        "s2 = temp['날짜_시간'].astype(np.datetime64)\n",
        "s2"
      ],
      "metadata": {
        "colab": {
          "base_uri": "https://localhost:8080/"
        },
        "id": "lFpR-PNK4K7U",
        "outputId": "257adc61-e777-490f-ecbb-ff01b65b2927"
      },
      "execution_count": null,
      "outputs": [
        {
          "output_type": "execute_result",
          "data": {
            "text/plain": [
              "0   2021-01-01 01:12:10\n",
              "1   2021-01-02 01:13:45\n",
              "2   2021-01-03 02:50:10\n",
              "3   2021-01-04 03:12:30\n",
              "4   2021-01-05 05:40:20\n",
              "Name: 날짜_시간, dtype: datetime64[ns]"
            ]
          },
          "metadata": {},
          "execution_count": 71
        }
      ]
    },
    {
      "cell_type": "code",
      "source": [
        "# Series.astype(np.datetime64)을 사용하여 '날짜_특수'의 dtype을 변경해 보자\n",
        "s3 = temp['날짜_특수'].astype(np.datetime64)\n",
        "s3"
      ],
      "metadata": {
        "colab": {
          "base_uri": "https://localhost:8080/"
        },
        "id": "Q5sfEEWV4Xkg",
        "outputId": "431de34b-e5b3-48e9-ac32-1e2d968dcf49"
      },
      "execution_count": null,
      "outputs": [
        {
          "output_type": "execute_result",
          "data": {
            "text/plain": [
              "0   2001-01-21\n",
              "1   2002-01-21\n",
              "2   2003-01-21\n",
              "3   2004-01-21\n",
              "4   2005-01-21\n",
              "Name: 날짜_특수, dtype: datetime64[ns]"
            ]
          },
          "metadata": {},
          "execution_count": 72
        }
      ]
    },
    {
      "cell_type": "code",
      "source": [
        "# pd.to_datetime(Series, format='형식')을 사용하여 '날짜_특수'의 dtype을 변경해 보자\n",
        "s4 = pd.to_datetime(temp['날짜_특수'], format = '%y-%m-%d')\n",
        "s4"
      ],
      "metadata": {
        "colab": {
          "base_uri": "https://localhost:8080/"
        },
        "id": "OX9DVb2C4jQE",
        "outputId": "37866eb8-248f-4cce-fce5-f33c69ce1540"
      },
      "execution_count": null,
      "outputs": [
        {
          "output_type": "execute_result",
          "data": {
            "text/plain": [
              "0   2021-01-01\n",
              "1   2021-01-02\n",
              "2   2021-01-03\n",
              "3   2021-01-04\n",
              "4   2021-01-05\n",
              "Name: 날짜_특수, dtype: datetime64[ns]"
            ]
          },
          "metadata": {},
          "execution_count": 76
        }
      ]
    },
    {
      "cell_type": "code",
      "source": [
        "# Series.astype('category')를 사용하여 '범주'의 dtype을 변경해 보자\n",
        "s5 = temp['범주'].astype('category')\n",
        "s5"
      ],
      "metadata": {
        "colab": {
          "base_uri": "https://localhost:8080/"
        },
        "id": "AYHdLemM4kON",
        "outputId": "f76c61a1-8b53-4237-bffb-20b7b2d3cd18"
      },
      "execution_count": null,
      "outputs": [
        {
          "output_type": "execute_result",
          "data": {
            "text/plain": [
              "0    금\n",
              "1    토\n",
              "2    일\n",
              "3    월\n",
              "4    화\n",
              "Name: 범주, dtype: category\n",
              "Categories (5, object): ['금', '월', '일', '토', '화']"
            ]
          },
          "metadata": {},
          "execution_count": 77
        }
      ]
    },
    {
      "cell_type": "code",
      "source": [
        "# 위에서 만들어진 '범주'를 정렬해 보자 (Series.sort_values() 사용)\n",
        "# 가나다 순서로 정렬됨\n",
        "s5.sort_values()"
      ],
      "metadata": {
        "colab": {
          "base_uri": "https://localhost:8080/"
        },
        "id": "F6MC0zVD4l0M",
        "outputId": "ba40a590-ef1e-4c1e-a9eb-dc4bb1d0076c"
      },
      "execution_count": null,
      "outputs": [
        {
          "output_type": "execute_result",
          "data": {
            "text/plain": [
              "0    금\n",
              "3    월\n",
              "2    일\n",
              "1    토\n",
              "4    화\n",
              "Name: 범주, dtype: category\n",
              "Categories (5, object): ['금', '월', '일', '토', '화']"
            ]
          },
          "metadata": {},
          "execution_count": 78
        }
      ]
    },
    {
      "cell_type": "code",
      "source": [
        "# pd.Categorical(Series, categories=카테고리목록, ordered=True)를 사용해 요일 순 범주를 만들어 보자\n",
        "# 요일목록 => ['월', '화', '수', '목', '금', '토', '일']\n",
        "s6 = pd.Categorical(temp['범주'], categories = ['월', '화', '수', '목', '금', '토', '일'], ordered = True)\n",
        "# ordered = True <- 순서를 부여한다는 의미\n",
        "s6"
      ],
      "metadata": {
        "colab": {
          "base_uri": "https://localhost:8080/"
        },
        "id": "0EDR6M5g4m39",
        "outputId": "c3b8825a-2e01-4cdd-faf0-c3f27b86fab3"
      },
      "execution_count": null,
      "outputs": [
        {
          "output_type": "execute_result",
          "data": {
            "text/plain": [
              "['금', '토', '일', '월', '화']\n",
              "Categories (7, object): ['월' < '화' < '수' < '목' < '금' < '토' < '일']"
            ]
          },
          "metadata": {},
          "execution_count": 80
        }
      ]
    },
    {
      "cell_type": "code",
      "source": [
        "temp['범주'] = s6\n",
        "temp['범주']"
      ],
      "metadata": {
        "colab": {
          "base_uri": "https://localhost:8080/"
        },
        "id": "a8op_Pwd6Q5k",
        "outputId": "70e6087c-25c6-437d-dcdf-9862a9b3e00a"
      },
      "execution_count": null,
      "outputs": [
        {
          "output_type": "execute_result",
          "data": {
            "text/plain": [
              "0    금\n",
              "1    토\n",
              "2    일\n",
              "3    월\n",
              "4    화\n",
              "Name: 범주, dtype: category\n",
              "Categories (7, object): ['월' < '화' < '수' < '목' < '금' < '토' < '일']"
            ]
          },
          "metadata": {},
          "execution_count": 81
        }
      ]
    },
    {
      "cell_type": "code",
      "source": [
        "# 위에서 만들어진 '범주'를 정렬해 보자 (Series.sort_values() 사용)\n",
        "temp['범주'].sort_values()"
      ],
      "metadata": {
        "colab": {
          "base_uri": "https://localhost:8080/"
        },
        "id": "pSHd_LY_4o7V",
        "outputId": "7371e47b-35c5-49a7-a108-f417a343ac50"
      },
      "execution_count": null,
      "outputs": [
        {
          "output_type": "execute_result",
          "data": {
            "text/plain": [
              "3    월\n",
              "4    화\n",
              "0    금\n",
              "1    토\n",
              "2    일\n",
              "Name: 범주, dtype: category\n",
              "Categories (7, object): ['월' < '화' < '수' < '목' < '금' < '토' < '일']"
            ]
          },
          "metadata": {},
          "execution_count": 82
        }
      ]
    },
    {
      "cell_type": "markdown",
      "source": [
        "# [빅데이터 분석기사 실기 - Pandas 06] 데이터 정렬로 TOP3 TOP5 찾기"
      ],
      "metadata": {
        "id": "h4xQ3AVl7C_u"
      }
    },
    {
      "cell_type": "code",
      "source": [
        "import pandas as pd\n",
        "df = pd.read_excel('data_01/youtube_rank.xlsx', engine='openpyxl')\n",
        "df['subscriber'] = df['subscriber'].replace('만', '0000', regex=True).astype('int64')\n",
        "df['view'] = df['view'].replace({'억':'', '만':'0000'}, regex=True).astype('int64')\n",
        "df['video'] = df['video'].replace(['개', '\\,'], '', regex=True).astype('int32')\n",
        "df['category'] = df['category'].str[1:-1].astype('category')\n",
        "df.head(2)"
      ],
      "metadata": {
        "colab": {
          "base_uri": "https://localhost:8080/",
          "height": 112
        },
        "id": "jZy9OepW7Aov",
        "outputId": "5442748f-80a6-4059-a9fa-3e20a38b243b"
      },
      "execution_count": null,
      "outputs": [
        {
          "output_type": "execute_result",
          "data": {
            "text/plain": [
              "            title  category  subscriber         view  video\n",
              "0       BLACKPINK  음악/댄스/가수    51400000  12851300000    319\n",
              "1  Big Hit Labels  음악/댄스/가수    45500000  12089660000    433"
            ],
            "text/html": [
              "\n",
              "  <div id=\"df-812f9c50-1f55-428b-b208-ea97361934f5\">\n",
              "    <div class=\"colab-df-container\">\n",
              "      <div>\n",
              "<style scoped>\n",
              "    .dataframe tbody tr th:only-of-type {\n",
              "        vertical-align: middle;\n",
              "    }\n",
              "\n",
              "    .dataframe tbody tr th {\n",
              "        vertical-align: top;\n",
              "    }\n",
              "\n",
              "    .dataframe thead th {\n",
              "        text-align: right;\n",
              "    }\n",
              "</style>\n",
              "<table border=\"1\" class=\"dataframe\">\n",
              "  <thead>\n",
              "    <tr style=\"text-align: right;\">\n",
              "      <th></th>\n",
              "      <th>title</th>\n",
              "      <th>category</th>\n",
              "      <th>subscriber</th>\n",
              "      <th>view</th>\n",
              "      <th>video</th>\n",
              "    </tr>\n",
              "  </thead>\n",
              "  <tbody>\n",
              "    <tr>\n",
              "      <th>0</th>\n",
              "      <td>BLACKPINK</td>\n",
              "      <td>음악/댄스/가수</td>\n",
              "      <td>51400000</td>\n",
              "      <td>12851300000</td>\n",
              "      <td>319</td>\n",
              "    </tr>\n",
              "    <tr>\n",
              "      <th>1</th>\n",
              "      <td>Big Hit Labels</td>\n",
              "      <td>음악/댄스/가수</td>\n",
              "      <td>45500000</td>\n",
              "      <td>12089660000</td>\n",
              "      <td>433</td>\n",
              "    </tr>\n",
              "  </tbody>\n",
              "</table>\n",
              "</div>\n",
              "      <button class=\"colab-df-convert\" onclick=\"convertToInteractive('df-812f9c50-1f55-428b-b208-ea97361934f5')\"\n",
              "              title=\"Convert this dataframe to an interactive table.\"\n",
              "              style=\"display:none;\">\n",
              "        \n",
              "  <svg xmlns=\"http://www.w3.org/2000/svg\" height=\"24px\"viewBox=\"0 0 24 24\"\n",
              "       width=\"24px\">\n",
              "    <path d=\"M0 0h24v24H0V0z\" fill=\"none\"/>\n",
              "    <path d=\"M18.56 5.44l.94 2.06.94-2.06 2.06-.94-2.06-.94-.94-2.06-.94 2.06-2.06.94zm-11 1L8.5 8.5l.94-2.06 2.06-.94-2.06-.94L8.5 2.5l-.94 2.06-2.06.94zm10 10l.94 2.06.94-2.06 2.06-.94-2.06-.94-.94-2.06-.94 2.06-2.06.94z\"/><path d=\"M17.41 7.96l-1.37-1.37c-.4-.4-.92-.59-1.43-.59-.52 0-1.04.2-1.43.59L10.3 9.45l-7.72 7.72c-.78.78-.78 2.05 0 2.83L4 21.41c.39.39.9.59 1.41.59.51 0 1.02-.2 1.41-.59l7.78-7.78 2.81-2.81c.8-.78.8-2.07 0-2.86zM5.41 20L4 18.59l7.72-7.72 1.47 1.35L5.41 20z\"/>\n",
              "  </svg>\n",
              "      </button>\n",
              "      \n",
              "  <style>\n",
              "    .colab-df-container {\n",
              "      display:flex;\n",
              "      flex-wrap:wrap;\n",
              "      gap: 12px;\n",
              "    }\n",
              "\n",
              "    .colab-df-convert {\n",
              "      background-color: #E8F0FE;\n",
              "      border: none;\n",
              "      border-radius: 50%;\n",
              "      cursor: pointer;\n",
              "      display: none;\n",
              "      fill: #1967D2;\n",
              "      height: 32px;\n",
              "      padding: 0 0 0 0;\n",
              "      width: 32px;\n",
              "    }\n",
              "\n",
              "    .colab-df-convert:hover {\n",
              "      background-color: #E2EBFA;\n",
              "      box-shadow: 0px 1px 2px rgba(60, 64, 67, 0.3), 0px 1px 3px 1px rgba(60, 64, 67, 0.15);\n",
              "      fill: #174EA6;\n",
              "    }\n",
              "\n",
              "    [theme=dark] .colab-df-convert {\n",
              "      background-color: #3B4455;\n",
              "      fill: #D2E3FC;\n",
              "    }\n",
              "\n",
              "    [theme=dark] .colab-df-convert:hover {\n",
              "      background-color: #434B5C;\n",
              "      box-shadow: 0px 1px 3px 1px rgba(0, 0, 0, 0.15);\n",
              "      filter: drop-shadow(0px 1px 2px rgba(0, 0, 0, 0.3));\n",
              "      fill: #FFFFFF;\n",
              "    }\n",
              "  </style>\n",
              "\n",
              "      <script>\n",
              "        const buttonEl =\n",
              "          document.querySelector('#df-812f9c50-1f55-428b-b208-ea97361934f5 button.colab-df-convert');\n",
              "        buttonEl.style.display =\n",
              "          google.colab.kernel.accessAllowed ? 'block' : 'none';\n",
              "\n",
              "        async function convertToInteractive(key) {\n",
              "          const element = document.querySelector('#df-812f9c50-1f55-428b-b208-ea97361934f5');\n",
              "          const dataTable =\n",
              "            await google.colab.kernel.invokeFunction('convertToInteractive',\n",
              "                                                     [key], {});\n",
              "          if (!dataTable) return;\n",
              "\n",
              "          const docLinkHtml = 'Like what you see? Visit the ' +\n",
              "            '<a target=\"_blank\" href=https://colab.research.google.com/notebooks/data_table.ipynb>data table notebook</a>'\n",
              "            + ' to learn more about interactive tables.';\n",
              "          element.innerHTML = '';\n",
              "          dataTable['output_type'] = 'display_data';\n",
              "          await google.colab.output.renderOutput(dataTable, element);\n",
              "          const docLink = document.createElement('div');\n",
              "          docLink.innerHTML = docLinkHtml;\n",
              "          element.appendChild(docLink);\n",
              "        }\n",
              "      </script>\n",
              "    </div>\n",
              "  </div>\n",
              "  "
            ]
          },
          "metadata": {},
          "execution_count": 83
        }
      ]
    },
    {
      "cell_type": "code",
      "source": [
        "# [1-31] 'subscriber' 가 가장 많은 5개의 채널을 알아봅니다.\n",
        "df.sort_values('subscriber', ascending = False).head(5)"
      ],
      "metadata": {
        "colab": {
          "base_uri": "https://localhost:8080/",
          "height": 250
        },
        "id": "kgBngWpM7GMG",
        "outputId": "4670c49e-b4c4-489e-da96-69c345ff445f"
      },
      "execution_count": null,
      "outputs": [
        {
          "output_type": "execute_result",
          "data": {
            "text/plain": [
              "                         title  category  subscriber         view  video\n",
              "0                    BLACKPINK  음악/댄스/가수    51400000  12851300000    319\n",
              "1               Big Hit Labels  음악/댄스/가수    45500000  12089660000    433\n",
              "2                    BANGTANTV  음악/댄스/가수    38700000   5475980000   1319\n",
              "3  Boram Tube Vlog [보람튜브 브이로그]    키즈/어린이    26500000  11052880000    223\n",
              "4                       SMTOWN  음악/댄스/가수    24500000  18075320000   3583"
            ],
            "text/html": [
              "\n",
              "  <div id=\"df-ef51a963-d2a3-4794-822f-d711551506a7\">\n",
              "    <div class=\"colab-df-container\">\n",
              "      <div>\n",
              "<style scoped>\n",
              "    .dataframe tbody tr th:only-of-type {\n",
              "        vertical-align: middle;\n",
              "    }\n",
              "\n",
              "    .dataframe tbody tr th {\n",
              "        vertical-align: top;\n",
              "    }\n",
              "\n",
              "    .dataframe thead th {\n",
              "        text-align: right;\n",
              "    }\n",
              "</style>\n",
              "<table border=\"1\" class=\"dataframe\">\n",
              "  <thead>\n",
              "    <tr style=\"text-align: right;\">\n",
              "      <th></th>\n",
              "      <th>title</th>\n",
              "      <th>category</th>\n",
              "      <th>subscriber</th>\n",
              "      <th>view</th>\n",
              "      <th>video</th>\n",
              "    </tr>\n",
              "  </thead>\n",
              "  <tbody>\n",
              "    <tr>\n",
              "      <th>0</th>\n",
              "      <td>BLACKPINK</td>\n",
              "      <td>음악/댄스/가수</td>\n",
              "      <td>51400000</td>\n",
              "      <td>12851300000</td>\n",
              "      <td>319</td>\n",
              "    </tr>\n",
              "    <tr>\n",
              "      <th>1</th>\n",
              "      <td>Big Hit Labels</td>\n",
              "      <td>음악/댄스/가수</td>\n",
              "      <td>45500000</td>\n",
              "      <td>12089660000</td>\n",
              "      <td>433</td>\n",
              "    </tr>\n",
              "    <tr>\n",
              "      <th>2</th>\n",
              "      <td>BANGTANTV</td>\n",
              "      <td>음악/댄스/가수</td>\n",
              "      <td>38700000</td>\n",
              "      <td>5475980000</td>\n",
              "      <td>1319</td>\n",
              "    </tr>\n",
              "    <tr>\n",
              "      <th>3</th>\n",
              "      <td>Boram Tube Vlog [보람튜브 브이로그]</td>\n",
              "      <td>키즈/어린이</td>\n",
              "      <td>26500000</td>\n",
              "      <td>11052880000</td>\n",
              "      <td>223</td>\n",
              "    </tr>\n",
              "    <tr>\n",
              "      <th>4</th>\n",
              "      <td>SMTOWN</td>\n",
              "      <td>음악/댄스/가수</td>\n",
              "      <td>24500000</td>\n",
              "      <td>18075320000</td>\n",
              "      <td>3583</td>\n",
              "    </tr>\n",
              "  </tbody>\n",
              "</table>\n",
              "</div>\n",
              "      <button class=\"colab-df-convert\" onclick=\"convertToInteractive('df-ef51a963-d2a3-4794-822f-d711551506a7')\"\n",
              "              title=\"Convert this dataframe to an interactive table.\"\n",
              "              style=\"display:none;\">\n",
              "        \n",
              "  <svg xmlns=\"http://www.w3.org/2000/svg\" height=\"24px\"viewBox=\"0 0 24 24\"\n",
              "       width=\"24px\">\n",
              "    <path d=\"M0 0h24v24H0V0z\" fill=\"none\"/>\n",
              "    <path d=\"M18.56 5.44l.94 2.06.94-2.06 2.06-.94-2.06-.94-.94-2.06-.94 2.06-2.06.94zm-11 1L8.5 8.5l.94-2.06 2.06-.94-2.06-.94L8.5 2.5l-.94 2.06-2.06.94zm10 10l.94 2.06.94-2.06 2.06-.94-2.06-.94-.94-2.06-.94 2.06-2.06.94z\"/><path d=\"M17.41 7.96l-1.37-1.37c-.4-.4-.92-.59-1.43-.59-.52 0-1.04.2-1.43.59L10.3 9.45l-7.72 7.72c-.78.78-.78 2.05 0 2.83L4 21.41c.39.39.9.59 1.41.59.51 0 1.02-.2 1.41-.59l7.78-7.78 2.81-2.81c.8-.78.8-2.07 0-2.86zM5.41 20L4 18.59l7.72-7.72 1.47 1.35L5.41 20z\"/>\n",
              "  </svg>\n",
              "      </button>\n",
              "      \n",
              "  <style>\n",
              "    .colab-df-container {\n",
              "      display:flex;\n",
              "      flex-wrap:wrap;\n",
              "      gap: 12px;\n",
              "    }\n",
              "\n",
              "    .colab-df-convert {\n",
              "      background-color: #E8F0FE;\n",
              "      border: none;\n",
              "      border-radius: 50%;\n",
              "      cursor: pointer;\n",
              "      display: none;\n",
              "      fill: #1967D2;\n",
              "      height: 32px;\n",
              "      padding: 0 0 0 0;\n",
              "      width: 32px;\n",
              "    }\n",
              "\n",
              "    .colab-df-convert:hover {\n",
              "      background-color: #E2EBFA;\n",
              "      box-shadow: 0px 1px 2px rgba(60, 64, 67, 0.3), 0px 1px 3px 1px rgba(60, 64, 67, 0.15);\n",
              "      fill: #174EA6;\n",
              "    }\n",
              "\n",
              "    [theme=dark] .colab-df-convert {\n",
              "      background-color: #3B4455;\n",
              "      fill: #D2E3FC;\n",
              "    }\n",
              "\n",
              "    [theme=dark] .colab-df-convert:hover {\n",
              "      background-color: #434B5C;\n",
              "      box-shadow: 0px 1px 3px 1px rgba(0, 0, 0, 0.15);\n",
              "      filter: drop-shadow(0px 1px 2px rgba(0, 0, 0, 0.3));\n",
              "      fill: #FFFFFF;\n",
              "    }\n",
              "  </style>\n",
              "\n",
              "      <script>\n",
              "        const buttonEl =\n",
              "          document.querySelector('#df-ef51a963-d2a3-4794-822f-d711551506a7 button.colab-df-convert');\n",
              "        buttonEl.style.display =\n",
              "          google.colab.kernel.accessAllowed ? 'block' : 'none';\n",
              "\n",
              "        async function convertToInteractive(key) {\n",
              "          const element = document.querySelector('#df-ef51a963-d2a3-4794-822f-d711551506a7');\n",
              "          const dataTable =\n",
              "            await google.colab.kernel.invokeFunction('convertToInteractive',\n",
              "                                                     [key], {});\n",
              "          if (!dataTable) return;\n",
              "\n",
              "          const docLinkHtml = 'Like what you see? Visit the ' +\n",
              "            '<a target=\"_blank\" href=https://colab.research.google.com/notebooks/data_table.ipynb>data table notebook</a>'\n",
              "            + ' to learn more about interactive tables.';\n",
              "          element.innerHTML = '';\n",
              "          dataTable['output_type'] = 'display_data';\n",
              "          await google.colab.output.renderOutput(dataTable, element);\n",
              "          const docLink = document.createElement('div');\n",
              "          docLink.innerHTML = docLinkHtml;\n",
              "          element.appendChild(docLink);\n",
              "        }\n",
              "      </script>\n",
              "    </div>\n",
              "  </div>\n",
              "  "
            ]
          },
          "metadata": {},
          "execution_count": 86
        }
      ]
    },
    {
      "cell_type": "code",
      "source": [
        "# [1-32] 'view'가 가장 많은 5개 채널을 알아봅니다\n",
        "df.sort_values('view', ascending = False).head()"
      ],
      "metadata": {
        "colab": {
          "base_uri": "https://localhost:8080/",
          "height": 206
        },
        "id": "k4U7a-aU7HwK",
        "outputId": "beb770ed-6fb1-4abd-9223-d47899a8da1e"
      },
      "execution_count": null,
      "outputs": [
        {
          "output_type": "execute_result",
          "data": {
            "text/plain": [
              "              title  category  subscriber         view  video\n",
              "4            SMTOWN  음악/댄스/가수    24500000  18075320000   3583\n",
              "6      1theK (원더케이)  음악/댄스/가수    20900000  17860420000  13291\n",
              "8  ArianaGrandeVevo  음악/댄스/가수    18200000  14796920000    112\n",
              "0         BLACKPINK  음악/댄스/가수    51400000  12851300000    319\n",
              "1    Big Hit Labels  음악/댄스/가수    45500000  12089660000    433"
            ],
            "text/html": [
              "\n",
              "  <div id=\"df-15b28b99-efea-4597-8b70-5df1e3f99531\">\n",
              "    <div class=\"colab-df-container\">\n",
              "      <div>\n",
              "<style scoped>\n",
              "    .dataframe tbody tr th:only-of-type {\n",
              "        vertical-align: middle;\n",
              "    }\n",
              "\n",
              "    .dataframe tbody tr th {\n",
              "        vertical-align: top;\n",
              "    }\n",
              "\n",
              "    .dataframe thead th {\n",
              "        text-align: right;\n",
              "    }\n",
              "</style>\n",
              "<table border=\"1\" class=\"dataframe\">\n",
              "  <thead>\n",
              "    <tr style=\"text-align: right;\">\n",
              "      <th></th>\n",
              "      <th>title</th>\n",
              "      <th>category</th>\n",
              "      <th>subscriber</th>\n",
              "      <th>view</th>\n",
              "      <th>video</th>\n",
              "    </tr>\n",
              "  </thead>\n",
              "  <tbody>\n",
              "    <tr>\n",
              "      <th>4</th>\n",
              "      <td>SMTOWN</td>\n",
              "      <td>음악/댄스/가수</td>\n",
              "      <td>24500000</td>\n",
              "      <td>18075320000</td>\n",
              "      <td>3583</td>\n",
              "    </tr>\n",
              "    <tr>\n",
              "      <th>6</th>\n",
              "      <td>1theK (원더케이)</td>\n",
              "      <td>음악/댄스/가수</td>\n",
              "      <td>20900000</td>\n",
              "      <td>17860420000</td>\n",
              "      <td>13291</td>\n",
              "    </tr>\n",
              "    <tr>\n",
              "      <th>8</th>\n",
              "      <td>ArianaGrandeVevo</td>\n",
              "      <td>음악/댄스/가수</td>\n",
              "      <td>18200000</td>\n",
              "      <td>14796920000</td>\n",
              "      <td>112</td>\n",
              "    </tr>\n",
              "    <tr>\n",
              "      <th>0</th>\n",
              "      <td>BLACKPINK</td>\n",
              "      <td>음악/댄스/가수</td>\n",
              "      <td>51400000</td>\n",
              "      <td>12851300000</td>\n",
              "      <td>319</td>\n",
              "    </tr>\n",
              "    <tr>\n",
              "      <th>1</th>\n",
              "      <td>Big Hit Labels</td>\n",
              "      <td>음악/댄스/가수</td>\n",
              "      <td>45500000</td>\n",
              "      <td>12089660000</td>\n",
              "      <td>433</td>\n",
              "    </tr>\n",
              "  </tbody>\n",
              "</table>\n",
              "</div>\n",
              "      <button class=\"colab-df-convert\" onclick=\"convertToInteractive('df-15b28b99-efea-4597-8b70-5df1e3f99531')\"\n",
              "              title=\"Convert this dataframe to an interactive table.\"\n",
              "              style=\"display:none;\">\n",
              "        \n",
              "  <svg xmlns=\"http://www.w3.org/2000/svg\" height=\"24px\"viewBox=\"0 0 24 24\"\n",
              "       width=\"24px\">\n",
              "    <path d=\"M0 0h24v24H0V0z\" fill=\"none\"/>\n",
              "    <path d=\"M18.56 5.44l.94 2.06.94-2.06 2.06-.94-2.06-.94-.94-2.06-.94 2.06-2.06.94zm-11 1L8.5 8.5l.94-2.06 2.06-.94-2.06-.94L8.5 2.5l-.94 2.06-2.06.94zm10 10l.94 2.06.94-2.06 2.06-.94-2.06-.94-.94-2.06-.94 2.06-2.06.94z\"/><path d=\"M17.41 7.96l-1.37-1.37c-.4-.4-.92-.59-1.43-.59-.52 0-1.04.2-1.43.59L10.3 9.45l-7.72 7.72c-.78.78-.78 2.05 0 2.83L4 21.41c.39.39.9.59 1.41.59.51 0 1.02-.2 1.41-.59l7.78-7.78 2.81-2.81c.8-.78.8-2.07 0-2.86zM5.41 20L4 18.59l7.72-7.72 1.47 1.35L5.41 20z\"/>\n",
              "  </svg>\n",
              "      </button>\n",
              "      \n",
              "  <style>\n",
              "    .colab-df-container {\n",
              "      display:flex;\n",
              "      flex-wrap:wrap;\n",
              "      gap: 12px;\n",
              "    }\n",
              "\n",
              "    .colab-df-convert {\n",
              "      background-color: #E8F0FE;\n",
              "      border: none;\n",
              "      border-radius: 50%;\n",
              "      cursor: pointer;\n",
              "      display: none;\n",
              "      fill: #1967D2;\n",
              "      height: 32px;\n",
              "      padding: 0 0 0 0;\n",
              "      width: 32px;\n",
              "    }\n",
              "\n",
              "    .colab-df-convert:hover {\n",
              "      background-color: #E2EBFA;\n",
              "      box-shadow: 0px 1px 2px rgba(60, 64, 67, 0.3), 0px 1px 3px 1px rgba(60, 64, 67, 0.15);\n",
              "      fill: #174EA6;\n",
              "    }\n",
              "\n",
              "    [theme=dark] .colab-df-convert {\n",
              "      background-color: #3B4455;\n",
              "      fill: #D2E3FC;\n",
              "    }\n",
              "\n",
              "    [theme=dark] .colab-df-convert:hover {\n",
              "      background-color: #434B5C;\n",
              "      box-shadow: 0px 1px 3px 1px rgba(0, 0, 0, 0.15);\n",
              "      filter: drop-shadow(0px 1px 2px rgba(0, 0, 0, 0.3));\n",
              "      fill: #FFFFFF;\n",
              "    }\n",
              "  </style>\n",
              "\n",
              "      <script>\n",
              "        const buttonEl =\n",
              "          document.querySelector('#df-15b28b99-efea-4597-8b70-5df1e3f99531 button.colab-df-convert');\n",
              "        buttonEl.style.display =\n",
              "          google.colab.kernel.accessAllowed ? 'block' : 'none';\n",
              "\n",
              "        async function convertToInteractive(key) {\n",
              "          const element = document.querySelector('#df-15b28b99-efea-4597-8b70-5df1e3f99531');\n",
              "          const dataTable =\n",
              "            await google.colab.kernel.invokeFunction('convertToInteractive',\n",
              "                                                     [key], {});\n",
              "          if (!dataTable) return;\n",
              "\n",
              "          const docLinkHtml = 'Like what you see? Visit the ' +\n",
              "            '<a target=\"_blank\" href=https://colab.research.google.com/notebooks/data_table.ipynb>data table notebook</a>'\n",
              "            + ' to learn more about interactive tables.';\n",
              "          element.innerHTML = '';\n",
              "          dataTable['output_type'] = 'display_data';\n",
              "          await google.colab.output.renderOutput(dataTable, element);\n",
              "          const docLink = document.createElement('div');\n",
              "          docLink.innerHTML = docLinkHtml;\n",
              "          element.appendChild(docLink);\n",
              "        }\n",
              "      </script>\n",
              "    </div>\n",
              "  </div>\n",
              "  "
            ]
          },
          "metadata": {},
          "execution_count": 87
        }
      ]
    },
    {
      "cell_type": "code",
      "source": [
        "# [1-33] 'video'가 가장 많은 5개 채널을 알아봅니다\n",
        "df.sort_values('video', ascending = False).head()"
      ],
      "metadata": {
        "colab": {
          "base_uri": "https://localhost:8080/",
          "height": 206
        },
        "id": "TmCd2bhI7Iy-",
        "outputId": "4e6bd5d5-a86e-4134-f65d-cc218f4c4f6e"
      },
      "execution_count": null,
      "outputs": [
        {
          "output_type": "execute_result",
          "data": {
            "text/plain": [
              "                 title  category  subscriber        view   video\n",
              "169           YTN news  뉴스/정치/사회     1970000  3801710000  492791\n",
              "60           SBS Drama     TV/방송     4360000  4260860000  339029\n",
              "737             연합뉴스TV  뉴스/정치/사회      550000   697650000  311370\n",
              "57   SBS Entertainment     TV/방송     4490000  4516190000  210810\n",
              "17                 CNN  뉴스/정치/사회    10900000  7899750000  149530"
            ],
            "text/html": [
              "\n",
              "  <div id=\"df-71ccff13-377c-4107-b945-afc811bea851\">\n",
              "    <div class=\"colab-df-container\">\n",
              "      <div>\n",
              "<style scoped>\n",
              "    .dataframe tbody tr th:only-of-type {\n",
              "        vertical-align: middle;\n",
              "    }\n",
              "\n",
              "    .dataframe tbody tr th {\n",
              "        vertical-align: top;\n",
              "    }\n",
              "\n",
              "    .dataframe thead th {\n",
              "        text-align: right;\n",
              "    }\n",
              "</style>\n",
              "<table border=\"1\" class=\"dataframe\">\n",
              "  <thead>\n",
              "    <tr style=\"text-align: right;\">\n",
              "      <th></th>\n",
              "      <th>title</th>\n",
              "      <th>category</th>\n",
              "      <th>subscriber</th>\n",
              "      <th>view</th>\n",
              "      <th>video</th>\n",
              "    </tr>\n",
              "  </thead>\n",
              "  <tbody>\n",
              "    <tr>\n",
              "      <th>169</th>\n",
              "      <td>YTN news</td>\n",
              "      <td>뉴스/정치/사회</td>\n",
              "      <td>1970000</td>\n",
              "      <td>3801710000</td>\n",
              "      <td>492791</td>\n",
              "    </tr>\n",
              "    <tr>\n",
              "      <th>60</th>\n",
              "      <td>SBS Drama</td>\n",
              "      <td>TV/방송</td>\n",
              "      <td>4360000</td>\n",
              "      <td>4260860000</td>\n",
              "      <td>339029</td>\n",
              "    </tr>\n",
              "    <tr>\n",
              "      <th>737</th>\n",
              "      <td>연합뉴스TV</td>\n",
              "      <td>뉴스/정치/사회</td>\n",
              "      <td>550000</td>\n",
              "      <td>697650000</td>\n",
              "      <td>311370</td>\n",
              "    </tr>\n",
              "    <tr>\n",
              "      <th>57</th>\n",
              "      <td>SBS Entertainment</td>\n",
              "      <td>TV/방송</td>\n",
              "      <td>4490000</td>\n",
              "      <td>4516190000</td>\n",
              "      <td>210810</td>\n",
              "    </tr>\n",
              "    <tr>\n",
              "      <th>17</th>\n",
              "      <td>CNN</td>\n",
              "      <td>뉴스/정치/사회</td>\n",
              "      <td>10900000</td>\n",
              "      <td>7899750000</td>\n",
              "      <td>149530</td>\n",
              "    </tr>\n",
              "  </tbody>\n",
              "</table>\n",
              "</div>\n",
              "      <button class=\"colab-df-convert\" onclick=\"convertToInteractive('df-71ccff13-377c-4107-b945-afc811bea851')\"\n",
              "              title=\"Convert this dataframe to an interactive table.\"\n",
              "              style=\"display:none;\">\n",
              "        \n",
              "  <svg xmlns=\"http://www.w3.org/2000/svg\" height=\"24px\"viewBox=\"0 0 24 24\"\n",
              "       width=\"24px\">\n",
              "    <path d=\"M0 0h24v24H0V0z\" fill=\"none\"/>\n",
              "    <path d=\"M18.56 5.44l.94 2.06.94-2.06 2.06-.94-2.06-.94-.94-2.06-.94 2.06-2.06.94zm-11 1L8.5 8.5l.94-2.06 2.06-.94-2.06-.94L8.5 2.5l-.94 2.06-2.06.94zm10 10l.94 2.06.94-2.06 2.06-.94-2.06-.94-.94-2.06-.94 2.06-2.06.94z\"/><path d=\"M17.41 7.96l-1.37-1.37c-.4-.4-.92-.59-1.43-.59-.52 0-1.04.2-1.43.59L10.3 9.45l-7.72 7.72c-.78.78-.78 2.05 0 2.83L4 21.41c.39.39.9.59 1.41.59.51 0 1.02-.2 1.41-.59l7.78-7.78 2.81-2.81c.8-.78.8-2.07 0-2.86zM5.41 20L4 18.59l7.72-7.72 1.47 1.35L5.41 20z\"/>\n",
              "  </svg>\n",
              "      </button>\n",
              "      \n",
              "  <style>\n",
              "    .colab-df-container {\n",
              "      display:flex;\n",
              "      flex-wrap:wrap;\n",
              "      gap: 12px;\n",
              "    }\n",
              "\n",
              "    .colab-df-convert {\n",
              "      background-color: #E8F0FE;\n",
              "      border: none;\n",
              "      border-radius: 50%;\n",
              "      cursor: pointer;\n",
              "      display: none;\n",
              "      fill: #1967D2;\n",
              "      height: 32px;\n",
              "      padding: 0 0 0 0;\n",
              "      width: 32px;\n",
              "    }\n",
              "\n",
              "    .colab-df-convert:hover {\n",
              "      background-color: #E2EBFA;\n",
              "      box-shadow: 0px 1px 2px rgba(60, 64, 67, 0.3), 0px 1px 3px 1px rgba(60, 64, 67, 0.15);\n",
              "      fill: #174EA6;\n",
              "    }\n",
              "\n",
              "    [theme=dark] .colab-df-convert {\n",
              "      background-color: #3B4455;\n",
              "      fill: #D2E3FC;\n",
              "    }\n",
              "\n",
              "    [theme=dark] .colab-df-convert:hover {\n",
              "      background-color: #434B5C;\n",
              "      box-shadow: 0px 1px 3px 1px rgba(0, 0, 0, 0.15);\n",
              "      filter: drop-shadow(0px 1px 2px rgba(0, 0, 0, 0.3));\n",
              "      fill: #FFFFFF;\n",
              "    }\n",
              "  </style>\n",
              "\n",
              "      <script>\n",
              "        const buttonEl =\n",
              "          document.querySelector('#df-71ccff13-377c-4107-b945-afc811bea851 button.colab-df-convert');\n",
              "        buttonEl.style.display =\n",
              "          google.colab.kernel.accessAllowed ? 'block' : 'none';\n",
              "\n",
              "        async function convertToInteractive(key) {\n",
              "          const element = document.querySelector('#df-71ccff13-377c-4107-b945-afc811bea851');\n",
              "          const dataTable =\n",
              "            await google.colab.kernel.invokeFunction('convertToInteractive',\n",
              "                                                     [key], {});\n",
              "          if (!dataTable) return;\n",
              "\n",
              "          const docLinkHtml = 'Like what you see? Visit the ' +\n",
              "            '<a target=\"_blank\" href=https://colab.research.google.com/notebooks/data_table.ipynb>data table notebook</a>'\n",
              "            + ' to learn more about interactive tables.';\n",
              "          element.innerHTML = '';\n",
              "          dataTable['output_type'] = 'display_data';\n",
              "          await google.colab.output.renderOutput(dataTable, element);\n",
              "          const docLink = document.createElement('div');\n",
              "          docLink.innerHTML = docLinkHtml;\n",
              "          element.appendChild(docLink);\n",
              "        }\n",
              "      </script>\n",
              "    </div>\n",
              "  </div>\n",
              "  "
            ]
          },
          "metadata": {},
          "execution_count": 88
        }
      ]
    },
    {
      "cell_type": "code",
      "source": [
        "# [1-34] 'video'가 가장 적은 5개 채널을 알아봅니다\n",
        "df.sort_values('video', ascending = True).head()"
      ],
      "metadata": {
        "colab": {
          "base_uri": "https://localhost:8080/",
          "height": 285
        },
        "id": "JIagBgqn7J6q",
        "outputId": "5823b0d0-af3c-430d-9bbd-b6f31b03a29f"
      },
      "execution_count": null,
      "outputs": [
        {
          "output_type": "execute_result",
          "data": {
            "text/plain": [
              "                                        title   category  subscriber  \\\n",
              "194                           OfficialGDRAGON   음악/댄스/가수     1750000   \n",
              "128                                 tzuyang쯔양  음식/요리/레시피     2570000   \n",
              "964                                        fx   음악/댄스/가수      410000   \n",
              "454                                        CL   음악/댄스/가수      840000   \n",
              "742  Trouble Maker (Official YouTube Channel)   음악/댄스/가수      540000   \n",
              "\n",
              "          view  video  \n",
              "194          0      0  \n",
              "128    2570000      1  \n",
              "964     380000      3  \n",
              "454   52470000      5  \n",
              "742  173840000      9  "
            ],
            "text/html": [
              "\n",
              "  <div id=\"df-ea2034c7-46a4-4a01-a6c5-a7440dd5e794\">\n",
              "    <div class=\"colab-df-container\">\n",
              "      <div>\n",
              "<style scoped>\n",
              "    .dataframe tbody tr th:only-of-type {\n",
              "        vertical-align: middle;\n",
              "    }\n",
              "\n",
              "    .dataframe tbody tr th {\n",
              "        vertical-align: top;\n",
              "    }\n",
              "\n",
              "    .dataframe thead th {\n",
              "        text-align: right;\n",
              "    }\n",
              "</style>\n",
              "<table border=\"1\" class=\"dataframe\">\n",
              "  <thead>\n",
              "    <tr style=\"text-align: right;\">\n",
              "      <th></th>\n",
              "      <th>title</th>\n",
              "      <th>category</th>\n",
              "      <th>subscriber</th>\n",
              "      <th>view</th>\n",
              "      <th>video</th>\n",
              "    </tr>\n",
              "  </thead>\n",
              "  <tbody>\n",
              "    <tr>\n",
              "      <th>194</th>\n",
              "      <td>OfficialGDRAGON</td>\n",
              "      <td>음악/댄스/가수</td>\n",
              "      <td>1750000</td>\n",
              "      <td>0</td>\n",
              "      <td>0</td>\n",
              "    </tr>\n",
              "    <tr>\n",
              "      <th>128</th>\n",
              "      <td>tzuyang쯔양</td>\n",
              "      <td>음식/요리/레시피</td>\n",
              "      <td>2570000</td>\n",
              "      <td>2570000</td>\n",
              "      <td>1</td>\n",
              "    </tr>\n",
              "    <tr>\n",
              "      <th>964</th>\n",
              "      <td>fx</td>\n",
              "      <td>음악/댄스/가수</td>\n",
              "      <td>410000</td>\n",
              "      <td>380000</td>\n",
              "      <td>3</td>\n",
              "    </tr>\n",
              "    <tr>\n",
              "      <th>454</th>\n",
              "      <td>CL</td>\n",
              "      <td>음악/댄스/가수</td>\n",
              "      <td>840000</td>\n",
              "      <td>52470000</td>\n",
              "      <td>5</td>\n",
              "    </tr>\n",
              "    <tr>\n",
              "      <th>742</th>\n",
              "      <td>Trouble Maker (Official YouTube Channel)</td>\n",
              "      <td>음악/댄스/가수</td>\n",
              "      <td>540000</td>\n",
              "      <td>173840000</td>\n",
              "      <td>9</td>\n",
              "    </tr>\n",
              "  </tbody>\n",
              "</table>\n",
              "</div>\n",
              "      <button class=\"colab-df-convert\" onclick=\"convertToInteractive('df-ea2034c7-46a4-4a01-a6c5-a7440dd5e794')\"\n",
              "              title=\"Convert this dataframe to an interactive table.\"\n",
              "              style=\"display:none;\">\n",
              "        \n",
              "  <svg xmlns=\"http://www.w3.org/2000/svg\" height=\"24px\"viewBox=\"0 0 24 24\"\n",
              "       width=\"24px\">\n",
              "    <path d=\"M0 0h24v24H0V0z\" fill=\"none\"/>\n",
              "    <path d=\"M18.56 5.44l.94 2.06.94-2.06 2.06-.94-2.06-.94-.94-2.06-.94 2.06-2.06.94zm-11 1L8.5 8.5l.94-2.06 2.06-.94-2.06-.94L8.5 2.5l-.94 2.06-2.06.94zm10 10l.94 2.06.94-2.06 2.06-.94-2.06-.94-.94-2.06-.94 2.06-2.06.94z\"/><path d=\"M17.41 7.96l-1.37-1.37c-.4-.4-.92-.59-1.43-.59-.52 0-1.04.2-1.43.59L10.3 9.45l-7.72 7.72c-.78.78-.78 2.05 0 2.83L4 21.41c.39.39.9.59 1.41.59.51 0 1.02-.2 1.41-.59l7.78-7.78 2.81-2.81c.8-.78.8-2.07 0-2.86zM5.41 20L4 18.59l7.72-7.72 1.47 1.35L5.41 20z\"/>\n",
              "  </svg>\n",
              "      </button>\n",
              "      \n",
              "  <style>\n",
              "    .colab-df-container {\n",
              "      display:flex;\n",
              "      flex-wrap:wrap;\n",
              "      gap: 12px;\n",
              "    }\n",
              "\n",
              "    .colab-df-convert {\n",
              "      background-color: #E8F0FE;\n",
              "      border: none;\n",
              "      border-radius: 50%;\n",
              "      cursor: pointer;\n",
              "      display: none;\n",
              "      fill: #1967D2;\n",
              "      height: 32px;\n",
              "      padding: 0 0 0 0;\n",
              "      width: 32px;\n",
              "    }\n",
              "\n",
              "    .colab-df-convert:hover {\n",
              "      background-color: #E2EBFA;\n",
              "      box-shadow: 0px 1px 2px rgba(60, 64, 67, 0.3), 0px 1px 3px 1px rgba(60, 64, 67, 0.15);\n",
              "      fill: #174EA6;\n",
              "    }\n",
              "\n",
              "    [theme=dark] .colab-df-convert {\n",
              "      background-color: #3B4455;\n",
              "      fill: #D2E3FC;\n",
              "    }\n",
              "\n",
              "    [theme=dark] .colab-df-convert:hover {\n",
              "      background-color: #434B5C;\n",
              "      box-shadow: 0px 1px 3px 1px rgba(0, 0, 0, 0.15);\n",
              "      filter: drop-shadow(0px 1px 2px rgba(0, 0, 0, 0.3));\n",
              "      fill: #FFFFFF;\n",
              "    }\n",
              "  </style>\n",
              "\n",
              "      <script>\n",
              "        const buttonEl =\n",
              "          document.querySelector('#df-ea2034c7-46a4-4a01-a6c5-a7440dd5e794 button.colab-df-convert');\n",
              "        buttonEl.style.display =\n",
              "          google.colab.kernel.accessAllowed ? 'block' : 'none';\n",
              "\n",
              "        async function convertToInteractive(key) {\n",
              "          const element = document.querySelector('#df-ea2034c7-46a4-4a01-a6c5-a7440dd5e794');\n",
              "          const dataTable =\n",
              "            await google.colab.kernel.invokeFunction('convertToInteractive',\n",
              "                                                     [key], {});\n",
              "          if (!dataTable) return;\n",
              "\n",
              "          const docLinkHtml = 'Like what you see? Visit the ' +\n",
              "            '<a target=\"_blank\" href=https://colab.research.google.com/notebooks/data_table.ipynb>data table notebook</a>'\n",
              "            + ' to learn more about interactive tables.';\n",
              "          element.innerHTML = '';\n",
              "          dataTable['output_type'] = 'display_data';\n",
              "          await google.colab.output.renderOutput(dataTable, element);\n",
              "          const docLink = document.createElement('div');\n",
              "          docLink.innerHTML = docLinkHtml;\n",
              "          element.appendChild(docLink);\n",
              "        }\n",
              "      </script>\n",
              "    </div>\n",
              "  </div>\n",
              "  "
            ]
          },
          "metadata": {},
          "execution_count": 90
        }
      ]
    },
    {
      "cell_type": "code",
      "source": [
        "# [1-35] 'category'로 오름차순, 'subscriber'로 내림차순 정렬해 봅니다.\n",
        "df.sort_values(['category', 'subscriber'], ascending = [True, False])"
      ],
      "metadata": {
        "colab": {
          "base_uri": "https://localhost:8080/",
          "height": 423
        },
        "id": "ek8y4eE57K1f",
        "outputId": "ae07679a-2f63-440a-ec12-d77ee88feaf2"
      },
      "execution_count": null,
      "outputs": [
        {
          "output_type": "execute_result",
          "data": {
            "text/plain": [
              "                      title   category  subscriber        view  video\n",
              "52      [Awesome Haeun]어썸하은  BJ/인물/연예인     4840000   703070000    419\n",
              "75   영국남자 Korean Englishman  BJ/인물/연예인     3940000  1160110000    411\n",
              "79              워크맨-Workman  BJ/인물/연예인     3810000   469330000     76\n",
              "82              waveya 2011  BJ/인물/연예인     3720000  1299280000    647\n",
              "84                 허팝Heopop  BJ/인물/연예인     3710000  2748310000   1685\n",
              "..                      ...        ...         ...         ...    ...\n",
              "671            AshleyMariee         해외      590000    55950000   2033\n",
              "53                  Samsung     회사/오피셜     4780000   585350000   1135\n",
              "108               Billboard     회사/오피셜     2900000  1010800000   6100\n",
              "709           미스&미스터트롯 공식계정     회사/오피셜      570000   202340000    659\n",
              "722                  KB국민카드     회사/오피셜      560000   187960000    443\n",
              "\n",
              "[1000 rows x 5 columns]"
            ],
            "text/html": [
              "\n",
              "  <div id=\"df-64190503-6c58-4810-bb79-904a262b7a02\">\n",
              "    <div class=\"colab-df-container\">\n",
              "      <div>\n",
              "<style scoped>\n",
              "    .dataframe tbody tr th:only-of-type {\n",
              "        vertical-align: middle;\n",
              "    }\n",
              "\n",
              "    .dataframe tbody tr th {\n",
              "        vertical-align: top;\n",
              "    }\n",
              "\n",
              "    .dataframe thead th {\n",
              "        text-align: right;\n",
              "    }\n",
              "</style>\n",
              "<table border=\"1\" class=\"dataframe\">\n",
              "  <thead>\n",
              "    <tr style=\"text-align: right;\">\n",
              "      <th></th>\n",
              "      <th>title</th>\n",
              "      <th>category</th>\n",
              "      <th>subscriber</th>\n",
              "      <th>view</th>\n",
              "      <th>video</th>\n",
              "    </tr>\n",
              "  </thead>\n",
              "  <tbody>\n",
              "    <tr>\n",
              "      <th>52</th>\n",
              "      <td>[Awesome Haeun]어썸하은</td>\n",
              "      <td>BJ/인물/연예인</td>\n",
              "      <td>4840000</td>\n",
              "      <td>703070000</td>\n",
              "      <td>419</td>\n",
              "    </tr>\n",
              "    <tr>\n",
              "      <th>75</th>\n",
              "      <td>영국남자 Korean Englishman</td>\n",
              "      <td>BJ/인물/연예인</td>\n",
              "      <td>3940000</td>\n",
              "      <td>1160110000</td>\n",
              "      <td>411</td>\n",
              "    </tr>\n",
              "    <tr>\n",
              "      <th>79</th>\n",
              "      <td>워크맨-Workman</td>\n",
              "      <td>BJ/인물/연예인</td>\n",
              "      <td>3810000</td>\n",
              "      <td>469330000</td>\n",
              "      <td>76</td>\n",
              "    </tr>\n",
              "    <tr>\n",
              "      <th>82</th>\n",
              "      <td>waveya 2011</td>\n",
              "      <td>BJ/인물/연예인</td>\n",
              "      <td>3720000</td>\n",
              "      <td>1299280000</td>\n",
              "      <td>647</td>\n",
              "    </tr>\n",
              "    <tr>\n",
              "      <th>84</th>\n",
              "      <td>허팝Heopop</td>\n",
              "      <td>BJ/인물/연예인</td>\n",
              "      <td>3710000</td>\n",
              "      <td>2748310000</td>\n",
              "      <td>1685</td>\n",
              "    </tr>\n",
              "    <tr>\n",
              "      <th>...</th>\n",
              "      <td>...</td>\n",
              "      <td>...</td>\n",
              "      <td>...</td>\n",
              "      <td>...</td>\n",
              "      <td>...</td>\n",
              "    </tr>\n",
              "    <tr>\n",
              "      <th>671</th>\n",
              "      <td>AshleyMariee</td>\n",
              "      <td>해외</td>\n",
              "      <td>590000</td>\n",
              "      <td>55950000</td>\n",
              "      <td>2033</td>\n",
              "    </tr>\n",
              "    <tr>\n",
              "      <th>53</th>\n",
              "      <td>Samsung</td>\n",
              "      <td>회사/오피셜</td>\n",
              "      <td>4780000</td>\n",
              "      <td>585350000</td>\n",
              "      <td>1135</td>\n",
              "    </tr>\n",
              "    <tr>\n",
              "      <th>108</th>\n",
              "      <td>Billboard</td>\n",
              "      <td>회사/오피셜</td>\n",
              "      <td>2900000</td>\n",
              "      <td>1010800000</td>\n",
              "      <td>6100</td>\n",
              "    </tr>\n",
              "    <tr>\n",
              "      <th>709</th>\n",
              "      <td>미스&amp;미스터트롯 공식계정</td>\n",
              "      <td>회사/오피셜</td>\n",
              "      <td>570000</td>\n",
              "      <td>202340000</td>\n",
              "      <td>659</td>\n",
              "    </tr>\n",
              "    <tr>\n",
              "      <th>722</th>\n",
              "      <td>KB국민카드</td>\n",
              "      <td>회사/오피셜</td>\n",
              "      <td>560000</td>\n",
              "      <td>187960000</td>\n",
              "      <td>443</td>\n",
              "    </tr>\n",
              "  </tbody>\n",
              "</table>\n",
              "<p>1000 rows × 5 columns</p>\n",
              "</div>\n",
              "      <button class=\"colab-df-convert\" onclick=\"convertToInteractive('df-64190503-6c58-4810-bb79-904a262b7a02')\"\n",
              "              title=\"Convert this dataframe to an interactive table.\"\n",
              "              style=\"display:none;\">\n",
              "        \n",
              "  <svg xmlns=\"http://www.w3.org/2000/svg\" height=\"24px\"viewBox=\"0 0 24 24\"\n",
              "       width=\"24px\">\n",
              "    <path d=\"M0 0h24v24H0V0z\" fill=\"none\"/>\n",
              "    <path d=\"M18.56 5.44l.94 2.06.94-2.06 2.06-.94-2.06-.94-.94-2.06-.94 2.06-2.06.94zm-11 1L8.5 8.5l.94-2.06 2.06-.94-2.06-.94L8.5 2.5l-.94 2.06-2.06.94zm10 10l.94 2.06.94-2.06 2.06-.94-2.06-.94-.94-2.06-.94 2.06-2.06.94z\"/><path d=\"M17.41 7.96l-1.37-1.37c-.4-.4-.92-.59-1.43-.59-.52 0-1.04.2-1.43.59L10.3 9.45l-7.72 7.72c-.78.78-.78 2.05 0 2.83L4 21.41c.39.39.9.59 1.41.59.51 0 1.02-.2 1.41-.59l7.78-7.78 2.81-2.81c.8-.78.8-2.07 0-2.86zM5.41 20L4 18.59l7.72-7.72 1.47 1.35L5.41 20z\"/>\n",
              "  </svg>\n",
              "      </button>\n",
              "      \n",
              "  <style>\n",
              "    .colab-df-container {\n",
              "      display:flex;\n",
              "      flex-wrap:wrap;\n",
              "      gap: 12px;\n",
              "    }\n",
              "\n",
              "    .colab-df-convert {\n",
              "      background-color: #E8F0FE;\n",
              "      border: none;\n",
              "      border-radius: 50%;\n",
              "      cursor: pointer;\n",
              "      display: none;\n",
              "      fill: #1967D2;\n",
              "      height: 32px;\n",
              "      padding: 0 0 0 0;\n",
              "      width: 32px;\n",
              "    }\n",
              "\n",
              "    .colab-df-convert:hover {\n",
              "      background-color: #E2EBFA;\n",
              "      box-shadow: 0px 1px 2px rgba(60, 64, 67, 0.3), 0px 1px 3px 1px rgba(60, 64, 67, 0.15);\n",
              "      fill: #174EA6;\n",
              "    }\n",
              "\n",
              "    [theme=dark] .colab-df-convert {\n",
              "      background-color: #3B4455;\n",
              "      fill: #D2E3FC;\n",
              "    }\n",
              "\n",
              "    [theme=dark] .colab-df-convert:hover {\n",
              "      background-color: #434B5C;\n",
              "      box-shadow: 0px 1px 3px 1px rgba(0, 0, 0, 0.15);\n",
              "      filter: drop-shadow(0px 1px 2px rgba(0, 0, 0, 0.3));\n",
              "      fill: #FFFFFF;\n",
              "    }\n",
              "  </style>\n",
              "\n",
              "      <script>\n",
              "        const buttonEl =\n",
              "          document.querySelector('#df-64190503-6c58-4810-bb79-904a262b7a02 button.colab-df-convert');\n",
              "        buttonEl.style.display =\n",
              "          google.colab.kernel.accessAllowed ? 'block' : 'none';\n",
              "\n",
              "        async function convertToInteractive(key) {\n",
              "          const element = document.querySelector('#df-64190503-6c58-4810-bb79-904a262b7a02');\n",
              "          const dataTable =\n",
              "            await google.colab.kernel.invokeFunction('convertToInteractive',\n",
              "                                                     [key], {});\n",
              "          if (!dataTable) return;\n",
              "\n",
              "          const docLinkHtml = 'Like what you see? Visit the ' +\n",
              "            '<a target=\"_blank\" href=https://colab.research.google.com/notebooks/data_table.ipynb>data table notebook</a>'\n",
              "            + ' to learn more about interactive tables.';\n",
              "          element.innerHTML = '';\n",
              "          dataTable['output_type'] = 'display_data';\n",
              "          await google.colab.output.renderOutput(dataTable, element);\n",
              "          const docLink = document.createElement('div');\n",
              "          docLink.innerHTML = docLinkHtml;\n",
              "          element.appendChild(docLink);\n",
              "        }\n",
              "      </script>\n",
              "    </div>\n",
              "  </div>\n",
              "  "
            ]
          },
          "metadata": {},
          "execution_count": 91
        }
      ]
    },
    {
      "cell_type": "markdown",
      "source": [
        "# [빅데이터 분석기사 실기 - Pandas 07] 데이터 검색, boolean indexing"
      ],
      "metadata": {
        "id": "6Vg95_PM9A8p"
      }
    },
    {
      "cell_type": "code",
      "source": [
        "temp = pd.DataFrame({'A': [1, 2, 3, 4],\n",
        "                     'B': [6, 5, 4, 3],\n",
        "                     'C': [3, 4, 5, 2]})\n",
        "temp"
      ],
      "metadata": {
        "colab": {
          "base_uri": "https://localhost:8080/",
          "height": 175
        },
        "id": "kzjP95ck9Egl",
        "outputId": "77611c35-62dc-4c9a-c77f-96e4ad94aacc"
      },
      "execution_count": null,
      "outputs": [
        {
          "output_type": "execute_result",
          "data": {
            "text/plain": [
              "   A  B  C\n",
              "0  1  6  3\n",
              "1  2  5  4\n",
              "2  3  4  5\n",
              "3  4  3  2"
            ],
            "text/html": [
              "\n",
              "  <div id=\"df-3e5cd348-6db5-4a0f-9b40-70488e461b23\">\n",
              "    <div class=\"colab-df-container\">\n",
              "      <div>\n",
              "<style scoped>\n",
              "    .dataframe tbody tr th:only-of-type {\n",
              "        vertical-align: middle;\n",
              "    }\n",
              "\n",
              "    .dataframe tbody tr th {\n",
              "        vertical-align: top;\n",
              "    }\n",
              "\n",
              "    .dataframe thead th {\n",
              "        text-align: right;\n",
              "    }\n",
              "</style>\n",
              "<table border=\"1\" class=\"dataframe\">\n",
              "  <thead>\n",
              "    <tr style=\"text-align: right;\">\n",
              "      <th></th>\n",
              "      <th>A</th>\n",
              "      <th>B</th>\n",
              "      <th>C</th>\n",
              "    </tr>\n",
              "  </thead>\n",
              "  <tbody>\n",
              "    <tr>\n",
              "      <th>0</th>\n",
              "      <td>1</td>\n",
              "      <td>6</td>\n",
              "      <td>3</td>\n",
              "    </tr>\n",
              "    <tr>\n",
              "      <th>1</th>\n",
              "      <td>2</td>\n",
              "      <td>5</td>\n",
              "      <td>4</td>\n",
              "    </tr>\n",
              "    <tr>\n",
              "      <th>2</th>\n",
              "      <td>3</td>\n",
              "      <td>4</td>\n",
              "      <td>5</td>\n",
              "    </tr>\n",
              "    <tr>\n",
              "      <th>3</th>\n",
              "      <td>4</td>\n",
              "      <td>3</td>\n",
              "      <td>2</td>\n",
              "    </tr>\n",
              "  </tbody>\n",
              "</table>\n",
              "</div>\n",
              "      <button class=\"colab-df-convert\" onclick=\"convertToInteractive('df-3e5cd348-6db5-4a0f-9b40-70488e461b23')\"\n",
              "              title=\"Convert this dataframe to an interactive table.\"\n",
              "              style=\"display:none;\">\n",
              "        \n",
              "  <svg xmlns=\"http://www.w3.org/2000/svg\" height=\"24px\"viewBox=\"0 0 24 24\"\n",
              "       width=\"24px\">\n",
              "    <path d=\"M0 0h24v24H0V0z\" fill=\"none\"/>\n",
              "    <path d=\"M18.56 5.44l.94 2.06.94-2.06 2.06-.94-2.06-.94-.94-2.06-.94 2.06-2.06.94zm-11 1L8.5 8.5l.94-2.06 2.06-.94-2.06-.94L8.5 2.5l-.94 2.06-2.06.94zm10 10l.94 2.06.94-2.06 2.06-.94-2.06-.94-.94-2.06-.94 2.06-2.06.94z\"/><path d=\"M17.41 7.96l-1.37-1.37c-.4-.4-.92-.59-1.43-.59-.52 0-1.04.2-1.43.59L10.3 9.45l-7.72 7.72c-.78.78-.78 2.05 0 2.83L4 21.41c.39.39.9.59 1.41.59.51 0 1.02-.2 1.41-.59l7.78-7.78 2.81-2.81c.8-.78.8-2.07 0-2.86zM5.41 20L4 18.59l7.72-7.72 1.47 1.35L5.41 20z\"/>\n",
              "  </svg>\n",
              "      </button>\n",
              "      \n",
              "  <style>\n",
              "    .colab-df-container {\n",
              "      display:flex;\n",
              "      flex-wrap:wrap;\n",
              "      gap: 12px;\n",
              "    }\n",
              "\n",
              "    .colab-df-convert {\n",
              "      background-color: #E8F0FE;\n",
              "      border: none;\n",
              "      border-radius: 50%;\n",
              "      cursor: pointer;\n",
              "      display: none;\n",
              "      fill: #1967D2;\n",
              "      height: 32px;\n",
              "      padding: 0 0 0 0;\n",
              "      width: 32px;\n",
              "    }\n",
              "\n",
              "    .colab-df-convert:hover {\n",
              "      background-color: #E2EBFA;\n",
              "      box-shadow: 0px 1px 2px rgba(60, 64, 67, 0.3), 0px 1px 3px 1px rgba(60, 64, 67, 0.15);\n",
              "      fill: #174EA6;\n",
              "    }\n",
              "\n",
              "    [theme=dark] .colab-df-convert {\n",
              "      background-color: #3B4455;\n",
              "      fill: #D2E3FC;\n",
              "    }\n",
              "\n",
              "    [theme=dark] .colab-df-convert:hover {\n",
              "      background-color: #434B5C;\n",
              "      box-shadow: 0px 1px 3px 1px rgba(0, 0, 0, 0.15);\n",
              "      filter: drop-shadow(0px 1px 2px rgba(0, 0, 0, 0.3));\n",
              "      fill: #FFFFFF;\n",
              "    }\n",
              "  </style>\n",
              "\n",
              "      <script>\n",
              "        const buttonEl =\n",
              "          document.querySelector('#df-3e5cd348-6db5-4a0f-9b40-70488e461b23 button.colab-df-convert');\n",
              "        buttonEl.style.display =\n",
              "          google.colab.kernel.accessAllowed ? 'block' : 'none';\n",
              "\n",
              "        async function convertToInteractive(key) {\n",
              "          const element = document.querySelector('#df-3e5cd348-6db5-4a0f-9b40-70488e461b23');\n",
              "          const dataTable =\n",
              "            await google.colab.kernel.invokeFunction('convertToInteractive',\n",
              "                                                     [key], {});\n",
              "          if (!dataTable) return;\n",
              "\n",
              "          const docLinkHtml = 'Like what you see? Visit the ' +\n",
              "            '<a target=\"_blank\" href=https://colab.research.google.com/notebooks/data_table.ipynb>data table notebook</a>'\n",
              "            + ' to learn more about interactive tables.';\n",
              "          element.innerHTML = '';\n",
              "          dataTable['output_type'] = 'display_data';\n",
              "          await google.colab.output.renderOutput(dataTable, element);\n",
              "          const docLink = document.createElement('div');\n",
              "          docLink.innerHTML = docLinkHtml;\n",
              "          element.appendChild(docLink);\n",
              "        }\n",
              "      </script>\n",
              "    </div>\n",
              "  </div>\n",
              "  "
            ]
          },
          "metadata": {},
          "execution_count": 93
        }
      ]
    },
    {
      "cell_type": "code",
      "source": [
        "temp[[True, True, False, True]]"
      ],
      "metadata": {
        "colab": {
          "base_uri": "https://localhost:8080/",
          "height": 143
        },
        "id": "bmGdsTdD-IRg",
        "outputId": "d893e6b7-31f4-4b58-964c-9f66b75e20d3"
      },
      "execution_count": null,
      "outputs": [
        {
          "output_type": "execute_result",
          "data": {
            "text/plain": [
              "   A  B  C\n",
              "0  1  6  3\n",
              "1  2  5  4\n",
              "3  4  3  2"
            ],
            "text/html": [
              "\n",
              "  <div id=\"df-f550949a-654a-42c0-808b-1fb6a21cb395\">\n",
              "    <div class=\"colab-df-container\">\n",
              "      <div>\n",
              "<style scoped>\n",
              "    .dataframe tbody tr th:only-of-type {\n",
              "        vertical-align: middle;\n",
              "    }\n",
              "\n",
              "    .dataframe tbody tr th {\n",
              "        vertical-align: top;\n",
              "    }\n",
              "\n",
              "    .dataframe thead th {\n",
              "        text-align: right;\n",
              "    }\n",
              "</style>\n",
              "<table border=\"1\" class=\"dataframe\">\n",
              "  <thead>\n",
              "    <tr style=\"text-align: right;\">\n",
              "      <th></th>\n",
              "      <th>A</th>\n",
              "      <th>B</th>\n",
              "      <th>C</th>\n",
              "    </tr>\n",
              "  </thead>\n",
              "  <tbody>\n",
              "    <tr>\n",
              "      <th>0</th>\n",
              "      <td>1</td>\n",
              "      <td>6</td>\n",
              "      <td>3</td>\n",
              "    </tr>\n",
              "    <tr>\n",
              "      <th>1</th>\n",
              "      <td>2</td>\n",
              "      <td>5</td>\n",
              "      <td>4</td>\n",
              "    </tr>\n",
              "    <tr>\n",
              "      <th>3</th>\n",
              "      <td>4</td>\n",
              "      <td>3</td>\n",
              "      <td>2</td>\n",
              "    </tr>\n",
              "  </tbody>\n",
              "</table>\n",
              "</div>\n",
              "      <button class=\"colab-df-convert\" onclick=\"convertToInteractive('df-f550949a-654a-42c0-808b-1fb6a21cb395')\"\n",
              "              title=\"Convert this dataframe to an interactive table.\"\n",
              "              style=\"display:none;\">\n",
              "        \n",
              "  <svg xmlns=\"http://www.w3.org/2000/svg\" height=\"24px\"viewBox=\"0 0 24 24\"\n",
              "       width=\"24px\">\n",
              "    <path d=\"M0 0h24v24H0V0z\" fill=\"none\"/>\n",
              "    <path d=\"M18.56 5.44l.94 2.06.94-2.06 2.06-.94-2.06-.94-.94-2.06-.94 2.06-2.06.94zm-11 1L8.5 8.5l.94-2.06 2.06-.94-2.06-.94L8.5 2.5l-.94 2.06-2.06.94zm10 10l.94 2.06.94-2.06 2.06-.94-2.06-.94-.94-2.06-.94 2.06-2.06.94z\"/><path d=\"M17.41 7.96l-1.37-1.37c-.4-.4-.92-.59-1.43-.59-.52 0-1.04.2-1.43.59L10.3 9.45l-7.72 7.72c-.78.78-.78 2.05 0 2.83L4 21.41c.39.39.9.59 1.41.59.51 0 1.02-.2 1.41-.59l7.78-7.78 2.81-2.81c.8-.78.8-2.07 0-2.86zM5.41 20L4 18.59l7.72-7.72 1.47 1.35L5.41 20z\"/>\n",
              "  </svg>\n",
              "      </button>\n",
              "      \n",
              "  <style>\n",
              "    .colab-df-container {\n",
              "      display:flex;\n",
              "      flex-wrap:wrap;\n",
              "      gap: 12px;\n",
              "    }\n",
              "\n",
              "    .colab-df-convert {\n",
              "      background-color: #E8F0FE;\n",
              "      border: none;\n",
              "      border-radius: 50%;\n",
              "      cursor: pointer;\n",
              "      display: none;\n",
              "      fill: #1967D2;\n",
              "      height: 32px;\n",
              "      padding: 0 0 0 0;\n",
              "      width: 32px;\n",
              "    }\n",
              "\n",
              "    .colab-df-convert:hover {\n",
              "      background-color: #E2EBFA;\n",
              "      box-shadow: 0px 1px 2px rgba(60, 64, 67, 0.3), 0px 1px 3px 1px rgba(60, 64, 67, 0.15);\n",
              "      fill: #174EA6;\n",
              "    }\n",
              "\n",
              "    [theme=dark] .colab-df-convert {\n",
              "      background-color: #3B4455;\n",
              "      fill: #D2E3FC;\n",
              "    }\n",
              "\n",
              "    [theme=dark] .colab-df-convert:hover {\n",
              "      background-color: #434B5C;\n",
              "      box-shadow: 0px 1px 3px 1px rgba(0, 0, 0, 0.15);\n",
              "      filter: drop-shadow(0px 1px 2px rgba(0, 0, 0, 0.3));\n",
              "      fill: #FFFFFF;\n",
              "    }\n",
              "  </style>\n",
              "\n",
              "      <script>\n",
              "        const buttonEl =\n",
              "          document.querySelector('#df-f550949a-654a-42c0-808b-1fb6a21cb395 button.colab-df-convert');\n",
              "        buttonEl.style.display =\n",
              "          google.colab.kernel.accessAllowed ? 'block' : 'none';\n",
              "\n",
              "        async function convertToInteractive(key) {\n",
              "          const element = document.querySelector('#df-f550949a-654a-42c0-808b-1fb6a21cb395');\n",
              "          const dataTable =\n",
              "            await google.colab.kernel.invokeFunction('convertToInteractive',\n",
              "                                                     [key], {});\n",
              "          if (!dataTable) return;\n",
              "\n",
              "          const docLinkHtml = 'Like what you see? Visit the ' +\n",
              "            '<a target=\"_blank\" href=https://colab.research.google.com/notebooks/data_table.ipynb>data table notebook</a>'\n",
              "            + ' to learn more about interactive tables.';\n",
              "          element.innerHTML = '';\n",
              "          dataTable['output_type'] = 'display_data';\n",
              "          await google.colab.output.renderOutput(dataTable, element);\n",
              "          const docLink = document.createElement('div');\n",
              "          docLink.innerHTML = docLinkHtml;\n",
              "          element.appendChild(docLink);\n",
              "        }\n",
              "      </script>\n",
              "    </div>\n",
              "  </div>\n",
              "  "
            ]
          },
          "metadata": {},
          "execution_count": 97
        }
      ]
    },
    {
      "cell_type": "code",
      "source": [
        "temp.loc[[False, True, False, True], ['A', 'C']]"
      ],
      "metadata": {
        "colab": {
          "base_uri": "https://localhost:8080/",
          "height": 112
        },
        "id": "gIkPfltL-FVx",
        "outputId": "602043d4-34af-48d4-ed8e-b30fe89a0ad7"
      },
      "execution_count": null,
      "outputs": [
        {
          "output_type": "execute_result",
          "data": {
            "text/plain": [
              "   A  C\n",
              "1  2  4\n",
              "3  4  2"
            ],
            "text/html": [
              "\n",
              "  <div id=\"df-5da3c6ce-da83-485b-98db-8804648f67d3\">\n",
              "    <div class=\"colab-df-container\">\n",
              "      <div>\n",
              "<style scoped>\n",
              "    .dataframe tbody tr th:only-of-type {\n",
              "        vertical-align: middle;\n",
              "    }\n",
              "\n",
              "    .dataframe tbody tr th {\n",
              "        vertical-align: top;\n",
              "    }\n",
              "\n",
              "    .dataframe thead th {\n",
              "        text-align: right;\n",
              "    }\n",
              "</style>\n",
              "<table border=\"1\" class=\"dataframe\">\n",
              "  <thead>\n",
              "    <tr style=\"text-align: right;\">\n",
              "      <th></th>\n",
              "      <th>A</th>\n",
              "      <th>C</th>\n",
              "    </tr>\n",
              "  </thead>\n",
              "  <tbody>\n",
              "    <tr>\n",
              "      <th>1</th>\n",
              "      <td>2</td>\n",
              "      <td>4</td>\n",
              "    </tr>\n",
              "    <tr>\n",
              "      <th>3</th>\n",
              "      <td>4</td>\n",
              "      <td>2</td>\n",
              "    </tr>\n",
              "  </tbody>\n",
              "</table>\n",
              "</div>\n",
              "      <button class=\"colab-df-convert\" onclick=\"convertToInteractive('df-5da3c6ce-da83-485b-98db-8804648f67d3')\"\n",
              "              title=\"Convert this dataframe to an interactive table.\"\n",
              "              style=\"display:none;\">\n",
              "        \n",
              "  <svg xmlns=\"http://www.w3.org/2000/svg\" height=\"24px\"viewBox=\"0 0 24 24\"\n",
              "       width=\"24px\">\n",
              "    <path d=\"M0 0h24v24H0V0z\" fill=\"none\"/>\n",
              "    <path d=\"M18.56 5.44l.94 2.06.94-2.06 2.06-.94-2.06-.94-.94-2.06-.94 2.06-2.06.94zm-11 1L8.5 8.5l.94-2.06 2.06-.94-2.06-.94L8.5 2.5l-.94 2.06-2.06.94zm10 10l.94 2.06.94-2.06 2.06-.94-2.06-.94-.94-2.06-.94 2.06-2.06.94z\"/><path d=\"M17.41 7.96l-1.37-1.37c-.4-.4-.92-.59-1.43-.59-.52 0-1.04.2-1.43.59L10.3 9.45l-7.72 7.72c-.78.78-.78 2.05 0 2.83L4 21.41c.39.39.9.59 1.41.59.51 0 1.02-.2 1.41-.59l7.78-7.78 2.81-2.81c.8-.78.8-2.07 0-2.86zM5.41 20L4 18.59l7.72-7.72 1.47 1.35L5.41 20z\"/>\n",
              "  </svg>\n",
              "      </button>\n",
              "      \n",
              "  <style>\n",
              "    .colab-df-container {\n",
              "      display:flex;\n",
              "      flex-wrap:wrap;\n",
              "      gap: 12px;\n",
              "    }\n",
              "\n",
              "    .colab-df-convert {\n",
              "      background-color: #E8F0FE;\n",
              "      border: none;\n",
              "      border-radius: 50%;\n",
              "      cursor: pointer;\n",
              "      display: none;\n",
              "      fill: #1967D2;\n",
              "      height: 32px;\n",
              "      padding: 0 0 0 0;\n",
              "      width: 32px;\n",
              "    }\n",
              "\n",
              "    .colab-df-convert:hover {\n",
              "      background-color: #E2EBFA;\n",
              "      box-shadow: 0px 1px 2px rgba(60, 64, 67, 0.3), 0px 1px 3px 1px rgba(60, 64, 67, 0.15);\n",
              "      fill: #174EA6;\n",
              "    }\n",
              "\n",
              "    [theme=dark] .colab-df-convert {\n",
              "      background-color: #3B4455;\n",
              "      fill: #D2E3FC;\n",
              "    }\n",
              "\n",
              "    [theme=dark] .colab-df-convert:hover {\n",
              "      background-color: #434B5C;\n",
              "      box-shadow: 0px 1px 3px 1px rgba(0, 0, 0, 0.15);\n",
              "      filter: drop-shadow(0px 1px 2px rgba(0, 0, 0, 0.3));\n",
              "      fill: #FFFFFF;\n",
              "    }\n",
              "  </style>\n",
              "\n",
              "      <script>\n",
              "        const buttonEl =\n",
              "          document.querySelector('#df-5da3c6ce-da83-485b-98db-8804648f67d3 button.colab-df-convert');\n",
              "        buttonEl.style.display =\n",
              "          google.colab.kernel.accessAllowed ? 'block' : 'none';\n",
              "\n",
              "        async function convertToInteractive(key) {\n",
              "          const element = document.querySelector('#df-5da3c6ce-da83-485b-98db-8804648f67d3');\n",
              "          const dataTable =\n",
              "            await google.colab.kernel.invokeFunction('convertToInteractive',\n",
              "                                                     [key], {});\n",
              "          if (!dataTable) return;\n",
              "\n",
              "          const docLinkHtml = 'Like what you see? Visit the ' +\n",
              "            '<a target=\"_blank\" href=https://colab.research.google.com/notebooks/data_table.ipynb>data table notebook</a>'\n",
              "            + ' to learn more about interactive tables.';\n",
              "          element.innerHTML = '';\n",
              "          dataTable['output_type'] = 'display_data';\n",
              "          await google.colab.output.renderOutput(dataTable, element);\n",
              "          const docLink = document.createElement('div');\n",
              "          docLink.innerHTML = docLinkHtml;\n",
              "          element.appendChild(docLink);\n",
              "        }\n",
              "      </script>\n",
              "    </div>\n",
              "  </div>\n",
              "  "
            ]
          },
          "metadata": {},
          "execution_count": 99
        }
      ]
    },
    {
      "cell_type": "code",
      "source": [
        "# [1-36] 'category'가 '음악/댄스/가수'인 채널의 subscriber TOP5를 알아봅니다.\n",
        "df[df['category'] == '음악/댄스/가수'].sort_values('subscriber', ascending = False).head()"
      ],
      "metadata": {
        "colab": {
          "base_uri": "https://localhost:8080/",
          "height": 206
        },
        "id": "_4f6cqcc9GHu",
        "outputId": "8e0b4a1e-33ed-4962-9d06-5ee7a6e89f0b"
      },
      "execution_count": null,
      "outputs": [
        {
          "output_type": "execute_result",
          "data": {
            "text/plain": [
              "                   title  category  subscriber         view  video\n",
              "0              BLACKPINK  음악/댄스/가수    51400000  12851300000    319\n",
              "1         Big Hit Labels  음악/댄스/가수    45500000  12089660000    433\n",
              "2              BANGTANTV  음악/댄스/가수    38700000   5475980000   1319\n",
              "4                 SMTOWN  음악/댄스/가수    24500000  18075320000   3583\n",
              "5  1MILLION Dance Studio  음악/댄스/가수    22300000   5753580000   2205"
            ],
            "text/html": [
              "\n",
              "  <div id=\"df-a0891820-1862-423e-bb11-7540febf5788\">\n",
              "    <div class=\"colab-df-container\">\n",
              "      <div>\n",
              "<style scoped>\n",
              "    .dataframe tbody tr th:only-of-type {\n",
              "        vertical-align: middle;\n",
              "    }\n",
              "\n",
              "    .dataframe tbody tr th {\n",
              "        vertical-align: top;\n",
              "    }\n",
              "\n",
              "    .dataframe thead th {\n",
              "        text-align: right;\n",
              "    }\n",
              "</style>\n",
              "<table border=\"1\" class=\"dataframe\">\n",
              "  <thead>\n",
              "    <tr style=\"text-align: right;\">\n",
              "      <th></th>\n",
              "      <th>title</th>\n",
              "      <th>category</th>\n",
              "      <th>subscriber</th>\n",
              "      <th>view</th>\n",
              "      <th>video</th>\n",
              "    </tr>\n",
              "  </thead>\n",
              "  <tbody>\n",
              "    <tr>\n",
              "      <th>0</th>\n",
              "      <td>BLACKPINK</td>\n",
              "      <td>음악/댄스/가수</td>\n",
              "      <td>51400000</td>\n",
              "      <td>12851300000</td>\n",
              "      <td>319</td>\n",
              "    </tr>\n",
              "    <tr>\n",
              "      <th>1</th>\n",
              "      <td>Big Hit Labels</td>\n",
              "      <td>음악/댄스/가수</td>\n",
              "      <td>45500000</td>\n",
              "      <td>12089660000</td>\n",
              "      <td>433</td>\n",
              "    </tr>\n",
              "    <tr>\n",
              "      <th>2</th>\n",
              "      <td>BANGTANTV</td>\n",
              "      <td>음악/댄스/가수</td>\n",
              "      <td>38700000</td>\n",
              "      <td>5475980000</td>\n",
              "      <td>1319</td>\n",
              "    </tr>\n",
              "    <tr>\n",
              "      <th>4</th>\n",
              "      <td>SMTOWN</td>\n",
              "      <td>음악/댄스/가수</td>\n",
              "      <td>24500000</td>\n",
              "      <td>18075320000</td>\n",
              "      <td>3583</td>\n",
              "    </tr>\n",
              "    <tr>\n",
              "      <th>5</th>\n",
              "      <td>1MILLION Dance Studio</td>\n",
              "      <td>음악/댄스/가수</td>\n",
              "      <td>22300000</td>\n",
              "      <td>5753580000</td>\n",
              "      <td>2205</td>\n",
              "    </tr>\n",
              "  </tbody>\n",
              "</table>\n",
              "</div>\n",
              "      <button class=\"colab-df-convert\" onclick=\"convertToInteractive('df-a0891820-1862-423e-bb11-7540febf5788')\"\n",
              "              title=\"Convert this dataframe to an interactive table.\"\n",
              "              style=\"display:none;\">\n",
              "        \n",
              "  <svg xmlns=\"http://www.w3.org/2000/svg\" height=\"24px\"viewBox=\"0 0 24 24\"\n",
              "       width=\"24px\">\n",
              "    <path d=\"M0 0h24v24H0V0z\" fill=\"none\"/>\n",
              "    <path d=\"M18.56 5.44l.94 2.06.94-2.06 2.06-.94-2.06-.94-.94-2.06-.94 2.06-2.06.94zm-11 1L8.5 8.5l.94-2.06 2.06-.94-2.06-.94L8.5 2.5l-.94 2.06-2.06.94zm10 10l.94 2.06.94-2.06 2.06-.94-2.06-.94-.94-2.06-.94 2.06-2.06.94z\"/><path d=\"M17.41 7.96l-1.37-1.37c-.4-.4-.92-.59-1.43-.59-.52 0-1.04.2-1.43.59L10.3 9.45l-7.72 7.72c-.78.78-.78 2.05 0 2.83L4 21.41c.39.39.9.59 1.41.59.51 0 1.02-.2 1.41-.59l7.78-7.78 2.81-2.81c.8-.78.8-2.07 0-2.86zM5.41 20L4 18.59l7.72-7.72 1.47 1.35L5.41 20z\"/>\n",
              "  </svg>\n",
              "      </button>\n",
              "      \n",
              "  <style>\n",
              "    .colab-df-container {\n",
              "      display:flex;\n",
              "      flex-wrap:wrap;\n",
              "      gap: 12px;\n",
              "    }\n",
              "\n",
              "    .colab-df-convert {\n",
              "      background-color: #E8F0FE;\n",
              "      border: none;\n",
              "      border-radius: 50%;\n",
              "      cursor: pointer;\n",
              "      display: none;\n",
              "      fill: #1967D2;\n",
              "      height: 32px;\n",
              "      padding: 0 0 0 0;\n",
              "      width: 32px;\n",
              "    }\n",
              "\n",
              "    .colab-df-convert:hover {\n",
              "      background-color: #E2EBFA;\n",
              "      box-shadow: 0px 1px 2px rgba(60, 64, 67, 0.3), 0px 1px 3px 1px rgba(60, 64, 67, 0.15);\n",
              "      fill: #174EA6;\n",
              "    }\n",
              "\n",
              "    [theme=dark] .colab-df-convert {\n",
              "      background-color: #3B4455;\n",
              "      fill: #D2E3FC;\n",
              "    }\n",
              "\n",
              "    [theme=dark] .colab-df-convert:hover {\n",
              "      background-color: #434B5C;\n",
              "      box-shadow: 0px 1px 3px 1px rgba(0, 0, 0, 0.15);\n",
              "      filter: drop-shadow(0px 1px 2px rgba(0, 0, 0, 0.3));\n",
              "      fill: #FFFFFF;\n",
              "    }\n",
              "  </style>\n",
              "\n",
              "      <script>\n",
              "        const buttonEl =\n",
              "          document.querySelector('#df-a0891820-1862-423e-bb11-7540febf5788 button.colab-df-convert');\n",
              "        buttonEl.style.display =\n",
              "          google.colab.kernel.accessAllowed ? 'block' : 'none';\n",
              "\n",
              "        async function convertToInteractive(key) {\n",
              "          const element = document.querySelector('#df-a0891820-1862-423e-bb11-7540febf5788');\n",
              "          const dataTable =\n",
              "            await google.colab.kernel.invokeFunction('convertToInteractive',\n",
              "                                                     [key], {});\n",
              "          if (!dataTable) return;\n",
              "\n",
              "          const docLinkHtml = 'Like what you see? Visit the ' +\n",
              "            '<a target=\"_blank\" href=https://colab.research.google.com/notebooks/data_table.ipynb>data table notebook</a>'\n",
              "            + ' to learn more about interactive tables.';\n",
              "          element.innerHTML = '';\n",
              "          dataTable['output_type'] = 'display_data';\n",
              "          await google.colab.output.renderOutput(dataTable, element);\n",
              "          const docLink = document.createElement('div');\n",
              "          docLink.innerHTML = docLinkHtml;\n",
              "          element.appendChild(docLink);\n",
              "        }\n",
              "      </script>\n",
              "    </div>\n",
              "  </div>\n",
              "  "
            ]
          },
          "metadata": {},
          "execution_count": 104
        }
      ]
    },
    {
      "cell_type": "code",
      "source": [
        "# [1-37] 'category'가 'TV/방송'인 채널의 view TOP5를 알아봅니다.\n",
        "df[df['category'] == 'TV/방송'].sort_values('view', ascending = False).head()"
      ],
      "metadata": {
        "id": "m5yPJbnZ9d2N",
        "colab": {
          "base_uri": "https://localhost:8080/",
          "height": 206
        },
        "outputId": "85eecab7-b667-46cd-d214-5ef5bd90e19a"
      },
      "execution_count": null,
      "outputs": [
        {
          "output_type": "execute_result",
          "data": {
            "text/plain": [
              "                title category  subscriber         view   video\n",
              "12          KBS World    TV/방송    14300000  10158060000   46830\n",
              "22            MBCkpop    TV/방송     8670000   6339380000   38695\n",
              "76      KBS Entertain    TV/방송     3930000   5340910000   91783\n",
              "57  SBS Entertainment    TV/방송     4490000   4516190000  210810\n",
              "77           MBCdrama    TV/방송     3920000   4350540000   51543"
            ],
            "text/html": [
              "\n",
              "  <div id=\"df-20ef0637-d0f8-4511-8cad-71dde14360bd\">\n",
              "    <div class=\"colab-df-container\">\n",
              "      <div>\n",
              "<style scoped>\n",
              "    .dataframe tbody tr th:only-of-type {\n",
              "        vertical-align: middle;\n",
              "    }\n",
              "\n",
              "    .dataframe tbody tr th {\n",
              "        vertical-align: top;\n",
              "    }\n",
              "\n",
              "    .dataframe thead th {\n",
              "        text-align: right;\n",
              "    }\n",
              "</style>\n",
              "<table border=\"1\" class=\"dataframe\">\n",
              "  <thead>\n",
              "    <tr style=\"text-align: right;\">\n",
              "      <th></th>\n",
              "      <th>title</th>\n",
              "      <th>category</th>\n",
              "      <th>subscriber</th>\n",
              "      <th>view</th>\n",
              "      <th>video</th>\n",
              "    </tr>\n",
              "  </thead>\n",
              "  <tbody>\n",
              "    <tr>\n",
              "      <th>12</th>\n",
              "      <td>KBS World</td>\n",
              "      <td>TV/방송</td>\n",
              "      <td>14300000</td>\n",
              "      <td>10158060000</td>\n",
              "      <td>46830</td>\n",
              "    </tr>\n",
              "    <tr>\n",
              "      <th>22</th>\n",
              "      <td>MBCkpop</td>\n",
              "      <td>TV/방송</td>\n",
              "      <td>8670000</td>\n",
              "      <td>6339380000</td>\n",
              "      <td>38695</td>\n",
              "    </tr>\n",
              "    <tr>\n",
              "      <th>76</th>\n",
              "      <td>KBS Entertain</td>\n",
              "      <td>TV/방송</td>\n",
              "      <td>3930000</td>\n",
              "      <td>5340910000</td>\n",
              "      <td>91783</td>\n",
              "    </tr>\n",
              "    <tr>\n",
              "      <th>57</th>\n",
              "      <td>SBS Entertainment</td>\n",
              "      <td>TV/방송</td>\n",
              "      <td>4490000</td>\n",
              "      <td>4516190000</td>\n",
              "      <td>210810</td>\n",
              "    </tr>\n",
              "    <tr>\n",
              "      <th>77</th>\n",
              "      <td>MBCdrama</td>\n",
              "      <td>TV/방송</td>\n",
              "      <td>3920000</td>\n",
              "      <td>4350540000</td>\n",
              "      <td>51543</td>\n",
              "    </tr>\n",
              "  </tbody>\n",
              "</table>\n",
              "</div>\n",
              "      <button class=\"colab-df-convert\" onclick=\"convertToInteractive('df-20ef0637-d0f8-4511-8cad-71dde14360bd')\"\n",
              "              title=\"Convert this dataframe to an interactive table.\"\n",
              "              style=\"display:none;\">\n",
              "        \n",
              "  <svg xmlns=\"http://www.w3.org/2000/svg\" height=\"24px\"viewBox=\"0 0 24 24\"\n",
              "       width=\"24px\">\n",
              "    <path d=\"M0 0h24v24H0V0z\" fill=\"none\"/>\n",
              "    <path d=\"M18.56 5.44l.94 2.06.94-2.06 2.06-.94-2.06-.94-.94-2.06-.94 2.06-2.06.94zm-11 1L8.5 8.5l.94-2.06 2.06-.94-2.06-.94L8.5 2.5l-.94 2.06-2.06.94zm10 10l.94 2.06.94-2.06 2.06-.94-2.06-.94-.94-2.06-.94 2.06-2.06.94z\"/><path d=\"M17.41 7.96l-1.37-1.37c-.4-.4-.92-.59-1.43-.59-.52 0-1.04.2-1.43.59L10.3 9.45l-7.72 7.72c-.78.78-.78 2.05 0 2.83L4 21.41c.39.39.9.59 1.41.59.51 0 1.02-.2 1.41-.59l7.78-7.78 2.81-2.81c.8-.78.8-2.07 0-2.86zM5.41 20L4 18.59l7.72-7.72 1.47 1.35L5.41 20z\"/>\n",
              "  </svg>\n",
              "      </button>\n",
              "      \n",
              "  <style>\n",
              "    .colab-df-container {\n",
              "      display:flex;\n",
              "      flex-wrap:wrap;\n",
              "      gap: 12px;\n",
              "    }\n",
              "\n",
              "    .colab-df-convert {\n",
              "      background-color: #E8F0FE;\n",
              "      border: none;\n",
              "      border-radius: 50%;\n",
              "      cursor: pointer;\n",
              "      display: none;\n",
              "      fill: #1967D2;\n",
              "      height: 32px;\n",
              "      padding: 0 0 0 0;\n",
              "      width: 32px;\n",
              "    }\n",
              "\n",
              "    .colab-df-convert:hover {\n",
              "      background-color: #E2EBFA;\n",
              "      box-shadow: 0px 1px 2px rgba(60, 64, 67, 0.3), 0px 1px 3px 1px rgba(60, 64, 67, 0.15);\n",
              "      fill: #174EA6;\n",
              "    }\n",
              "\n",
              "    [theme=dark] .colab-df-convert {\n",
              "      background-color: #3B4455;\n",
              "      fill: #D2E3FC;\n",
              "    }\n",
              "\n",
              "    [theme=dark] .colab-df-convert:hover {\n",
              "      background-color: #434B5C;\n",
              "      box-shadow: 0px 1px 3px 1px rgba(0, 0, 0, 0.15);\n",
              "      filter: drop-shadow(0px 1px 2px rgba(0, 0, 0, 0.3));\n",
              "      fill: #FFFFFF;\n",
              "    }\n",
              "  </style>\n",
              "\n",
              "      <script>\n",
              "        const buttonEl =\n",
              "          document.querySelector('#df-20ef0637-d0f8-4511-8cad-71dde14360bd button.colab-df-convert');\n",
              "        buttonEl.style.display =\n",
              "          google.colab.kernel.accessAllowed ? 'block' : 'none';\n",
              "\n",
              "        async function convertToInteractive(key) {\n",
              "          const element = document.querySelector('#df-20ef0637-d0f8-4511-8cad-71dde14360bd');\n",
              "          const dataTable =\n",
              "            await google.colab.kernel.invokeFunction('convertToInteractive',\n",
              "                                                     [key], {});\n",
              "          if (!dataTable) return;\n",
              "\n",
              "          const docLinkHtml = 'Like what you see? Visit the ' +\n",
              "            '<a target=\"_blank\" href=https://colab.research.google.com/notebooks/data_table.ipynb>data table notebook</a>'\n",
              "            + ' to learn more about interactive tables.';\n",
              "          element.innerHTML = '';\n",
              "          dataTable['output_type'] = 'display_data';\n",
              "          await google.colab.output.renderOutput(dataTable, element);\n",
              "          const docLink = document.createElement('div');\n",
              "          docLink.innerHTML = docLinkHtml;\n",
              "          element.appendChild(docLink);\n",
              "        }\n",
              "      </script>\n",
              "    </div>\n",
              "  </div>\n",
              "  "
            ]
          },
          "metadata": {},
          "execution_count": 107
        }
      ]
    },
    {
      "cell_type": "code",
      "source": [
        "# [1-38] 'subscriber'가 30000000 (3천만) 이상인 채널을 알아봅니다.\n",
        "df[df['subscriber'] >= 30000000]"
      ],
      "metadata": {
        "id": "LDEwCC8s9evd",
        "colab": {
          "base_uri": "https://localhost:8080/",
          "height": 143
        },
        "outputId": "8693ca84-3143-4ac8-8c3b-3dfac03d302c"
      },
      "execution_count": null,
      "outputs": [
        {
          "output_type": "execute_result",
          "data": {
            "text/plain": [
              "            title  category  subscriber         view  video\n",
              "0       BLACKPINK  음악/댄스/가수    51400000  12851300000    319\n",
              "1  Big Hit Labels  음악/댄스/가수    45500000  12089660000    433\n",
              "2       BANGTANTV  음악/댄스/가수    38700000   5475980000   1319"
            ],
            "text/html": [
              "\n",
              "  <div id=\"df-8d760aa6-853a-42f9-a148-83afa1d1a73d\">\n",
              "    <div class=\"colab-df-container\">\n",
              "      <div>\n",
              "<style scoped>\n",
              "    .dataframe tbody tr th:only-of-type {\n",
              "        vertical-align: middle;\n",
              "    }\n",
              "\n",
              "    .dataframe tbody tr th {\n",
              "        vertical-align: top;\n",
              "    }\n",
              "\n",
              "    .dataframe thead th {\n",
              "        text-align: right;\n",
              "    }\n",
              "</style>\n",
              "<table border=\"1\" class=\"dataframe\">\n",
              "  <thead>\n",
              "    <tr style=\"text-align: right;\">\n",
              "      <th></th>\n",
              "      <th>title</th>\n",
              "      <th>category</th>\n",
              "      <th>subscriber</th>\n",
              "      <th>view</th>\n",
              "      <th>video</th>\n",
              "    </tr>\n",
              "  </thead>\n",
              "  <tbody>\n",
              "    <tr>\n",
              "      <th>0</th>\n",
              "      <td>BLACKPINK</td>\n",
              "      <td>음악/댄스/가수</td>\n",
              "      <td>51400000</td>\n",
              "      <td>12851300000</td>\n",
              "      <td>319</td>\n",
              "    </tr>\n",
              "    <tr>\n",
              "      <th>1</th>\n",
              "      <td>Big Hit Labels</td>\n",
              "      <td>음악/댄스/가수</td>\n",
              "      <td>45500000</td>\n",
              "      <td>12089660000</td>\n",
              "      <td>433</td>\n",
              "    </tr>\n",
              "    <tr>\n",
              "      <th>2</th>\n",
              "      <td>BANGTANTV</td>\n",
              "      <td>음악/댄스/가수</td>\n",
              "      <td>38700000</td>\n",
              "      <td>5475980000</td>\n",
              "      <td>1319</td>\n",
              "    </tr>\n",
              "  </tbody>\n",
              "</table>\n",
              "</div>\n",
              "      <button class=\"colab-df-convert\" onclick=\"convertToInteractive('df-8d760aa6-853a-42f9-a148-83afa1d1a73d')\"\n",
              "              title=\"Convert this dataframe to an interactive table.\"\n",
              "              style=\"display:none;\">\n",
              "        \n",
              "  <svg xmlns=\"http://www.w3.org/2000/svg\" height=\"24px\"viewBox=\"0 0 24 24\"\n",
              "       width=\"24px\">\n",
              "    <path d=\"M0 0h24v24H0V0z\" fill=\"none\"/>\n",
              "    <path d=\"M18.56 5.44l.94 2.06.94-2.06 2.06-.94-2.06-.94-.94-2.06-.94 2.06-2.06.94zm-11 1L8.5 8.5l.94-2.06 2.06-.94-2.06-.94L8.5 2.5l-.94 2.06-2.06.94zm10 10l.94 2.06.94-2.06 2.06-.94-2.06-.94-.94-2.06-.94 2.06-2.06.94z\"/><path d=\"M17.41 7.96l-1.37-1.37c-.4-.4-.92-.59-1.43-.59-.52 0-1.04.2-1.43.59L10.3 9.45l-7.72 7.72c-.78.78-.78 2.05 0 2.83L4 21.41c.39.39.9.59 1.41.59.51 0 1.02-.2 1.41-.59l7.78-7.78 2.81-2.81c.8-.78.8-2.07 0-2.86zM5.41 20L4 18.59l7.72-7.72 1.47 1.35L5.41 20z\"/>\n",
              "  </svg>\n",
              "      </button>\n",
              "      \n",
              "  <style>\n",
              "    .colab-df-container {\n",
              "      display:flex;\n",
              "      flex-wrap:wrap;\n",
              "      gap: 12px;\n",
              "    }\n",
              "\n",
              "    .colab-df-convert {\n",
              "      background-color: #E8F0FE;\n",
              "      border: none;\n",
              "      border-radius: 50%;\n",
              "      cursor: pointer;\n",
              "      display: none;\n",
              "      fill: #1967D2;\n",
              "      height: 32px;\n",
              "      padding: 0 0 0 0;\n",
              "      width: 32px;\n",
              "    }\n",
              "\n",
              "    .colab-df-convert:hover {\n",
              "      background-color: #E2EBFA;\n",
              "      box-shadow: 0px 1px 2px rgba(60, 64, 67, 0.3), 0px 1px 3px 1px rgba(60, 64, 67, 0.15);\n",
              "      fill: #174EA6;\n",
              "    }\n",
              "\n",
              "    [theme=dark] .colab-df-convert {\n",
              "      background-color: #3B4455;\n",
              "      fill: #D2E3FC;\n",
              "    }\n",
              "\n",
              "    [theme=dark] .colab-df-convert:hover {\n",
              "      background-color: #434B5C;\n",
              "      box-shadow: 0px 1px 3px 1px rgba(0, 0, 0, 0.15);\n",
              "      filter: drop-shadow(0px 1px 2px rgba(0, 0, 0, 0.3));\n",
              "      fill: #FFFFFF;\n",
              "    }\n",
              "  </style>\n",
              "\n",
              "      <script>\n",
              "        const buttonEl =\n",
              "          document.querySelector('#df-8d760aa6-853a-42f9-a148-83afa1d1a73d button.colab-df-convert');\n",
              "        buttonEl.style.display =\n",
              "          google.colab.kernel.accessAllowed ? 'block' : 'none';\n",
              "\n",
              "        async function convertToInteractive(key) {\n",
              "          const element = document.querySelector('#df-8d760aa6-853a-42f9-a148-83afa1d1a73d');\n",
              "          const dataTable =\n",
              "            await google.colab.kernel.invokeFunction('convertToInteractive',\n",
              "                                                     [key], {});\n",
              "          if (!dataTable) return;\n",
              "\n",
              "          const docLinkHtml = 'Like what you see? Visit the ' +\n",
              "            '<a target=\"_blank\" href=https://colab.research.google.com/notebooks/data_table.ipynb>data table notebook</a>'\n",
              "            + ' to learn more about interactive tables.';\n",
              "          element.innerHTML = '';\n",
              "          dataTable['output_type'] = 'display_data';\n",
              "          await google.colab.output.renderOutput(dataTable, element);\n",
              "          const docLink = document.createElement('div');\n",
              "          docLink.innerHTML = docLinkHtml;\n",
              "          element.appendChild(docLink);\n",
              "        }\n",
              "      </script>\n",
              "    </div>\n",
              "  </div>\n",
              "  "
            ]
          },
          "metadata": {},
          "execution_count": 109
        }
      ]
    },
    {
      "cell_type": "code",
      "source": [
        "# [1-39] 'video' 개수가 30000 이상 35000 이하인 채널을 알아봅니다.\n",
        "df[(df['video'] >= 30000) & (df['video'] <= 35000)]"
      ],
      "metadata": {
        "id": "wdv4kx2v9fqf",
        "colab": {
          "base_uri": "https://localhost:8080/",
          "height": 81
        },
        "outputId": "4848d29f-eac8-49d0-fc50-f454f4f4fa1d"
      },
      "execution_count": null,
      "outputs": [
        {
          "output_type": "execute_result",
          "data": {
            "text/plain": [
              "         title  category  subscriber       view  video\n",
              "409  TBS 시민의방송  뉴스/정치/사회      930000  582330000  30431"
            ],
            "text/html": [
              "\n",
              "  <div id=\"df-4d11060f-dd37-4a19-a29b-226bf88e6aae\">\n",
              "    <div class=\"colab-df-container\">\n",
              "      <div>\n",
              "<style scoped>\n",
              "    .dataframe tbody tr th:only-of-type {\n",
              "        vertical-align: middle;\n",
              "    }\n",
              "\n",
              "    .dataframe tbody tr th {\n",
              "        vertical-align: top;\n",
              "    }\n",
              "\n",
              "    .dataframe thead th {\n",
              "        text-align: right;\n",
              "    }\n",
              "</style>\n",
              "<table border=\"1\" class=\"dataframe\">\n",
              "  <thead>\n",
              "    <tr style=\"text-align: right;\">\n",
              "      <th></th>\n",
              "      <th>title</th>\n",
              "      <th>category</th>\n",
              "      <th>subscriber</th>\n",
              "      <th>view</th>\n",
              "      <th>video</th>\n",
              "    </tr>\n",
              "  </thead>\n",
              "  <tbody>\n",
              "    <tr>\n",
              "      <th>409</th>\n",
              "      <td>TBS 시민의방송</td>\n",
              "      <td>뉴스/정치/사회</td>\n",
              "      <td>930000</td>\n",
              "      <td>582330000</td>\n",
              "      <td>30431</td>\n",
              "    </tr>\n",
              "  </tbody>\n",
              "</table>\n",
              "</div>\n",
              "      <button class=\"colab-df-convert\" onclick=\"convertToInteractive('df-4d11060f-dd37-4a19-a29b-226bf88e6aae')\"\n",
              "              title=\"Convert this dataframe to an interactive table.\"\n",
              "              style=\"display:none;\">\n",
              "        \n",
              "  <svg xmlns=\"http://www.w3.org/2000/svg\" height=\"24px\"viewBox=\"0 0 24 24\"\n",
              "       width=\"24px\">\n",
              "    <path d=\"M0 0h24v24H0V0z\" fill=\"none\"/>\n",
              "    <path d=\"M18.56 5.44l.94 2.06.94-2.06 2.06-.94-2.06-.94-.94-2.06-.94 2.06-2.06.94zm-11 1L8.5 8.5l.94-2.06 2.06-.94-2.06-.94L8.5 2.5l-.94 2.06-2.06.94zm10 10l.94 2.06.94-2.06 2.06-.94-2.06-.94-.94-2.06-.94 2.06-2.06.94z\"/><path d=\"M17.41 7.96l-1.37-1.37c-.4-.4-.92-.59-1.43-.59-.52 0-1.04.2-1.43.59L10.3 9.45l-7.72 7.72c-.78.78-.78 2.05 0 2.83L4 21.41c.39.39.9.59 1.41.59.51 0 1.02-.2 1.41-.59l7.78-7.78 2.81-2.81c.8-.78.8-2.07 0-2.86zM5.41 20L4 18.59l7.72-7.72 1.47 1.35L5.41 20z\"/>\n",
              "  </svg>\n",
              "      </button>\n",
              "      \n",
              "  <style>\n",
              "    .colab-df-container {\n",
              "      display:flex;\n",
              "      flex-wrap:wrap;\n",
              "      gap: 12px;\n",
              "    }\n",
              "\n",
              "    .colab-df-convert {\n",
              "      background-color: #E8F0FE;\n",
              "      border: none;\n",
              "      border-radius: 50%;\n",
              "      cursor: pointer;\n",
              "      display: none;\n",
              "      fill: #1967D2;\n",
              "      height: 32px;\n",
              "      padding: 0 0 0 0;\n",
              "      width: 32px;\n",
              "    }\n",
              "\n",
              "    .colab-df-convert:hover {\n",
              "      background-color: #E2EBFA;\n",
              "      box-shadow: 0px 1px 2px rgba(60, 64, 67, 0.3), 0px 1px 3px 1px rgba(60, 64, 67, 0.15);\n",
              "      fill: #174EA6;\n",
              "    }\n",
              "\n",
              "    [theme=dark] .colab-df-convert {\n",
              "      background-color: #3B4455;\n",
              "      fill: #D2E3FC;\n",
              "    }\n",
              "\n",
              "    [theme=dark] .colab-df-convert:hover {\n",
              "      background-color: #434B5C;\n",
              "      box-shadow: 0px 1px 3px 1px rgba(0, 0, 0, 0.15);\n",
              "      filter: drop-shadow(0px 1px 2px rgba(0, 0, 0, 0.3));\n",
              "      fill: #FFFFFF;\n",
              "    }\n",
              "  </style>\n",
              "\n",
              "      <script>\n",
              "        const buttonEl =\n",
              "          document.querySelector('#df-4d11060f-dd37-4a19-a29b-226bf88e6aae button.colab-df-convert');\n",
              "        buttonEl.style.display =\n",
              "          google.colab.kernel.accessAllowed ? 'block' : 'none';\n",
              "\n",
              "        async function convertToInteractive(key) {\n",
              "          const element = document.querySelector('#df-4d11060f-dd37-4a19-a29b-226bf88e6aae');\n",
              "          const dataTable =\n",
              "            await google.colab.kernel.invokeFunction('convertToInteractive',\n",
              "                                                     [key], {});\n",
              "          if (!dataTable) return;\n",
              "\n",
              "          const docLinkHtml = 'Like what you see? Visit the ' +\n",
              "            '<a target=\"_blank\" href=https://colab.research.google.com/notebooks/data_table.ipynb>data table notebook</a>'\n",
              "            + ' to learn more about interactive tables.';\n",
              "          element.innerHTML = '';\n",
              "          dataTable['output_type'] = 'display_data';\n",
              "          await google.colab.output.renderOutput(dataTable, element);\n",
              "          const docLink = document.createElement('div');\n",
              "          docLink.innerHTML = docLinkHtml;\n",
              "          element.appendChild(docLink);\n",
              "        }\n",
              "      </script>\n",
              "    </div>\n",
              "  </div>\n",
              "  "
            ]
          },
          "metadata": {},
          "execution_count": 112
        }
      ]
    },
    {
      "cell_type": "code",
      "source": [
        "# [1-40] 'subscriber'가 30000000 (3천만)이상 이거나,\n",
        "#        'video' 개수가 50000 이상인 채널을 알아봅니다.\n",
        "df[(df['subscriber'] >= 30000000) | (df['video'] >= 50000)]"
      ],
      "metadata": {
        "id": "ibYSPNpg9gs9",
        "colab": {
          "base_uri": "https://localhost:8080/",
          "height": 864
        },
        "outputId": "677905ec-566c-496f-b545-046459420759"
      },
      "execution_count": null,
      "outputs": [
        {
          "output_type": "execute_result",
          "data": {
            "text/plain": [
              "                  title  category  subscriber         view   video\n",
              "0             BLACKPINK  음악/댄스/가수    51400000  12851300000     319\n",
              "1        Big Hit Labels  음악/댄스/가수    45500000  12089660000     433\n",
              "2             BANGTANTV  음악/댄스/가수    38700000   5475980000    1319\n",
              "17                  CNN  뉴스/정치/사회    10900000   7899750000  149530\n",
              "27     MBCentertainment  뉴스/정치/사회     7710000  11683060000   79567\n",
              "38   JTBC Entertainment  뉴스/정치/사회     6020000   7638370000   58938\n",
              "57    SBS Entertainment     TV/방송     4490000   4516190000  210810\n",
              "60            SBS Drama     TV/방송     4360000   4260860000  339029\n",
              "76        KBS Entertain     TV/방송     3930000   5340910000   91783\n",
              "77             MBCdrama     TV/방송     3920000   4350540000   51543\n",
              "101           KBS Drama     TV/방송     3040000   3538510000  105922\n",
              "119                 tvN     TV/방송     2680000   3307570000   52141\n",
              "168           TV CHOSUN  뉴스/정치/사회     1990000   3255290000   53632\n",
              "169            YTN news  뉴스/정치/사회     1970000   3801710000  492791\n",
              "176     런닝맨 - 스브스 공식 채널     TV/방송     1880000   2116410000   52730\n",
              "248           JTBC News  뉴스/정치/사회     1400000   1573740000   91379\n",
              "366              SBS 뉴스  뉴스/정치/사회     1010000   1458080000   87768\n",
              "373           SBS STORY  뉴스/정치/사회      990000   1254640000   75985\n",
              "389            KBS News  뉴스/정치/사회      960000   1017410000  145515\n",
              "402              채널A 뉴스  뉴스/정치/사회      940000   1039130000   52662\n",
              "431             MBCNEWS  뉴스/정치/사회      890000   1388710000   87228\n",
              "502          뉴스TVCHOSUN  뉴스/정치/사회      770000    623510000   57729\n",
              "701            MBN News  뉴스/정치/사회      570000    623580000   72397\n",
              "737              연합뉴스TV  뉴스/정치/사회      550000    697650000  311370\n",
              "988        ARIRANG NEWS  뉴스/정치/사회      400000    190750000  114494\n",
              "992              KBS 교양  뉴스/정치/사회      400000    297960000   64694"
            ],
            "text/html": [
              "\n",
              "  <div id=\"df-72623870-2ce7-4d83-ab4b-1e804b6d6920\">\n",
              "    <div class=\"colab-df-container\">\n",
              "      <div>\n",
              "<style scoped>\n",
              "    .dataframe tbody tr th:only-of-type {\n",
              "        vertical-align: middle;\n",
              "    }\n",
              "\n",
              "    .dataframe tbody tr th {\n",
              "        vertical-align: top;\n",
              "    }\n",
              "\n",
              "    .dataframe thead th {\n",
              "        text-align: right;\n",
              "    }\n",
              "</style>\n",
              "<table border=\"1\" class=\"dataframe\">\n",
              "  <thead>\n",
              "    <tr style=\"text-align: right;\">\n",
              "      <th></th>\n",
              "      <th>title</th>\n",
              "      <th>category</th>\n",
              "      <th>subscriber</th>\n",
              "      <th>view</th>\n",
              "      <th>video</th>\n",
              "    </tr>\n",
              "  </thead>\n",
              "  <tbody>\n",
              "    <tr>\n",
              "      <th>0</th>\n",
              "      <td>BLACKPINK</td>\n",
              "      <td>음악/댄스/가수</td>\n",
              "      <td>51400000</td>\n",
              "      <td>12851300000</td>\n",
              "      <td>319</td>\n",
              "    </tr>\n",
              "    <tr>\n",
              "      <th>1</th>\n",
              "      <td>Big Hit Labels</td>\n",
              "      <td>음악/댄스/가수</td>\n",
              "      <td>45500000</td>\n",
              "      <td>12089660000</td>\n",
              "      <td>433</td>\n",
              "    </tr>\n",
              "    <tr>\n",
              "      <th>2</th>\n",
              "      <td>BANGTANTV</td>\n",
              "      <td>음악/댄스/가수</td>\n",
              "      <td>38700000</td>\n",
              "      <td>5475980000</td>\n",
              "      <td>1319</td>\n",
              "    </tr>\n",
              "    <tr>\n",
              "      <th>17</th>\n",
              "      <td>CNN</td>\n",
              "      <td>뉴스/정치/사회</td>\n",
              "      <td>10900000</td>\n",
              "      <td>7899750000</td>\n",
              "      <td>149530</td>\n",
              "    </tr>\n",
              "    <tr>\n",
              "      <th>27</th>\n",
              "      <td>MBCentertainment</td>\n",
              "      <td>뉴스/정치/사회</td>\n",
              "      <td>7710000</td>\n",
              "      <td>11683060000</td>\n",
              "      <td>79567</td>\n",
              "    </tr>\n",
              "    <tr>\n",
              "      <th>38</th>\n",
              "      <td>JTBC Entertainment</td>\n",
              "      <td>뉴스/정치/사회</td>\n",
              "      <td>6020000</td>\n",
              "      <td>7638370000</td>\n",
              "      <td>58938</td>\n",
              "    </tr>\n",
              "    <tr>\n",
              "      <th>57</th>\n",
              "      <td>SBS Entertainment</td>\n",
              "      <td>TV/방송</td>\n",
              "      <td>4490000</td>\n",
              "      <td>4516190000</td>\n",
              "      <td>210810</td>\n",
              "    </tr>\n",
              "    <tr>\n",
              "      <th>60</th>\n",
              "      <td>SBS Drama</td>\n",
              "      <td>TV/방송</td>\n",
              "      <td>4360000</td>\n",
              "      <td>4260860000</td>\n",
              "      <td>339029</td>\n",
              "    </tr>\n",
              "    <tr>\n",
              "      <th>76</th>\n",
              "      <td>KBS Entertain</td>\n",
              "      <td>TV/방송</td>\n",
              "      <td>3930000</td>\n",
              "      <td>5340910000</td>\n",
              "      <td>91783</td>\n",
              "    </tr>\n",
              "    <tr>\n",
              "      <th>77</th>\n",
              "      <td>MBCdrama</td>\n",
              "      <td>TV/방송</td>\n",
              "      <td>3920000</td>\n",
              "      <td>4350540000</td>\n",
              "      <td>51543</td>\n",
              "    </tr>\n",
              "    <tr>\n",
              "      <th>101</th>\n",
              "      <td>KBS Drama</td>\n",
              "      <td>TV/방송</td>\n",
              "      <td>3040000</td>\n",
              "      <td>3538510000</td>\n",
              "      <td>105922</td>\n",
              "    </tr>\n",
              "    <tr>\n",
              "      <th>119</th>\n",
              "      <td>tvN</td>\n",
              "      <td>TV/방송</td>\n",
              "      <td>2680000</td>\n",
              "      <td>3307570000</td>\n",
              "      <td>52141</td>\n",
              "    </tr>\n",
              "    <tr>\n",
              "      <th>168</th>\n",
              "      <td>TV CHOSUN</td>\n",
              "      <td>뉴스/정치/사회</td>\n",
              "      <td>1990000</td>\n",
              "      <td>3255290000</td>\n",
              "      <td>53632</td>\n",
              "    </tr>\n",
              "    <tr>\n",
              "      <th>169</th>\n",
              "      <td>YTN news</td>\n",
              "      <td>뉴스/정치/사회</td>\n",
              "      <td>1970000</td>\n",
              "      <td>3801710000</td>\n",
              "      <td>492791</td>\n",
              "    </tr>\n",
              "    <tr>\n",
              "      <th>176</th>\n",
              "      <td>런닝맨 - 스브스 공식 채널</td>\n",
              "      <td>TV/방송</td>\n",
              "      <td>1880000</td>\n",
              "      <td>2116410000</td>\n",
              "      <td>52730</td>\n",
              "    </tr>\n",
              "    <tr>\n",
              "      <th>248</th>\n",
              "      <td>JTBC News</td>\n",
              "      <td>뉴스/정치/사회</td>\n",
              "      <td>1400000</td>\n",
              "      <td>1573740000</td>\n",
              "      <td>91379</td>\n",
              "    </tr>\n",
              "    <tr>\n",
              "      <th>366</th>\n",
              "      <td>SBS 뉴스</td>\n",
              "      <td>뉴스/정치/사회</td>\n",
              "      <td>1010000</td>\n",
              "      <td>1458080000</td>\n",
              "      <td>87768</td>\n",
              "    </tr>\n",
              "    <tr>\n",
              "      <th>373</th>\n",
              "      <td>SBS STORY</td>\n",
              "      <td>뉴스/정치/사회</td>\n",
              "      <td>990000</td>\n",
              "      <td>1254640000</td>\n",
              "      <td>75985</td>\n",
              "    </tr>\n",
              "    <tr>\n",
              "      <th>389</th>\n",
              "      <td>KBS News</td>\n",
              "      <td>뉴스/정치/사회</td>\n",
              "      <td>960000</td>\n",
              "      <td>1017410000</td>\n",
              "      <td>145515</td>\n",
              "    </tr>\n",
              "    <tr>\n",
              "      <th>402</th>\n",
              "      <td>채널A 뉴스</td>\n",
              "      <td>뉴스/정치/사회</td>\n",
              "      <td>940000</td>\n",
              "      <td>1039130000</td>\n",
              "      <td>52662</td>\n",
              "    </tr>\n",
              "    <tr>\n",
              "      <th>431</th>\n",
              "      <td>MBCNEWS</td>\n",
              "      <td>뉴스/정치/사회</td>\n",
              "      <td>890000</td>\n",
              "      <td>1388710000</td>\n",
              "      <td>87228</td>\n",
              "    </tr>\n",
              "    <tr>\n",
              "      <th>502</th>\n",
              "      <td>뉴스TVCHOSUN</td>\n",
              "      <td>뉴스/정치/사회</td>\n",
              "      <td>770000</td>\n",
              "      <td>623510000</td>\n",
              "      <td>57729</td>\n",
              "    </tr>\n",
              "    <tr>\n",
              "      <th>701</th>\n",
              "      <td>MBN News</td>\n",
              "      <td>뉴스/정치/사회</td>\n",
              "      <td>570000</td>\n",
              "      <td>623580000</td>\n",
              "      <td>72397</td>\n",
              "    </tr>\n",
              "    <tr>\n",
              "      <th>737</th>\n",
              "      <td>연합뉴스TV</td>\n",
              "      <td>뉴스/정치/사회</td>\n",
              "      <td>550000</td>\n",
              "      <td>697650000</td>\n",
              "      <td>311370</td>\n",
              "    </tr>\n",
              "    <tr>\n",
              "      <th>988</th>\n",
              "      <td>ARIRANG NEWS</td>\n",
              "      <td>뉴스/정치/사회</td>\n",
              "      <td>400000</td>\n",
              "      <td>190750000</td>\n",
              "      <td>114494</td>\n",
              "    </tr>\n",
              "    <tr>\n",
              "      <th>992</th>\n",
              "      <td>KBS 교양</td>\n",
              "      <td>뉴스/정치/사회</td>\n",
              "      <td>400000</td>\n",
              "      <td>297960000</td>\n",
              "      <td>64694</td>\n",
              "    </tr>\n",
              "  </tbody>\n",
              "</table>\n",
              "</div>\n",
              "      <button class=\"colab-df-convert\" onclick=\"convertToInteractive('df-72623870-2ce7-4d83-ab4b-1e804b6d6920')\"\n",
              "              title=\"Convert this dataframe to an interactive table.\"\n",
              "              style=\"display:none;\">\n",
              "        \n",
              "  <svg xmlns=\"http://www.w3.org/2000/svg\" height=\"24px\"viewBox=\"0 0 24 24\"\n",
              "       width=\"24px\">\n",
              "    <path d=\"M0 0h24v24H0V0z\" fill=\"none\"/>\n",
              "    <path d=\"M18.56 5.44l.94 2.06.94-2.06 2.06-.94-2.06-.94-.94-2.06-.94 2.06-2.06.94zm-11 1L8.5 8.5l.94-2.06 2.06-.94-2.06-.94L8.5 2.5l-.94 2.06-2.06.94zm10 10l.94 2.06.94-2.06 2.06-.94-2.06-.94-.94-2.06-.94 2.06-2.06.94z\"/><path d=\"M17.41 7.96l-1.37-1.37c-.4-.4-.92-.59-1.43-.59-.52 0-1.04.2-1.43.59L10.3 9.45l-7.72 7.72c-.78.78-.78 2.05 0 2.83L4 21.41c.39.39.9.59 1.41.59.51 0 1.02-.2 1.41-.59l7.78-7.78 2.81-2.81c.8-.78.8-2.07 0-2.86zM5.41 20L4 18.59l7.72-7.72 1.47 1.35L5.41 20z\"/>\n",
              "  </svg>\n",
              "      </button>\n",
              "      \n",
              "  <style>\n",
              "    .colab-df-container {\n",
              "      display:flex;\n",
              "      flex-wrap:wrap;\n",
              "      gap: 12px;\n",
              "    }\n",
              "\n",
              "    .colab-df-convert {\n",
              "      background-color: #E8F0FE;\n",
              "      border: none;\n",
              "      border-radius: 50%;\n",
              "      cursor: pointer;\n",
              "      display: none;\n",
              "      fill: #1967D2;\n",
              "      height: 32px;\n",
              "      padding: 0 0 0 0;\n",
              "      width: 32px;\n",
              "    }\n",
              "\n",
              "    .colab-df-convert:hover {\n",
              "      background-color: #E2EBFA;\n",
              "      box-shadow: 0px 1px 2px rgba(60, 64, 67, 0.3), 0px 1px 3px 1px rgba(60, 64, 67, 0.15);\n",
              "      fill: #174EA6;\n",
              "    }\n",
              "\n",
              "    [theme=dark] .colab-df-convert {\n",
              "      background-color: #3B4455;\n",
              "      fill: #D2E3FC;\n",
              "    }\n",
              "\n",
              "    [theme=dark] .colab-df-convert:hover {\n",
              "      background-color: #434B5C;\n",
              "      box-shadow: 0px 1px 3px 1px rgba(0, 0, 0, 0.15);\n",
              "      filter: drop-shadow(0px 1px 2px rgba(0, 0, 0, 0.3));\n",
              "      fill: #FFFFFF;\n",
              "    }\n",
              "  </style>\n",
              "\n",
              "      <script>\n",
              "        const buttonEl =\n",
              "          document.querySelector('#df-72623870-2ce7-4d83-ab4b-1e804b6d6920 button.colab-df-convert');\n",
              "        buttonEl.style.display =\n",
              "          google.colab.kernel.accessAllowed ? 'block' : 'none';\n",
              "\n",
              "        async function convertToInteractive(key) {\n",
              "          const element = document.querySelector('#df-72623870-2ce7-4d83-ab4b-1e804b6d6920');\n",
              "          const dataTable =\n",
              "            await google.colab.kernel.invokeFunction('convertToInteractive',\n",
              "                                                     [key], {});\n",
              "          if (!dataTable) return;\n",
              "\n",
              "          const docLinkHtml = 'Like what you see? Visit the ' +\n",
              "            '<a target=\"_blank\" href=https://colab.research.google.com/notebooks/data_table.ipynb>data table notebook</a>'\n",
              "            + ' to learn more about interactive tables.';\n",
              "          element.innerHTML = '';\n",
              "          dataTable['output_type'] = 'display_data';\n",
              "          await google.colab.output.renderOutput(dataTable, element);\n",
              "          const docLink = document.createElement('div');\n",
              "          docLink.innerHTML = docLinkHtml;\n",
              "          element.appendChild(docLink);\n",
              "        }\n",
              "      </script>\n",
              "    </div>\n",
              "  </div>\n",
              "  "
            ]
          },
          "metadata": {},
          "execution_count": 114
        }
      ]
    },
    {
      "cell_type": "markdown",
      "source": [
        "# [빅데이터 분석기사 실기 - Pandas 08] isin(), str Accessor의 사용"
      ],
      "metadata": {
        "id": "BBspk8zJBjT2"
      }
    },
    {
      "cell_type": "code",
      "source": [
        "# [1-41] 'category'의 값 별 개수를 확인합니다.\n",
        "df['category'].value_counts()"
      ],
      "metadata": {
        "colab": {
          "base_uri": "https://localhost:8080/"
        },
        "id": "ViJIh7SABdo3",
        "outputId": "fe606593-96a4-4476-a67e-ab3a3595a051"
      },
      "execution_count": null,
      "outputs": [
        {
          "output_type": "execute_result",
          "data": {
            "text/plain": [
              "음악/댄스/가수     175\n",
              "TV/방송        161\n",
              "게임           101\n",
              "키즈/어린이        95\n",
              "음식/요리/레시피     88\n",
              "BJ/인물/연예인     68\n",
              "패션/미용         57\n",
              "뉴스/정치/사회      56\n",
              "미분류           40\n",
              "취미/라이프        40\n",
              "영화/만화/애니      33\n",
              "교육/강의         23\n",
              "애완/반려동물       20\n",
              "스포츠/운동        12\n",
              "IT/기술/컴퓨터      8\n",
              "해외             6\n",
              "주식/경제/부동산      5\n",
              "국내/해외/여행       5\n",
              "회사/오피셜         4\n",
              "자동차            2\n",
              "취미             1\n",
              "Name: category, dtype: int64"
            ]
          },
          "metadata": {},
          "execution_count": 115
        }
      ]
    },
    {
      "cell_type": "code",
      "source": [
        "# [1-42] 'category'가 'TV/방송' 이거나 '게임'인 채널의 개수를 확인합니다.  (262개)\n",
        "temp = df[(df['category'] == 'TV/방송') | (df['category'] == '게임')].value_counts()\n",
        "len(temp)"
      ],
      "metadata": {
        "colab": {
          "base_uri": "https://localhost:8080/"
        },
        "id": "duW1tDsHBePt",
        "outputId": "34767ede-6bf2-46e8-f241-d80c2ac109a3"
      },
      "execution_count": null,
      "outputs": [
        {
          "output_type": "execute_result",
          "data": {
            "text/plain": [
              "262"
            ]
          },
          "metadata": {},
          "execution_count": 126
        }
      ]
    },
    {
      "cell_type": "code",
      "source": [
        "temp = df[df['category'].isin(['TV/방송', '게임'])].value_counts()\n",
        "len(temp)"
      ],
      "metadata": {
        "colab": {
          "base_uri": "https://localhost:8080/"
        },
        "id": "CP-Xq1huCeCw",
        "outputId": "1d65b373-ede9-44c2-958c-7174be79e038"
      },
      "execution_count": null,
      "outputs": [
        {
          "output_type": "execute_result",
          "data": {
            "text/plain": [
              "262"
            ]
          },
          "metadata": {},
          "execution_count": 127
        }
      ]
    },
    {
      "cell_type": "code",
      "source": [
        "# [1-43] 'category'가 '음악/댄스/가수'인 채널의 subscriber TOP5를 알아봅니다. (isin 활용)\n",
        "df[df['category'].isin(['음악/댄스/가수'])].sort_values('subscriber', ascending = False).head()"
      ],
      "metadata": {
        "colab": {
          "base_uri": "https://localhost:8080/",
          "height": 206
        },
        "id": "LRWSD-VbC1OE",
        "outputId": "8f7f8769-1fa0-498f-9c22-396afeac8bb2"
      },
      "execution_count": null,
      "outputs": [
        {
          "output_type": "execute_result",
          "data": {
            "text/plain": [
              "                   title  category  subscriber         view  video\n",
              "0              BLACKPINK  음악/댄스/가수    51400000  12851300000    319\n",
              "1         Big Hit Labels  음악/댄스/가수    45500000  12089660000    433\n",
              "2              BANGTANTV  음악/댄스/가수    38700000   5475980000   1319\n",
              "4                 SMTOWN  음악/댄스/가수    24500000  18075320000   3583\n",
              "5  1MILLION Dance Studio  음악/댄스/가수    22300000   5753580000   2205"
            ],
            "text/html": [
              "\n",
              "  <div id=\"df-beabd238-9c0c-4487-b5c3-73d1afc605c8\">\n",
              "    <div class=\"colab-df-container\">\n",
              "      <div>\n",
              "<style scoped>\n",
              "    .dataframe tbody tr th:only-of-type {\n",
              "        vertical-align: middle;\n",
              "    }\n",
              "\n",
              "    .dataframe tbody tr th {\n",
              "        vertical-align: top;\n",
              "    }\n",
              "\n",
              "    .dataframe thead th {\n",
              "        text-align: right;\n",
              "    }\n",
              "</style>\n",
              "<table border=\"1\" class=\"dataframe\">\n",
              "  <thead>\n",
              "    <tr style=\"text-align: right;\">\n",
              "      <th></th>\n",
              "      <th>title</th>\n",
              "      <th>category</th>\n",
              "      <th>subscriber</th>\n",
              "      <th>view</th>\n",
              "      <th>video</th>\n",
              "    </tr>\n",
              "  </thead>\n",
              "  <tbody>\n",
              "    <tr>\n",
              "      <th>0</th>\n",
              "      <td>BLACKPINK</td>\n",
              "      <td>음악/댄스/가수</td>\n",
              "      <td>51400000</td>\n",
              "      <td>12851300000</td>\n",
              "      <td>319</td>\n",
              "    </tr>\n",
              "    <tr>\n",
              "      <th>1</th>\n",
              "      <td>Big Hit Labels</td>\n",
              "      <td>음악/댄스/가수</td>\n",
              "      <td>45500000</td>\n",
              "      <td>12089660000</td>\n",
              "      <td>433</td>\n",
              "    </tr>\n",
              "    <tr>\n",
              "      <th>2</th>\n",
              "      <td>BANGTANTV</td>\n",
              "      <td>음악/댄스/가수</td>\n",
              "      <td>38700000</td>\n",
              "      <td>5475980000</td>\n",
              "      <td>1319</td>\n",
              "    </tr>\n",
              "    <tr>\n",
              "      <th>4</th>\n",
              "      <td>SMTOWN</td>\n",
              "      <td>음악/댄스/가수</td>\n",
              "      <td>24500000</td>\n",
              "      <td>18075320000</td>\n",
              "      <td>3583</td>\n",
              "    </tr>\n",
              "    <tr>\n",
              "      <th>5</th>\n",
              "      <td>1MILLION Dance Studio</td>\n",
              "      <td>음악/댄스/가수</td>\n",
              "      <td>22300000</td>\n",
              "      <td>5753580000</td>\n",
              "      <td>2205</td>\n",
              "    </tr>\n",
              "  </tbody>\n",
              "</table>\n",
              "</div>\n",
              "      <button class=\"colab-df-convert\" onclick=\"convertToInteractive('df-beabd238-9c0c-4487-b5c3-73d1afc605c8')\"\n",
              "              title=\"Convert this dataframe to an interactive table.\"\n",
              "              style=\"display:none;\">\n",
              "        \n",
              "  <svg xmlns=\"http://www.w3.org/2000/svg\" height=\"24px\"viewBox=\"0 0 24 24\"\n",
              "       width=\"24px\">\n",
              "    <path d=\"M0 0h24v24H0V0z\" fill=\"none\"/>\n",
              "    <path d=\"M18.56 5.44l.94 2.06.94-2.06 2.06-.94-2.06-.94-.94-2.06-.94 2.06-2.06.94zm-11 1L8.5 8.5l.94-2.06 2.06-.94-2.06-.94L8.5 2.5l-.94 2.06-2.06.94zm10 10l.94 2.06.94-2.06 2.06-.94-2.06-.94-.94-2.06-.94 2.06-2.06.94z\"/><path d=\"M17.41 7.96l-1.37-1.37c-.4-.4-.92-.59-1.43-.59-.52 0-1.04.2-1.43.59L10.3 9.45l-7.72 7.72c-.78.78-.78 2.05 0 2.83L4 21.41c.39.39.9.59 1.41.59.51 0 1.02-.2 1.41-.59l7.78-7.78 2.81-2.81c.8-.78.8-2.07 0-2.86zM5.41 20L4 18.59l7.72-7.72 1.47 1.35L5.41 20z\"/>\n",
              "  </svg>\n",
              "      </button>\n",
              "      \n",
              "  <style>\n",
              "    .colab-df-container {\n",
              "      display:flex;\n",
              "      flex-wrap:wrap;\n",
              "      gap: 12px;\n",
              "    }\n",
              "\n",
              "    .colab-df-convert {\n",
              "      background-color: #E8F0FE;\n",
              "      border: none;\n",
              "      border-radius: 50%;\n",
              "      cursor: pointer;\n",
              "      display: none;\n",
              "      fill: #1967D2;\n",
              "      height: 32px;\n",
              "      padding: 0 0 0 0;\n",
              "      width: 32px;\n",
              "    }\n",
              "\n",
              "    .colab-df-convert:hover {\n",
              "      background-color: #E2EBFA;\n",
              "      box-shadow: 0px 1px 2px rgba(60, 64, 67, 0.3), 0px 1px 3px 1px rgba(60, 64, 67, 0.15);\n",
              "      fill: #174EA6;\n",
              "    }\n",
              "\n",
              "    [theme=dark] .colab-df-convert {\n",
              "      background-color: #3B4455;\n",
              "      fill: #D2E3FC;\n",
              "    }\n",
              "\n",
              "    [theme=dark] .colab-df-convert:hover {\n",
              "      background-color: #434B5C;\n",
              "      box-shadow: 0px 1px 3px 1px rgba(0, 0, 0, 0.15);\n",
              "      filter: drop-shadow(0px 1px 2px rgba(0, 0, 0, 0.3));\n",
              "      fill: #FFFFFF;\n",
              "    }\n",
              "  </style>\n",
              "\n",
              "      <script>\n",
              "        const buttonEl =\n",
              "          document.querySelector('#df-beabd238-9c0c-4487-b5c3-73d1afc605c8 button.colab-df-convert');\n",
              "        buttonEl.style.display =\n",
              "          google.colab.kernel.accessAllowed ? 'block' : 'none';\n",
              "\n",
              "        async function convertToInteractive(key) {\n",
              "          const element = document.querySelector('#df-beabd238-9c0c-4487-b5c3-73d1afc605c8');\n",
              "          const dataTable =\n",
              "            await google.colab.kernel.invokeFunction('convertToInteractive',\n",
              "                                                     [key], {});\n",
              "          if (!dataTable) return;\n",
              "\n",
              "          const docLinkHtml = 'Like what you see? Visit the ' +\n",
              "            '<a target=\"_blank\" href=https://colab.research.google.com/notebooks/data_table.ipynb>data table notebook</a>'\n",
              "            + ' to learn more about interactive tables.';\n",
              "          element.innerHTML = '';\n",
              "          dataTable['output_type'] = 'display_data';\n",
              "          await google.colab.output.renderOutput(dataTable, element);\n",
              "          const docLink = document.createElement('div');\n",
              "          docLink.innerHTML = docLinkHtml;\n",
              "          element.appendChild(docLink);\n",
              "        }\n",
              "      </script>\n",
              "    </div>\n",
              "  </div>\n",
              "  "
            ]
          },
          "metadata": {},
          "execution_count": 129
        }
      ]
    },
    {
      "cell_type": "code",
      "source": [
        "# [1-43] 'category'가 '음악/댄스/가수'인 채널의 subscriber TOP5를 알아봅니다. (isin 활용)\n",
        "df[df['category'] == '음악/댄스/가수'].sort_values('subscriber', ascending = False).head()"
      ],
      "metadata": {
        "colab": {
          "base_uri": "https://localhost:8080/",
          "height": 206
        },
        "id": "pDNY1hgvBe1S",
        "outputId": "04112ef4-9cfa-45cd-eb42-8fe8b1beef3d"
      },
      "execution_count": null,
      "outputs": [
        {
          "output_type": "execute_result",
          "data": {
            "text/plain": [
              "                   title  category  subscriber         view  video\n",
              "0              BLACKPINK  음악/댄스/가수    51400000  12851300000    319\n",
              "1         Big Hit Labels  음악/댄스/가수    45500000  12089660000    433\n",
              "2              BANGTANTV  음악/댄스/가수    38700000   5475980000   1319\n",
              "4                 SMTOWN  음악/댄스/가수    24500000  18075320000   3583\n",
              "5  1MILLION Dance Studio  음악/댄스/가수    22300000   5753580000   2205"
            ],
            "text/html": [
              "\n",
              "  <div id=\"df-bfce3f01-ba55-4244-9e31-00bbb00e3466\">\n",
              "    <div class=\"colab-df-container\">\n",
              "      <div>\n",
              "<style scoped>\n",
              "    .dataframe tbody tr th:only-of-type {\n",
              "        vertical-align: middle;\n",
              "    }\n",
              "\n",
              "    .dataframe tbody tr th {\n",
              "        vertical-align: top;\n",
              "    }\n",
              "\n",
              "    .dataframe thead th {\n",
              "        text-align: right;\n",
              "    }\n",
              "</style>\n",
              "<table border=\"1\" class=\"dataframe\">\n",
              "  <thead>\n",
              "    <tr style=\"text-align: right;\">\n",
              "      <th></th>\n",
              "      <th>title</th>\n",
              "      <th>category</th>\n",
              "      <th>subscriber</th>\n",
              "      <th>view</th>\n",
              "      <th>video</th>\n",
              "    </tr>\n",
              "  </thead>\n",
              "  <tbody>\n",
              "    <tr>\n",
              "      <th>0</th>\n",
              "      <td>BLACKPINK</td>\n",
              "      <td>음악/댄스/가수</td>\n",
              "      <td>51400000</td>\n",
              "      <td>12851300000</td>\n",
              "      <td>319</td>\n",
              "    </tr>\n",
              "    <tr>\n",
              "      <th>1</th>\n",
              "      <td>Big Hit Labels</td>\n",
              "      <td>음악/댄스/가수</td>\n",
              "      <td>45500000</td>\n",
              "      <td>12089660000</td>\n",
              "      <td>433</td>\n",
              "    </tr>\n",
              "    <tr>\n",
              "      <th>2</th>\n",
              "      <td>BANGTANTV</td>\n",
              "      <td>음악/댄스/가수</td>\n",
              "      <td>38700000</td>\n",
              "      <td>5475980000</td>\n",
              "      <td>1319</td>\n",
              "    </tr>\n",
              "    <tr>\n",
              "      <th>4</th>\n",
              "      <td>SMTOWN</td>\n",
              "      <td>음악/댄스/가수</td>\n",
              "      <td>24500000</td>\n",
              "      <td>18075320000</td>\n",
              "      <td>3583</td>\n",
              "    </tr>\n",
              "    <tr>\n",
              "      <th>5</th>\n",
              "      <td>1MILLION Dance Studio</td>\n",
              "      <td>음악/댄스/가수</td>\n",
              "      <td>22300000</td>\n",
              "      <td>5753580000</td>\n",
              "      <td>2205</td>\n",
              "    </tr>\n",
              "  </tbody>\n",
              "</table>\n",
              "</div>\n",
              "      <button class=\"colab-df-convert\" onclick=\"convertToInteractive('df-bfce3f01-ba55-4244-9e31-00bbb00e3466')\"\n",
              "              title=\"Convert this dataframe to an interactive table.\"\n",
              "              style=\"display:none;\">\n",
              "        \n",
              "  <svg xmlns=\"http://www.w3.org/2000/svg\" height=\"24px\"viewBox=\"0 0 24 24\"\n",
              "       width=\"24px\">\n",
              "    <path d=\"M0 0h24v24H0V0z\" fill=\"none\"/>\n",
              "    <path d=\"M18.56 5.44l.94 2.06.94-2.06 2.06-.94-2.06-.94-.94-2.06-.94 2.06-2.06.94zm-11 1L8.5 8.5l.94-2.06 2.06-.94-2.06-.94L8.5 2.5l-.94 2.06-2.06.94zm10 10l.94 2.06.94-2.06 2.06-.94-2.06-.94-.94-2.06-.94 2.06-2.06.94z\"/><path d=\"M17.41 7.96l-1.37-1.37c-.4-.4-.92-.59-1.43-.59-.52 0-1.04.2-1.43.59L10.3 9.45l-7.72 7.72c-.78.78-.78 2.05 0 2.83L4 21.41c.39.39.9.59 1.41.59.51 0 1.02-.2 1.41-.59l7.78-7.78 2.81-2.81c.8-.78.8-2.07 0-2.86zM5.41 20L4 18.59l7.72-7.72 1.47 1.35L5.41 20z\"/>\n",
              "  </svg>\n",
              "      </button>\n",
              "      \n",
              "  <style>\n",
              "    .colab-df-container {\n",
              "      display:flex;\n",
              "      flex-wrap:wrap;\n",
              "      gap: 12px;\n",
              "    }\n",
              "\n",
              "    .colab-df-convert {\n",
              "      background-color: #E8F0FE;\n",
              "      border: none;\n",
              "      border-radius: 50%;\n",
              "      cursor: pointer;\n",
              "      display: none;\n",
              "      fill: #1967D2;\n",
              "      height: 32px;\n",
              "      padding: 0 0 0 0;\n",
              "      width: 32px;\n",
              "    }\n",
              "\n",
              "    .colab-df-convert:hover {\n",
              "      background-color: #E2EBFA;\n",
              "      box-shadow: 0px 1px 2px rgba(60, 64, 67, 0.3), 0px 1px 3px 1px rgba(60, 64, 67, 0.15);\n",
              "      fill: #174EA6;\n",
              "    }\n",
              "\n",
              "    [theme=dark] .colab-df-convert {\n",
              "      background-color: #3B4455;\n",
              "      fill: #D2E3FC;\n",
              "    }\n",
              "\n",
              "    [theme=dark] .colab-df-convert:hover {\n",
              "      background-color: #434B5C;\n",
              "      box-shadow: 0px 1px 3px 1px rgba(0, 0, 0, 0.15);\n",
              "      filter: drop-shadow(0px 1px 2px rgba(0, 0, 0, 0.3));\n",
              "      fill: #FFFFFF;\n",
              "    }\n",
              "  </style>\n",
              "\n",
              "      <script>\n",
              "        const buttonEl =\n",
              "          document.querySelector('#df-bfce3f01-ba55-4244-9e31-00bbb00e3466 button.colab-df-convert');\n",
              "        buttonEl.style.display =\n",
              "          google.colab.kernel.accessAllowed ? 'block' : 'none';\n",
              "\n",
              "        async function convertToInteractive(key) {\n",
              "          const element = document.querySelector('#df-bfce3f01-ba55-4244-9e31-00bbb00e3466');\n",
              "          const dataTable =\n",
              "            await google.colab.kernel.invokeFunction('convertToInteractive',\n",
              "                                                     [key], {});\n",
              "          if (!dataTable) return;\n",
              "\n",
              "          const docLinkHtml = 'Like what you see? Visit the ' +\n",
              "            '<a target=\"_blank\" href=https://colab.research.google.com/notebooks/data_table.ipynb>data table notebook</a>'\n",
              "            + ' to learn more about interactive tables.';\n",
              "          element.innerHTML = '';\n",
              "          dataTable['output_type'] = 'display_data';\n",
              "          await google.colab.output.renderOutput(dataTable, element);\n",
              "          const docLink = document.createElement('div');\n",
              "          docLink.innerHTML = docLinkHtml;\n",
              "          element.appendChild(docLink);\n",
              "        }\n",
              "      </script>\n",
              "    </div>\n",
              "  </div>\n",
              "  "
            ]
          },
          "metadata": {},
          "execution_count": 122
        }
      ]
    },
    {
      "cell_type": "code",
      "source": [
        "# [1-44] title에 'KBS'가 포함된 채널 명 목록을 만들어 봅니다.\n",
        "df[df['title'].str.contains('KBS')]['title'].to_list()"
      ],
      "metadata": {
        "colab": {
          "base_uri": "https://localhost:8080/"
        },
        "id": "ek4mZTf8DTUC",
        "outputId": "871c93af-dbfb-4193-eab0-67c029cc72ac"
      },
      "execution_count": null,
      "outputs": [
        {
          "output_type": "execute_result",
          "data": {
            "text/plain": [
              "['KBS World',\n",
              " 'KBS Kpop',\n",
              " 'KBS Entertain',\n",
              " 'KBS Drama',\n",
              " 'KBS 한국방송',\n",
              " 'KBS Drama Classic',\n",
              " 'KBS HUMAN: 뭉클티비',\n",
              " 'KBS News',\n",
              " 'KBS CoolFM',\n",
              " 'KBS N',\n",
              " 'KBS KONG',\n",
              " 'KBS Documentary [KBS 다큐]',\n",
              " 'KBS 교양']"
            ]
          },
          "metadata": {},
          "execution_count": 136
        }
      ]
    },
    {
      "cell_type": "code",
      "source": [
        "df[df['title'].str.contains('KBS')]['title'].to_numpy()"
      ],
      "metadata": {
        "colab": {
          "base_uri": "https://localhost:8080/"
        },
        "id": "_SfnuoexEC5V",
        "outputId": "05353ee3-38fb-4755-f6b0-88f8b7e96215"
      },
      "execution_count": null,
      "outputs": [
        {
          "output_type": "execute_result",
          "data": {
            "text/plain": [
              "array(['KBS World', 'KBS Kpop', 'KBS Entertain', 'KBS Drama', 'KBS 한국방송',\n",
              "       'KBS Drama Classic', 'KBS HUMAN: 뭉클티비', 'KBS News', 'KBS CoolFM',\n",
              "       'KBS N', 'KBS KONG', 'KBS Documentary [KBS 다큐]', 'KBS 교양'],\n",
              "      dtype=object)"
            ]
          },
          "metadata": {},
          "execution_count": 137
        }
      ]
    },
    {
      "cell_type": "code",
      "source": [
        "df.loc[df['title'].str.contains('KBS'), 'title'].to_numpy()"
      ],
      "metadata": {
        "colab": {
          "base_uri": "https://localhost:8080/"
        },
        "id": "HrEv1ab1ELk0",
        "outputId": "ce86dfc8-62ce-43e2-8ce5-f80cd25d049d"
      },
      "execution_count": null,
      "outputs": [
        {
          "output_type": "execute_result",
          "data": {
            "text/plain": [
              "array(['KBS World', 'KBS Kpop', 'KBS Entertain', 'KBS Drama', 'KBS 한국방송',\n",
              "       'KBS Drama Classic', 'KBS HUMAN: 뭉클티비', 'KBS News', 'KBS CoolFM',\n",
              "       'KBS N', 'KBS KONG', 'KBS Documentary [KBS 다큐]', 'KBS 교양'],\n",
              "      dtype=object)"
            ]
          },
          "metadata": {},
          "execution_count": 141
        }
      ]
    },
    {
      "cell_type": "code",
      "source": [
        "# 대소문자 구분 없이 검색 하려면?\n",
        "df.loc[df['title'].str.upper().str.contains('KBS'), 'title'].to_numpy()\n",
        "# df['title'].str.upper().str.contains('KBS') <- 이 부분은 조건이기 때문에 실제 값이 바뀌는 것은 아님\n"
      ],
      "metadata": {
        "colab": {
          "base_uri": "https://localhost:8080/"
        },
        "id": "QaLAPR96DU1S",
        "outputId": "61edb87d-5daf-4f4e-bbcd-ce22ac5afb61"
      },
      "execution_count": null,
      "outputs": [
        {
          "output_type": "execute_result",
          "data": {
            "text/plain": [
              "array(['KBS World', 'KBS Kpop', 'KBS Entertain', 'KBS Drama', 'KBS 한국방송',\n",
              "       'KBS Drama Classic', 'KBS HUMAN: 뭉클티비', 'KBS News', 'KBS CoolFM',\n",
              "       'KBS N', 'KBS KONG', 'KBS Documentary [KBS 다큐]', 'KBS 교양'],\n",
              "      dtype=object)"
            ]
          },
          "metadata": {},
          "execution_count": 142
        }
      ]
    },
    {
      "cell_type": "markdown",
      "source": [
        "# [빅데이터 분석기사 실기 - Pandas 09] Series의 통계값 구하기"
      ],
      "metadata": {
        "id": "Uq9TaxUTE4Af"
      }
    },
    {
      "cell_type": "code",
      "source": [
        "import pandas as pd\n",
        "df = pd.read_excel('data_01/youtube_rank.xlsx', engine='openpyxl')\n",
        "df['subscriber'] = df['subscriber'].replace('만', '0000', regex=True).astype('int64')\n",
        "df['view'] = df['view'].replace({'억':'', '만':'0000'}, regex=True).astype('int64')\n",
        "df['video'] = df['video'].replace(['개', '\\,'], '', regex=True).astype('int32')\n",
        "df['category'] = df['category'].str[1:-1].astype('category')\n",
        "df.head(2)"
      ],
      "metadata": {
        "colab": {
          "base_uri": "https://localhost:8080/",
          "height": 112
        },
        "id": "2aTejEXuDXHr",
        "outputId": "889a372b-490f-4f4a-fed5-390e4bc9a1c7"
      },
      "execution_count": null,
      "outputs": [
        {
          "output_type": "execute_result",
          "data": {
            "text/plain": [
              "            title  category  subscriber         view  video\n",
              "0       BLACKPINK  음악/댄스/가수    51400000  12851300000    319\n",
              "1  Big Hit Labels  음악/댄스/가수    45500000  12089660000    433"
            ],
            "text/html": [
              "\n",
              "  <div id=\"df-2d2386b4-81a8-4d69-844f-08a323f53b91\">\n",
              "    <div class=\"colab-df-container\">\n",
              "      <div>\n",
              "<style scoped>\n",
              "    .dataframe tbody tr th:only-of-type {\n",
              "        vertical-align: middle;\n",
              "    }\n",
              "\n",
              "    .dataframe tbody tr th {\n",
              "        vertical-align: top;\n",
              "    }\n",
              "\n",
              "    .dataframe thead th {\n",
              "        text-align: right;\n",
              "    }\n",
              "</style>\n",
              "<table border=\"1\" class=\"dataframe\">\n",
              "  <thead>\n",
              "    <tr style=\"text-align: right;\">\n",
              "      <th></th>\n",
              "      <th>title</th>\n",
              "      <th>category</th>\n",
              "      <th>subscriber</th>\n",
              "      <th>view</th>\n",
              "      <th>video</th>\n",
              "    </tr>\n",
              "  </thead>\n",
              "  <tbody>\n",
              "    <tr>\n",
              "      <th>0</th>\n",
              "      <td>BLACKPINK</td>\n",
              "      <td>음악/댄스/가수</td>\n",
              "      <td>51400000</td>\n",
              "      <td>12851300000</td>\n",
              "      <td>319</td>\n",
              "    </tr>\n",
              "    <tr>\n",
              "      <th>1</th>\n",
              "      <td>Big Hit Labels</td>\n",
              "      <td>음악/댄스/가수</td>\n",
              "      <td>45500000</td>\n",
              "      <td>12089660000</td>\n",
              "      <td>433</td>\n",
              "    </tr>\n",
              "  </tbody>\n",
              "</table>\n",
              "</div>\n",
              "      <button class=\"colab-df-convert\" onclick=\"convertToInteractive('df-2d2386b4-81a8-4d69-844f-08a323f53b91')\"\n",
              "              title=\"Convert this dataframe to an interactive table.\"\n",
              "              style=\"display:none;\">\n",
              "        \n",
              "  <svg xmlns=\"http://www.w3.org/2000/svg\" height=\"24px\"viewBox=\"0 0 24 24\"\n",
              "       width=\"24px\">\n",
              "    <path d=\"M0 0h24v24H0V0z\" fill=\"none\"/>\n",
              "    <path d=\"M18.56 5.44l.94 2.06.94-2.06 2.06-.94-2.06-.94-.94-2.06-.94 2.06-2.06.94zm-11 1L8.5 8.5l.94-2.06 2.06-.94-2.06-.94L8.5 2.5l-.94 2.06-2.06.94zm10 10l.94 2.06.94-2.06 2.06-.94-2.06-.94-.94-2.06-.94 2.06-2.06.94z\"/><path d=\"M17.41 7.96l-1.37-1.37c-.4-.4-.92-.59-1.43-.59-.52 0-1.04.2-1.43.59L10.3 9.45l-7.72 7.72c-.78.78-.78 2.05 0 2.83L4 21.41c.39.39.9.59 1.41.59.51 0 1.02-.2 1.41-.59l7.78-7.78 2.81-2.81c.8-.78.8-2.07 0-2.86zM5.41 20L4 18.59l7.72-7.72 1.47 1.35L5.41 20z\"/>\n",
              "  </svg>\n",
              "      </button>\n",
              "      \n",
              "  <style>\n",
              "    .colab-df-container {\n",
              "      display:flex;\n",
              "      flex-wrap:wrap;\n",
              "      gap: 12px;\n",
              "    }\n",
              "\n",
              "    .colab-df-convert {\n",
              "      background-color: #E8F0FE;\n",
              "      border: none;\n",
              "      border-radius: 50%;\n",
              "      cursor: pointer;\n",
              "      display: none;\n",
              "      fill: #1967D2;\n",
              "      height: 32px;\n",
              "      padding: 0 0 0 0;\n",
              "      width: 32px;\n",
              "    }\n",
              "\n",
              "    .colab-df-convert:hover {\n",
              "      background-color: #E2EBFA;\n",
              "      box-shadow: 0px 1px 2px rgba(60, 64, 67, 0.3), 0px 1px 3px 1px rgba(60, 64, 67, 0.15);\n",
              "      fill: #174EA6;\n",
              "    }\n",
              "\n",
              "    [theme=dark] .colab-df-convert {\n",
              "      background-color: #3B4455;\n",
              "      fill: #D2E3FC;\n",
              "    }\n",
              "\n",
              "    [theme=dark] .colab-df-convert:hover {\n",
              "      background-color: #434B5C;\n",
              "      box-shadow: 0px 1px 3px 1px rgba(0, 0, 0, 0.15);\n",
              "      filter: drop-shadow(0px 1px 2px rgba(0, 0, 0, 0.3));\n",
              "      fill: #FFFFFF;\n",
              "    }\n",
              "  </style>\n",
              "\n",
              "      <script>\n",
              "        const buttonEl =\n",
              "          document.querySelector('#df-2d2386b4-81a8-4d69-844f-08a323f53b91 button.colab-df-convert');\n",
              "        buttonEl.style.display =\n",
              "          google.colab.kernel.accessAllowed ? 'block' : 'none';\n",
              "\n",
              "        async function convertToInteractive(key) {\n",
              "          const element = document.querySelector('#df-2d2386b4-81a8-4d69-844f-08a323f53b91');\n",
              "          const dataTable =\n",
              "            await google.colab.kernel.invokeFunction('convertToInteractive',\n",
              "                                                     [key], {});\n",
              "          if (!dataTable) return;\n",
              "\n",
              "          const docLinkHtml = 'Like what you see? Visit the ' +\n",
              "            '<a target=\"_blank\" href=https://colab.research.google.com/notebooks/data_table.ipynb>data table notebook</a>'\n",
              "            + ' to learn more about interactive tables.';\n",
              "          element.innerHTML = '';\n",
              "          dataTable['output_type'] = 'display_data';\n",
              "          await google.colab.output.renderOutput(dataTable, element);\n",
              "          const docLink = document.createElement('div');\n",
              "          docLink.innerHTML = docLinkHtml;\n",
              "          element.appendChild(docLink);\n",
              "        }\n",
              "      </script>\n",
              "    </div>\n",
              "  </div>\n",
              "  "
            ]
          },
          "metadata": {},
          "execution_count": 145
        }
      ]
    },
    {
      "cell_type": "code",
      "source": [
        "# 소수점 아래 2째자리까지 표시되도록 설정하기\n",
        "pd.options.display.float_format = '{:,.2f}'.format"
      ],
      "metadata": {
        "id": "wWon82FSDYED"
      },
      "execution_count": null,
      "outputs": []
    },
    {
      "cell_type": "code",
      "source": [
        "# [1-45] subscriber, view, video에 대한 통계값을 알아봅니다. (describe 사용)\n",
        "df.describe()"
      ],
      "metadata": {
        "colab": {
          "base_uri": "https://localhost:8080/",
          "height": 300
        },
        "id": "GTE0HlfaFUrT",
        "outputId": "7a405852-d252-41b7-9e68-dbfb67ef008f"
      },
      "execution_count": null,
      "outputs": [
        {
          "output_type": "execute_result",
          "data": {
            "text/plain": [
              "         subscriber              view      video\n",
              "count      1,000.00          1,000.00   1,000.00\n",
              "mean   1,645,040.00    672,294,140.00   4,766.68\n",
              "std    3,422,951.74  1,588,075,704.63  25,424.80\n",
              "min      400,000.00              0.00       0.00\n",
              "25%      540,000.00    109,560,000.00     222.00\n",
              "50%      780,000.00    242,365,000.00     506.00\n",
              "75%    1,392,500.00    535,182,500.00   1,491.50\n",
              "max   51,400,000.00 18,075,320,000.00 492,791.00"
            ],
            "text/html": [
              "\n",
              "  <div id=\"df-d28e4bb3-a3d0-4703-9848-f0765d7f261c\">\n",
              "    <div class=\"colab-df-container\">\n",
              "      <div>\n",
              "<style scoped>\n",
              "    .dataframe tbody tr th:only-of-type {\n",
              "        vertical-align: middle;\n",
              "    }\n",
              "\n",
              "    .dataframe tbody tr th {\n",
              "        vertical-align: top;\n",
              "    }\n",
              "\n",
              "    .dataframe thead th {\n",
              "        text-align: right;\n",
              "    }\n",
              "</style>\n",
              "<table border=\"1\" class=\"dataframe\">\n",
              "  <thead>\n",
              "    <tr style=\"text-align: right;\">\n",
              "      <th></th>\n",
              "      <th>subscriber</th>\n",
              "      <th>view</th>\n",
              "      <th>video</th>\n",
              "    </tr>\n",
              "  </thead>\n",
              "  <tbody>\n",
              "    <tr>\n",
              "      <th>count</th>\n",
              "      <td>1,000.00</td>\n",
              "      <td>1,000.00</td>\n",
              "      <td>1,000.00</td>\n",
              "    </tr>\n",
              "    <tr>\n",
              "      <th>mean</th>\n",
              "      <td>1,645,040.00</td>\n",
              "      <td>672,294,140.00</td>\n",
              "      <td>4,766.68</td>\n",
              "    </tr>\n",
              "    <tr>\n",
              "      <th>std</th>\n",
              "      <td>3,422,951.74</td>\n",
              "      <td>1,588,075,704.63</td>\n",
              "      <td>25,424.80</td>\n",
              "    </tr>\n",
              "    <tr>\n",
              "      <th>min</th>\n",
              "      <td>400,000.00</td>\n",
              "      <td>0.00</td>\n",
              "      <td>0.00</td>\n",
              "    </tr>\n",
              "    <tr>\n",
              "      <th>25%</th>\n",
              "      <td>540,000.00</td>\n",
              "      <td>109,560,000.00</td>\n",
              "      <td>222.00</td>\n",
              "    </tr>\n",
              "    <tr>\n",
              "      <th>50%</th>\n",
              "      <td>780,000.00</td>\n",
              "      <td>242,365,000.00</td>\n",
              "      <td>506.00</td>\n",
              "    </tr>\n",
              "    <tr>\n",
              "      <th>75%</th>\n",
              "      <td>1,392,500.00</td>\n",
              "      <td>535,182,500.00</td>\n",
              "      <td>1,491.50</td>\n",
              "    </tr>\n",
              "    <tr>\n",
              "      <th>max</th>\n",
              "      <td>51,400,000.00</td>\n",
              "      <td>18,075,320,000.00</td>\n",
              "      <td>492,791.00</td>\n",
              "    </tr>\n",
              "  </tbody>\n",
              "</table>\n",
              "</div>\n",
              "      <button class=\"colab-df-convert\" onclick=\"convertToInteractive('df-d28e4bb3-a3d0-4703-9848-f0765d7f261c')\"\n",
              "              title=\"Convert this dataframe to an interactive table.\"\n",
              "              style=\"display:none;\">\n",
              "        \n",
              "  <svg xmlns=\"http://www.w3.org/2000/svg\" height=\"24px\"viewBox=\"0 0 24 24\"\n",
              "       width=\"24px\">\n",
              "    <path d=\"M0 0h24v24H0V0z\" fill=\"none\"/>\n",
              "    <path d=\"M18.56 5.44l.94 2.06.94-2.06 2.06-.94-2.06-.94-.94-2.06-.94 2.06-2.06.94zm-11 1L8.5 8.5l.94-2.06 2.06-.94-2.06-.94L8.5 2.5l-.94 2.06-2.06.94zm10 10l.94 2.06.94-2.06 2.06-.94-2.06-.94-.94-2.06-.94 2.06-2.06.94z\"/><path d=\"M17.41 7.96l-1.37-1.37c-.4-.4-.92-.59-1.43-.59-.52 0-1.04.2-1.43.59L10.3 9.45l-7.72 7.72c-.78.78-.78 2.05 0 2.83L4 21.41c.39.39.9.59 1.41.59.51 0 1.02-.2 1.41-.59l7.78-7.78 2.81-2.81c.8-.78.8-2.07 0-2.86zM5.41 20L4 18.59l7.72-7.72 1.47 1.35L5.41 20z\"/>\n",
              "  </svg>\n",
              "      </button>\n",
              "      \n",
              "  <style>\n",
              "    .colab-df-container {\n",
              "      display:flex;\n",
              "      flex-wrap:wrap;\n",
              "      gap: 12px;\n",
              "    }\n",
              "\n",
              "    .colab-df-convert {\n",
              "      background-color: #E8F0FE;\n",
              "      border: none;\n",
              "      border-radius: 50%;\n",
              "      cursor: pointer;\n",
              "      display: none;\n",
              "      fill: #1967D2;\n",
              "      height: 32px;\n",
              "      padding: 0 0 0 0;\n",
              "      width: 32px;\n",
              "    }\n",
              "\n",
              "    .colab-df-convert:hover {\n",
              "      background-color: #E2EBFA;\n",
              "      box-shadow: 0px 1px 2px rgba(60, 64, 67, 0.3), 0px 1px 3px 1px rgba(60, 64, 67, 0.15);\n",
              "      fill: #174EA6;\n",
              "    }\n",
              "\n",
              "    [theme=dark] .colab-df-convert {\n",
              "      background-color: #3B4455;\n",
              "      fill: #D2E3FC;\n",
              "    }\n",
              "\n",
              "    [theme=dark] .colab-df-convert:hover {\n",
              "      background-color: #434B5C;\n",
              "      box-shadow: 0px 1px 3px 1px rgba(0, 0, 0, 0.15);\n",
              "      filter: drop-shadow(0px 1px 2px rgba(0, 0, 0, 0.3));\n",
              "      fill: #FFFFFF;\n",
              "    }\n",
              "  </style>\n",
              "\n",
              "      <script>\n",
              "        const buttonEl =\n",
              "          document.querySelector('#df-d28e4bb3-a3d0-4703-9848-f0765d7f261c button.colab-df-convert');\n",
              "        buttonEl.style.display =\n",
              "          google.colab.kernel.accessAllowed ? 'block' : 'none';\n",
              "\n",
              "        async function convertToInteractive(key) {\n",
              "          const element = document.querySelector('#df-d28e4bb3-a3d0-4703-9848-f0765d7f261c');\n",
              "          const dataTable =\n",
              "            await google.colab.kernel.invokeFunction('convertToInteractive',\n",
              "                                                     [key], {});\n",
              "          if (!dataTable) return;\n",
              "\n",
              "          const docLinkHtml = 'Like what you see? Visit the ' +\n",
              "            '<a target=\"_blank\" href=https://colab.research.google.com/notebooks/data_table.ipynb>data table notebook</a>'\n",
              "            + ' to learn more about interactive tables.';\n",
              "          element.innerHTML = '';\n",
              "          dataTable['output_type'] = 'display_data';\n",
              "          await google.colab.output.renderOutput(dataTable, element);\n",
              "          const docLink = document.createElement('div');\n",
              "          docLink.innerHTML = docLinkHtml;\n",
              "          element.appendChild(docLink);\n",
              "        }\n",
              "      </script>\n",
              "    </div>\n",
              "  </div>\n",
              "  "
            ]
          },
          "metadata": {},
          "execution_count": 144
        }
      ]
    },
    {
      "cell_type": "code",
      "source": [
        "# [1-46] 'video' 컬럼의 데이터 개수를 구합니다\n",
        "df['video'].count()"
      ],
      "metadata": {
        "colab": {
          "base_uri": "https://localhost:8080/"
        },
        "id": "QHVJ1OYFFVO0",
        "outputId": "de1d7f1a-e611-4436-f598-a61d56abedc2"
      },
      "execution_count": null,
      "outputs": [
        {
          "output_type": "execute_result",
          "data": {
            "text/plain": [
              "1000"
            ]
          },
          "metadata": {},
          "execution_count": 146
        }
      ]
    },
    {
      "cell_type": "code",
      "source": [
        "# [1-47] 'video' 컬럼의 합계를 구합니다.\n",
        "df['video'].sum()"
      ],
      "metadata": {
        "colab": {
          "base_uri": "https://localhost:8080/"
        },
        "id": "CPTIIQY4FVyL",
        "outputId": "e8788653-df67-4ff2-9870-2abff43bcbb2"
      },
      "execution_count": null,
      "outputs": [
        {
          "output_type": "execute_result",
          "data": {
            "text/plain": [
              "4766680"
            ]
          },
          "metadata": {},
          "execution_count": 147
        }
      ]
    },
    {
      "cell_type": "code",
      "source": [
        "# [1-48] 'video' 컬럼의 평균, 중앙값을 구합니다.\n",
        "df['video'].mean(), df['video'].median()"
      ],
      "metadata": {
        "colab": {
          "base_uri": "https://localhost:8080/"
        },
        "id": "L4-Ub73iFWSj",
        "outputId": "ebaf6d9c-4d1e-416e-810c-8c6a822da3f3"
      },
      "execution_count": null,
      "outputs": [
        {
          "output_type": "execute_result",
          "data": {
            "text/plain": [
              "(4766.68, 506.0)"
            ]
          },
          "metadata": {},
          "execution_count": 150
        }
      ]
    },
    {
      "cell_type": "code",
      "source": [
        "# [1-49] 'video'의 분산과 표준편차를 구합니다.\n",
        "df['video'].var(), df['video'].std()"
      ],
      "metadata": {
        "colab": {
          "base_uri": "https://localhost:8080/"
        },
        "id": "eqw7o926FW1c",
        "outputId": "738f8033-0e90-4cba-a3ac-a5f3fdec3ab7"
      },
      "execution_count": null,
      "outputs": [
        {
          "output_type": "execute_result",
          "data": {
            "text/plain": [
              "(646420552.9165165, 25424.801924823652)"
            ]
          },
          "metadata": {},
          "execution_count": 151
        }
      ]
    },
    {
      "cell_type": "code",
      "source": [
        "# [1-50] 'subscriber'의 최대, 최소값을 구합니다.\n",
        "df['subscriber'].max(), df['subscriber'].min()"
      ],
      "metadata": {
        "colab": {
          "base_uri": "https://localhost:8080/"
        },
        "id": "YvKgTZwTFXWp",
        "outputId": "83c93a3a-3029-4f5a-b341-9d37a5e7d557"
      },
      "execution_count": null,
      "outputs": [
        {
          "output_type": "execute_result",
          "data": {
            "text/plain": [
              "(51400000, 400000)"
            ]
          },
          "metadata": {},
          "execution_count": 152
        }
      ]
    },
    {
      "cell_type": "code",
      "source": [
        "# [1-51] 'subscriber'의 최빈값을 구합니다. => Series\n",
        "df['subscriber'].mode(), df['subscriber'].mode()[0]\n",
        "# 최빈값이 한 개가 아닌 여러 개일 수 있기 때문에 시리즈로 출력됨\n"
      ],
      "metadata": {
        "colab": {
          "base_uri": "https://localhost:8080/"
        },
        "id": "_BI4s9DaFX7j",
        "outputId": "de200c2b-eff3-4c3f-94cc-28ac397f5541"
      },
      "execution_count": null,
      "outputs": [
        {
          "output_type": "execute_result",
          "data": {
            "text/plain": [
              "(0    440000\n",
              " Name: subscriber, dtype: int64,\n",
              " 440000)"
            ]
          },
          "metadata": {},
          "execution_count": 156
        }
      ]
    },
    {
      "cell_type": "code",
      "source": [
        "# [1-52] 'subscriber'의 Q1, Q2, Q3(25% 50%, 75%) 를 구합니다.\n",
        "df['subscriber'].quantile()"
      ],
      "metadata": {
        "colab": {
          "base_uri": "https://localhost:8080/"
        },
        "id": "Bc8cjYXVFYgw",
        "outputId": "326acf58-ebd5-488e-a8b8-22ae81faa6bf"
      },
      "execution_count": null,
      "outputs": [
        {
          "output_type": "execute_result",
          "data": {
            "text/plain": [
              "780000.0"
            ]
          },
          "metadata": {},
          "execution_count": 157
        }
      ]
    },
    {
      "cell_type": "code",
      "source": [
        "Q1, Q2, Q3 = df['subscriber'].quantile([0.25, 0.5, 0.75])\n",
        "print(Q1, Q2, Q3, Q3 - Q1)\n",
        "# IQR = Q3 - Q1"
      ],
      "metadata": {
        "colab": {
          "base_uri": "https://localhost:8080/"
        },
        "id": "GfowAGhXGxDk",
        "outputId": "e1df1c3a-526f-4d96-ef38-a9556bdcf3e3"
      },
      "execution_count": null,
      "outputs": [
        {
          "output_type": "stream",
          "name": "stdout",
          "text": [
            "540000.0 780000.0 1392500.0 852500.0\n"
          ]
        }
      ]
    },
    {
      "cell_type": "code",
      "source": [
        "# [1-53] category 별 평균을 구할 수 있는 모든 컬럼에 대한 평균을 구합니다.\n",
        "df.groupby('category').mean()"
      ],
      "metadata": {
        "colab": {
          "base_uri": "https://localhost:8080/",
          "height": 795
        },
        "id": "Iztn547dHNDJ",
        "outputId": "46061566-4578-4dc5-8b91-1e6302b6b64c"
      },
      "execution_count": null,
      "outputs": [
        {
          "output_type": "stream",
          "name": "stderr",
          "text": [
            "<ipython-input-164-2f336c0866b9>:2: FutureWarning: The default value of numeric_only in DataFrameGroupBy.mean is deprecated. In a future version, numeric_only will default to False. Either specify numeric_only or select only columns which should be valid for the function.\n",
            "  df.groupby('category').mean()\n"
          ]
        },
        {
          "output_type": "execute_result",
          "data": {
            "text/plain": [
              "            subscriber             view     video\n",
              "category                                         \n",
              "BJ/인물/연예인 1,274,411.76   410,154,852.94    837.74\n",
              "IT/기술/컴퓨터   806,250.00   176,610,000.00  1,200.12\n",
              "TV/방송     1,219,875.78   718,483,416.15  9,025.13\n",
              "게임          743,564.36   454,253,465.35  2,527.01\n",
              "교육/강의       851,304.35   177,218,260.87    837.91\n",
              "국내/해외/여행    626,000.00   186,624,000.00    830.20\n",
              "뉴스/정치/사회  1,226,964.29 1,199,935,535.71 42,048.09\n",
              "미분류       1,429,500.00   409,034,000.00    778.05\n",
              "스포츠/운동      932,500.00   279,189,166.67  3,954.92\n",
              "애완/반려동물   1,161,000.00   421,317,000.00    786.25\n",
              "영화/만화/애니    852,727.27   318,586,969.70    770.18\n",
              "음식/요리/레시피 1,612,045.45   407,381,931.82    830.02\n",
              "음악/댄스/가수  3,195,200.00 1,091,668,457.14  1,382.05\n",
              "자동차         490,000.00   185,615,000.00    670.00\n",
              "주식/경제/부동산   626,000.00    68,000,000.00  1,026.40\n",
              "취미          560,000.00   106,150,000.00    237.00\n",
              "취미/라이프      974,500.00   204,311,750.00    359.32\n",
              "키즈/어린이    2,729,157.89 1,281,384,315.79  1,069.16\n",
              "패션/미용       823,859.65   104,377,368.42    313.16\n",
              "해외        1,595,000.00   838,253,333.33  5,043.50\n",
              "회사/오피셜    2,202,500.00   496,612,500.00  2,084.25"
            ],
            "text/html": [
              "\n",
              "  <div id=\"df-8010ab61-ee4c-4121-93c9-d3f135af0dea\">\n",
              "    <div class=\"colab-df-container\">\n",
              "      <div>\n",
              "<style scoped>\n",
              "    .dataframe tbody tr th:only-of-type {\n",
              "        vertical-align: middle;\n",
              "    }\n",
              "\n",
              "    .dataframe tbody tr th {\n",
              "        vertical-align: top;\n",
              "    }\n",
              "\n",
              "    .dataframe thead th {\n",
              "        text-align: right;\n",
              "    }\n",
              "</style>\n",
              "<table border=\"1\" class=\"dataframe\">\n",
              "  <thead>\n",
              "    <tr style=\"text-align: right;\">\n",
              "      <th></th>\n",
              "      <th>subscriber</th>\n",
              "      <th>view</th>\n",
              "      <th>video</th>\n",
              "    </tr>\n",
              "    <tr>\n",
              "      <th>category</th>\n",
              "      <th></th>\n",
              "      <th></th>\n",
              "      <th></th>\n",
              "    </tr>\n",
              "  </thead>\n",
              "  <tbody>\n",
              "    <tr>\n",
              "      <th>BJ/인물/연예인</th>\n",
              "      <td>1,274,411.76</td>\n",
              "      <td>410,154,852.94</td>\n",
              "      <td>837.74</td>\n",
              "    </tr>\n",
              "    <tr>\n",
              "      <th>IT/기술/컴퓨터</th>\n",
              "      <td>806,250.00</td>\n",
              "      <td>176,610,000.00</td>\n",
              "      <td>1,200.12</td>\n",
              "    </tr>\n",
              "    <tr>\n",
              "      <th>TV/방송</th>\n",
              "      <td>1,219,875.78</td>\n",
              "      <td>718,483,416.15</td>\n",
              "      <td>9,025.13</td>\n",
              "    </tr>\n",
              "    <tr>\n",
              "      <th>게임</th>\n",
              "      <td>743,564.36</td>\n",
              "      <td>454,253,465.35</td>\n",
              "      <td>2,527.01</td>\n",
              "    </tr>\n",
              "    <tr>\n",
              "      <th>교육/강의</th>\n",
              "      <td>851,304.35</td>\n",
              "      <td>177,218,260.87</td>\n",
              "      <td>837.91</td>\n",
              "    </tr>\n",
              "    <tr>\n",
              "      <th>국내/해외/여행</th>\n",
              "      <td>626,000.00</td>\n",
              "      <td>186,624,000.00</td>\n",
              "      <td>830.20</td>\n",
              "    </tr>\n",
              "    <tr>\n",
              "      <th>뉴스/정치/사회</th>\n",
              "      <td>1,226,964.29</td>\n",
              "      <td>1,199,935,535.71</td>\n",
              "      <td>42,048.09</td>\n",
              "    </tr>\n",
              "    <tr>\n",
              "      <th>미분류</th>\n",
              "      <td>1,429,500.00</td>\n",
              "      <td>409,034,000.00</td>\n",
              "      <td>778.05</td>\n",
              "    </tr>\n",
              "    <tr>\n",
              "      <th>스포츠/운동</th>\n",
              "      <td>932,500.00</td>\n",
              "      <td>279,189,166.67</td>\n",
              "      <td>3,954.92</td>\n",
              "    </tr>\n",
              "    <tr>\n",
              "      <th>애완/반려동물</th>\n",
              "      <td>1,161,000.00</td>\n",
              "      <td>421,317,000.00</td>\n",
              "      <td>786.25</td>\n",
              "    </tr>\n",
              "    <tr>\n",
              "      <th>영화/만화/애니</th>\n",
              "      <td>852,727.27</td>\n",
              "      <td>318,586,969.70</td>\n",
              "      <td>770.18</td>\n",
              "    </tr>\n",
              "    <tr>\n",
              "      <th>음식/요리/레시피</th>\n",
              "      <td>1,612,045.45</td>\n",
              "      <td>407,381,931.82</td>\n",
              "      <td>830.02</td>\n",
              "    </tr>\n",
              "    <tr>\n",
              "      <th>음악/댄스/가수</th>\n",
              "      <td>3,195,200.00</td>\n",
              "      <td>1,091,668,457.14</td>\n",
              "      <td>1,382.05</td>\n",
              "    </tr>\n",
              "    <tr>\n",
              "      <th>자동차</th>\n",
              "      <td>490,000.00</td>\n",
              "      <td>185,615,000.00</td>\n",
              "      <td>670.00</td>\n",
              "    </tr>\n",
              "    <tr>\n",
              "      <th>주식/경제/부동산</th>\n",
              "      <td>626,000.00</td>\n",
              "      <td>68,000,000.00</td>\n",
              "      <td>1,026.40</td>\n",
              "    </tr>\n",
              "    <tr>\n",
              "      <th>취미</th>\n",
              "      <td>560,000.00</td>\n",
              "      <td>106,150,000.00</td>\n",
              "      <td>237.00</td>\n",
              "    </tr>\n",
              "    <tr>\n",
              "      <th>취미/라이프</th>\n",
              "      <td>974,500.00</td>\n",
              "      <td>204,311,750.00</td>\n",
              "      <td>359.32</td>\n",
              "    </tr>\n",
              "    <tr>\n",
              "      <th>키즈/어린이</th>\n",
              "      <td>2,729,157.89</td>\n",
              "      <td>1,281,384,315.79</td>\n",
              "      <td>1,069.16</td>\n",
              "    </tr>\n",
              "    <tr>\n",
              "      <th>패션/미용</th>\n",
              "      <td>823,859.65</td>\n",
              "      <td>104,377,368.42</td>\n",
              "      <td>313.16</td>\n",
              "    </tr>\n",
              "    <tr>\n",
              "      <th>해외</th>\n",
              "      <td>1,595,000.00</td>\n",
              "      <td>838,253,333.33</td>\n",
              "      <td>5,043.50</td>\n",
              "    </tr>\n",
              "    <tr>\n",
              "      <th>회사/오피셜</th>\n",
              "      <td>2,202,500.00</td>\n",
              "      <td>496,612,500.00</td>\n",
              "      <td>2,084.25</td>\n",
              "    </tr>\n",
              "  </tbody>\n",
              "</table>\n",
              "</div>\n",
              "      <button class=\"colab-df-convert\" onclick=\"convertToInteractive('df-8010ab61-ee4c-4121-93c9-d3f135af0dea')\"\n",
              "              title=\"Convert this dataframe to an interactive table.\"\n",
              "              style=\"display:none;\">\n",
              "        \n",
              "  <svg xmlns=\"http://www.w3.org/2000/svg\" height=\"24px\"viewBox=\"0 0 24 24\"\n",
              "       width=\"24px\">\n",
              "    <path d=\"M0 0h24v24H0V0z\" fill=\"none\"/>\n",
              "    <path d=\"M18.56 5.44l.94 2.06.94-2.06 2.06-.94-2.06-.94-.94-2.06-.94 2.06-2.06.94zm-11 1L8.5 8.5l.94-2.06 2.06-.94-2.06-.94L8.5 2.5l-.94 2.06-2.06.94zm10 10l.94 2.06.94-2.06 2.06-.94-2.06-.94-.94-2.06-.94 2.06-2.06.94z\"/><path d=\"M17.41 7.96l-1.37-1.37c-.4-.4-.92-.59-1.43-.59-.52 0-1.04.2-1.43.59L10.3 9.45l-7.72 7.72c-.78.78-.78 2.05 0 2.83L4 21.41c.39.39.9.59 1.41.59.51 0 1.02-.2 1.41-.59l7.78-7.78 2.81-2.81c.8-.78.8-2.07 0-2.86zM5.41 20L4 18.59l7.72-7.72 1.47 1.35L5.41 20z\"/>\n",
              "  </svg>\n",
              "      </button>\n",
              "      \n",
              "  <style>\n",
              "    .colab-df-container {\n",
              "      display:flex;\n",
              "      flex-wrap:wrap;\n",
              "      gap: 12px;\n",
              "    }\n",
              "\n",
              "    .colab-df-convert {\n",
              "      background-color: #E8F0FE;\n",
              "      border: none;\n",
              "      border-radius: 50%;\n",
              "      cursor: pointer;\n",
              "      display: none;\n",
              "      fill: #1967D2;\n",
              "      height: 32px;\n",
              "      padding: 0 0 0 0;\n",
              "      width: 32px;\n",
              "    }\n",
              "\n",
              "    .colab-df-convert:hover {\n",
              "      background-color: #E2EBFA;\n",
              "      box-shadow: 0px 1px 2px rgba(60, 64, 67, 0.3), 0px 1px 3px 1px rgba(60, 64, 67, 0.15);\n",
              "      fill: #174EA6;\n",
              "    }\n",
              "\n",
              "    [theme=dark] .colab-df-convert {\n",
              "      background-color: #3B4455;\n",
              "      fill: #D2E3FC;\n",
              "    }\n",
              "\n",
              "    [theme=dark] .colab-df-convert:hover {\n",
              "      background-color: #434B5C;\n",
              "      box-shadow: 0px 1px 3px 1px rgba(0, 0, 0, 0.15);\n",
              "      filter: drop-shadow(0px 1px 2px rgba(0, 0, 0, 0.3));\n",
              "      fill: #FFFFFF;\n",
              "    }\n",
              "  </style>\n",
              "\n",
              "      <script>\n",
              "        const buttonEl =\n",
              "          document.querySelector('#df-8010ab61-ee4c-4121-93c9-d3f135af0dea button.colab-df-convert');\n",
              "        buttonEl.style.display =\n",
              "          google.colab.kernel.accessAllowed ? 'block' : 'none';\n",
              "\n",
              "        async function convertToInteractive(key) {\n",
              "          const element = document.querySelector('#df-8010ab61-ee4c-4121-93c9-d3f135af0dea');\n",
              "          const dataTable =\n",
              "            await google.colab.kernel.invokeFunction('convertToInteractive',\n",
              "                                                     [key], {});\n",
              "          if (!dataTable) return;\n",
              "\n",
              "          const docLinkHtml = 'Like what you see? Visit the ' +\n",
              "            '<a target=\"_blank\" href=https://colab.research.google.com/notebooks/data_table.ipynb>data table notebook</a>'\n",
              "            + ' to learn more about interactive tables.';\n",
              "          element.innerHTML = '';\n",
              "          dataTable['output_type'] = 'display_data';\n",
              "          await google.colab.output.renderOutput(dataTable, element);\n",
              "          const docLink = document.createElement('div');\n",
              "          docLink.innerHTML = docLinkHtml;\n",
              "          element.appendChild(docLink);\n",
              "        }\n",
              "      </script>\n",
              "    </div>\n",
              "  </div>\n",
              "  "
            ]
          },
          "metadata": {},
          "execution_count": 164
        }
      ]
    },
    {
      "cell_type": "code",
      "source": [
        "# [1-54] category 별 view에 대한 평균을 구합니다.\n",
        "df.groupby('category')[['view']].mean()"
      ],
      "metadata": {
        "colab": {
          "base_uri": "https://localhost:8080/",
          "height": 739
        },
        "id": "N24K-7pnHPJp",
        "outputId": "6c27f19b-6e6b-4c66-864c-92432931c818"
      },
      "execution_count": null,
      "outputs": [
        {
          "output_type": "execute_result",
          "data": {
            "text/plain": [
              "                      view\n",
              "category                  \n",
              "BJ/인물/연예인   410,154,852.94\n",
              "IT/기술/컴퓨터   176,610,000.00\n",
              "TV/방송       718,483,416.15\n",
              "게임          454,253,465.35\n",
              "교육/강의       177,218,260.87\n",
              "국내/해외/여행    186,624,000.00\n",
              "뉴스/정치/사회  1,199,935,535.71\n",
              "미분류         409,034,000.00\n",
              "스포츠/운동      279,189,166.67\n",
              "애완/반려동물     421,317,000.00\n",
              "영화/만화/애니    318,586,969.70\n",
              "음식/요리/레시피   407,381,931.82\n",
              "음악/댄스/가수  1,091,668,457.14\n",
              "자동차         185,615,000.00\n",
              "주식/경제/부동산    68,000,000.00\n",
              "취미          106,150,000.00\n",
              "취미/라이프      204,311,750.00\n",
              "키즈/어린이    1,281,384,315.79\n",
              "패션/미용       104,377,368.42\n",
              "해외          838,253,333.33\n",
              "회사/오피셜      496,612,500.00"
            ],
            "text/html": [
              "\n",
              "  <div id=\"df-1516e042-875d-4144-a99a-a4324e715361\">\n",
              "    <div class=\"colab-df-container\">\n",
              "      <div>\n",
              "<style scoped>\n",
              "    .dataframe tbody tr th:only-of-type {\n",
              "        vertical-align: middle;\n",
              "    }\n",
              "\n",
              "    .dataframe tbody tr th {\n",
              "        vertical-align: top;\n",
              "    }\n",
              "\n",
              "    .dataframe thead th {\n",
              "        text-align: right;\n",
              "    }\n",
              "</style>\n",
              "<table border=\"1\" class=\"dataframe\">\n",
              "  <thead>\n",
              "    <tr style=\"text-align: right;\">\n",
              "      <th></th>\n",
              "      <th>view</th>\n",
              "    </tr>\n",
              "    <tr>\n",
              "      <th>category</th>\n",
              "      <th></th>\n",
              "    </tr>\n",
              "  </thead>\n",
              "  <tbody>\n",
              "    <tr>\n",
              "      <th>BJ/인물/연예인</th>\n",
              "      <td>410,154,852.94</td>\n",
              "    </tr>\n",
              "    <tr>\n",
              "      <th>IT/기술/컴퓨터</th>\n",
              "      <td>176,610,000.00</td>\n",
              "    </tr>\n",
              "    <tr>\n",
              "      <th>TV/방송</th>\n",
              "      <td>718,483,416.15</td>\n",
              "    </tr>\n",
              "    <tr>\n",
              "      <th>게임</th>\n",
              "      <td>454,253,465.35</td>\n",
              "    </tr>\n",
              "    <tr>\n",
              "      <th>교육/강의</th>\n",
              "      <td>177,218,260.87</td>\n",
              "    </tr>\n",
              "    <tr>\n",
              "      <th>국내/해외/여행</th>\n",
              "      <td>186,624,000.00</td>\n",
              "    </tr>\n",
              "    <tr>\n",
              "      <th>뉴스/정치/사회</th>\n",
              "      <td>1,199,935,535.71</td>\n",
              "    </tr>\n",
              "    <tr>\n",
              "      <th>미분류</th>\n",
              "      <td>409,034,000.00</td>\n",
              "    </tr>\n",
              "    <tr>\n",
              "      <th>스포츠/운동</th>\n",
              "      <td>279,189,166.67</td>\n",
              "    </tr>\n",
              "    <tr>\n",
              "      <th>애완/반려동물</th>\n",
              "      <td>421,317,000.00</td>\n",
              "    </tr>\n",
              "    <tr>\n",
              "      <th>영화/만화/애니</th>\n",
              "      <td>318,586,969.70</td>\n",
              "    </tr>\n",
              "    <tr>\n",
              "      <th>음식/요리/레시피</th>\n",
              "      <td>407,381,931.82</td>\n",
              "    </tr>\n",
              "    <tr>\n",
              "      <th>음악/댄스/가수</th>\n",
              "      <td>1,091,668,457.14</td>\n",
              "    </tr>\n",
              "    <tr>\n",
              "      <th>자동차</th>\n",
              "      <td>185,615,000.00</td>\n",
              "    </tr>\n",
              "    <tr>\n",
              "      <th>주식/경제/부동산</th>\n",
              "      <td>68,000,000.00</td>\n",
              "    </tr>\n",
              "    <tr>\n",
              "      <th>취미</th>\n",
              "      <td>106,150,000.00</td>\n",
              "    </tr>\n",
              "    <tr>\n",
              "      <th>취미/라이프</th>\n",
              "      <td>204,311,750.00</td>\n",
              "    </tr>\n",
              "    <tr>\n",
              "      <th>키즈/어린이</th>\n",
              "      <td>1,281,384,315.79</td>\n",
              "    </tr>\n",
              "    <tr>\n",
              "      <th>패션/미용</th>\n",
              "      <td>104,377,368.42</td>\n",
              "    </tr>\n",
              "    <tr>\n",
              "      <th>해외</th>\n",
              "      <td>838,253,333.33</td>\n",
              "    </tr>\n",
              "    <tr>\n",
              "      <th>회사/오피셜</th>\n",
              "      <td>496,612,500.00</td>\n",
              "    </tr>\n",
              "  </tbody>\n",
              "</table>\n",
              "</div>\n",
              "      <button class=\"colab-df-convert\" onclick=\"convertToInteractive('df-1516e042-875d-4144-a99a-a4324e715361')\"\n",
              "              title=\"Convert this dataframe to an interactive table.\"\n",
              "              style=\"display:none;\">\n",
              "        \n",
              "  <svg xmlns=\"http://www.w3.org/2000/svg\" height=\"24px\"viewBox=\"0 0 24 24\"\n",
              "       width=\"24px\">\n",
              "    <path d=\"M0 0h24v24H0V0z\" fill=\"none\"/>\n",
              "    <path d=\"M18.56 5.44l.94 2.06.94-2.06 2.06-.94-2.06-.94-.94-2.06-.94 2.06-2.06.94zm-11 1L8.5 8.5l.94-2.06 2.06-.94-2.06-.94L8.5 2.5l-.94 2.06-2.06.94zm10 10l.94 2.06.94-2.06 2.06-.94-2.06-.94-.94-2.06-.94 2.06-2.06.94z\"/><path d=\"M17.41 7.96l-1.37-1.37c-.4-.4-.92-.59-1.43-.59-.52 0-1.04.2-1.43.59L10.3 9.45l-7.72 7.72c-.78.78-.78 2.05 0 2.83L4 21.41c.39.39.9.59 1.41.59.51 0 1.02-.2 1.41-.59l7.78-7.78 2.81-2.81c.8-.78.8-2.07 0-2.86zM5.41 20L4 18.59l7.72-7.72 1.47 1.35L5.41 20z\"/>\n",
              "  </svg>\n",
              "      </button>\n",
              "      \n",
              "  <style>\n",
              "    .colab-df-container {\n",
              "      display:flex;\n",
              "      flex-wrap:wrap;\n",
              "      gap: 12px;\n",
              "    }\n",
              "\n",
              "    .colab-df-convert {\n",
              "      background-color: #E8F0FE;\n",
              "      border: none;\n",
              "      border-radius: 50%;\n",
              "      cursor: pointer;\n",
              "      display: none;\n",
              "      fill: #1967D2;\n",
              "      height: 32px;\n",
              "      padding: 0 0 0 0;\n",
              "      width: 32px;\n",
              "    }\n",
              "\n",
              "    .colab-df-convert:hover {\n",
              "      background-color: #E2EBFA;\n",
              "      box-shadow: 0px 1px 2px rgba(60, 64, 67, 0.3), 0px 1px 3px 1px rgba(60, 64, 67, 0.15);\n",
              "      fill: #174EA6;\n",
              "    }\n",
              "\n",
              "    [theme=dark] .colab-df-convert {\n",
              "      background-color: #3B4455;\n",
              "      fill: #D2E3FC;\n",
              "    }\n",
              "\n",
              "    [theme=dark] .colab-df-convert:hover {\n",
              "      background-color: #434B5C;\n",
              "      box-shadow: 0px 1px 3px 1px rgba(0, 0, 0, 0.15);\n",
              "      filter: drop-shadow(0px 1px 2px rgba(0, 0, 0, 0.3));\n",
              "      fill: #FFFFFF;\n",
              "    }\n",
              "  </style>\n",
              "\n",
              "      <script>\n",
              "        const buttonEl =\n",
              "          document.querySelector('#df-1516e042-875d-4144-a99a-a4324e715361 button.colab-df-convert');\n",
              "        buttonEl.style.display =\n",
              "          google.colab.kernel.accessAllowed ? 'block' : 'none';\n",
              "\n",
              "        async function convertToInteractive(key) {\n",
              "          const element = document.querySelector('#df-1516e042-875d-4144-a99a-a4324e715361');\n",
              "          const dataTable =\n",
              "            await google.colab.kernel.invokeFunction('convertToInteractive',\n",
              "                                                     [key], {});\n",
              "          if (!dataTable) return;\n",
              "\n",
              "          const docLinkHtml = 'Like what you see? Visit the ' +\n",
              "            '<a target=\"_blank\" href=https://colab.research.google.com/notebooks/data_table.ipynb>data table notebook</a>'\n",
              "            + ' to learn more about interactive tables.';\n",
              "          element.innerHTML = '';\n",
              "          dataTable['output_type'] = 'display_data';\n",
              "          await google.colab.output.renderOutput(dataTable, element);\n",
              "          const docLink = document.createElement('div');\n",
              "          docLink.innerHTML = docLinkHtml;\n",
              "          element.appendChild(docLink);\n",
              "        }\n",
              "      </script>\n",
              "    </div>\n",
              "  </div>\n",
              "  "
            ]
          },
          "metadata": {},
          "execution_count": 170
        }
      ]
    },
    {
      "cell_type": "code",
      "source": [
        "print(df.groupby('category')[['view']].mean())"
      ],
      "metadata": {
        "colab": {
          "base_uri": "https://localhost:8080/"
        },
        "id": "g0A4fcWHH0L_",
        "outputId": "14744fff-68b4-465f-9d6b-2db2ef3bdd2d"
      },
      "execution_count": null,
      "outputs": [
        {
          "output_type": "stream",
          "name": "stdout",
          "text": [
            "category\n",
            "BJ/인물/연예인     410,154,852.94\n",
            "IT/기술/컴퓨터     176,610,000.00\n",
            "TV/방송         718,483,416.15\n",
            "게임            454,253,465.35\n",
            "교육/강의         177,218,260.87\n",
            "국내/해외/여행      186,624,000.00\n",
            "뉴스/정치/사회    1,199,935,535.71\n",
            "미분류           409,034,000.00\n",
            "스포츠/운동        279,189,166.67\n",
            "애완/반려동물       421,317,000.00\n",
            "영화/만화/애니      318,586,969.70\n",
            "음식/요리/레시피     407,381,931.82\n",
            "음악/댄스/가수    1,091,668,457.14\n",
            "자동차           185,615,000.00\n",
            "주식/경제/부동산      68,000,000.00\n",
            "취미            106,150,000.00\n",
            "취미/라이프        204,311,750.00\n",
            "키즈/어린이      1,281,384,315.79\n",
            "패션/미용         104,377,368.42\n",
            "해외            838,253,333.33\n",
            "회사/오피셜        496,612,500.00\n",
            "Name: view, dtype: float64\n"
          ]
        }
      ]
    },
    {
      "cell_type": "code",
      "source": [
        "# [1-55] category 별 view, video에 대한 합계를 구합니다.\n",
        "df.groupby('category')[['view', 'video']].sum()"
      ],
      "metadata": {
        "colab": {
          "base_uri": "https://localhost:8080/",
          "height": 739
        },
        "id": "sBrdRHWUHQNI",
        "outputId": "9f6534ce-e666-4fe7-c708-24454e051912"
      },
      "execution_count": null,
      "outputs": [
        {
          "output_type": "execute_result",
          "data": {
            "text/plain": [
              "                   view    video\n",
              "category                        \n",
              "BJ/인물/연예인   27890530000    56966\n",
              "IT/기술/컴퓨터    1412880000     9601\n",
              "TV/방송      115675830000  1453046\n",
              "게임          45879600000   255228\n",
              "교육/강의        4076020000    19272\n",
              "국내/해외/여행      933120000     4151\n",
              "뉴스/정치/사회    67196390000  2354693\n",
              "미분류         16361360000    31122\n",
              "스포츠/운동       3350270000    47459\n",
              "애완/반려동물      8426340000    15725\n",
              "영화/만화/애니    10513370000    25416\n",
              "음식/요리/레시피   35849610000    73042\n",
              "음악/댄스/가수   191041980000   241859\n",
              "자동차           371230000     1340\n",
              "주식/경제/부동산     340000000     5132\n",
              "취미            106150000      237\n",
              "취미/라이프       8172470000    14373\n",
              "키즈/어린이     121731510000   101570\n",
              "패션/미용        5949510000    17850\n",
              "해외           5029520000    30261\n",
              "회사/오피셜       1986450000     8337"
            ],
            "text/html": [
              "\n",
              "  <div id=\"df-728a288f-f66a-4c74-abe6-16c26a149746\">\n",
              "    <div class=\"colab-df-container\">\n",
              "      <div>\n",
              "<style scoped>\n",
              "    .dataframe tbody tr th:only-of-type {\n",
              "        vertical-align: middle;\n",
              "    }\n",
              "\n",
              "    .dataframe tbody tr th {\n",
              "        vertical-align: top;\n",
              "    }\n",
              "\n",
              "    .dataframe thead th {\n",
              "        text-align: right;\n",
              "    }\n",
              "</style>\n",
              "<table border=\"1\" class=\"dataframe\">\n",
              "  <thead>\n",
              "    <tr style=\"text-align: right;\">\n",
              "      <th></th>\n",
              "      <th>view</th>\n",
              "      <th>video</th>\n",
              "    </tr>\n",
              "    <tr>\n",
              "      <th>category</th>\n",
              "      <th></th>\n",
              "      <th></th>\n",
              "    </tr>\n",
              "  </thead>\n",
              "  <tbody>\n",
              "    <tr>\n",
              "      <th>BJ/인물/연예인</th>\n",
              "      <td>27890530000</td>\n",
              "      <td>56966</td>\n",
              "    </tr>\n",
              "    <tr>\n",
              "      <th>IT/기술/컴퓨터</th>\n",
              "      <td>1412880000</td>\n",
              "      <td>9601</td>\n",
              "    </tr>\n",
              "    <tr>\n",
              "      <th>TV/방송</th>\n",
              "      <td>115675830000</td>\n",
              "      <td>1453046</td>\n",
              "    </tr>\n",
              "    <tr>\n",
              "      <th>게임</th>\n",
              "      <td>45879600000</td>\n",
              "      <td>255228</td>\n",
              "    </tr>\n",
              "    <tr>\n",
              "      <th>교육/강의</th>\n",
              "      <td>4076020000</td>\n",
              "      <td>19272</td>\n",
              "    </tr>\n",
              "    <tr>\n",
              "      <th>국내/해외/여행</th>\n",
              "      <td>933120000</td>\n",
              "      <td>4151</td>\n",
              "    </tr>\n",
              "    <tr>\n",
              "      <th>뉴스/정치/사회</th>\n",
              "      <td>67196390000</td>\n",
              "      <td>2354693</td>\n",
              "    </tr>\n",
              "    <tr>\n",
              "      <th>미분류</th>\n",
              "      <td>16361360000</td>\n",
              "      <td>31122</td>\n",
              "    </tr>\n",
              "    <tr>\n",
              "      <th>스포츠/운동</th>\n",
              "      <td>3350270000</td>\n",
              "      <td>47459</td>\n",
              "    </tr>\n",
              "    <tr>\n",
              "      <th>애완/반려동물</th>\n",
              "      <td>8426340000</td>\n",
              "      <td>15725</td>\n",
              "    </tr>\n",
              "    <tr>\n",
              "      <th>영화/만화/애니</th>\n",
              "      <td>10513370000</td>\n",
              "      <td>25416</td>\n",
              "    </tr>\n",
              "    <tr>\n",
              "      <th>음식/요리/레시피</th>\n",
              "      <td>35849610000</td>\n",
              "      <td>73042</td>\n",
              "    </tr>\n",
              "    <tr>\n",
              "      <th>음악/댄스/가수</th>\n",
              "      <td>191041980000</td>\n",
              "      <td>241859</td>\n",
              "    </tr>\n",
              "    <tr>\n",
              "      <th>자동차</th>\n",
              "      <td>371230000</td>\n",
              "      <td>1340</td>\n",
              "    </tr>\n",
              "    <tr>\n",
              "      <th>주식/경제/부동산</th>\n",
              "      <td>340000000</td>\n",
              "      <td>5132</td>\n",
              "    </tr>\n",
              "    <tr>\n",
              "      <th>취미</th>\n",
              "      <td>106150000</td>\n",
              "      <td>237</td>\n",
              "    </tr>\n",
              "    <tr>\n",
              "      <th>취미/라이프</th>\n",
              "      <td>8172470000</td>\n",
              "      <td>14373</td>\n",
              "    </tr>\n",
              "    <tr>\n",
              "      <th>키즈/어린이</th>\n",
              "      <td>121731510000</td>\n",
              "      <td>101570</td>\n",
              "    </tr>\n",
              "    <tr>\n",
              "      <th>패션/미용</th>\n",
              "      <td>5949510000</td>\n",
              "      <td>17850</td>\n",
              "    </tr>\n",
              "    <tr>\n",
              "      <th>해외</th>\n",
              "      <td>5029520000</td>\n",
              "      <td>30261</td>\n",
              "    </tr>\n",
              "    <tr>\n",
              "      <th>회사/오피셜</th>\n",
              "      <td>1986450000</td>\n",
              "      <td>8337</td>\n",
              "    </tr>\n",
              "  </tbody>\n",
              "</table>\n",
              "</div>\n",
              "      <button class=\"colab-df-convert\" onclick=\"convertToInteractive('df-728a288f-f66a-4c74-abe6-16c26a149746')\"\n",
              "              title=\"Convert this dataframe to an interactive table.\"\n",
              "              style=\"display:none;\">\n",
              "        \n",
              "  <svg xmlns=\"http://www.w3.org/2000/svg\" height=\"24px\"viewBox=\"0 0 24 24\"\n",
              "       width=\"24px\">\n",
              "    <path d=\"M0 0h24v24H0V0z\" fill=\"none\"/>\n",
              "    <path d=\"M18.56 5.44l.94 2.06.94-2.06 2.06-.94-2.06-.94-.94-2.06-.94 2.06-2.06.94zm-11 1L8.5 8.5l.94-2.06 2.06-.94-2.06-.94L8.5 2.5l-.94 2.06-2.06.94zm10 10l.94 2.06.94-2.06 2.06-.94-2.06-.94-.94-2.06-.94 2.06-2.06.94z\"/><path d=\"M17.41 7.96l-1.37-1.37c-.4-.4-.92-.59-1.43-.59-.52 0-1.04.2-1.43.59L10.3 9.45l-7.72 7.72c-.78.78-.78 2.05 0 2.83L4 21.41c.39.39.9.59 1.41.59.51 0 1.02-.2 1.41-.59l7.78-7.78 2.81-2.81c.8-.78.8-2.07 0-2.86zM5.41 20L4 18.59l7.72-7.72 1.47 1.35L5.41 20z\"/>\n",
              "  </svg>\n",
              "      </button>\n",
              "      \n",
              "  <style>\n",
              "    .colab-df-container {\n",
              "      display:flex;\n",
              "      flex-wrap:wrap;\n",
              "      gap: 12px;\n",
              "    }\n",
              "\n",
              "    .colab-df-convert {\n",
              "      background-color: #E8F0FE;\n",
              "      border: none;\n",
              "      border-radius: 50%;\n",
              "      cursor: pointer;\n",
              "      display: none;\n",
              "      fill: #1967D2;\n",
              "      height: 32px;\n",
              "      padding: 0 0 0 0;\n",
              "      width: 32px;\n",
              "    }\n",
              "\n",
              "    .colab-df-convert:hover {\n",
              "      background-color: #E2EBFA;\n",
              "      box-shadow: 0px 1px 2px rgba(60, 64, 67, 0.3), 0px 1px 3px 1px rgba(60, 64, 67, 0.15);\n",
              "      fill: #174EA6;\n",
              "    }\n",
              "\n",
              "    [theme=dark] .colab-df-convert {\n",
              "      background-color: #3B4455;\n",
              "      fill: #D2E3FC;\n",
              "    }\n",
              "\n",
              "    [theme=dark] .colab-df-convert:hover {\n",
              "      background-color: #434B5C;\n",
              "      box-shadow: 0px 1px 3px 1px rgba(0, 0, 0, 0.15);\n",
              "      filter: drop-shadow(0px 1px 2px rgba(0, 0, 0, 0.3));\n",
              "      fill: #FFFFFF;\n",
              "    }\n",
              "  </style>\n",
              "\n",
              "      <script>\n",
              "        const buttonEl =\n",
              "          document.querySelector('#df-728a288f-f66a-4c74-abe6-16c26a149746 button.colab-df-convert');\n",
              "        buttonEl.style.display =\n",
              "          google.colab.kernel.accessAllowed ? 'block' : 'none';\n",
              "\n",
              "        async function convertToInteractive(key) {\n",
              "          const element = document.querySelector('#df-728a288f-f66a-4c74-abe6-16c26a149746');\n",
              "          const dataTable =\n",
              "            await google.colab.kernel.invokeFunction('convertToInteractive',\n",
              "                                                     [key], {});\n",
              "          if (!dataTable) return;\n",
              "\n",
              "          const docLinkHtml = 'Like what you see? Visit the ' +\n",
              "            '<a target=\"_blank\" href=https://colab.research.google.com/notebooks/data_table.ipynb>data table notebook</a>'\n",
              "            + ' to learn more about interactive tables.';\n",
              "          element.innerHTML = '';\n",
              "          dataTable['output_type'] = 'display_data';\n",
              "          await google.colab.output.renderOutput(dataTable, element);\n",
              "          const docLink = document.createElement('div');\n",
              "          docLink.innerHTML = docLinkHtml;\n",
              "          element.appendChild(docLink);\n",
              "        }\n",
              "      </script>\n",
              "    </div>\n",
              "  </div>\n",
              "  "
            ]
          },
          "metadata": {},
          "execution_count": 171
        }
      ]
    }
  ]
}